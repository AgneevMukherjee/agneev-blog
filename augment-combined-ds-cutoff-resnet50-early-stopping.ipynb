{
 "cells": [
  {
   "cell_type": "code",
   "execution_count": 1,
   "id": "8360340f",
   "metadata": {
    "_cell_guid": "b1076dfc-b9ad-4769-8c92-a6c4dae69d19",
    "_uuid": "8f2839f25d086af736a60e9eeb907d3b93b6e0e5",
    "execution": {
     "iopub.execute_input": "2022-02-16T23:25:03.921052Z",
     "iopub.status.busy": "2022-02-16T23:25:03.920191Z",
     "iopub.status.idle": "2022-02-16T23:25:10.989093Z",
     "shell.execute_reply": "2022-02-16T23:25:10.988554Z",
     "shell.execute_reply.started": "2022-02-16T22:52:44.705794Z"
    },
    "papermill": {
     "duration": 7.079672,
     "end_time": "2022-02-16T23:25:10.989227",
     "exception": false,
     "start_time": "2022-02-16T23:25:03.909555",
     "status": "completed"
    },
    "tags": []
   },
   "outputs": [],
   "source": [
    "import tensorflow as tf\n",
    "from tensorflow import keras\n",
    "import numpy as np\n",
    "import json\n",
    "import sys\n",
    "import matplotlib.pyplot as plt\n",
    "from timeit import default_timer as timer\n",
    "from keras.preprocessing.image import ImageDataGenerator"
   ]
  },
  {
   "cell_type": "code",
   "execution_count": 2,
   "id": "331b9eca",
   "metadata": {
    "execution": {
     "iopub.execute_input": "2022-02-16T23:25:11.007148Z",
     "iopub.status.busy": "2022-02-16T23:25:11.006435Z",
     "iopub.status.idle": "2022-02-16T23:25:11.011414Z",
     "shell.execute_reply": "2022-02-16T23:25:11.010844Z",
     "shell.execute_reply.started": "2022-02-16T22:52:44.716269Z"
    },
    "papermill": {
     "duration": 0.014986,
     "end_time": "2022-02-16T23:25:11.011557",
     "exception": false,
     "start_time": "2022-02-16T23:25:10.996571",
     "status": "completed"
    },
    "tags": []
   },
   "outputs": [],
   "source": [
    "directory = \"../input/combined-handwritten-roman-numerals-dataset/Combined Handwritten Roman Numerals Dataset\"\n",
    "user_data = directory + \"/train\"\n",
    "valid_data = directory + \"/val\"\n",
    "test_data = directory + \"/test\""
   ]
  },
  {
   "cell_type": "code",
   "execution_count": 3,
   "id": "9bf11a0c",
   "metadata": {
    "execution": {
     "iopub.execute_input": "2022-02-16T23:25:11.037709Z",
     "iopub.status.busy": "2022-02-16T23:25:11.033990Z",
     "iopub.status.idle": "2022-02-16T23:25:12.441646Z",
     "shell.execute_reply": "2022-02-16T23:25:12.442027Z",
     "shell.execute_reply.started": "2022-02-16T22:52:44.735669Z"
    },
    "papermill": {
     "duration": 1.420619,
     "end_time": "2022-02-16T23:25:12.442161",
     "exception": false,
     "start_time": "2022-02-16T23:25:11.021542",
     "status": "completed"
    },
    "tags": []
   },
   "outputs": [
    {
     "name": "stdout",
     "output_type": "stream",
     "text": [
      "Found 4543 images belonging to 10 classes.\n",
      "Found 1301 images belonging to 10 classes.\n",
      "Found 660 images belonging to 10 classes.\n"
     ]
    }
   ],
   "source": [
    "batch_size = 8\n",
    "\n",
    "train_datagen = ImageDataGenerator(\n",
    "        rotation_range=30,\n",
    "        width_shift_range=0.1,\n",
    "        height_shift_range=0.1,\n",
    "        shear_range=0.1,\n",
    "        zoom_range=0.1,\n",
    "        fill_mode='nearest')\n",
    "\n",
    "val_datagen = ImageDataGenerator()\n",
    "\n",
    "test_datagen = ImageDataGenerator()\n",
    "\n",
    "train = train_datagen.flow_from_directory(\n",
    "        user_data,\n",
    "        target_size=(32, 32),\n",
    "        batch_size=batch_size)\n",
    "\n",
    "valid = val_datagen.flow_from_directory(\n",
    "        valid_data,\n",
    "        target_size=(32, 32),\n",
    "        batch_size=batch_size)\n",
    "\n",
    "test = test_datagen.flow_from_directory(\n",
    "        test_data,\n",
    "        target_size=(32, 32),\n",
    "        batch_size=batch_size)"
   ]
  },
  {
   "cell_type": "code",
   "execution_count": 4,
   "id": "c59b6c4d",
   "metadata": {
    "execution": {
     "iopub.execute_input": "2022-02-16T23:25:12.464856Z",
     "iopub.status.busy": "2022-02-16T23:25:12.464160Z",
     "iopub.status.idle": "2022-02-16T23:25:12.468147Z",
     "shell.execute_reply": "2022-02-16T23:25:12.468830Z",
     "shell.execute_reply.started": "2022-02-16T22:52:45.396831Z"
    },
    "papermill": {
     "duration": 0.018941,
     "end_time": "2022-02-16T23:25:12.469026",
     "exception": false,
     "start_time": "2022-02-16T23:25:12.450085",
     "status": "completed"
    },
    "tags": []
   },
   "outputs": [],
   "source": [
    "stopping = tf.keras.callbacks.EarlyStopping(\n",
    "        monitor=\"val_accuracy\",\n",
    "        min_delta=0,\n",
    "        patience=10,\n",
    "        verbose=0,\n",
    "        mode=\"auto\",\n",
    "        baseline=None,\n",
    "        restore_best_weights=False,\n",
    "    )\n",
    "\n",
    "checkpoint = tf.keras.callbacks.ModelCheckpoint(\n",
    "        \"best_model\",\n",
    "        monitor=\"val_accuracy\",\n",
    "        mode=\"max\",\n",
    "        save_best_only=True,\n",
    "        save_weights_only=True,\n",
    "    )"
   ]
  },
  {
   "cell_type": "code",
   "execution_count": 5,
   "id": "975e1962",
   "metadata": {
    "execution": {
     "iopub.execute_input": "2022-02-16T23:25:12.494128Z",
     "iopub.status.busy": "2022-02-16T23:25:12.493439Z",
     "iopub.status.idle": "2022-02-17T00:16:13.892534Z",
     "shell.execute_reply": "2022-02-17T00:16:13.892008Z"
    },
    "papermill": {
     "duration": 3061.412716,
     "end_time": "2022-02-17T00:16:13.892639",
     "exception": false,
     "start_time": "2022-02-16T23:25:12.479923",
     "status": "completed"
    },
    "tags": []
   },
   "outputs": [
    {
     "name": "stderr",
     "output_type": "stream",
     "text": [
      "2022-02-16 23:25:12.562220: I tensorflow/core/common_runtime/process_util.cc:146] Creating new thread pool with default inter op setting: 2. Tune using inter_op_parallelism_threads for best performance.\n",
      "/opt/conda/lib/python3.7/site-packages/keras/optimizer_v2/optimizer_v2.py:356: UserWarning: The `lr` argument is deprecated, use `learning_rate` instead.\n",
      "  \"The `lr` argument is deprecated, use `learning_rate` instead.\")\n",
      "2022-02-16 23:25:13.984758: I tensorflow/compiler/mlir/mlir_graph_optimization_pass.cc:185] None of the MLIR Optimization Passes are enabled (registered 2)\n"
     ]
    },
    {
     "name": "stdout",
     "output_type": "stream",
     "text": [
      "163/163 [==============================] - 13s 74ms/step - loss: 27.5157 - accuracy: 0.1022\n",
      "loss 27.515718460083008, acc 0.1022290512919426\n",
      "Epoch 1/100\n",
      "568/568 [==============================] - 59s 101ms/step - loss: 2.1412 - accuracy: 0.2450 - val_loss: 1.9609 - val_accuracy: 0.3098\n",
      "Epoch 2/100\n",
      "568/568 [==============================] - 41s 71ms/step - loss: 1.7585 - accuracy: 0.3843 - val_loss: 1.6794 - val_accuracy: 0.3859\n",
      "Epoch 3/100\n",
      "568/568 [==============================] - 41s 72ms/step - loss: 1.5640 - accuracy: 0.4550 - val_loss: 1.3535 - val_accuracy: 0.5373\n",
      "Epoch 4/100\n",
      "568/568 [==============================] - 40s 71ms/step - loss: 1.4191 - accuracy: 0.5179 - val_loss: 1.1200 - val_accuracy: 0.6303\n",
      "Epoch 5/100\n",
      "568/568 [==============================] - 40s 71ms/step - loss: 1.2546 - accuracy: 0.5849 - val_loss: 1.1049 - val_accuracy: 0.6272\n",
      "Epoch 6/100\n",
      "568/568 [==============================] - 44s 77ms/step - loss: 1.1482 - accuracy: 0.6229 - val_loss: 1.2349 - val_accuracy: 0.5957\n",
      "Epoch 7/100\n",
      "568/568 [==============================] - 39s 68ms/step - loss: 1.0494 - accuracy: 0.6626 - val_loss: 0.8223 - val_accuracy: 0.7333\n",
      "Epoch 8/100\n",
      "568/568 [==============================] - 39s 69ms/step - loss: 0.9694 - accuracy: 0.6945 - val_loss: 0.7771 - val_accuracy: 0.7533\n",
      "Epoch 9/100\n",
      "568/568 [==============================] - 39s 69ms/step - loss: 0.9019 - accuracy: 0.7147 - val_loss: 0.7935 - val_accuracy: 0.7410\n",
      "Epoch 10/100\n",
      "568/568 [==============================] - 40s 71ms/step - loss: 0.8712 - accuracy: 0.7268 - val_loss: 0.7082 - val_accuracy: 0.7786\n",
      "Epoch 11/100\n",
      "568/568 [==============================] - 43s 75ms/step - loss: 0.8020 - accuracy: 0.7416 - val_loss: 0.7594 - val_accuracy: 0.7456\n",
      "Epoch 12/100\n",
      "568/568 [==============================] - 40s 71ms/step - loss: 0.7737 - accuracy: 0.7499 - val_loss: 0.6543 - val_accuracy: 0.7978\n",
      "Epoch 13/100\n",
      "568/568 [==============================] - 40s 70ms/step - loss: 0.7415 - accuracy: 0.7645 - val_loss: 0.7205 - val_accuracy: 0.7756\n",
      "Epoch 14/100\n",
      "568/568 [==============================] - 40s 71ms/step - loss: 0.7181 - accuracy: 0.7761 - val_loss: 0.5780 - val_accuracy: 0.8186\n",
      "Epoch 15/100\n",
      "568/568 [==============================] - 41s 71ms/step - loss: 0.6972 - accuracy: 0.7821 - val_loss: 0.5791 - val_accuracy: 0.8017\n",
      "Epoch 16/100\n",
      "568/568 [==============================] - 40s 71ms/step - loss: 0.6481 - accuracy: 0.7920 - val_loss: 0.5350 - val_accuracy: 0.8370\n",
      "Epoch 17/100\n",
      "568/568 [==============================] - 40s 70ms/step - loss: 0.6264 - accuracy: 0.8008 - val_loss: 0.5687 - val_accuracy: 0.8240\n",
      "Epoch 18/100\n",
      "568/568 [==============================] - 41s 73ms/step - loss: 0.6039 - accuracy: 0.8083 - val_loss: 0.5595 - val_accuracy: 0.8271\n",
      "Epoch 19/100\n",
      "568/568 [==============================] - 41s 72ms/step - loss: 0.5682 - accuracy: 0.8140 - val_loss: 0.5927 - val_accuracy: 0.8094\n",
      "Epoch 20/100\n",
      "568/568 [==============================] - 41s 72ms/step - loss: 0.5859 - accuracy: 0.8173 - val_loss: 0.5054 - val_accuracy: 0.8478\n",
      "Epoch 21/100\n",
      "568/568 [==============================] - 41s 73ms/step - loss: 0.5526 - accuracy: 0.8219 - val_loss: 0.5625 - val_accuracy: 0.8340\n",
      "Epoch 22/100\n",
      "568/568 [==============================] - 41s 73ms/step - loss: 0.5347 - accuracy: 0.8331 - val_loss: 0.5424 - val_accuracy: 0.8324\n",
      "Epoch 23/100\n",
      "568/568 [==============================] - 41s 73ms/step - loss: 0.5140 - accuracy: 0.8415 - val_loss: 0.4921 - val_accuracy: 0.8478\n",
      "Epoch 24/100\n",
      "568/568 [==============================] - 42s 73ms/step - loss: 0.5349 - accuracy: 0.8320 - val_loss: 0.4968 - val_accuracy: 0.8524\n",
      "Epoch 25/100\n",
      "568/568 [==============================] - 41s 73ms/step - loss: 0.4925 - accuracy: 0.8455 - val_loss: 0.4983 - val_accuracy: 0.8455\n",
      "Epoch 26/100\n",
      "568/568 [==============================] - 41s 72ms/step - loss: 0.4747 - accuracy: 0.8483 - val_loss: 0.5154 - val_accuracy: 0.8417\n",
      "Epoch 27/100\n",
      "568/568 [==============================] - 41s 72ms/step - loss: 0.4697 - accuracy: 0.8497 - val_loss: 0.4820 - val_accuracy: 0.8470\n",
      "Epoch 28/100\n",
      "568/568 [==============================] - 41s 73ms/step - loss: 0.4557 - accuracy: 0.8558 - val_loss: 0.4916 - val_accuracy: 0.8593\n",
      "Epoch 29/100\n",
      "568/568 [==============================] - 41s 72ms/step - loss: 0.4562 - accuracy: 0.8567 - val_loss: 0.4762 - val_accuracy: 0.8532\n",
      "Epoch 30/100\n",
      "568/568 [==============================] - 41s 71ms/step - loss: 0.4432 - accuracy: 0.8549 - val_loss: 0.4549 - val_accuracy: 0.8670\n",
      "Epoch 31/100\n",
      "568/568 [==============================] - 41s 72ms/step - loss: 0.4252 - accuracy: 0.8677 - val_loss: 0.4981 - val_accuracy: 0.8463\n",
      "Epoch 32/100\n",
      "568/568 [==============================] - 41s 72ms/step - loss: 0.4317 - accuracy: 0.8699 - val_loss: 0.4781 - val_accuracy: 0.8470\n",
      "Epoch 33/100\n",
      "568/568 [==============================] - 41s 73ms/step - loss: 0.4289 - accuracy: 0.8635 - val_loss: 0.5010 - val_accuracy: 0.8386\n",
      "Epoch 34/100\n",
      "568/568 [==============================] - 42s 74ms/step - loss: 0.4167 - accuracy: 0.8677 - val_loss: 0.4486 - val_accuracy: 0.8670\n",
      "Epoch 35/100\n",
      "568/568 [==============================] - 42s 74ms/step - loss: 0.4046 - accuracy: 0.8721 - val_loss: 0.5147 - val_accuracy: 0.8394\n",
      "Epoch 36/100\n",
      "568/568 [==============================] - 43s 76ms/step - loss: 0.4058 - accuracy: 0.8723 - val_loss: 0.4367 - val_accuracy: 0.8624\n",
      "Epoch 37/100\n",
      "568/568 [==============================] - 42s 74ms/step - loss: 0.3977 - accuracy: 0.8706 - val_loss: 0.4600 - val_accuracy: 0.8555\n",
      "Epoch 38/100\n",
      "568/568 [==============================] - 41s 72ms/step - loss: 0.3885 - accuracy: 0.8774 - val_loss: 0.4472 - val_accuracy: 0.8678\n",
      "Epoch 39/100\n",
      "568/568 [==============================] - 41s 72ms/step - loss: 0.3764 - accuracy: 0.8825 - val_loss: 0.5080 - val_accuracy: 0.8478\n",
      "Epoch 40/100\n",
      "568/568 [==============================] - 41s 72ms/step - loss: 0.3665 - accuracy: 0.8844 - val_loss: 0.4295 - val_accuracy: 0.8701\n",
      "Epoch 41/100\n",
      "568/568 [==============================] - 41s 72ms/step - loss: 0.3537 - accuracy: 0.8908 - val_loss: 0.4581 - val_accuracy: 0.8601\n",
      "Epoch 42/100\n",
      "568/568 [==============================] - 41s 73ms/step - loss: 0.3485 - accuracy: 0.8906 - val_loss: 0.4208 - val_accuracy: 0.8786\n",
      "Epoch 43/100\n",
      "568/568 [==============================] - 42s 74ms/step - loss: 0.3532 - accuracy: 0.8849 - val_loss: 0.5003 - val_accuracy: 0.8440\n",
      "Epoch 44/100\n",
      "568/568 [==============================] - 43s 75ms/step - loss: 0.3567 - accuracy: 0.8926 - val_loss: 0.4516 - val_accuracy: 0.8532\n",
      "Epoch 45/100\n",
      "568/568 [==============================] - 41s 72ms/step - loss: 0.3376 - accuracy: 0.8939 - val_loss: 0.5943 - val_accuracy: 0.8217\n",
      "Epoch 46/100\n",
      "568/568 [==============================] - 42s 73ms/step - loss: 0.3433 - accuracy: 0.8919 - val_loss: 0.4033 - val_accuracy: 0.8632\n",
      "Epoch 47/100\n",
      "568/568 [==============================] - 41s 73ms/step - loss: 0.3459 - accuracy: 0.8888 - val_loss: 0.4457 - val_accuracy: 0.8732\n",
      "Epoch 48/100\n",
      "568/568 [==============================] - 41s 72ms/step - loss: 0.3195 - accuracy: 0.9018 - val_loss: 0.3867 - val_accuracy: 0.8839\n",
      "Epoch 49/100\n",
      "568/568 [==============================] - 41s 72ms/step - loss: 0.3184 - accuracy: 0.8963 - val_loss: 0.4754 - val_accuracy: 0.8501\n",
      "Epoch 50/100\n",
      "568/568 [==============================] - 45s 79ms/step - loss: 0.3069 - accuracy: 0.9038 - val_loss: 0.4031 - val_accuracy: 0.8839\n",
      "Epoch 51/100\n",
      "568/568 [==============================] - 41s 72ms/step - loss: 0.3232 - accuracy: 0.8948 - val_loss: 0.3920 - val_accuracy: 0.8793\n",
      "Epoch 52/100\n",
      "568/568 [==============================] - 42s 73ms/step - loss: 0.3130 - accuracy: 0.9001 - val_loss: 0.4119 - val_accuracy: 0.8663\n",
      "Epoch 53/100\n",
      "568/568 [==============================] - 41s 72ms/step - loss: 0.3044 - accuracy: 0.8990 - val_loss: 0.4514 - val_accuracy: 0.8624\n",
      "Epoch 54/100\n",
      "568/568 [==============================] - 42s 73ms/step - loss: 0.3108 - accuracy: 0.9014 - val_loss: 0.4026 - val_accuracy: 0.8701\n",
      "Epoch 55/100\n",
      "568/568 [==============================] - 42s 73ms/step - loss: 0.2864 - accuracy: 0.9100 - val_loss: 0.4194 - val_accuracy: 0.8716\n",
      "Epoch 56/100\n",
      "568/568 [==============================] - 41s 73ms/step - loss: 0.2877 - accuracy: 0.9095 - val_loss: 0.4580 - val_accuracy: 0.8663\n",
      "Epoch 57/100\n",
      "568/568 [==============================] - 42s 74ms/step - loss: 0.2813 - accuracy: 0.9076 - val_loss: 0.4025 - val_accuracy: 0.8739\n",
      "Epoch 58/100\n",
      "568/568 [==============================] - 45s 79ms/step - loss: 0.2776 - accuracy: 0.9093 - val_loss: 0.3799 - val_accuracy: 0.8847\n",
      "Epoch 59/100\n",
      "568/568 [==============================] - 41s 72ms/step - loss: 0.2913 - accuracy: 0.9080 - val_loss: 0.4616 - val_accuracy: 0.8762\n",
      "Epoch 60/100\n",
      "568/568 [==============================] - 41s 72ms/step - loss: 0.2814 - accuracy: 0.9150 - val_loss: 0.4010 - val_accuracy: 0.8839\n",
      "Epoch 61/100\n",
      "568/568 [==============================] - 40s 71ms/step - loss: 0.2815 - accuracy: 0.9082 - val_loss: 0.3881 - val_accuracy: 0.8793\n",
      "Epoch 62/100\n",
      "568/568 [==============================] - 40s 71ms/step - loss: 0.2889 - accuracy: 0.9100 - val_loss: 0.4139 - val_accuracy: 0.8762\n",
      "Epoch 63/100\n",
      "568/568 [==============================] - 41s 73ms/step - loss: 0.2748 - accuracy: 0.9106 - val_loss: 0.4498 - val_accuracy: 0.8670\n",
      "Epoch 64/100\n",
      "568/568 [==============================] - 42s 74ms/step - loss: 0.2587 - accuracy: 0.9192 - val_loss: 0.3915 - val_accuracy: 0.8778\n",
      "Epoch 65/100\n",
      "568/568 [==============================] - 40s 71ms/step - loss: 0.2603 - accuracy: 0.9197 - val_loss: 0.4156 - val_accuracy: 0.8755\n",
      "Epoch 66/100\n",
      "568/568 [==============================] - 40s 70ms/step - loss: 0.2519 - accuracy: 0.9230 - val_loss: 0.4242 - val_accuracy: 0.8732\n",
      "Epoch 67/100\n",
      "568/568 [==============================] - 40s 70ms/step - loss: 0.2515 - accuracy: 0.9181 - val_loss: 0.4124 - val_accuracy: 0.8770\n",
      "Epoch 68/100\n",
      "568/568 [==============================] - 41s 72ms/step - loss: 0.2656 - accuracy: 0.9124 - val_loss: 0.4068 - val_accuracy: 0.8770\n",
      "163/163 [==============================] - 7s 43ms/step - loss: 0.3799 - accuracy: 0.8847\n",
      "final loss 0.379935622215271, final acc 0.884704053401947\n",
      "83/83 [==============================] - 7s 81ms/step - loss: 0.3130 - accuracy: 0.9015\n",
      "test loss 0.3129670023918152, test acc 0.9015151262283325\n",
      "Time taken = 3061.3899346880003 s\n"
     ]
    }
   ],
   "source": [
    "start = timer()\n",
    "base_model = tf.keras.applications.ResNet50(\n",
    "        input_shape=(32, 32, 3),\n",
    "        include_top=False,\n",
    "        weights=None,\n",
    "    )\n",
    "base_model = tf.keras.Model(\n",
    "        base_model.inputs, outputs=[base_model.get_layer(\"conv2_block3_out\").output]\n",
    "    )\n",
    "\n",
    "inputs = tf.keras.Input(shape=(32, 32, 3))\n",
    "x = tf.keras.applications.resnet.preprocess_input(inputs)\n",
    "x = base_model(x)\n",
    "x = tf.keras.layers.GlobalAveragePooling2D()(x)\n",
    "x = tf.keras.layers.Dense(10)(x)\n",
    "model = tf.keras.Model(inputs, x)\n",
    "\n",
    "model.compile(\n",
    "        optimizer=tf.keras.optimizers.Adam(lr=0.0001),\n",
    "        loss=tf.keras.losses.CategoricalCrossentropy(from_logits=True),\n",
    "        metrics=[\"accuracy\"],\n",
    "    )\n",
    "\n",
    "loss_0, acc_0 = model.evaluate(valid)\n",
    "print(f\"loss {loss_0}, acc {acc_0}\")\n",
    "\n",
    "history = model.fit(\n",
    "        train,\n",
    "        validation_data=valid,\n",
    "        epochs=100,\n",
    "        callbacks=[stopping, checkpoint]\n",
    ")\n",
    "\n",
    "model.load_weights(\"best_model\")\n",
    "\n",
    "loss, acc = model.evaluate(valid)\n",
    "print(f\"final loss {loss}, final acc {acc}\")\n",
    "\n",
    "test_loss, test_acc = model.evaluate(test)\n",
    "print(f\"test loss {test_loss}, test acc {test_acc}\")\n",
    "    \n",
    "end = timer()\n",
    "print(\"Time taken = \" + str(end - start) + ' s')"
   ]
  },
  {
   "cell_type": "code",
   "execution_count": 6,
   "id": "3a52d874",
   "metadata": {
    "execution": {
     "iopub.execute_input": "2022-02-17T00:16:31.385200Z",
     "iopub.status.busy": "2022-02-17T00:16:31.384588Z",
     "iopub.status.idle": "2022-02-17T00:16:31.715810Z",
     "shell.execute_reply": "2022-02-17T00:16:31.715162Z"
    },
    "papermill": {
     "duration": 9.017551,
     "end_time": "2022-02-17T00:16:31.715942",
     "exception": false,
     "start_time": "2022-02-17T00:16:22.698391",
     "status": "completed"
    },
    "tags": []
   },
   "outputs": [
    {
     "data": {
      "image/png": "[encoded data removed]",
      "text/plain": [
       "<Figure size 432x288 with 1 Axes>"
      ]
     },
     "metadata": {
      "needs_background": "light"
     },
     "output_type": "display_data"
    },
    {
     "data": {
      "image/png": "[encoded data removed]",
      "text/plain": [
       "<Figure size 432x288 with 1 Axes>"
      ]
     },
     "metadata": {
      "needs_background": "light"
     },
     "output_type": "display_data"
    }
   ],
   "source": [
    "# summarize history for accuracy\n",
    "plt.plot(history.history['accuracy'])\n",
    "plt.plot(history.history['val_accuracy'])\n",
    "plt.title('model accuracy')\n",
    "plt.ylabel('accuracy')\n",
    "plt.xlabel('epoch')\n",
    "plt.legend(['train', 'val'], loc='upper left')\n",
    "plt.show()\n",
    "# summarize history for loss\n",
    "plt.plot(history.history['loss'])\n",
    "plt.plot(history.history['val_loss'])\n",
    "plt.title('model loss')\n",
    "plt.ylabel('loss')\n",
    "plt.xlabel('epoch')\n",
    "plt.legend(['train', 'val'], loc='upper left')\n",
    "plt.show()"
   ]
  },
  {
   "cell_type": "code",
   "execution_count": null,
   "id": "7ab27710",
   "metadata": {
    "papermill": {
     "duration": 8.583898,
     "end_time": "2022-02-17T00:16:48.997524",
     "exception": false,
     "start_time": "2022-02-17T00:16:40.413626",
     "status": "completed"
    },
    "tags": []
   },
   "outputs": [],
   "source": []
  }
 ],
 "metadata": {
  "kernelspec": {
   "display_name": "Python 3",
   "language": "python",
   "name": "python3"
  },
  "language_info": {
   "codemirror_mode": {
    "name": "ipython",
    "version": 3
   },
   "file_extension": ".py",
   "mimetype": "text/x-python",
   "name": "python",
   "nbconvert_exporter": "python",
   "pygments_lexer": "ipython3",
   "version": "3.7.12"
  },
  "papermill": {
   "default_parameters": {},
   "duration": 3128.608078,
   "end_time": "2022-02-17T00:17:00.612563",
   "environment_variables": {},
   "exception": null,
   "input_path": "__notebook__.ipynb",
   "output_path": "__notebook__.ipynb",
   "parameters": {},
   "start_time": "2022-02-16T23:24:52.004485",
   "version": "2.3.3"
  }
 },
 "nbformat": 4,
 "nbformat_minor": 5
}
