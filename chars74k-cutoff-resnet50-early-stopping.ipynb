{
 "cells": [
  {
   "cell_type": "code",
   "execution_count": 1,
   "id": "a683379c",
   "metadata": {
    "_cell_guid": "b1076dfc-b9ad-4769-8c92-a6c4dae69d19",
    "_uuid": "8f2839f25d086af736a60e9eeb907d3b93b6e0e5",
    "execution": {
     "iopub.execute_input": "2022-02-16T11:39:30.917628Z",
     "iopub.status.busy": "2022-02-16T11:39:30.915827Z",
     "iopub.status.idle": "2022-02-16T11:39:35.344898Z",
     "shell.execute_reply": "2022-02-16T11:39:35.344298Z",
     "shell.execute_reply.started": "2022-02-16T11:35:12.101433Z"
    },
    "papermill": {
     "duration": 4.441687,
     "end_time": "2022-02-16T11:39:35.345080",
     "exception": false,
     "start_time": "2022-02-16T11:39:30.903393",
     "status": "completed"
    },
    "tags": []
   },
   "outputs": [],
   "source": [
    "import tensorflow as tf\n",
    "from tensorflow import keras\n",
    "import numpy as np\n",
    "import json\n",
    "import sys\n",
    "import matplotlib.pyplot as plt\n",
    "from timeit import default_timer as timer"
   ]
  },
  {
   "cell_type": "code",
   "execution_count": 2,
   "id": "061a2d9f",
   "metadata": {
    "execution": {
     "iopub.execute_input": "2022-02-16T11:39:35.363245Z",
     "iopub.status.busy": "2022-02-16T11:39:35.362671Z",
     "iopub.status.idle": "2022-02-16T11:39:35.366805Z",
     "shell.execute_reply": "2022-02-16T11:39:35.367440Z",
     "shell.execute_reply.started": "2022-02-16T11:35:17.395636Z"
    },
    "papermill": {
     "duration": 0.013382,
     "end_time": "2022-02-16T11:39:35.367612",
     "exception": false,
     "start_time": "2022-02-16T11:39:35.354230",
     "status": "completed"
    },
    "tags": []
   },
   "outputs": [],
   "source": [
    "directory = \"../input/basedonenglishhandwrittencharactersmodified/Based-Chars74K-image-dataset-Roman\"\n",
    "user_data = directory + \"/train\"\n",
    "valid_data = directory + \"/val\"\n",
    "test_data = directory + \"/test\""
   ]
  },
  {
   "cell_type": "code",
   "execution_count": 3,
   "id": "ff9c17c7",
   "metadata": {
    "execution": {
     "iopub.execute_input": "2022-02-16T11:39:35.382481Z",
     "iopub.status.busy": "2022-02-16T11:39:35.381931Z",
     "iopub.status.idle": "2022-02-16T11:39:36.917835Z",
     "shell.execute_reply": "2022-02-16T11:39:36.918444Z",
     "shell.execute_reply.started": "2022-02-16T11:35:17.403052Z"
    },
    "papermill": {
     "duration": 1.545047,
     "end_time": "2022-02-16T11:39:36.918614",
     "exception": false,
     "start_time": "2022-02-16T11:39:35.373567",
     "status": "completed"
    },
    "tags": []
   },
   "outputs": [
    {
     "name": "stdout",
     "output_type": "stream",
     "text": [
      "Found 822 files belonging to 10 classes.\n",
      "Found 238 files belonging to 10 classes.\n"
     ]
    },
    {
     "name": "stderr",
     "output_type": "stream",
     "text": [
      "2022-02-16 11:39:36.565884: I tensorflow/core/common_runtime/process_util.cc:146] Creating new thread pool with default inter op setting: 2. Tune using inter_op_parallelism_threads for best performance.\n"
     ]
    },
    {
     "name": "stdout",
     "output_type": "stream",
     "text": [
      "Found 127 files belonging to 10 classes.\n"
     ]
    }
   ],
   "source": [
    "batch_size = 8\n",
    "\n",
    "train = tf.keras.preprocessing.image_dataset_from_directory(\n",
    "        user_data,\n",
    "        labels=\"inferred\",\n",
    "        label_mode=\"categorical\",\n",
    "        class_names=[\"i\", \"ii\", \"iii\", \"iv\", \"v\", \"vi\", \"vii\", \"viii\", \"ix\", \"x\"],\n",
    "        shuffle=True,\n",
    "        seed=123,\n",
    "        batch_size=batch_size,\n",
    "        image_size=(32, 32),\n",
    "    )\n",
    "\n",
    "valid = tf.keras.preprocessing.image_dataset_from_directory(\n",
    "        valid_data,\n",
    "        labels=\"inferred\",\n",
    "        label_mode=\"categorical\",\n",
    "        class_names=[\"i\", \"ii\", \"iii\", \"iv\", \"v\", \"vi\", \"vii\", \"viii\", \"ix\", \"x\"],\n",
    "        shuffle=True,\n",
    "        seed=123,\n",
    "        batch_size=batch_size,\n",
    "        image_size=(32, 32),\n",
    "    )\n",
    "\n",
    "test = tf.keras.preprocessing.image_dataset_from_directory(\n",
    "        test_data,\n",
    "        labels=\"inferred\",\n",
    "        label_mode=\"categorical\",\n",
    "        class_names=[\"i\", \"ii\", \"iii\", \"iv\", \"v\", \"vi\", \"vii\", \"viii\", \"ix\", \"x\"],\n",
    "        shuffle=False,\n",
    "        seed=123,\n",
    "        batch_size=batch_size,\n",
    "        image_size=(32, 32),\n",
    "    )"
   ]
  },
  {
   "cell_type": "code",
   "execution_count": 4,
   "id": "f53540d3",
   "metadata": {
    "execution": {
     "iopub.execute_input": "2022-02-16T11:39:36.940011Z",
     "iopub.status.busy": "2022-02-16T11:39:36.937146Z",
     "iopub.status.idle": "2022-02-16T11:39:36.941742Z",
     "shell.execute_reply": "2022-02-16T11:39:36.942209Z",
     "shell.execute_reply.started": "2022-02-16T11:35:19.313067Z"
    },
    "papermill": {
     "duration": 0.015344,
     "end_time": "2022-02-16T11:39:36.942370",
     "exception": false,
     "start_time": "2022-02-16T11:39:36.927026",
     "status": "completed"
    },
    "tags": []
   },
   "outputs": [],
   "source": [
    "stopping = tf.keras.callbacks.EarlyStopping(\n",
    "        monitor=\"val_accuracy\",\n",
    "        min_delta=0,\n",
    "        patience=10,\n",
    "        verbose=0,\n",
    "        mode=\"auto\",\n",
    "        baseline=None,\n",
    "        restore_best_weights=False,\n",
    "    )\n",
    "\n",
    "checkpoint = tf.keras.callbacks.ModelCheckpoint(\n",
    "        \"best_model\",\n",
    "        monitor=\"val_accuracy\",\n",
    "        mode=\"max\",\n",
    "        save_best_only=True,\n",
    "        save_weights_only=True,\n",
    "    )"
   ]
  },
  {
   "cell_type": "code",
   "execution_count": 5,
   "id": "4d904328",
   "metadata": {
    "execution": {
     "iopub.execute_input": "2022-02-16T11:39:36.965135Z",
     "iopub.status.busy": "2022-02-16T11:39:36.964549Z",
     "iopub.status.idle": "2022-02-16T11:42:11.016715Z",
     "shell.execute_reply": "2022-02-16T11:42:11.016050Z",
     "shell.execute_reply.started": "2022-02-16T11:35:39.259384Z"
    },
    "papermill": {
     "duration": 154.067295,
     "end_time": "2022-02-16T11:42:11.016904",
     "exception": false,
     "start_time": "2022-02-16T11:39:36.949609",
     "status": "completed"
    },
    "tags": []
   },
   "outputs": [
    {
     "name": "stderr",
     "output_type": "stream",
     "text": [
      "/opt/conda/lib/python3.7/site-packages/keras/optimizer_v2/optimizer_v2.py:356: UserWarning: The `lr` argument is deprecated, use `learning_rate` instead.\n",
      "  \"The `lr` argument is deprecated, use `learning_rate` instead.\")\n",
      "2022-02-16 11:39:38.643206: I tensorflow/compiler/mlir/mlir_graph_optimization_pass.cc:185] None of the MLIR Optimization Passes are enabled (registered 2)\n"
     ]
    },
    {
     "name": "stdout",
     "output_type": "stream",
     "text": [
      "30/30 [==============================] - 2s 35ms/step - loss: 25.7977 - accuracy: 0.0924\n",
      "loss 25.797653198242188, acc 0.09243697673082352\n",
      "Epoch 1/100\n",
      "103/103 [==============================] - 8s 63ms/step - loss: 2.7742 - accuracy: 0.1436 - val_loss: 2.3215 - val_accuracy: 0.1387\n",
      "Epoch 2/100\n",
      "103/103 [==============================] - 6s 53ms/step - loss: 1.9958 - accuracy: 0.3418 - val_loss: 2.0234 - val_accuracy: 0.2521\n",
      "Epoch 3/100\n",
      "103/103 [==============================] - 6s 55ms/step - loss: 1.7114 - accuracy: 0.4696 - val_loss: 1.9179 - val_accuracy: 0.3109\n",
      "Epoch 4/100\n",
      "103/103 [==============================] - 6s 60ms/step - loss: 1.4709 - accuracy: 0.5779 - val_loss: 1.5979 - val_accuracy: 0.4034\n",
      "Epoch 5/100\n",
      "103/103 [==============================] - 6s 53ms/step - loss: 1.2524 - accuracy: 0.6642 - val_loss: 1.6200 - val_accuracy: 0.4118\n",
      "Epoch 6/100\n",
      "103/103 [==============================] - 6s 55ms/step - loss: 1.0756 - accuracy: 0.7153 - val_loss: 1.3427 - val_accuracy: 0.5168\n",
      "Epoch 7/100\n",
      "103/103 [==============================] - 6s 57ms/step - loss: 0.8554 - accuracy: 0.8114 - val_loss: 1.4244 - val_accuracy: 0.4748\n",
      "Epoch 8/100\n",
      "103/103 [==============================] - 6s 53ms/step - loss: 0.7605 - accuracy: 0.8212 - val_loss: 1.3749 - val_accuracy: 0.4748\n",
      "Epoch 9/100\n",
      "103/103 [==============================] - 6s 60ms/step - loss: 0.6461 - accuracy: 0.8443 - val_loss: 1.2630 - val_accuracy: 0.5504\n",
      "Epoch 10/100\n",
      "103/103 [==============================] - 6s 53ms/step - loss: 0.5163 - accuracy: 0.9027 - val_loss: 1.2463 - val_accuracy: 0.5714\n",
      "Epoch 11/100\n",
      "103/103 [==============================] - 6s 52ms/step - loss: 0.4167 - accuracy: 0.9185 - val_loss: 1.2228 - val_accuracy: 0.5714\n",
      "Epoch 12/100\n",
      "103/103 [==============================] - 6s 55ms/step - loss: 0.3651 - accuracy: 0.9392 - val_loss: 1.2440 - val_accuracy: 0.5714\n",
      "Epoch 13/100\n",
      "103/103 [==============================] - 6s 53ms/step - loss: 0.2744 - accuracy: 0.9635 - val_loss: 1.1327 - val_accuracy: 0.6261\n",
      "Epoch 14/100\n",
      "103/103 [==============================] - 6s 59ms/step - loss: 0.2565 - accuracy: 0.9684 - val_loss: 1.5508 - val_accuracy: 0.5588\n",
      "Epoch 15/100\n",
      "103/103 [==============================] - 6s 52ms/step - loss: 0.1989 - accuracy: 0.9781 - val_loss: 1.4530 - val_accuracy: 0.5966\n",
      "Epoch 16/100\n",
      "103/103 [==============================] - 6s 55ms/step - loss: 0.1794 - accuracy: 0.9805 - val_loss: 1.5220 - val_accuracy: 0.5672\n",
      "Epoch 17/100\n",
      "103/103 [==============================] - 6s 53ms/step - loss: 0.1597 - accuracy: 0.9793 - val_loss: 1.3892 - val_accuracy: 0.5882\n",
      "Epoch 18/100\n",
      "103/103 [==============================] - 6s 56ms/step - loss: 0.1317 - accuracy: 0.9927 - val_loss: 1.6506 - val_accuracy: 0.5420\n",
      "Epoch 19/100\n",
      "103/103 [==============================] - 6s 54ms/step - loss: 0.1173 - accuracy: 0.9951 - val_loss: 1.3673 - val_accuracy: 0.5924\n",
      "Epoch 20/100\n",
      "103/103 [==============================] - 6s 60ms/step - loss: 0.1270 - accuracy: 0.9830 - val_loss: 1.6913 - val_accuracy: 0.5084\n",
      "Epoch 21/100\n",
      "103/103 [==============================] - 6s 55ms/step - loss: 0.1326 - accuracy: 0.9866 - val_loss: 1.7815 - val_accuracy: 0.5294\n",
      "Epoch 22/100\n",
      "103/103 [==============================] - 6s 53ms/step - loss: 0.0969 - accuracy: 0.9903 - val_loss: 1.6302 - val_accuracy: 0.5798\n",
      "Epoch 23/100\n",
      "103/103 [==============================] - 6s 55ms/step - loss: 0.0934 - accuracy: 0.9915 - val_loss: 1.9209 - val_accuracy: 0.5588\n",
      "30/30 [==============================] - 1s 33ms/step - loss: 1.1327 - accuracy: 0.6261\n",
      "final loss 1.1326838731765747, final acc 0.6260504126548767\n",
      "16/16 [==============================] - 1s 46ms/step - loss: 1.1560 - accuracy: 0.5354\n",
      "test loss 1.1559674739837646, test acc 0.5354330539703369\n",
      "Time taken = 154.047711844 s\n"
     ]
    }
   ],
   "source": [
    "start = timer()\n",
    "base_model = tf.keras.applications.ResNet50(\n",
    "        input_shape=(32, 32, 3),\n",
    "        include_top=False,\n",
    "        weights=None,\n",
    "    )\n",
    "base_model = tf.keras.Model(\n",
    "        base_model.inputs, outputs=[base_model.get_layer(\"conv2_block3_out\").output]\n",
    "    )\n",
    "\n",
    "inputs = tf.keras.Input(shape=(32, 32, 3))\n",
    "x = tf.keras.applications.resnet.preprocess_input(inputs)\n",
    "x = base_model(x)\n",
    "x = tf.keras.layers.GlobalAveragePooling2D()(x)\n",
    "x = tf.keras.layers.Dense(10)(x)\n",
    "model = tf.keras.Model(inputs, x)\n",
    "\n",
    "model.compile(\n",
    "        optimizer=tf.keras.optimizers.Adam(lr=0.0001),\n",
    "        loss=tf.keras.losses.CategoricalCrossentropy(from_logits=True),\n",
    "        metrics=[\"accuracy\"],\n",
    "    )\n",
    "\n",
    "loss_0, acc_0 = model.evaluate(valid)\n",
    "print(f\"loss {loss_0}, acc {acc_0}\")\n",
    "\n",
    "history = model.fit(\n",
    "        train,\n",
    "        validation_data=valid,\n",
    "        epochs=100,\n",
    "        callbacks=[stopping, checkpoint]\n",
    ")\n",
    "\n",
    "model.load_weights(\"best_model\")\n",
    "\n",
    "loss, acc = model.evaluate(valid)\n",
    "print(f\"final loss {loss}, final acc {acc}\")\n",
    "\n",
    "test_loss, test_acc = model.evaluate(test)\n",
    "print(f\"test loss {test_loss}, test acc {test_acc}\")\n",
    "    \n",
    "end = timer()\n",
    "print(\"Time taken = \" + str(end - start) + ' s')"
   ]
  },
  {
   "cell_type": "code",
   "execution_count": 6,
   "id": "ab51b1b8",
   "metadata": {
    "execution": {
     "iopub.execute_input": "2022-02-16T11:42:11.789016Z",
     "iopub.status.busy": "2022-02-16T11:42:11.788375Z",
     "iopub.status.idle": "2022-02-16T11:42:12.347386Z",
     "shell.execute_reply": "2022-02-16T11:42:12.346879Z",
     "shell.execute_reply.started": "2022-02-16T11:38:34.678253Z"
    },
    "papermill": {
     "duration": 0.948291,
     "end_time": "2022-02-16T11:42:12.347529",
     "exception": false,
     "start_time": "2022-02-16T11:42:11.399238",
     "status": "completed"
    },
    "tags": []
   },
   "outputs": [
    {
     "data": {
      "image/png": "[encoded data removed]",
      "text/plain": [
       "<Figure size 432x288 with 1 Axes>"
      ]
     },
     "metadata": {
      "needs_background": "light"
     },
     "output_type": "display_data"
    },
    {
     "data": {
      "image/png": "[encoded data removed]",
      "text/plain": [
       "<Figure size 432x288 with 1 Axes>"
      ]
     },
     "metadata": {
      "needs_background": "light"
     },
     "output_type": "display_data"
    }
   ],
   "source": [
    "# summarize history for accuracy\n",
    "plt.plot(history.history['accuracy'])\n",
    "plt.plot(history.history['val_accuracy'])\n",
    "plt.title('model accuracy')\n",
    "plt.ylabel('accuracy')\n",
    "plt.xlabel('epoch')\n",
    "plt.legend(['train', 'val'], loc='upper left')\n",
    "plt.show()\n",
    "# summarize history for loss\n",
    "plt.plot(history.history['loss'])\n",
    "plt.plot(history.history['val_loss'])\n",
    "plt.title('model loss')\n",
    "plt.ylabel('loss')\n",
    "plt.xlabel('epoch')\n",
    "plt.legend(['train', 'val'], loc='upper left')\n",
    "plt.show()"
   ]
  },
  {
   "cell_type": "code",
   "execution_count": null,
   "id": "c42fe463",
   "metadata": {
    "papermill": {
     "duration": 0.380782,
     "end_time": "2022-02-16T11:42:13.105298",
     "exception": false,
     "start_time": "2022-02-16T11:42:12.724516",
     "status": "completed"
    },
    "tags": []
   },
   "outputs": [],
   "source": []
  }
 ],
 "metadata": {
  "kernelspec": {
   "display_name": "Python 3",
   "language": "python",
   "name": "python3"
  },
  "language_info": {
   "codemirror_mode": {
    "name": "ipython",
    "version": 3
   },
   "file_extension": ".py",
   "mimetype": "text/x-python",
   "name": "python",
   "nbconvert_exporter": "python",
   "pygments_lexer": "ipython3",
   "version": "3.7.12"
  },
  "papermill": {
   "default_parameters": {},
   "duration": 173.511162,
   "end_time": "2022-02-16T11:42:16.295053",
   "environment_variables": {},
   "exception": null,
   "input_path": "__notebook__.ipynb",
   "output_path": "__notebook__.ipynb",
   "parameters": {},
   "start_time": "2022-02-16T11:39:22.783891",
   "version": "2.3.3"
  }
 },
 "nbformat": 4,
 "nbformat_minor": 5
}
