{
 "cells": [
  {
   "cell_type": "code",
   "execution_count": 1,
   "id": "2e76e05d",
   "metadata": {
    "_cell_guid": "b1076dfc-b9ad-4769-8c92-a6c4dae69d19",
    "_uuid": "8f2839f25d086af736a60e9eeb907d3b93b6e0e5",
    "execution": {
     "iopub.execute_input": "2022-02-16T12:14:06.975671Z",
     "iopub.status.busy": "2022-02-16T12:14:06.974545Z",
     "iopub.status.idle": "2022-02-16T12:14:11.966396Z",
     "shell.execute_reply": "2022-02-16T12:14:11.965628Z"
    },
    "papermill": {
     "duration": 5.00337,
     "end_time": "2022-02-16T12:14:11.966591",
     "exception": false,
     "start_time": "2022-02-16T12:14:06.963221",
     "status": "completed"
    },
    "tags": []
   },
   "outputs": [],
   "source": [
    "import tensorflow as tf\n",
    "from tensorflow import keras\n",
    "import numpy as np\n",
    "import json\n",
    "import sys\n",
    "import matplotlib.pyplot as plt\n",
    "from timeit import default_timer as timer"
   ]
  },
  {
   "cell_type": "code",
   "execution_count": 2,
   "id": "38f9c5e9",
   "metadata": {
    "execution": {
     "iopub.execute_input": "2022-02-16T12:14:11.985924Z",
     "iopub.status.busy": "2022-02-16T12:14:11.985266Z",
     "iopub.status.idle": "2022-02-16T12:14:11.988762Z",
     "shell.execute_reply": "2022-02-16T12:14:11.989321Z"
    },
    "papermill": {
     "duration": 0.014401,
     "end_time": "2022-02-16T12:14:11.989549",
     "exception": false,
     "start_time": "2022-02-16T12:14:11.975148",
     "status": "completed"
    },
    "tags": []
   },
   "outputs": [],
   "source": [
    "directory = \"../input/combined-handwritten-roman-numerals-dataset/Combined Handwritten Roman Numerals Dataset\"\n",
    "user_data = directory + \"/train\"\n",
    "valid_data = directory + \"/val\"\n",
    "test_data = directory + \"/test\""
   ]
  },
  {
   "cell_type": "code",
   "execution_count": 3,
   "id": "9b8be31c",
   "metadata": {
    "execution": {
     "iopub.execute_input": "2022-02-16T12:14:12.008563Z",
     "iopub.status.busy": "2022-02-16T12:14:12.007836Z",
     "iopub.status.idle": "2022-02-16T12:14:13.904786Z",
     "shell.execute_reply": "2022-02-16T12:14:13.904246Z"
    },
    "papermill": {
     "duration": 1.907596,
     "end_time": "2022-02-16T12:14:13.904937",
     "exception": false,
     "start_time": "2022-02-16T12:14:11.997341",
     "status": "completed"
    },
    "tags": []
   },
   "outputs": [
    {
     "name": "stdout",
     "output_type": "stream",
     "text": [
      "Found 4543 files belonging to 10 classes.\n"
     ]
    },
    {
     "name": "stderr",
     "output_type": "stream",
     "text": [
      "2022-02-16 12:14:13.541138: I tensorflow/core/common_runtime/process_util.cc:146] Creating new thread pool with default inter op setting: 2. Tune using inter_op_parallelism_threads for best performance.\n"
     ]
    },
    {
     "name": "stdout",
     "output_type": "stream",
     "text": [
      "Found 1301 files belonging to 10 classes.\n",
      "Found 660 files belonging to 10 classes.\n"
     ]
    }
   ],
   "source": [
    "batch_size = 8\n",
    "\n",
    "train = tf.keras.preprocessing.image_dataset_from_directory(\n",
    "        user_data,\n",
    "        labels=\"inferred\",\n",
    "        label_mode=\"categorical\",\n",
    "        class_names=[\"i\", \"ii\", \"iii\", \"iv\", \"v\", \"vi\", \"vii\", \"viii\", \"ix\", \"x\"],\n",
    "        shuffle=True,\n",
    "        seed=123,\n",
    "        batch_size=batch_size,\n",
    "        image_size=(32, 32),\n",
    "    )\n",
    "\n",
    "valid = tf.keras.preprocessing.image_dataset_from_directory(\n",
    "        valid_data,\n",
    "        labels=\"inferred\",\n",
    "        label_mode=\"categorical\",\n",
    "        class_names=[\"i\", \"ii\", \"iii\", \"iv\", \"v\", \"vi\", \"vii\", \"viii\", \"ix\", \"x\"],\n",
    "        shuffle=True,\n",
    "        seed=123,\n",
    "        batch_size=batch_size,\n",
    "        image_size=(32, 32),\n",
    "    )\n",
    "\n",
    "test = tf.keras.preprocessing.image_dataset_from_directory(\n",
    "        test_data,\n",
    "        labels=\"inferred\",\n",
    "        label_mode=\"categorical\",\n",
    "        class_names=[\"i\", \"ii\", \"iii\", \"iv\", \"v\", \"vi\", \"vii\", \"viii\", \"ix\", \"x\"],\n",
    "        shuffle=False,\n",
    "        seed=123,\n",
    "        batch_size=batch_size,\n",
    "        image_size=(32, 32),\n",
    "    )"
   ]
  },
  {
   "cell_type": "code",
   "execution_count": 4,
   "id": "00f05ec7",
   "metadata": {
    "execution": {
     "iopub.execute_input": "2022-02-16T12:14:13.927043Z",
     "iopub.status.busy": "2022-02-16T12:14:13.926290Z",
     "iopub.status.idle": "2022-02-16T12:14:13.932148Z",
     "shell.execute_reply": "2022-02-16T12:14:13.931517Z"
    },
    "papermill": {
     "duration": 0.017723,
     "end_time": "2022-02-16T12:14:13.932287",
     "exception": false,
     "start_time": "2022-02-16T12:14:13.914564",
     "status": "completed"
    },
    "tags": []
   },
   "outputs": [],
   "source": [
    "stopping = tf.keras.callbacks.EarlyStopping(\n",
    "        monitor=\"val_accuracy\",\n",
    "        min_delta=0,\n",
    "        patience=10,\n",
    "        verbose=0,\n",
    "        mode=\"auto\",\n",
    "        baseline=None,\n",
    "        restore_best_weights=False,\n",
    "    )\n",
    "\n",
    "checkpoint = tf.keras.callbacks.ModelCheckpoint(\n",
    "        \"best_model\",\n",
    "        monitor=\"val_accuracy\",\n",
    "        mode=\"max\",\n",
    "        save_best_only=True,\n",
    "        save_weights_only=True,\n",
    "    )"
   ]
  },
  {
   "cell_type": "code",
   "execution_count": 5,
   "id": "b6b50675",
   "metadata": {
    "execution": {
     "iopub.execute_input": "2022-02-16T12:14:13.965223Z",
     "iopub.status.busy": "2022-02-16T12:14:13.964482Z",
     "iopub.status.idle": "2022-02-16T12:26:57.866531Z",
     "shell.execute_reply": "2022-02-16T12:26:57.867177Z"
    },
    "papermill": {
     "duration": 763.925817,
     "end_time": "2022-02-16T12:26:57.867351",
     "exception": false,
     "start_time": "2022-02-16T12:14:13.941534",
     "status": "completed"
    },
    "tags": []
   },
   "outputs": [
    {
     "name": "stderr",
     "output_type": "stream",
     "text": [
      "/opt/conda/lib/python3.7/site-packages/keras/optimizer_v2/optimizer_v2.py:356: UserWarning: The `lr` argument is deprecated, use `learning_rate` instead.\n",
      "  \"The `lr` argument is deprecated, use `learning_rate` instead.\")\n",
      "2022-02-16 12:14:15.799193: I tensorflow/compiler/mlir/mlir_graph_optimization_pass.cc:185] None of the MLIR Optimization Passes are enabled (registered 2)\n"
     ]
    },
    {
     "name": "stdout",
     "output_type": "stream",
     "text": [
      "163/163 [==============================] - 4s 20ms/step - loss: 16.5440 - accuracy: 0.0938\n",
      "loss 16.544015884399414, acc 0.09377402067184448\n",
      "Epoch 1/100\n",
      "568/568 [==============================] - 28s 45ms/step - loss: 1.9533 - accuracy: 0.3328 - val_loss: 1.6484 - val_accuracy: 0.4120\n",
      "Epoch 2/100\n",
      "568/568 [==============================] - 24s 43ms/step - loss: 1.3957 - accuracy: 0.5362 - val_loss: 1.3635 - val_accuracy: 0.5304\n",
      "Epoch 3/100\n",
      "568/568 [==============================] - 25s 43ms/step - loss: 1.0709 - accuracy: 0.6564 - val_loss: 0.9480 - val_accuracy: 0.7010\n",
      "Epoch 4/100\n",
      "568/568 [==============================] - 25s 44ms/step - loss: 0.8413 - accuracy: 0.7315 - val_loss: 0.7712 - val_accuracy: 0.7479\n",
      "Epoch 5/100\n",
      "568/568 [==============================] - 25s 43ms/step - loss: 0.7043 - accuracy: 0.7816 - val_loss: 0.6350 - val_accuracy: 0.8063\n",
      "Epoch 6/100\n",
      "568/568 [==============================] - 25s 44ms/step - loss: 0.6081 - accuracy: 0.8094 - val_loss: 0.6321 - val_accuracy: 0.8040\n",
      "Epoch 7/100\n",
      "568/568 [==============================] - 25s 44ms/step - loss: 0.5280 - accuracy: 0.8426 - val_loss: 0.5887 - val_accuracy: 0.8125\n",
      "Epoch 8/100\n",
      "568/568 [==============================] - 25s 44ms/step - loss: 0.4654 - accuracy: 0.8600 - val_loss: 0.6371 - val_accuracy: 0.8040\n",
      "Epoch 9/100\n",
      "568/568 [==============================] - 25s 44ms/step - loss: 0.4217 - accuracy: 0.8715 - val_loss: 0.5594 - val_accuracy: 0.8278\n",
      "Epoch 10/100\n",
      "568/568 [==============================] - 25s 43ms/step - loss: 0.3625 - accuracy: 0.8946 - val_loss: 0.5445 - val_accuracy: 0.8217\n",
      "Epoch 11/100\n",
      "568/568 [==============================] - 25s 44ms/step - loss: 0.3277 - accuracy: 0.9042 - val_loss: 0.5353 - val_accuracy: 0.8370\n",
      "Epoch 12/100\n",
      "568/568 [==============================] - 25s 44ms/step - loss: 0.2996 - accuracy: 0.9164 - val_loss: 0.5459 - val_accuracy: 0.8240\n",
      "Epoch 13/100\n",
      "568/568 [==============================] - 25s 44ms/step - loss: 0.2646 - accuracy: 0.9243 - val_loss: 0.5509 - val_accuracy: 0.8347\n",
      "Epoch 14/100\n",
      "568/568 [==============================] - 24s 43ms/step - loss: 0.2260 - accuracy: 0.9331 - val_loss: 0.5207 - val_accuracy: 0.8424\n",
      "Epoch 15/100\n",
      "568/568 [==============================] - 25s 44ms/step - loss: 0.1989 - accuracy: 0.9459 - val_loss: 0.5275 - val_accuracy: 0.8470\n",
      "Epoch 16/100\n",
      "568/568 [==============================] - 25s 43ms/step - loss: 0.1949 - accuracy: 0.9439 - val_loss: 0.5834 - val_accuracy: 0.8286\n",
      "Epoch 17/100\n",
      "568/568 [==============================] - 25s 44ms/step - loss: 0.1841 - accuracy: 0.9472 - val_loss: 0.5105 - val_accuracy: 0.8455\n",
      "Epoch 18/100\n",
      "568/568 [==============================] - 25s 43ms/step - loss: 0.1655 - accuracy: 0.9500 - val_loss: 0.4586 - val_accuracy: 0.8601\n",
      "Epoch 19/100\n",
      "568/568 [==============================] - 25s 45ms/step - loss: 0.1482 - accuracy: 0.9599 - val_loss: 0.5414 - val_accuracy: 0.8424\n",
      "Epoch 20/100\n",
      "568/568 [==============================] - 27s 47ms/step - loss: 0.1299 - accuracy: 0.9657 - val_loss: 0.7025 - val_accuracy: 0.8224\n",
      "Epoch 21/100\n",
      "568/568 [==============================] - 25s 44ms/step - loss: 0.1157 - accuracy: 0.9705 - val_loss: 0.6073 - val_accuracy: 0.8347\n",
      "Epoch 22/100\n",
      "568/568 [==============================] - 25s 43ms/step - loss: 0.1092 - accuracy: 0.9685 - val_loss: 0.6815 - val_accuracy: 0.8278\n",
      "Epoch 23/100\n",
      "568/568 [==============================] - 25s 44ms/step - loss: 0.1060 - accuracy: 0.9723 - val_loss: 0.5375 - val_accuracy: 0.8524\n",
      "Epoch 24/100\n",
      "568/568 [==============================] - 25s 44ms/step - loss: 0.0847 - accuracy: 0.9769 - val_loss: 0.5221 - val_accuracy: 0.8578\n",
      "Epoch 25/100\n",
      "568/568 [==============================] - 25s 45ms/step - loss: 0.0849 - accuracy: 0.9784 - val_loss: 0.5809 - val_accuracy: 0.8463\n",
      "Epoch 26/100\n",
      "568/568 [==============================] - 25s 44ms/step - loss: 0.0970 - accuracy: 0.9738 - val_loss: 0.5760 - val_accuracy: 0.8440\n",
      "Epoch 27/100\n",
      "568/568 [==============================] - 24s 42ms/step - loss: 0.0722 - accuracy: 0.9815 - val_loss: 0.5073 - val_accuracy: 0.8601\n",
      "Epoch 28/100\n",
      "568/568 [==============================] - 26s 45ms/step - loss: 0.0699 - accuracy: 0.9828 - val_loss: 0.5686 - val_accuracy: 0.8517\n",
      "163/163 [==============================] - 3s 16ms/step - loss: 0.4586 - accuracy: 0.8601\n",
      "final loss 0.4586256146430969, final acc 0.8601076006889343\n",
      "83/83 [==============================] - 1s 16ms/step - loss: 0.4560 - accuracy: 0.8545\n",
      "test loss 0.45604631304740906, test acc 0.8545454740524292\n",
      "Time taken = 763.900435144 s\n"
     ]
    }
   ],
   "source": [
    "start = timer()\n",
    "base_model = tf.keras.applications.ResNet50(\n",
    "        input_shape=(32, 32, 3),\n",
    "        include_top=False,\n",
    "        weights=None,\n",
    "    )\n",
    "base_model = tf.keras.Model(\n",
    "        base_model.inputs, outputs=[base_model.get_layer(\"conv2_block3_out\").output]\n",
    "    )\n",
    "\n",
    "inputs = tf.keras.Input(shape=(32, 32, 3))\n",
    "x = tf.keras.applications.resnet.preprocess_input(inputs)\n",
    "x = base_model(x)\n",
    "x = tf.keras.layers.GlobalAveragePooling2D()(x)\n",
    "x = tf.keras.layers.Dense(10)(x)\n",
    "model = tf.keras.Model(inputs, x)\n",
    "\n",
    "model.compile(\n",
    "        optimizer=tf.keras.optimizers.Adam(lr=0.0001),\n",
    "        loss=tf.keras.losses.CategoricalCrossentropy(from_logits=True),\n",
    "        metrics=[\"accuracy\"],\n",
    "    )\n",
    "\n",
    "loss_0, acc_0 = model.evaluate(valid)\n",
    "print(f\"loss {loss_0}, acc {acc_0}\")\n",
    "\n",
    "history = model.fit(\n",
    "        train,\n",
    "        validation_data=valid,\n",
    "        epochs=100,\n",
    "        callbacks=[stopping, checkpoint]\n",
    ")\n",
    "\n",
    "model.load_weights(\"best_model\")\n",
    "\n",
    "loss, acc = model.evaluate(valid)\n",
    "print(f\"final loss {loss}, final acc {acc}\")\n",
    "\n",
    "test_loss, test_acc = model.evaluate(test)\n",
    "print(f\"test loss {test_loss}, test acc {test_acc}\")\n",
    "    \n",
    "end = timer()\n",
    "print(\"Time taken = \" + str(end - start) + ' s')"
   ]
  },
  {
   "cell_type": "code",
   "execution_count": 6,
   "id": "6e51baba",
   "metadata": {
    "execution": {
     "iopub.execute_input": "2022-02-16T12:27:04.050521Z",
     "iopub.status.busy": "2022-02-16T12:27:04.049821Z",
     "iopub.status.idle": "2022-02-16T12:27:04.667935Z",
     "shell.execute_reply": "2022-02-16T12:27:04.667320Z"
    },
    "papermill": {
     "duration": 3.684248,
     "end_time": "2022-02-16T12:27:04.668113",
     "exception": false,
     "start_time": "2022-02-16T12:27:00.983865",
     "status": "completed"
    },
    "tags": []
   },
   "outputs": [
    {
     "data": {
      "image/png": "[encoded data removed]",
      "text/plain": [
       "<Figure size 432x288 with 1 Axes>"
      ]
     },
     "metadata": {
      "needs_background": "light"
     },
     "output_type": "display_data"
    },
    {
     "data": {
      "image/png": "[encoded data removed]",
      "text/plain": [
       "<Figure size 432x288 with 1 Axes>"
      ]
     },
     "metadata": {
      "needs_background": "light"
     },
     "output_type": "display_data"
    }
   ],
   "source": [
    "# summarize history for accuracy\n",
    "plt.plot(history.history['accuracy'])\n",
    "plt.plot(history.history['val_accuracy'])\n",
    "plt.title('model accuracy')\n",
    "plt.ylabel('accuracy')\n",
    "plt.xlabel('epoch')\n",
    "plt.legend(['train', 'val'], loc='upper left')\n",
    "plt.show()\n",
    "# summarize history for loss\n",
    "plt.plot(history.history['loss'])\n",
    "plt.plot(history.history['val_loss'])\n",
    "plt.title('model loss')\n",
    "plt.ylabel('loss')\n",
    "plt.xlabel('epoch')\n",
    "plt.legend(['train', 'val'], loc='upper left')\n",
    "plt.show()"
   ]
  },
  {
   "cell_type": "code",
   "execution_count": null,
   "id": "457e964d",
   "metadata": {
    "papermill": {
     "duration": 3.127793,
     "end_time": "2022-02-16T12:27:10.960485",
     "exception": false,
     "start_time": "2022-02-16T12:27:07.832692",
     "status": "completed"
    },
    "tags": []
   },
   "outputs": [],
   "source": []
  }
 ],
 "metadata": {
  "kernelspec": {
   "display_name": "Python 3",
   "language": "python",
   "name": "python3"
  },
  "language_info": {
   "codemirror_mode": {
    "name": "ipython",
    "version": 3
   },
   "file_extension": ".py",
   "mimetype": "text/x-python",
   "name": "python",
   "nbconvert_exporter": "python",
   "pygments_lexer": "ipython3",
   "version": "3.7.12"
  },
  "papermill": {
   "default_parameters": {},
   "duration": 799.846003,
   "end_time": "2022-02-16T12:27:16.921801",
   "environment_variables": {},
   "exception": null,
   "input_path": "__notebook__.ipynb",
   "output_path": "__notebook__.ipynb",
   "parameters": {},
   "start_time": "2022-02-16T12:13:57.075798",
   "version": "2.3.3"
  }
 },
 "nbformat": 4,
 "nbformat_minor": 5
}
