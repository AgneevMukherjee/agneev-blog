{
 "cells": [
  {
   "cell_type": "code",
   "execution_count": 1,
   "id": "815c7041",
   "metadata": {
    "_cell_guid": "b1076dfc-b9ad-4769-8c92-a6c4dae69d19",
    "_uuid": "8f2839f25d086af736a60e9eeb907d3b93b6e0e5",
    "execution": {
     "iopub.execute_input": "2022-04-26T08:09:48.385327Z",
     "iopub.status.busy": "2022-04-26T08:09:48.384545Z",
     "iopub.status.idle": "2022-04-26T08:09:53.952006Z",
     "shell.execute_reply": "2022-04-26T08:09:53.951387Z",
     "shell.execute_reply.started": "2022-04-26T07:55:42.011744Z"
    },
    "papermill": {
     "duration": 5.593872,
     "end_time": "2022-04-26T08:09:53.952164",
     "exception": false,
     "start_time": "2022-04-26T08:09:48.358292",
     "status": "completed"
    },
    "tags": []
   },
   "outputs": [],
   "source": [
    "import tensorflow as tf\n",
    "from tensorflow import keras\n",
    "from keras.preprocessing.image import ImageDataGenerator\n",
    "import numpy as np\n",
    "import json\n",
    "import sys\n",
    "import matplotlib.pyplot as plt\n",
    "from timeit import default_timer as timer\n",
    "import os\n",
    "import pandas as pd\n",
    "import seaborn as sns\n",
    "from sklearn.metrics import confusion_matrix,ConfusionMatrixDisplay"
   ]
  },
  {
   "cell_type": "code",
   "execution_count": 2,
   "id": "fe35e8d3",
   "metadata": {
    "execution": {
     "iopub.execute_input": "2022-04-26T08:09:53.988791Z",
     "iopub.status.busy": "2022-04-26T08:09:53.988004Z",
     "iopub.status.idle": "2022-04-26T08:09:53.989956Z",
     "shell.execute_reply": "2022-04-26T08:09:53.990354Z",
     "shell.execute_reply.started": "2022-04-26T07:55:48.878153Z"
    },
    "papermill": {
     "duration": 0.021239,
     "end_time": "2022-04-26T08:09:53.990484",
     "exception": false,
     "start_time": "2022-04-26T08:09:53.969245",
     "status": "completed"
    },
    "tags": []
   },
   "outputs": [],
   "source": [
    "path = \"../input/archie-comics-multi-class/Multi-class/\""
   ]
  },
  {
   "cell_type": "code",
   "execution_count": 3,
   "id": "dac61448",
   "metadata": {
    "execution": {
     "iopub.execute_input": "2022-04-26T08:09:54.024450Z",
     "iopub.status.busy": "2022-04-26T08:09:54.023948Z",
     "iopub.status.idle": "2022-04-26T08:09:54.035086Z",
     "shell.execute_reply": "2022-04-26T08:09:54.034679Z",
     "shell.execute_reply.started": "2022-04-26T07:55:48.886110Z"
    },
    "papermill": {
     "duration": 0.028995,
     "end_time": "2022-04-26T08:09:54.035191",
     "exception": false,
     "start_time": "2022-04-26T08:09:54.006196",
     "status": "completed"
    },
    "tags": []
   },
   "outputs": [],
   "source": [
    "main_dir=os.listdir(path)"
   ]
  },
  {
   "cell_type": "code",
   "execution_count": 4,
   "id": "9bc000ca",
   "metadata": {
    "execution": {
     "iopub.execute_input": "2022-04-26T08:09:54.068466Z",
     "iopub.status.busy": "2022-04-26T08:09:54.067874Z",
     "iopub.status.idle": "2022-04-26T08:09:57.194622Z",
     "shell.execute_reply": "2022-04-26T08:09:57.195063Z",
     "shell.execute_reply.started": "2022-04-26T07:55:48.909103Z"
    },
    "papermill": {
     "duration": 3.145198,
     "end_time": "2022-04-26T08:09:57.195204",
     "exception": false,
     "start_time": "2022-04-26T08:09:54.050006",
     "status": "completed"
    },
    "tags": []
   },
   "outputs": [
    {
     "name": "stdout",
     "output_type": "stream",
     "text": [
      "6462\n"
     ]
    }
   ],
   "source": [
    "file_count = sum(len(files) for _, _, files in os.walk(path))\n",
    "print(file_count)"
   ]
  },
  {
   "cell_type": "code",
   "execution_count": 5,
   "id": "c7690832",
   "metadata": {
    "execution": {
     "iopub.execute_input": "2022-04-26T08:09:57.231775Z",
     "iopub.status.busy": "2022-04-26T08:09:57.231099Z",
     "iopub.status.idle": "2022-04-26T08:09:57.254065Z",
     "shell.execute_reply": "2022-04-26T08:09:57.254440Z",
     "shell.execute_reply.started": "2022-04-26T07:55:51.053707Z"
    },
    "papermill": {
     "duration": 0.043533,
     "end_time": "2022-04-26T08:09:57.254564",
     "exception": false,
     "start_time": "2022-04-26T08:09:57.211031",
     "status": "completed"
    },
    "tags": []
   },
   "outputs": [
    {
     "name": "stdout",
     "output_type": "stream",
     "text": [
      "[41, 71, 146, 85, 550, 962, 157, 67, 259, 34, 46, 33, 151, 109, 46, 679, 64, 121, 1284, 699, 39, 197, 622]\n",
      "['Kleats', 'Midge', 'Dilton', 'Pop Tate', 'Reggie', 'Jughead', 'Grundy', 'Ethel', 'Weatherbee', 'Harry Clayton', 'Smithers', 'Svenson', 'Moose', 'Chuck', 'Nancy', 'Veronica', 'Flutesnoot', 'Fred Andrews', 'Archie', 'Betty', 'Beazley', 'Hiram Lodge', 'Others']\n",
      "23\n",
      "33\n"
     ]
    }
   ],
   "source": [
    "samples_per_class = []\n",
    "classes = []\n",
    "\n",
    "for each in main_dir:\n",
    "    currentFolder = path + each\n",
    "    count = sum(len(files) for _, _, files in os.walk(currentFolder))\n",
    "    samples_per_class.append(count)\n",
    "    classes.append(each)\n",
    "    \n",
    "print(samples_per_class)\n",
    "print(classes)\n",
    "num_classes = len(samples_per_class)\n",
    "print(num_classes)\n",
    "min_samples = min(samples_per_class)\n",
    "print(min_samples)"
   ]
  },
  {
   "cell_type": "code",
   "execution_count": 6,
   "id": "b1317826",
   "metadata": {
    "execution": {
     "iopub.execute_input": "2022-04-26T08:09:57.289717Z",
     "iopub.status.busy": "2022-04-26T08:09:57.289116Z",
     "iopub.status.idle": "2022-04-26T08:09:57.291448Z",
     "shell.execute_reply": "2022-04-26T08:09:57.291955Z",
     "shell.execute_reply.started": "2022-04-26T07:55:51.089174Z"
    },
    "papermill": {
     "duration": 0.021692,
     "end_time": "2022-04-26T08:09:57.292095",
     "exception": false,
     "start_time": "2022-04-26T08:09:57.270403",
     "status": "completed"
    },
    "tags": []
   },
   "outputs": [],
   "source": [
    "index_classes_dict = {k: v for v, k in enumerate(classes)}"
   ]
  },
  {
   "cell_type": "code",
   "execution_count": 7,
   "id": "e76440e6",
   "metadata": {
    "execution": {
     "iopub.execute_input": "2022-04-26T08:09:57.330459Z",
     "iopub.status.busy": "2022-04-26T08:09:57.329773Z",
     "iopub.status.idle": "2022-04-26T08:09:57.332778Z",
     "shell.execute_reply": "2022-04-26T08:09:57.333177Z",
     "shell.execute_reply.started": "2022-04-26T07:55:51.099819Z"
    },
    "papermill": {
     "duration": 0.025452,
     "end_time": "2022-04-26T08:09:57.333290",
     "exception": false,
     "start_time": "2022-04-26T08:09:57.307838",
     "status": "completed"
    },
    "tags": []
   },
   "outputs": [
    {
     "data": {
      "text/plain": [
       "{'Kleats': 0,\n",
       " 'Midge': 1,\n",
       " 'Dilton': 2,\n",
       " 'Pop Tate': 3,\n",
       " 'Reggie': 4,\n",
       " 'Jughead': 5,\n",
       " 'Grundy': 6,\n",
       " 'Ethel': 7,\n",
       " 'Weatherbee': 8,\n",
       " 'Harry Clayton': 9,\n",
       " 'Smithers': 10,\n",
       " 'Svenson': 11,\n",
       " 'Moose': 12,\n",
       " 'Chuck': 13,\n",
       " 'Nancy': 14,\n",
       " 'Veronica': 15,\n",
       " 'Flutesnoot': 16,\n",
       " 'Fred Andrews': 17,\n",
       " 'Archie': 18,\n",
       " 'Betty': 19,\n",
       " 'Beazley': 20,\n",
       " 'Hiram Lodge': 21,\n",
       " 'Others': 22}"
      ]
     },
     "execution_count": 7,
     "metadata": {},
     "output_type": "execute_result"
    }
   ],
   "source": [
    "index_classes_dict"
   ]
  },
  {
   "cell_type": "code",
   "execution_count": 8,
   "id": "9119e8aa",
   "metadata": {
    "execution": {
     "iopub.execute_input": "2022-04-26T08:09:57.368793Z",
     "iopub.status.busy": "2022-04-26T08:09:57.368099Z",
     "iopub.status.idle": "2022-04-26T08:09:57.370426Z",
     "shell.execute_reply": "2022-04-26T08:09:57.370023Z",
     "shell.execute_reply.started": "2022-04-26T07:55:51.115314Z"
    },
    "papermill": {
     "duration": 0.021431,
     "end_time": "2022-04-26T08:09:57.370523",
     "exception": false,
     "start_time": "2022-04-26T08:09:57.349092",
     "status": "completed"
    },
    "tags": []
   },
   "outputs": [],
   "source": [
    "index_classes_list = list(index_classes_dict.values())"
   ]
  },
  {
   "cell_type": "code",
   "execution_count": 9,
   "id": "f8debc5e",
   "metadata": {
    "execution": {
     "iopub.execute_input": "2022-04-26T08:09:57.405552Z",
     "iopub.status.busy": "2022-04-26T08:09:57.404385Z",
     "iopub.status.idle": "2022-04-26T08:09:57.407900Z",
     "shell.execute_reply": "2022-04-26T08:09:57.407478Z",
     "shell.execute_reply.started": "2022-04-26T07:55:51.123446Z"
    },
    "papermill": {
     "duration": 0.021748,
     "end_time": "2022-04-26T08:09:57.408005",
     "exception": false,
     "start_time": "2022-04-26T08:09:57.386257",
     "status": "completed"
    },
    "tags": []
   },
   "outputs": [],
   "source": [
    "inv_index_classes_dict = {v: k for k, v in index_classes_dict.items()}"
   ]
  },
  {
   "cell_type": "code",
   "execution_count": 10,
   "id": "8b65aef7",
   "metadata": {
    "execution": {
     "iopub.execute_input": "2022-04-26T08:09:57.444921Z",
     "iopub.status.busy": "2022-04-26T08:09:57.444267Z",
     "iopub.status.idle": "2022-04-26T08:09:57.446864Z",
     "shell.execute_reply": "2022-04-26T08:09:57.447260Z",
     "shell.execute_reply.started": "2022-04-26T07:55:51.137535Z"
    },
    "papermill": {
     "duration": 0.0235,
     "end_time": "2022-04-26T08:09:57.447370",
     "exception": false,
     "start_time": "2022-04-26T08:09:57.423870",
     "status": "completed"
    },
    "tags": []
   },
   "outputs": [
    {
     "data": {
      "text/plain": [
       "{0: 'Kleats',\n",
       " 1: 'Midge',\n",
       " 2: 'Dilton',\n",
       " 3: 'Pop Tate',\n",
       " 4: 'Reggie',\n",
       " 5: 'Jughead',\n",
       " 6: 'Grundy',\n",
       " 7: 'Ethel',\n",
       " 8: 'Weatherbee',\n",
       " 9: 'Harry Clayton',\n",
       " 10: 'Smithers',\n",
       " 11: 'Svenson',\n",
       " 12: 'Moose',\n",
       " 13: 'Chuck',\n",
       " 14: 'Nancy',\n",
       " 15: 'Veronica',\n",
       " 16: 'Flutesnoot',\n",
       " 17: 'Fred Andrews',\n",
       " 18: 'Archie',\n",
       " 19: 'Betty',\n",
       " 20: 'Beazley',\n",
       " 21: 'Hiram Lodge',\n",
       " 22: 'Others'}"
      ]
     },
     "execution_count": 10,
     "metadata": {},
     "output_type": "execute_result"
    }
   ],
   "source": [
    "inv_index_classes_dict"
   ]
  },
  {
   "cell_type": "code",
   "execution_count": 11,
   "id": "3f564f5b",
   "metadata": {
    "execution": {
     "iopub.execute_input": "2022-04-26T08:09:57.483219Z",
     "iopub.status.busy": "2022-04-26T08:09:57.482548Z",
     "iopub.status.idle": "2022-04-26T08:09:57.485036Z",
     "shell.execute_reply": "2022-04-26T08:09:57.484628Z",
     "shell.execute_reply.started": "2022-04-26T07:55:51.149175Z"
    },
    "papermill": {
     "duration": 0.021347,
     "end_time": "2022-04-26T08:09:57.485137",
     "exception": false,
     "start_time": "2022-04-26T08:09:57.463790",
     "status": "completed"
    },
    "tags": []
   },
   "outputs": [],
   "source": [
    "inv_index_classes_list = list(inv_index_classes_dict.values())"
   ]
  },
  {
   "cell_type": "code",
   "execution_count": 12,
   "id": "1e34150a",
   "metadata": {
    "execution": {
     "iopub.execute_input": "2022-04-26T08:09:57.522135Z",
     "iopub.status.busy": "2022-04-26T08:09:57.521622Z",
     "iopub.status.idle": "2022-04-26T08:09:57.850239Z",
     "shell.execute_reply": "2022-04-26T08:09:57.850676Z",
     "shell.execute_reply.started": "2022-04-26T07:55:51.157521Z"
    },
    "papermill": {
     "duration": 0.349428,
     "end_time": "2022-04-26T08:09:57.850838",
     "exception": false,
     "start_time": "2022-04-26T08:09:57.501410",
     "status": "completed"
    },
    "tags": []
   },
   "outputs": [],
   "source": [
    "stopping = tf.keras.callbacks.EarlyStopping(\n",
    "        monitor=\"val_accuracy\",\n",
    "        min_delta=0,\n",
    "        patience=5,\n",
    "        verbose=0,\n",
    "        mode=\"auto\",\n",
    "        baseline=None,\n",
    "        restore_best_weights=False,\n",
    "    )\n",
    "\n",
    "checkpoint = tf.keras.callbacks.ModelCheckpoint(\n",
    "        \"best_model\",\n",
    "        monitor=\"val_accuracy\",\n",
    "        mode=\"max\",\n",
    "        save_best_only=True,\n",
    "        save_weights_only=True,\n",
    "    )"
   ]
  },
  {
   "cell_type": "code",
   "execution_count": 13,
   "id": "2a3063ac",
   "metadata": {
    "execution": {
     "iopub.execute_input": "2022-04-26T08:09:57.889900Z",
     "iopub.status.busy": "2022-04-26T08:09:57.889157Z",
     "iopub.status.idle": "2022-04-26T08:09:57.891142Z",
     "shell.execute_reply": "2022-04-26T08:09:57.891559Z",
     "shell.execute_reply.started": "2022-04-26T07:55:51.564153Z"
    },
    "papermill": {
     "duration": 0.023857,
     "end_time": "2022-04-26T08:09:57.891718",
     "exception": false,
     "start_time": "2022-04-26T08:09:57.867861",
     "status": "completed"
    },
    "tags": []
   },
   "outputs": [],
   "source": [
    "batch_size = 8"
   ]
  },
  {
   "cell_type": "code",
   "execution_count": 14,
   "id": "ee8bce5c",
   "metadata": {
    "execution": {
     "iopub.execute_input": "2022-04-26T08:09:57.928628Z",
     "iopub.status.busy": "2022-04-26T08:09:57.927960Z",
     "iopub.status.idle": "2022-04-26T08:09:57.929995Z",
     "shell.execute_reply": "2022-04-26T08:09:57.930387Z",
     "shell.execute_reply.started": "2022-04-26T07:55:51.575769Z"
    },
    "papermill": {
     "duration": 0.022232,
     "end_time": "2022-04-26T08:09:57.930513",
     "exception": false,
     "start_time": "2022-04-26T08:09:57.908281",
     "status": "completed"
    },
    "tags": []
   },
   "outputs": [],
   "source": [
    "image_size = [128, 256, 512]"
   ]
  },
  {
   "cell_type": "code",
   "execution_count": 15,
   "id": "dc49289b",
   "metadata": {
    "execution": {
     "iopub.execute_input": "2022-04-26T08:09:57.967424Z",
     "iopub.status.busy": "2022-04-26T08:09:57.966718Z",
     "iopub.status.idle": "2022-04-26T08:09:57.968920Z",
     "shell.execute_reply": "2022-04-26T08:09:57.969291Z",
     "shell.execute_reply.started": "2022-04-26T07:55:51.589397Z"
    },
    "papermill": {
     "duration": 0.022517,
     "end_time": "2022-04-26T08:09:57.969409",
     "exception": false,
     "start_time": "2022-04-26T08:09:57.946892",
     "status": "completed"
    },
    "tags": []
   },
   "outputs": [],
   "source": [
    "accuracies = []"
   ]
  },
  {
   "cell_type": "code",
   "execution_count": 16,
   "id": "032fdbeb",
   "metadata": {
    "execution": {
     "iopub.execute_input": "2022-04-26T08:09:58.012197Z",
     "iopub.status.busy": "2022-04-26T08:09:58.009288Z",
     "iopub.status.idle": "2022-04-26T09:31:20.189178Z",
     "shell.execute_reply": "2022-04-26T09:31:20.189619Z",
     "shell.execute_reply.started": "2022-04-26T07:55:51.600360Z"
    },
    "papermill": {
     "duration": 4882.204256,
     "end_time": "2022-04-26T09:31:20.189783",
     "exception": false,
     "start_time": "2022-04-26T08:09:57.985527",
     "status": "completed"
    },
    "tags": []
   },
   "outputs": [
    {
     "name": "stdout",
     "output_type": "stream",
     "text": [
      "Found 6462 files belonging to 23 classes.\n",
      "Using 5170 files for training.\n"
     ]
    },
    {
     "name": "stderr",
     "output_type": "stream",
     "text": [
      "2022-04-26 08:09:58.530215: I tensorflow/stream_executor/cuda/cuda_gpu_executor.cc:937] successful NUMA node read from SysFS had negative value (-1), but there must be at least one NUMA node, so returning NUMA node zero\n",
      "2022-04-26 08:09:58.618860: I tensorflow/stream_executor/cuda/cuda_gpu_executor.cc:937] successful NUMA node read from SysFS had negative value (-1), but there must be at least one NUMA node, so returning NUMA node zero\n",
      "2022-04-26 08:09:58.619795: I tensorflow/stream_executor/cuda/cuda_gpu_executor.cc:937] successful NUMA node read from SysFS had negative value (-1), but there must be at least one NUMA node, so returning NUMA node zero\n",
      "2022-04-26 08:09:58.622321: I tensorflow/core/platform/cpu_feature_guard.cc:142] This TensorFlow binary is optimized with oneAPI Deep Neural Network Library (oneDNN) to use the following CPU instructions in performance-critical operations:  AVX2 AVX512F FMA\n",
      "To enable them in other operations, rebuild TensorFlow with the appropriate compiler flags.\n",
      "2022-04-26 08:09:58.623503: I tensorflow/stream_executor/cuda/cuda_gpu_executor.cc:937] successful NUMA node read from SysFS had negative value (-1), but there must be at least one NUMA node, so returning NUMA node zero\n",
      "2022-04-26 08:09:58.624186: I tensorflow/stream_executor/cuda/cuda_gpu_executor.cc:937] successful NUMA node read from SysFS had negative value (-1), but there must be at least one NUMA node, so returning NUMA node zero\n",
      "2022-04-26 08:09:58.624844: I tensorflow/stream_executor/cuda/cuda_gpu_executor.cc:937] successful NUMA node read from SysFS had negative value (-1), but there must be at least one NUMA node, so returning NUMA node zero\n",
      "2022-04-26 08:10:00.535770: I tensorflow/stream_executor/cuda/cuda_gpu_executor.cc:937] successful NUMA node read from SysFS had negative value (-1), but there must be at least one NUMA node, so returning NUMA node zero\n",
      "2022-04-26 08:10:00.536577: I tensorflow/stream_executor/cuda/cuda_gpu_executor.cc:937] successful NUMA node read from SysFS had negative value (-1), but there must be at least one NUMA node, so returning NUMA node zero\n",
      "2022-04-26 08:10:00.537353: I tensorflow/stream_executor/cuda/cuda_gpu_executor.cc:937] successful NUMA node read from SysFS had negative value (-1), but there must be at least one NUMA node, so returning NUMA node zero\n",
      "2022-04-26 08:10:00.537985: I tensorflow/core/common_runtime/gpu/gpu_device.cc:1510] Created device /job:localhost/replica:0/task:0/device:GPU:0 with 15403 MB memory:  -> device: 0, name: Tesla P100-PCIE-16GB, pci bus id: 0000:00:04.0, compute capability: 6.0\n"
     ]
    },
    {
     "name": "stdout",
     "output_type": "stream",
     "text": [
      "Found 6462 files belonging to 23 classes.\n",
      "Using 1292 files for validation.\n"
     ]
    },
    {
     "name": "stderr",
     "output_type": "stream",
     "text": [
      "2022-04-26 08:10:04.034249: I tensorflow/compiler/mlir/mlir_graph_optimization_pass.cc:185] None of the MLIR Optimization Passes are enabled (registered 2)\n",
      "2022-04-26 08:10:05.798734: I tensorflow/stream_executor/cuda/cuda_dnn.cc:369] Loaded cuDNN version 8005\n"
     ]
    },
    {
     "name": "stdout",
     "output_type": "stream",
     "text": [
      "162/162 [==============================] - 17s 52ms/step - loss: 8.3719 - accuracy: 0.1471\n",
      "loss 8.371866226196289, acc 0.14705882966518402\n",
      "Epoch 1/20\n",
      "647/647 [==============================] - 46s 63ms/step - loss: 2.6700 - accuracy: 0.1892 - val_loss: 2.8151 - val_accuracy: 0.2167\n",
      "Epoch 2/20\n",
      "647/647 [==============================] - 34s 52ms/step - loss: 2.4482 - accuracy: 0.2580 - val_loss: 2.4850 - val_accuracy: 0.2616\n",
      "Epoch 3/20\n",
      "647/647 [==============================] - 35s 53ms/step - loss: 2.2836 - accuracy: 0.3116 - val_loss: 2.4759 - val_accuracy: 0.2763\n",
      "Epoch 4/20\n",
      "647/647 [==============================] - 34s 52ms/step - loss: 2.1252 - accuracy: 0.3598 - val_loss: 2.1528 - val_accuracy: 0.3560\n",
      "Epoch 5/20\n",
      "647/647 [==============================] - 34s 52ms/step - loss: 1.9493 - accuracy: 0.4085 - val_loss: 2.1401 - val_accuracy: 0.3901\n",
      "Epoch 6/20\n",
      "647/647 [==============================] - 34s 52ms/step - loss: 1.8063 - accuracy: 0.4468 - val_loss: 2.3068 - val_accuracy: 0.3854\n",
      "Epoch 7/20\n",
      "647/647 [==============================] - 35s 53ms/step - loss: 1.6337 - accuracy: 0.4913 - val_loss: 2.7157 - val_accuracy: 0.3553\n",
      "Epoch 8/20\n",
      "647/647 [==============================] - 34s 52ms/step - loss: 1.4450 - accuracy: 0.5395 - val_loss: 2.2703 - val_accuracy: 0.4296\n",
      "Epoch 9/20\n",
      "647/647 [==============================] - 34s 52ms/step - loss: 1.2548 - accuracy: 0.6099 - val_loss: 2.4452 - val_accuracy: 0.3653\n",
      "Epoch 10/20\n",
      "647/647 [==============================] - 34s 52ms/step - loss: 1.0597 - accuracy: 0.6673 - val_loss: 2.3433 - val_accuracy: 0.3916\n",
      "Epoch 11/20\n",
      "647/647 [==============================] - 34s 52ms/step - loss: 0.8431 - accuracy: 0.7282 - val_loss: 2.4727 - val_accuracy: 0.4156\n",
      "Epoch 12/20\n",
      "647/647 [==============================] - 34s 52ms/step - loss: 0.7054 - accuracy: 0.7646 - val_loss: 3.1885 - val_accuracy: 0.3878\n",
      "Epoch 13/20\n",
      "647/647 [==============================] - 34s 53ms/step - loss: 0.5217 - accuracy: 0.8309 - val_loss: 2.9775 - val_accuracy: 0.3947\n",
      "162/162 [==============================] - 5s 28ms/step - loss: 2.2703 - accuracy: 0.4296\n",
      "final loss 2.2702560424804688, final acc 0.42956656217575073\n",
      "Found 6462 files belonging to 23 classes.\n",
      "Using 5170 files for training.\n",
      "Found 6462 files belonging to 23 classes.\n",
      "Using 1292 files for validation.\n",
      "162/162 [==============================] - 7s 35ms/step - loss: 16.2816 - accuracy: 0.0232\n",
      "loss 16.281578063964844, acc 0.023219814524054527\n",
      "Epoch 1/20\n",
      "647/647 [==============================] - 62s 88ms/step - loss: 2.6098 - accuracy: 0.2083 - val_loss: 3.5285 - val_accuracy: 0.1974\n",
      "Epoch 2/20\n",
      "647/647 [==============================] - 58s 89ms/step - loss: 2.3468 - accuracy: 0.2994 - val_loss: 2.2772 - val_accuracy: 0.3444\n",
      "Epoch 3/20\n",
      "647/647 [==============================] - 57s 88ms/step - loss: 2.1186 - accuracy: 0.3791 - val_loss: 2.4447 - val_accuracy: 0.3142\n",
      "Epoch 4/20\n",
      "647/647 [==============================] - 59s 90ms/step - loss: 1.8953 - accuracy: 0.4219 - val_loss: 2.0602 - val_accuracy: 0.3824\n",
      "Epoch 5/20\n",
      "647/647 [==============================] - 58s 89ms/step - loss: 1.7058 - accuracy: 0.4816 - val_loss: 1.8342 - val_accuracy: 0.5077\n",
      "Epoch 6/20\n",
      "647/647 [==============================] - 58s 89ms/step - loss: 1.5333 - accuracy: 0.5236 - val_loss: 1.9503 - val_accuracy: 0.4381\n",
      "Epoch 7/20\n",
      "647/647 [==============================] - 57s 87ms/step - loss: 1.3380 - accuracy: 0.5839 - val_loss: 1.8639 - val_accuracy: 0.4381\n",
      "Epoch 8/20\n",
      "647/647 [==============================] - 58s 88ms/step - loss: 1.1660 - accuracy: 0.6331 - val_loss: 1.9290 - val_accuracy: 0.4659\n",
      "Epoch 9/20\n",
      "647/647 [==============================] - 57s 87ms/step - loss: 1.0016 - accuracy: 0.6832 - val_loss: 2.1944 - val_accuracy: 0.4420\n",
      "Epoch 10/20\n",
      "647/647 [==============================] - 57s 88ms/step - loss: 0.8261 - accuracy: 0.7342 - val_loss: 2.5471 - val_accuracy: 0.4389\n",
      "162/162 [==============================] - 5s 32ms/step - loss: 1.8342 - accuracy: 0.5077\n",
      "final loss 1.8342092037200928, final acc 0.5077399611473083\n",
      "Found 6462 files belonging to 23 classes.\n",
      "Using 5170 files for training.\n",
      "Found 6462 files belonging to 23 classes.\n",
      "Using 1292 files for validation.\n",
      "162/162 [==============================] - 17s 83ms/step - loss: 12.9950 - accuracy: 0.0039\n",
      "loss 12.994961738586426, acc 0.003869968932121992\n",
      "Epoch 1/20\n",
      "647/647 [==============================] - 170s 254ms/step - loss: 2.6219 - accuracy: 0.2114 - val_loss: 3.3301 - val_accuracy: 0.1594\n",
      "Epoch 2/20\n",
      "647/647 [==============================] - 163s 252ms/step - loss: 2.2728 - accuracy: 0.3265 - val_loss: 2.6923 - val_accuracy: 0.3266\n",
      "Epoch 3/20\n",
      "647/647 [==============================] - 160s 247ms/step - loss: 1.9780 - accuracy: 0.4089 - val_loss: 2.8100 - val_accuracy: 0.3351\n",
      "Epoch 4/20\n",
      "647/647 [==============================] - 162s 250ms/step - loss: 1.7719 - accuracy: 0.4648 - val_loss: 2.0636 - val_accuracy: 0.4249\n",
      "Epoch 5/20\n",
      "647/647 [==============================] - 166s 256ms/step - loss: 1.5924 - accuracy: 0.5128 - val_loss: 2.0062 - val_accuracy: 0.4265\n",
      "Epoch 6/20\n",
      "647/647 [==============================] - 163s 251ms/step - loss: 1.4372 - accuracy: 0.5584 - val_loss: 2.4712 - val_accuracy: 0.4528\n",
      "Epoch 7/20\n",
      "647/647 [==============================] - 162s 250ms/step - loss: 1.2899 - accuracy: 0.5957 - val_loss: 2.1959 - val_accuracy: 0.4211\n",
      "Epoch 8/20\n",
      "647/647 [==============================] - 161s 248ms/step - loss: 1.1653 - accuracy: 0.6306 - val_loss: 1.8121 - val_accuracy: 0.5147\n",
      "Epoch 9/20\n",
      "647/647 [==============================] - 157s 242ms/step - loss: 1.0294 - accuracy: 0.6729 - val_loss: 2.7475 - val_accuracy: 0.4474\n",
      "Epoch 10/20\n",
      "647/647 [==============================] - 159s 245ms/step - loss: 0.9189 - accuracy: 0.7097 - val_loss: 1.6255 - val_accuracy: 0.5635\n",
      "Epoch 11/20\n",
      "647/647 [==============================] - 159s 246ms/step - loss: 0.8243 - accuracy: 0.7391 - val_loss: 1.6957 - val_accuracy: 0.5611\n",
      "Epoch 12/20\n",
      "647/647 [==============================] - 158s 243ms/step - loss: 0.7371 - accuracy: 0.7617 - val_loss: 1.4867 - val_accuracy: 0.5967\n",
      "Epoch 13/20\n",
      "647/647 [==============================] - 158s 243ms/step - loss: 0.6162 - accuracy: 0.7988 - val_loss: 3.1902 - val_accuracy: 0.4087\n",
      "Epoch 14/20\n",
      "647/647 [==============================] - 159s 245ms/step - loss: 0.5190 - accuracy: 0.8300 - val_loss: 1.5499 - val_accuracy: 0.6339\n",
      "Epoch 15/20\n",
      "647/647 [==============================] - 157s 242ms/step - loss: 0.4341 - accuracy: 0.8600 - val_loss: 2.4281 - val_accuracy: 0.4985\n",
      "Epoch 16/20\n",
      "647/647 [==============================] - 157s 242ms/step - loss: 0.3925 - accuracy: 0.8702 - val_loss: 1.9464 - val_accuracy: 0.5619\n",
      "Epoch 17/20\n",
      "647/647 [==============================] - 158s 244ms/step - loss: 0.3280 - accuracy: 0.8936 - val_loss: 2.5631 - val_accuracy: 0.4721\n",
      "Epoch 18/20\n",
      "647/647 [==============================] - 162s 249ms/step - loss: 0.2899 - accuracy: 0.9039 - val_loss: 2.2214 - val_accuracy: 0.5557\n",
      "Epoch 19/20\n",
      "647/647 [==============================] - 159s 245ms/step - loss: 0.2066 - accuracy: 0.9366 - val_loss: 2.2171 - val_accuracy: 0.5271\n",
      "162/162 [==============================] - 13s 77ms/step - loss: 1.5499 - accuracy: 0.6339\n",
      "final loss 1.5499486923217773, final acc 0.6339009404182434\n"
     ]
    }
   ],
   "source": [
    "for size in image_size:\n",
    "    train = tf.keras.preprocessing.image_dataset_from_directory(\n",
    "        path,\n",
    "        labels=\"inferred\",\n",
    "        label_mode=\"categorical\",\n",
    "        class_names=classes,\n",
    "        validation_split=0.2,\n",
    "        subset=\"training\",\n",
    "        shuffle=True,\n",
    "        seed=123,\n",
    "        batch_size=batch_size,\n",
    "        image_size=(size, size),\n",
    "    )\n",
    "    valid = tf.keras.preprocessing.image_dataset_from_directory(\n",
    "        path,\n",
    "        labels=\"inferred\",\n",
    "        label_mode=\"categorical\",\n",
    "        class_names=classes,\n",
    "        validation_split=0.2,\n",
    "        subset=\"validation\",\n",
    "        shuffle=True,\n",
    "        seed=123,\n",
    "        batch_size=batch_size,\n",
    "        image_size=(size, size),\n",
    "    )\n",
    "    base_model = tf.keras.applications.ResNet50(weights=None, input_shape=(size, size, 3), classes=num_classes)\n",
    "\n",
    "    inputs = tf.keras.Input(shape=(size, size, 3))\n",
    "    x = tf.keras.applications.resnet.preprocess_input(inputs)\n",
    "    x = base_model(x)\n",
    "    model = tf.keras.Model(inputs, x)\n",
    "\n",
    "    model.compile(\n",
    "        optimizer=tf.keras.optimizers.Adam(learning_rate=0.0001),\n",
    "        loss=tf.keras.losses.CategoricalCrossentropy(),#from_logits=True),\n",
    "        metrics=[\"accuracy\"]\n",
    "        )\n",
    " \n",
    "    loss_0, acc_0 = model.evaluate(valid)\n",
    "    print(f\"loss {loss_0}, acc {acc_0}\")\n",
    "    \n",
    "\n",
    "    history = model.fit(\n",
    "        train,\n",
    "        validation_data=valid,\n",
    "        epochs=20,\n",
    "        callbacks=[stopping, checkpoint]\n",
    "    )\n",
    "\n",
    "    model.load_weights(\"best_model\")\n",
    "\n",
    "    loss, acc = model.evaluate(valid)\n",
    "    print(f\"final loss {loss}, final acc {acc}\")\n",
    "    accuracies.append(acc)"
   ]
  },
  {
   "cell_type": "code",
   "execution_count": 17,
   "id": "d2602550",
   "metadata": {
    "execution": {
     "iopub.execute_input": "2022-04-26T09:31:36.624153Z",
     "iopub.status.busy": "2022-04-26T09:31:36.622448Z",
     "iopub.status.idle": "2022-04-26T09:31:36.626204Z",
     "shell.execute_reply": "2022-04-26T09:31:36.625765Z",
     "shell.execute_reply.started": "2022-04-26T08:08:40.766099Z"
    },
    "papermill": {
     "duration": 7.961827,
     "end_time": "2022-04-26T09:31:36.626314",
     "exception": false,
     "start_time": "2022-04-26T09:31:28.664487",
     "status": "completed"
    },
    "tags": []
   },
   "outputs": [
    {
     "name": "stdout",
     "output_type": "stream",
     "text": [
      "[0.42956656217575073, 0.5077399611473083, 0.6339009404182434]\n"
     ]
    }
   ],
   "source": [
    "print(accuracies)"
   ]
  }
 ],
 "metadata": {
  "kernelspec": {
   "display_name": "Python 3",
   "language": "python",
   "name": "python3"
  },
  "language_info": {
   "codemirror_mode": {
    "name": "ipython",
    "version": 3
   },
   "file_extension": ".py",
   "mimetype": "text/x-python",
   "name": "python",
   "nbconvert_exporter": "python",
   "pygments_lexer": "ipython3",
   "version": "3.7.12"
  },
  "papermill": {
   "default_parameters": {},
   "duration": 4927.422593,
   "end_time": "2022-04-26T09:31:47.450880",
   "environment_variables": {},
   "exception": null,
   "input_path": "__notebook__.ipynb",
   "output_path": "__notebook__.ipynb",
   "parameters": {},
   "start_time": "2022-04-26T08:09:40.028287",
   "version": "2.3.3"
  }
 },
 "nbformat": 4,
 "nbformat_minor": 5
}
