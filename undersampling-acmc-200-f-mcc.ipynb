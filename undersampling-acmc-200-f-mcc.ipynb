{
 "cells": [
  {
   "cell_type": "code",
   "execution_count": 1,
   "id": "d4fc86b8",
   "metadata": {
    "execution": {
     "iopub.execute_input": "2022-07-01T20:12:19.610493Z",
     "iopub.status.busy": "2022-07-01T20:12:19.609647Z",
     "iopub.status.idle": "2022-07-01T20:12:24.962292Z",
     "shell.execute_reply": "2022-07-01T20:12:24.961292Z"
    },
    "papermill": {
     "duration": 5.367706,
     "end_time": "2022-07-01T20:12:24.964968",
     "exception": false,
     "start_time": "2022-07-01T20:12:19.597262",
     "status": "completed"
    },
    "tags": []
   },
   "outputs": [],
   "source": [
    "import tensorflow as tf\n",
    "from tensorflow import keras\n",
    "import numpy as np\n",
    "import matplotlib.pyplot as plt\n",
    "import matplotlib.image as mpimg\n",
    "import os\n",
    "import pandas as pd\n",
    "import seaborn as sns\n",
    "import random\n",
    "from PIL import Image\n",
    "import cv2\n",
    "from matplotlib import rcParams\n",
    "import re"
   ]
  },
  {
   "cell_type": "code",
   "execution_count": 2,
   "id": "8aebf21c",
   "metadata": {
    "execution": {
     "iopub.execute_input": "2022-07-01T20:12:24.986093Z",
     "iopub.status.busy": "2022-07-01T20:12:24.985539Z",
     "iopub.status.idle": "2022-07-01T20:12:26.195129Z",
     "shell.execute_reply": "2022-07-01T20:12:26.194137Z"
    },
    "papermill": {
     "duration": 1.222473,
     "end_time": "2022-07-01T20:12:26.197763",
     "exception": false,
     "start_time": "2022-07-01T20:12:24.975290",
     "status": "completed"
    },
    "tags": []
   },
   "outputs": [],
   "source": [
    "from keras_preprocessing.image import ImageDataGenerator\n",
    "from sklearn.metrics import confusion_matrix,ConfusionMatrixDisplay, matthews_corrcoef\n",
    "from tensorflow.keras.layers import Input\n",
    "from tensorflow.keras.layers import AveragePooling2D\n",
    "from tensorflow.keras.layers import Dropout\n",
    "from tensorflow.keras.layers import Flatten\n",
    "from tensorflow.keras.layers import Dense\n",
    "from tensorflow.keras.layers import Input\n",
    "from tensorflow.keras.models import Model"
   ]
  },
  {
   "cell_type": "code",
   "execution_count": 3,
   "id": "becb65e0",
   "metadata": {
    "execution": {
     "iopub.execute_input": "2022-07-01T20:12:26.218587Z",
     "iopub.status.busy": "2022-07-01T20:12:26.218257Z",
     "iopub.status.idle": "2022-07-01T20:12:26.222767Z",
     "shell.execute_reply": "2022-07-01T20:12:26.221783Z"
    },
    "papermill": {
     "duration": 0.017094,
     "end_time": "2022-07-01T20:12:26.224768",
     "exception": false,
     "start_time": "2022-07-01T20:12:26.207674",
     "status": "completed"
    },
    "tags": []
   },
   "outputs": [],
   "source": [
    "main_folder = '../input/archie-comics-multi-class/Multi-class'"
   ]
  },
  {
   "cell_type": "code",
   "execution_count": 4,
   "id": "b1520ca3",
   "metadata": {
    "execution": {
     "iopub.execute_input": "2022-07-01T20:12:26.245834Z",
     "iopub.status.busy": "2022-07-01T20:12:26.245197Z",
     "iopub.status.idle": "2022-07-01T20:12:26.249642Z",
     "shell.execute_reply": "2022-07-01T20:12:26.248676Z"
    },
    "papermill": {
     "duration": 0.017463,
     "end_time": "2022-07-01T20:12:26.251582",
     "exception": false,
     "start_time": "2022-07-01T20:12:26.234119",
     "status": "completed"
    },
    "tags": []
   },
   "outputs": [],
   "source": [
    "samples_per_class = []\n",
    "classes = []\n",
    "file_names = []"
   ]
  },
  {
   "cell_type": "code",
   "execution_count": 5,
   "id": "3a9a6ad5",
   "metadata": {
    "_kg_hide-output": true,
    "execution": {
     "iopub.execute_input": "2022-07-01T20:12:26.271892Z",
     "iopub.status.busy": "2022-07-01T20:12:26.271583Z",
     "iopub.status.idle": "2022-07-01T20:12:27.309139Z",
     "shell.execute_reply": "2022-07-01T20:12:27.308138Z"
    },
    "papermill": {
     "duration": 1.050808,
     "end_time": "2022-07-01T20:12:27.311605",
     "exception": false,
     "start_time": "2022-07-01T20:12:26.260797",
     "status": "completed"
    },
    "tags": []
   },
   "outputs": [],
   "source": [
    "directory=os.listdir('../input/archie-comics-multi-class/Multi-class/')\n",
    "for each in directory:\n",
    "    currentFolder = '../input/archie-comics-multi-class/Multi-class/' + each\n",
    "    count = sum(len(files) for _, _, files in os.walk(currentFolder))\n",
    "    samples_per_class.append(count)\n",
    "    classes.append(each)\n",
    "    \n",
    "    for i, file in enumerate(os.listdir(currentFolder)):\n",
    "        fullpath = currentFolder+ \"/\" + file\n",
    "        file_names.append(fullpath)"
   ]
  },
  {
   "cell_type": "code",
   "execution_count": 6,
   "id": "e3b76e36",
   "metadata": {
    "execution": {
     "iopub.execute_input": "2022-07-01T20:12:27.332742Z",
     "iopub.status.busy": "2022-07-01T20:12:27.331649Z",
     "iopub.status.idle": "2022-07-01T20:12:27.339953Z",
     "shell.execute_reply": "2022-07-01T20:12:27.339090Z"
    },
    "papermill": {
     "duration": 0.020857,
     "end_time": "2022-07-01T20:12:27.341980",
     "exception": false,
     "start_time": "2022-07-01T20:12:27.321123",
     "status": "completed"
    },
    "tags": []
   },
   "outputs": [
    {
     "data": {
      "text/plain": [
       "33"
      ]
     },
     "execution_count": 6,
     "metadata": {},
     "output_type": "execute_result"
    }
   ],
   "source": [
    "min(samples_per_class)"
   ]
  },
  {
   "cell_type": "code",
   "execution_count": 7,
   "id": "72022649",
   "metadata": {
    "execution": {
     "iopub.execute_input": "2022-07-01T20:12:27.363461Z",
     "iopub.status.busy": "2022-07-01T20:12:27.363146Z",
     "iopub.status.idle": "2022-07-01T20:12:27.367441Z",
     "shell.execute_reply": "2022-07-01T20:12:27.366503Z"
    },
    "papermill": {
     "duration": 0.017784,
     "end_time": "2022-07-01T20:12:27.369486",
     "exception": false,
     "start_time": "2022-07-01T20:12:27.351702",
     "status": "completed"
    },
    "tags": []
   },
   "outputs": [],
   "source": [
    "small_ds = []"
   ]
  },
  {
   "cell_type": "code",
   "execution_count": 8,
   "id": "7d202b03",
   "metadata": {
    "execution": {
     "iopub.execute_input": "2022-07-01T20:12:27.390322Z",
     "iopub.status.busy": "2022-07-01T20:12:27.389974Z",
     "iopub.status.idle": "2022-07-01T20:12:27.534300Z",
     "shell.execute_reply": "2022-07-01T20:12:27.533314Z"
    },
    "papermill": {
     "duration": 0.157275,
     "end_time": "2022-07-01T20:12:27.536706",
     "exception": false,
     "start_time": "2022-07-01T20:12:27.379431",
     "status": "completed"
    },
    "tags": []
   },
   "outputs": [],
   "source": [
    "for each_class in classes:\n",
    "    trial_list = []\n",
    "    for name in file_names:\n",
    "        if re.search(f'{each_class}', name):\n",
    "            trial_list.append(name)\n",
    "    small_ds.append(random.sample(trial_list, min(len(trial_list),200)))"
   ]
  },
  {
   "cell_type": "code",
   "execution_count": 9,
   "id": "c9df89b8",
   "metadata": {
    "execution": {
     "iopub.execute_input": "2022-07-01T20:12:27.557567Z",
     "iopub.status.busy": "2022-07-01T20:12:27.556806Z",
     "iopub.status.idle": "2022-07-01T20:12:27.563957Z",
     "shell.execute_reply": "2022-07-01T20:12:27.562922Z"
    },
    "papermill": {
     "duration": 0.020507,
     "end_time": "2022-07-01T20:12:27.566751",
     "exception": false,
     "start_time": "2022-07-01T20:12:27.546244",
     "status": "completed"
    },
    "tags": []
   },
   "outputs": [
    {
     "name": "stdout",
     "output_type": "stream",
     "text": [
      "23\n",
      "41\n",
      "943\n"
     ]
    }
   ],
   "source": [
    "print(len(small_ds))\n",
    "print(len(small_ds[0]))\n",
    "print(len(small_ds)*len(small_ds[0]))"
   ]
  },
  {
   "cell_type": "code",
   "execution_count": 10,
   "id": "3d6a4dc5",
   "metadata": {
    "execution": {
     "iopub.execute_input": "2022-07-01T20:12:27.587985Z",
     "iopub.status.busy": "2022-07-01T20:12:27.587288Z",
     "iopub.status.idle": "2022-07-01T20:12:27.596034Z",
     "shell.execute_reply": "2022-07-01T20:12:27.595177Z"
    },
    "papermill": {
     "duration": 0.021407,
     "end_time": "2022-07-01T20:12:27.598069",
     "exception": false,
     "start_time": "2022-07-01T20:12:27.576662",
     "status": "completed"
    },
    "tags": []
   },
   "outputs": [],
   "source": [
    "small_ds=list(np.concatenate(small_ds).flat)\n",
    "# For flattening small_ds into a 1-D list"
   ]
  },
  {
   "cell_type": "code",
   "execution_count": 11,
   "id": "35f280b5",
   "metadata": {
    "execution": {
     "iopub.execute_input": "2022-07-01T20:12:27.618533Z",
     "iopub.status.busy": "2022-07-01T20:12:27.618187Z",
     "iopub.status.idle": "2022-07-01T20:12:27.623421Z",
     "shell.execute_reply": "2022-07-01T20:12:27.622370Z"
    },
    "papermill": {
     "duration": 0.020089,
     "end_time": "2022-07-01T20:12:27.627594",
     "exception": false,
     "start_time": "2022-07-01T20:12:27.607505",
     "status": "completed"
    },
    "tags": []
   },
   "outputs": [
    {
     "name": "stdout",
     "output_type": "stream",
     "text": [
      "2807\n"
     ]
    }
   ],
   "source": [
    "print(len(small_ds))"
   ]
  },
  {
   "cell_type": "code",
   "execution_count": 12,
   "id": "3e22d991",
   "metadata": {
    "execution": {
     "iopub.execute_input": "2022-07-01T20:12:27.649643Z",
     "iopub.status.busy": "2022-07-01T20:12:27.649319Z",
     "iopub.status.idle": "2022-07-01T20:12:27.655696Z",
     "shell.execute_reply": "2022-07-01T20:12:27.654786Z"
    },
    "papermill": {
     "duration": 0.019457,
     "end_time": "2022-07-01T20:12:27.657708",
     "exception": false,
     "start_time": "2022-07-01T20:12:27.638251",
     "status": "completed"
    },
    "tags": []
   },
   "outputs": [
    {
     "data": {
      "text/plain": [
       "['Kleats',\n",
       " 'Midge',\n",
       " 'Dilton',\n",
       " 'Pop Tate',\n",
       " 'Reggie',\n",
       " 'Jughead',\n",
       " 'Grundy',\n",
       " 'Ethel',\n",
       " 'Weatherbee',\n",
       " 'Harry Clayton',\n",
       " 'Smithers',\n",
       " 'Svenson',\n",
       " 'Moose',\n",
       " 'Chuck',\n",
       " 'Nancy',\n",
       " 'Veronica',\n",
       " 'Flutesnoot',\n",
       " 'Fred Andrews',\n",
       " 'Archie',\n",
       " 'Betty',\n",
       " 'Beazley',\n",
       " 'Hiram Lodge',\n",
       " 'Others']"
      ]
     },
     "execution_count": 12,
     "metadata": {},
     "output_type": "execute_result"
    }
   ],
   "source": [
    "classes"
   ]
  },
  {
   "cell_type": "code",
   "execution_count": 13,
   "id": "a1e17fb8",
   "metadata": {
    "execution": {
     "iopub.execute_input": "2022-07-01T20:12:27.677875Z",
     "iopub.status.busy": "2022-07-01T20:12:27.677571Z",
     "iopub.status.idle": "2022-07-01T20:12:27.683517Z",
     "shell.execute_reply": "2022-07-01T20:12:27.682615Z"
    },
    "papermill": {
     "duration": 0.01826,
     "end_time": "2022-07-01T20:12:27.685491",
     "exception": false,
     "start_time": "2022-07-01T20:12:27.667231",
     "status": "completed"
    },
    "tags": []
   },
   "outputs": [
    {
     "data": {
      "text/plain": [
       "['../input/archie-comics-multi-class/Multi-class/Jughead/Jughead_134.png',\n",
       " '../input/archie-comics-multi-class/Multi-class/Jughead/Jughead_886.png',\n",
       " '../input/archie-comics-multi-class/Multi-class/Jughead/Jughead_853.png',\n",
       " '../input/archie-comics-multi-class/Multi-class/Jughead/Jughead_158.png',\n",
       " '../input/archie-comics-multi-class/Multi-class/Jughead/Jughead_608.png',\n",
       " '../input/archie-comics-multi-class/Multi-class/Jughead/Jughead_838.png',\n",
       " '../input/archie-comics-multi-class/Multi-class/Jughead/Jughead_576.png',\n",
       " '../input/archie-comics-multi-class/Multi-class/Jughead/Jughead_136.png',\n",
       " '../input/archie-comics-multi-class/Multi-class/Jughead/Jughead_191.png',\n",
       " '../input/archie-comics-multi-class/Multi-class/Jughead/Jughead_777.png']"
      ]
     },
     "execution_count": 13,
     "metadata": {},
     "output_type": "execute_result"
    }
   ],
   "source": [
    "small_ds[720:730]"
   ]
  },
  {
   "cell_type": "code",
   "execution_count": 14,
   "id": "3099f4d2",
   "metadata": {
    "execution": {
     "iopub.execute_input": "2022-07-01T20:12:27.706762Z",
     "iopub.status.busy": "2022-07-01T20:12:27.706426Z",
     "iopub.status.idle": "2022-07-01T20:12:27.718522Z",
     "shell.execute_reply": "2022-07-01T20:12:27.717636Z"
    },
    "papermill": {
     "duration": 0.025025,
     "end_time": "2022-07-01T20:12:27.720516",
     "exception": false,
     "start_time": "2022-07-01T20:12:27.695491",
     "status": "completed"
    },
    "tags": []
   },
   "outputs": [],
   "source": [
    "files_df = pd.DataFrame(index=range(0, len(small_ds)),columns = ['Files'])"
   ]
  },
  {
   "cell_type": "code",
   "execution_count": 15,
   "id": "2b7c7aa4",
   "metadata": {
    "execution": {
     "iopub.execute_input": "2022-07-01T20:12:27.742517Z",
     "iopub.status.busy": "2022-07-01T20:12:27.741627Z",
     "iopub.status.idle": "2022-07-01T20:12:27.750748Z",
     "shell.execute_reply": "2022-07-01T20:12:27.749901Z"
    },
    "papermill": {
     "duration": 0.021802,
     "end_time": "2022-07-01T20:12:27.752712",
     "exception": false,
     "start_time": "2022-07-01T20:12:27.730910",
     "status": "completed"
    },
    "tags": []
   },
   "outputs": [],
   "source": [
    "files_df['Files'] = small_ds"
   ]
  },
  {
   "cell_type": "code",
   "execution_count": 16,
   "id": "e72e3e98",
   "metadata": {
    "execution": {
     "iopub.execute_input": "2022-07-01T20:12:27.774727Z",
     "iopub.status.busy": "2022-07-01T20:12:27.773960Z",
     "iopub.status.idle": "2022-07-01T20:12:27.787967Z",
     "shell.execute_reply": "2022-07-01T20:12:27.787040Z"
    },
    "papermill": {
     "duration": 0.027666,
     "end_time": "2022-07-01T20:12:27.790149",
     "exception": false,
     "start_time": "2022-07-01T20:12:27.762483",
     "status": "completed"
    },
    "tags": []
   },
   "outputs": [],
   "source": [
    "files_df['Class'] = files_df.Files.str.extract(r'Multi-class/(.*?)/', expand=True)"
   ]
  },
  {
   "cell_type": "code",
   "execution_count": 17,
   "id": "fa3ee7da",
   "metadata": {
    "execution": {
     "iopub.execute_input": "2022-07-01T20:12:27.811244Z",
     "iopub.status.busy": "2022-07-01T20:12:27.810914Z",
     "iopub.status.idle": "2022-07-01T20:12:27.823233Z",
     "shell.execute_reply": "2022-07-01T20:12:27.822261Z"
    },
    "papermill": {
     "duration": 0.025285,
     "end_time": "2022-07-01T20:12:27.825456",
     "exception": false,
     "start_time": "2022-07-01T20:12:27.800171",
     "status": "completed"
    },
    "tags": []
   },
   "outputs": [
    {
     "data": {
      "text/html": [
       "<div>\n",
       "<style scoped>\n",
       "    .dataframe tbody tr th:only-of-type {\n",
       "        vertical-align: middle;\n",
       "    }\n",
       "\n",
       "    .dataframe tbody tr th {\n",
       "        vertical-align: top;\n",
       "    }\n",
       "\n",
       "    .dataframe thead th {\n",
       "        text-align: right;\n",
       "    }\n",
       "</style>\n",
       "<table border=\"1\" class=\"dataframe\">\n",
       "  <thead>\n",
       "    <tr style=\"text-align: right;\">\n",
       "      <th></th>\n",
       "      <th>Files</th>\n",
       "      <th>Class</th>\n",
       "    </tr>\n",
       "  </thead>\n",
       "  <tbody>\n",
       "    <tr>\n",
       "      <th>0</th>\n",
       "      <td>../input/archie-comics-multi-class/Multi-class...</td>\n",
       "      <td>Kleats</td>\n",
       "    </tr>\n",
       "    <tr>\n",
       "      <th>1</th>\n",
       "      <td>../input/archie-comics-multi-class/Multi-class...</td>\n",
       "      <td>Kleats</td>\n",
       "    </tr>\n",
       "    <tr>\n",
       "      <th>2</th>\n",
       "      <td>../input/archie-comics-multi-class/Multi-class...</td>\n",
       "      <td>Kleats</td>\n",
       "    </tr>\n",
       "    <tr>\n",
       "      <th>3</th>\n",
       "      <td>../input/archie-comics-multi-class/Multi-class...</td>\n",
       "      <td>Kleats</td>\n",
       "    </tr>\n",
       "    <tr>\n",
       "      <th>4</th>\n",
       "      <td>../input/archie-comics-multi-class/Multi-class...</td>\n",
       "      <td>Kleats</td>\n",
       "    </tr>\n",
       "  </tbody>\n",
       "</table>\n",
       "</div>"
      ],
      "text/plain": [
       "                                               Files   Class\n",
       "0  ../input/archie-comics-multi-class/Multi-class...  Kleats\n",
       "1  ../input/archie-comics-multi-class/Multi-class...  Kleats\n",
       "2  ../input/archie-comics-multi-class/Multi-class...  Kleats\n",
       "3  ../input/archie-comics-multi-class/Multi-class...  Kleats\n",
       "4  ../input/archie-comics-multi-class/Multi-class...  Kleats"
      ]
     },
     "execution_count": 17,
     "metadata": {},
     "output_type": "execute_result"
    }
   ],
   "source": [
    "files_df.head()"
   ]
  },
  {
   "cell_type": "code",
   "execution_count": 18,
   "id": "120ac8db",
   "metadata": {
    "execution": {
     "iopub.execute_input": "2022-07-01T20:12:27.848463Z",
     "iopub.status.busy": "2022-07-01T20:12:27.847648Z",
     "iopub.status.idle": "2022-07-01T20:12:27.856923Z",
     "shell.execute_reply": "2022-07-01T20:12:27.856029Z"
    },
    "papermill": {
     "duration": 0.022037,
     "end_time": "2022-07-01T20:12:27.858914",
     "exception": false,
     "start_time": "2022-07-01T20:12:27.836877",
     "status": "completed"
    },
    "tags": []
   },
   "outputs": [],
   "source": [
    "files_df = files_df.sample(frac=1, random_state=1).reset_index(drop=True)\n",
    "# For randomly shuffling the rows of the dataframe,\n",
    "# else the training set gets the the top classes, the validation the bottom classes of the df\n",
    "# random_state is for reproducability, i.e., same distribution each time the code is run"
   ]
  },
  {
   "cell_type": "code",
   "execution_count": 19,
   "id": "f4c2ac5a",
   "metadata": {
    "execution": {
     "iopub.execute_input": "2022-07-01T20:12:27.881690Z",
     "iopub.status.busy": "2022-07-01T20:12:27.880623Z",
     "iopub.status.idle": "2022-07-01T20:12:27.885840Z",
     "shell.execute_reply": "2022-07-01T20:12:27.884988Z"
    },
    "papermill": {
     "duration": 0.01861,
     "end_time": "2022-07-01T20:12:27.887808",
     "exception": false,
     "start_time": "2022-07-01T20:12:27.869198",
     "status": "completed"
    },
    "tags": []
   },
   "outputs": [],
   "source": [
    "pd.set_option('display.max_colwidth', None)"
   ]
  },
  {
   "cell_type": "code",
   "execution_count": 20,
   "id": "18940f6c",
   "metadata": {
    "execution": {
     "iopub.execute_input": "2022-07-01T20:12:27.909686Z",
     "iopub.status.busy": "2022-07-01T20:12:27.908764Z",
     "iopub.status.idle": "2022-07-01T20:12:27.919379Z",
     "shell.execute_reply": "2022-07-01T20:12:27.918459Z"
    },
    "papermill": {
     "duration": 0.023657,
     "end_time": "2022-07-01T20:12:27.921335",
     "exception": false,
     "start_time": "2022-07-01T20:12:27.897678",
     "status": "completed"
    },
    "tags": []
   },
   "outputs": [
    {
     "data": {
      "text/html": [
       "<div>\n",
       "<style scoped>\n",
       "    .dataframe tbody tr th:only-of-type {\n",
       "        vertical-align: middle;\n",
       "    }\n",
       "\n",
       "    .dataframe tbody tr th {\n",
       "        vertical-align: top;\n",
       "    }\n",
       "\n",
       "    .dataframe thead th {\n",
       "        text-align: right;\n",
       "    }\n",
       "</style>\n",
       "<table border=\"1\" class=\"dataframe\">\n",
       "  <thead>\n",
       "    <tr style=\"text-align: right;\">\n",
       "      <th></th>\n",
       "      <th>Files</th>\n",
       "      <th>Class</th>\n",
       "    </tr>\n",
       "  </thead>\n",
       "  <tbody>\n",
       "    <tr>\n",
       "      <th>2797</th>\n",
       "      <td>../input/archie-comics-multi-class/Multi-class/Hiram Lodge/Hiram Lodge_122.png</td>\n",
       "      <td>Hiram Lodge</td>\n",
       "    </tr>\n",
       "    <tr>\n",
       "      <th>2798</th>\n",
       "      <td>../input/archie-comics-multi-class/Multi-class/Others/Others_543.png</td>\n",
       "      <td>Others</td>\n",
       "    </tr>\n",
       "    <tr>\n",
       "      <th>2799</th>\n",
       "      <td>../input/archie-comics-multi-class/Multi-class/Dilton/Dilton_085.png</td>\n",
       "      <td>Dilton</td>\n",
       "    </tr>\n",
       "    <tr>\n",
       "      <th>2800</th>\n",
       "      <td>../input/archie-comics-multi-class/Multi-class/Dilton/Dilton_006.png</td>\n",
       "      <td>Dilton</td>\n",
       "    </tr>\n",
       "    <tr>\n",
       "      <th>2801</th>\n",
       "      <td>../input/archie-comics-multi-class/Multi-class/Ethel/Ethel_064.png</td>\n",
       "      <td>Ethel</td>\n",
       "    </tr>\n",
       "    <tr>\n",
       "      <th>2802</th>\n",
       "      <td>../input/archie-comics-multi-class/Multi-class/Others/Others_218.png</td>\n",
       "      <td>Others</td>\n",
       "    </tr>\n",
       "    <tr>\n",
       "      <th>2803</th>\n",
       "      <td>../input/archie-comics-multi-class/Multi-class/Ethel/Ethel_036.png</td>\n",
       "      <td>Ethel</td>\n",
       "    </tr>\n",
       "    <tr>\n",
       "      <th>2804</th>\n",
       "      <td>../input/archie-comics-multi-class/Multi-class/Weatherbee/Weatherbee_229.png</td>\n",
       "      <td>Weatherbee</td>\n",
       "    </tr>\n",
       "    <tr>\n",
       "      <th>2805</th>\n",
       "      <td>../input/archie-comics-multi-class/Multi-class/Dilton/Dilton_066.png</td>\n",
       "      <td>Dilton</td>\n",
       "    </tr>\n",
       "    <tr>\n",
       "      <th>2806</th>\n",
       "      <td>../input/archie-comics-multi-class/Multi-class/Weatherbee/Weatherbee_024.png</td>\n",
       "      <td>Weatherbee</td>\n",
       "    </tr>\n",
       "  </tbody>\n",
       "</table>\n",
       "</div>"
      ],
      "text/plain": [
       "                                                                               Files  \\\n",
       "2797  ../input/archie-comics-multi-class/Multi-class/Hiram Lodge/Hiram Lodge_122.png   \n",
       "2798            ../input/archie-comics-multi-class/Multi-class/Others/Others_543.png   \n",
       "2799            ../input/archie-comics-multi-class/Multi-class/Dilton/Dilton_085.png   \n",
       "2800            ../input/archie-comics-multi-class/Multi-class/Dilton/Dilton_006.png   \n",
       "2801              ../input/archie-comics-multi-class/Multi-class/Ethel/Ethel_064.png   \n",
       "2802            ../input/archie-comics-multi-class/Multi-class/Others/Others_218.png   \n",
       "2803              ../input/archie-comics-multi-class/Multi-class/Ethel/Ethel_036.png   \n",
       "2804    ../input/archie-comics-multi-class/Multi-class/Weatherbee/Weatherbee_229.png   \n",
       "2805            ../input/archie-comics-multi-class/Multi-class/Dilton/Dilton_066.png   \n",
       "2806    ../input/archie-comics-multi-class/Multi-class/Weatherbee/Weatherbee_024.png   \n",
       "\n",
       "            Class  \n",
       "2797  Hiram Lodge  \n",
       "2798       Others  \n",
       "2799       Dilton  \n",
       "2800       Dilton  \n",
       "2801        Ethel  \n",
       "2802       Others  \n",
       "2803        Ethel  \n",
       "2804   Weatherbee  \n",
       "2805       Dilton  \n",
       "2806   Weatherbee  "
      ]
     },
     "execution_count": 20,
     "metadata": {},
     "output_type": "execute_result"
    }
   ],
   "source": [
    "files_df.tail(10)"
   ]
  },
  {
   "cell_type": "code",
   "execution_count": 21,
   "id": "4f81dd7d",
   "metadata": {
    "execution": {
     "iopub.execute_input": "2022-07-01T20:12:27.943670Z",
     "iopub.status.busy": "2022-07-01T20:12:27.942746Z",
     "iopub.status.idle": "2022-07-01T20:12:27.947759Z",
     "shell.execute_reply": "2022-07-01T20:12:27.946896Z"
    },
    "papermill": {
     "duration": 0.01816,
     "end_time": "2022-07-01T20:12:27.949710",
     "exception": false,
     "start_time": "2022-07-01T20:12:27.931550",
     "status": "completed"
    },
    "tags": []
   },
   "outputs": [],
   "source": [
    "datagen=ImageDataGenerator(validation_split=0.2)"
   ]
  },
  {
   "cell_type": "code",
   "execution_count": 22,
   "id": "c40c84d1",
   "metadata": {
    "execution": {
     "iopub.execute_input": "2022-07-01T20:12:27.972979Z",
     "iopub.status.busy": "2022-07-01T20:12:27.971945Z",
     "iopub.status.idle": "2022-07-01T20:12:27.976739Z",
     "shell.execute_reply": "2022-07-01T20:12:27.975905Z"
    },
    "papermill": {
     "duration": 0.018517,
     "end_time": "2022-07-01T20:12:27.978665",
     "exception": false,
     "start_time": "2022-07-01T20:12:27.960148",
     "status": "completed"
    },
    "tags": []
   },
   "outputs": [],
   "source": [
    "batch_size = 8"
   ]
  },
  {
   "cell_type": "code",
   "execution_count": 23,
   "id": "0c7178ef",
   "metadata": {
    "execution": {
     "iopub.execute_input": "2022-07-01T20:12:28.000426Z",
     "iopub.status.busy": "2022-07-01T20:12:27.999594Z",
     "iopub.status.idle": "2022-07-01T20:12:28.069386Z",
     "shell.execute_reply": "2022-07-01T20:12:28.067927Z"
    },
    "papermill": {
     "duration": 0.082755,
     "end_time": "2022-07-01T20:12:28.071579",
     "exception": false,
     "start_time": "2022-07-01T20:12:27.988824",
     "status": "completed"
    },
    "tags": []
   },
   "outputs": [
    {
     "name": "stdout",
     "output_type": "stream",
     "text": [
      "Found 2246 validated image filenames belonging to 23 classes.\n",
      "Found 561 validated image filenames belonging to 23 classes.\n"
     ]
    }
   ],
   "source": [
    "train_generator=datagen.flow_from_dataframe(\n",
    "dataframe=files_df,\n",
    "directory=None,\n",
    "x_col='Files',\n",
    "y_col='Class',\n",
    "subset=\"training\",\n",
    "batch_size=batch_size,\n",
    "seed=42,\n",
    "shuffle=True,\n",
    "class_mode=\"categorical\",\n",
    "rotation_range=30,\n",
    "width_shift_range=0.2,\n",
    "height_shift_range=0.2,\n",
    "brightness_range=(0.5,1.5),\n",
    "shear_range=0.2,\n",
    "zoom_range=0.2,\n",
    "channel_shift_range=30.0,\n",
    "fill_mode='nearest',\n",
    "horizontal_flip=True,\n",
    "vertical_flip=False,\n",
    "target_size=(256,256))\n",
    "\n",
    "valid_generator=datagen.flow_from_dataframe(\n",
    "dataframe=files_df,\n",
    "directory=None,\n",
    "x_col='Files',\n",
    "y_col='Class',\n",
    "subset=\"validation\",\n",
    "batch_size=batch_size,\n",
    "seed=42,\n",
    "shuffle=True,\n",
    "class_mode=\"categorical\",\n",
    "target_size=(256,256))"
   ]
  },
  {
   "cell_type": "code",
   "execution_count": 24,
   "id": "47185034",
   "metadata": {
    "execution": {
     "iopub.execute_input": "2022-07-01T20:12:28.094016Z",
     "iopub.status.busy": "2022-07-01T20:12:28.093657Z",
     "iopub.status.idle": "2022-07-01T20:12:28.100923Z",
     "shell.execute_reply": "2022-07-01T20:12:28.100019Z"
    },
    "papermill": {
     "duration": 0.021424,
     "end_time": "2022-07-01T20:12:28.103097",
     "exception": false,
     "start_time": "2022-07-01T20:12:28.081673",
     "status": "completed"
    },
    "tags": []
   },
   "outputs": [],
   "source": [
    "stopping = tf.keras.callbacks.EarlyStopping(\n",
    "        monitor=\"val_accuracy\",\n",
    "        min_delta=0,\n",
    "        patience=15,\n",
    "        verbose=0,\n",
    "        mode=\"auto\",\n",
    "        baseline=None,\n",
    "        restore_best_weights=False,\n",
    "    )\n",
    "\n",
    "checkpoint = tf.keras.callbacks.ModelCheckpoint(\n",
    "        \"best_model\",\n",
    "        monitor=\"val_accuracy\",\n",
    "        mode=\"max\",\n",
    "        save_best_only=True,\n",
    "        save_weights_only=True,\n",
    "    )"
   ]
  },
  {
   "cell_type": "code",
   "execution_count": 25,
   "id": "2f1a89fa",
   "metadata": {
    "execution": {
     "iopub.execute_input": "2022-07-01T20:12:28.125753Z",
     "iopub.status.busy": "2022-07-01T20:12:28.125418Z",
     "iopub.status.idle": "2022-07-01T20:26:13.889320Z",
     "shell.execute_reply": "2022-07-01T20:26:13.888006Z"
    },
    "papermill": {
     "duration": 825.777982,
     "end_time": "2022-07-01T20:26:13.891542",
     "exception": false,
     "start_time": "2022-07-01T20:12:28.113560",
     "status": "completed"
    },
    "tags": []
   },
   "outputs": [
    {
     "name": "stderr",
     "output_type": "stream",
     "text": [
      "2022-07-01 20:12:28.245962: I tensorflow/stream_executor/cuda/cuda_gpu_executor.cc:937] successful NUMA node read from SysFS had negative value (-1), but there must be at least one NUMA node, so returning NUMA node zero\n",
      "2022-07-01 20:12:28.367601: I tensorflow/stream_executor/cuda/cuda_gpu_executor.cc:937] successful NUMA node read from SysFS had negative value (-1), but there must be at least one NUMA node, so returning NUMA node zero\n",
      "2022-07-01 20:12:28.368585: I tensorflow/stream_executor/cuda/cuda_gpu_executor.cc:937] successful NUMA node read from SysFS had negative value (-1), but there must be at least one NUMA node, so returning NUMA node zero\n",
      "2022-07-01 20:12:28.370517: I tensorflow/core/platform/cpu_feature_guard.cc:142] This TensorFlow binary is optimized with oneAPI Deep Neural Network Library (oneDNN) to use the following CPU instructions in performance-critical operations:  AVX2 AVX512F FMA\n",
      "To enable them in other operations, rebuild TensorFlow with the appropriate compiler flags.\n",
      "2022-07-01 20:12:28.370882: I tensorflow/stream_executor/cuda/cuda_gpu_executor.cc:937] successful NUMA node read from SysFS had negative value (-1), but there must be at least one NUMA node, so returning NUMA node zero\n",
      "2022-07-01 20:12:28.371581: I tensorflow/stream_executor/cuda/cuda_gpu_executor.cc:937] successful NUMA node read from SysFS had negative value (-1), but there must be at least one NUMA node, so returning NUMA node zero\n",
      "2022-07-01 20:12:28.372225: I tensorflow/stream_executor/cuda/cuda_gpu_executor.cc:937] successful NUMA node read from SysFS had negative value (-1), but there must be at least one NUMA node, so returning NUMA node zero\n",
      "2022-07-01 20:12:30.614064: I tensorflow/stream_executor/cuda/cuda_gpu_executor.cc:937] successful NUMA node read from SysFS had negative value (-1), but there must be at least one NUMA node, so returning NUMA node zero\n",
      "2022-07-01 20:12:30.615062: I tensorflow/stream_executor/cuda/cuda_gpu_executor.cc:937] successful NUMA node read from SysFS had negative value (-1), but there must be at least one NUMA node, so returning NUMA node zero\n",
      "2022-07-01 20:12:30.615809: I tensorflow/stream_executor/cuda/cuda_gpu_executor.cc:937] successful NUMA node read from SysFS had negative value (-1), but there must be at least one NUMA node, so returning NUMA node zero\n",
      "2022-07-01 20:12:30.616451: I tensorflow/core/common_runtime/gpu/gpu_device.cc:1510] Created device /job:localhost/replica:0/task:0/device:GPU:0 with 15403 MB memory:  -> device: 0, name: Tesla P100-PCIE-16GB, pci bus id: 0000:00:04.0, compute capability: 6.0\n"
     ]
    },
    {
     "name": "stdout",
     "output_type": "stream",
     "text": [
      "Downloading data from https://storage.googleapis.com/tensorflow/keras-applications/resnet/resnet50_weights_tf_dim_ordering_tf_kernels_notop.h5\n",
      "94773248/94765736 [==============================] - 1s 0us/step\n",
      "94781440/94765736 [==============================] - 1s 0us/step\n"
     ]
    },
    {
     "name": "stderr",
     "output_type": "stream",
     "text": [
      "2022-07-01 20:12:33.118718: I tensorflow/compiler/mlir/mlir_graph_optimization_pass.cc:185] None of the MLIR Optimization Passes are enabled (registered 2)\n",
      "2022-07-01 20:12:35.482637: I tensorflow/stream_executor/cuda/cuda_dnn.cc:369] Loaded cuDNN version 8005\n"
     ]
    },
    {
     "name": "stdout",
     "output_type": "stream",
     "text": [
      "71/71 [==============================] - 14s 93ms/step - loss: 4.0393 - accuracy: 0.0232\n",
      "loss 4.039285182952881, acc 0.023172905668616295\n",
      "Epoch 1/50\n",
      "281/281 [==============================] - 29s 94ms/step - loss: 3.2729 - accuracy: 0.0913 - val_loss: 2.8460 - val_accuracy: 0.2068\n",
      "Epoch 2/50\n",
      "281/281 [==============================] - 15s 53ms/step - loss: 2.8429 - accuracy: 0.1549 - val_loss: 2.6931 - val_accuracy: 0.2531\n",
      "Epoch 3/50\n",
      "281/281 [==============================] - 15s 54ms/step - loss: 2.6829 - accuracy: 0.1995 - val_loss: 2.5763 - val_accuracy: 0.2620\n",
      "Epoch 4/50\n",
      "281/281 [==============================] - 15s 52ms/step - loss: 2.5065 - accuracy: 0.2502 - val_loss: 2.5080 - val_accuracy: 0.2923\n",
      "Epoch 5/50\n",
      "281/281 [==============================] - 15s 54ms/step - loss: 2.3709 - accuracy: 0.3010 - val_loss: 2.3716 - val_accuracy: 0.3012\n",
      "Epoch 6/50\n",
      "281/281 [==============================] - 15s 53ms/step - loss: 2.2159 - accuracy: 0.3281 - val_loss: 2.2983 - val_accuracy: 0.3405\n",
      "Epoch 7/50\n",
      "281/281 [==============================] - 15s 54ms/step - loss: 2.0734 - accuracy: 0.3762 - val_loss: 2.2430 - val_accuracy: 0.3565\n",
      "Epoch 8/50\n",
      "281/281 [==============================] - 15s 53ms/step - loss: 1.9608 - accuracy: 0.4159 - val_loss: 2.1766 - val_accuracy: 0.3725\n",
      "Epoch 9/50\n",
      "281/281 [==============================] - 16s 56ms/step - loss: 1.8282 - accuracy: 0.4524 - val_loss: 2.1320 - val_accuracy: 0.3654\n",
      "Epoch 10/50\n",
      "281/281 [==============================] - 15s 52ms/step - loss: 1.7132 - accuracy: 0.4898 - val_loss: 2.0838 - val_accuracy: 0.3957\n",
      "Epoch 11/50\n",
      "281/281 [==============================] - 15s 54ms/step - loss: 1.6124 - accuracy: 0.5196 - val_loss: 2.0639 - val_accuracy: 0.3886\n",
      "Epoch 12/50\n",
      "281/281 [==============================] - 15s 52ms/step - loss: 1.5195 - accuracy: 0.5530 - val_loss: 2.0067 - val_accuracy: 0.3957\n",
      "Epoch 13/50\n",
      "281/281 [==============================] - 15s 52ms/step - loss: 1.4252 - accuracy: 0.5695 - val_loss: 1.9694 - val_accuracy: 0.4100\n",
      "Epoch 14/50\n",
      "281/281 [==============================] - 16s 56ms/step - loss: 1.3459 - accuracy: 0.6118 - val_loss: 1.9462 - val_accuracy: 0.4349\n",
      "Epoch 15/50\n",
      "281/281 [==============================] - 14s 51ms/step - loss: 1.2668 - accuracy: 0.6233 - val_loss: 1.9227 - val_accuracy: 0.4046\n",
      "Epoch 16/50\n",
      "281/281 [==============================] - 15s 54ms/step - loss: 1.1939 - accuracy: 0.6652 - val_loss: 1.9116 - val_accuracy: 0.4510\n",
      "Epoch 17/50\n",
      "281/281 [==============================] - 15s 53ms/step - loss: 1.1271 - accuracy: 0.6843 - val_loss: 1.8852 - val_accuracy: 0.4421\n",
      "Epoch 18/50\n",
      "281/281 [==============================] - 16s 55ms/step - loss: 1.0661 - accuracy: 0.6937 - val_loss: 1.8867 - val_accuracy: 0.4349\n",
      "Epoch 19/50\n",
      "281/281 [==============================] - 15s 52ms/step - loss: 0.9893 - accuracy: 0.7222 - val_loss: 1.8561 - val_accuracy: 0.4349\n",
      "Epoch 20/50\n",
      "281/281 [==============================] - 15s 55ms/step - loss: 0.9428 - accuracy: 0.7351 - val_loss: 1.8611 - val_accuracy: 0.4385\n",
      "Epoch 21/50\n",
      "281/281 [==============================] - 15s 52ms/step - loss: 0.9022 - accuracy: 0.7516 - val_loss: 1.8660 - val_accuracy: 0.4439\n",
      "Epoch 22/50\n",
      "281/281 [==============================] - 15s 54ms/step - loss: 0.8344 - accuracy: 0.7743 - val_loss: 1.8625 - val_accuracy: 0.4385\n",
      "Epoch 23/50\n",
      "281/281 [==============================] - 14s 50ms/step - loss: 0.7570 - accuracy: 0.8121 - val_loss: 1.8493 - val_accuracy: 0.4242\n",
      "Epoch 24/50\n",
      "281/281 [==============================] - 14s 51ms/step - loss: 0.7498 - accuracy: 0.7996 - val_loss: 1.8226 - val_accuracy: 0.4492\n",
      "Epoch 25/50\n",
      "281/281 [==============================] - 14s 51ms/step - loss: 0.7027 - accuracy: 0.8224 - val_loss: 1.8377 - val_accuracy: 0.4563\n",
      "Epoch 26/50\n",
      "281/281 [==============================] - 14s 51ms/step - loss: 0.6546 - accuracy: 0.8295 - val_loss: 1.8204 - val_accuracy: 0.4332\n",
      "Epoch 27/50\n",
      "281/281 [==============================] - 14s 50ms/step - loss: 0.6510 - accuracy: 0.8326 - val_loss: 1.8497 - val_accuracy: 0.4670\n",
      "Epoch 28/50\n",
      "281/281 [==============================] - 15s 52ms/step - loss: 0.5914 - accuracy: 0.8517 - val_loss: 1.8248 - val_accuracy: 0.4617\n",
      "Epoch 29/50\n",
      "281/281 [==============================] - 14s 49ms/step - loss: 0.5445 - accuracy: 0.8731 - val_loss: 1.7934 - val_accuracy: 0.4902\n",
      "Epoch 30/50\n",
      "281/281 [==============================] - 14s 51ms/step - loss: 0.5221 - accuracy: 0.8713 - val_loss: 1.8106 - val_accuracy: 0.4831\n",
      "Epoch 31/50\n",
      "281/281 [==============================] - 14s 50ms/step - loss: 0.5015 - accuracy: 0.8874 - val_loss: 1.8404 - val_accuracy: 0.4652\n",
      "Epoch 32/50\n",
      "281/281 [==============================] - 14s 50ms/step - loss: 0.4841 - accuracy: 0.8842 - val_loss: 1.8170 - val_accuracy: 0.4742\n",
      "Epoch 33/50\n",
      "281/281 [==============================] - 14s 51ms/step - loss: 0.4478 - accuracy: 0.8963 - val_loss: 1.8770 - val_accuracy: 0.4528\n",
      "Epoch 34/50\n",
      "281/281 [==============================] - 15s 52ms/step - loss: 0.4317 - accuracy: 0.9020 - val_loss: 1.8489 - val_accuracy: 0.4599\n",
      "Epoch 35/50\n",
      "281/281 [==============================] - 14s 49ms/step - loss: 0.3935 - accuracy: 0.9132 - val_loss: 1.8536 - val_accuracy: 0.4706\n",
      "Epoch 36/50\n",
      "281/281 [==============================] - 14s 51ms/step - loss: 0.3888 - accuracy: 0.9167 - val_loss: 1.8678 - val_accuracy: 0.4706\n",
      "Epoch 37/50\n",
      "281/281 [==============================] - 14s 49ms/step - loss: 0.3671 - accuracy: 0.9274 - val_loss: 1.8643 - val_accuracy: 0.4688\n",
      "Epoch 38/50\n",
      "281/281 [==============================] - 14s 51ms/step - loss: 0.3355 - accuracy: 0.9323 - val_loss: 1.8429 - val_accuracy: 0.4724\n",
      "Epoch 39/50\n",
      "281/281 [==============================] - 14s 50ms/step - loss: 0.3272 - accuracy: 0.9314 - val_loss: 1.8461 - val_accuracy: 0.4938\n",
      "Epoch 40/50\n",
      "281/281 [==============================] - 14s 51ms/step - loss: 0.3003 - accuracy: 0.9381 - val_loss: 1.8538 - val_accuracy: 0.4902\n",
      "Epoch 41/50\n",
      "281/281 [==============================] - 15s 52ms/step - loss: 0.2835 - accuracy: 0.9475 - val_loss: 1.8430 - val_accuracy: 0.4902\n",
      "Epoch 42/50\n",
      "281/281 [==============================] - 14s 51ms/step - loss: 0.2879 - accuracy: 0.9363 - val_loss: 1.8685 - val_accuracy: 0.4884\n",
      "Epoch 43/50\n",
      "281/281 [==============================] - 14s 51ms/step - loss: 0.2605 - accuracy: 0.9484 - val_loss: 1.8482 - val_accuracy: 0.4991\n",
      "Epoch 44/50\n",
      "281/281 [==============================] - 14s 51ms/step - loss: 0.2449 - accuracy: 0.9537 - val_loss: 1.8482 - val_accuracy: 0.4848\n",
      "Epoch 45/50\n",
      "281/281 [==============================] - 14s 49ms/step - loss: 0.2448 - accuracy: 0.9564 - val_loss: 1.8393 - val_accuracy: 0.4938\n",
      "Epoch 46/50\n",
      "281/281 [==============================] - 14s 49ms/step - loss: 0.2269 - accuracy: 0.9581 - val_loss: 1.8743 - val_accuracy: 0.4795\n",
      "Epoch 47/50\n",
      "281/281 [==============================] - 15s 52ms/step - loss: 0.2208 - accuracy: 0.9626 - val_loss: 1.9641 - val_accuracy: 0.4599\n",
      "Epoch 48/50\n",
      "281/281 [==============================] - 14s 50ms/step - loss: 0.2137 - accuracy: 0.9644 - val_loss: 1.9139 - val_accuracy: 0.4831\n",
      "Epoch 49/50\n",
      "281/281 [==============================] - 15s 52ms/step - loss: 0.2046 - accuracy: 0.9613 - val_loss: 1.8710 - val_accuracy: 0.4938\n",
      "Epoch 50/50\n",
      "281/281 [==============================] - 14s 51ms/step - loss: 0.1882 - accuracy: 0.9635 - val_loss: 1.9118 - val_accuracy: 0.4866\n",
      "71/71 [==============================] - 3s 39ms/step - loss: 1.8482 - accuracy: 0.4991\n",
      "final loss 1.8481647968292236, final acc 0.4991087317466736\n"
     ]
    }
   ],
   "source": [
    "base_model = tf.keras.applications.ResNet50(weights='imagenet', input_shape=(256, 256, 3), classes=len(classes), include_top = False)\n",
    "\n",
    "\n",
    "# Based on https://pyimagesearch.com/2020/04/27/fine-tuning-resnet-with-keras-tensorflow-and-deep-learning/\n",
    "\n",
    "# construct the head of the model that will be placed on top of the\n",
    "# the base model\n",
    "headModel = base_model.output\n",
    "headModel = AveragePooling2D(pool_size=(7, 7))(headModel)\n",
    "headModel = Flatten(name=\"flatten\")(headModel)\n",
    "headModel = Dense(256, activation=\"relu\")(headModel)\n",
    "headModel = Dropout(0.5)(headModel)\n",
    "headModel = Dense(len(classes), activation=\"softmax\")(headModel)\n",
    "# place the head FC model on top of the base model (this will become\n",
    "# the actual model we will train)\n",
    "model = Model(inputs=base_model.input, outputs=headModel)\n",
    "# loop over all layers in the base model and freeze them so they will\n",
    "# *not* be updated during the training process\n",
    "for layer in base_model.layers:\n",
    "    layer.trainable = False\n",
    "    \n",
    "model.compile(\n",
    "        optimizer=tf.keras.optimizers.Adam(learning_rate=0.0001),\n",
    "        loss=tf.keras.losses.CategoricalCrossentropy(),#from_logits=True),\n",
    "        metrics=[\"accuracy\"]\n",
    "    )\n",
    " \n",
    "loss_0, acc_0 = model.evaluate(valid_generator)\n",
    "print(f\"loss {loss_0}, acc {acc_0}\")\n",
    "    \n",
    "\n",
    "history = model.fit(\n",
    "        train_generator,\n",
    "        validation_data=valid_generator,\n",
    "        epochs=50,\n",
    "        callbacks=[stopping, checkpoint]\n",
    ")\n",
    "\n",
    "model.load_weights(\"best_model\")\n",
    "\n",
    "loss, acc = model.evaluate(valid_generator)\n",
    "print(f\"final loss {loss}, final acc {acc}\")"
   ]
  },
  {
   "cell_type": "code",
   "execution_count": 26,
   "id": "35700cbc",
   "metadata": {
    "execution": {
     "iopub.execute_input": "2022-07-01T20:26:14.894251Z",
     "iopub.status.busy": "2022-07-01T20:26:14.893896Z",
     "iopub.status.idle": "2022-07-01T20:26:15.256773Z",
     "shell.execute_reply": "2022-07-01T20:26:15.255810Z"
    },
    "papermill": {
     "duration": 0.885825,
     "end_time": "2022-07-01T20:26:15.258756",
     "exception": false,
     "start_time": "2022-07-01T20:26:14.372931",
     "status": "completed"
    },
    "tags": []
   },
   "outputs": [
    {
     "data": {
      "image/png": "[encoded data removed]",
      "text/plain": [
       "<Figure size 432x288 with 1 Axes>"
      ]
     },
     "metadata": {
      "needs_background": "light"
     },
     "output_type": "display_data"
    },
    {
     "data": {
      "image/png": "[encoded data removed]",
      "text/plain": [
       "<Figure size 432x288 with 1 Axes>"
      ]
     },
     "metadata": {
      "needs_background": "light"
     },
     "output_type": "display_data"
    }
   ],
   "source": [
    "# summarize history for accuracy\n",
    "plt.plot(history.history['accuracy'])\n",
    "plt.plot(history.history['val_accuracy'])\n",
    "plt.title('model accuracy')\n",
    "plt.ylabel('accuracy')\n",
    "plt.xlabel('epoch')\n",
    "plt.legend(['train', 'val'], loc='upper left')\n",
    "plt.show()\n",
    "# summarize history for loss\n",
    "plt.plot(history.history['loss'])\n",
    "plt.plot(history.history['val_loss'])\n",
    "plt.title('model loss')\n",
    "plt.ylabel('loss')\n",
    "plt.xlabel('epoch')\n",
    "plt.legend(['train', 'val'], loc='upper left')\n",
    "plt.show()"
   ]
  },
  {
   "cell_type": "code",
   "execution_count": 27,
   "id": "e453f08c",
   "metadata": {
    "execution": {
     "iopub.execute_input": "2022-07-01T20:26:16.221466Z",
     "iopub.status.busy": "2022-07-01T20:26:16.221055Z",
     "iopub.status.idle": "2022-07-01T20:26:16.225669Z",
     "shell.execute_reply": "2022-07-01T20:26:16.224791Z"
    },
    "papermill": {
     "duration": 0.491439,
     "end_time": "2022-07-01T20:26:16.227563",
     "exception": false,
     "start_time": "2022-07-01T20:26:15.736124",
     "status": "completed"
    },
    "tags": []
   },
   "outputs": [],
   "source": [
    "index_classes_dict = {k: v for v, k in enumerate(classes)}"
   ]
  },
  {
   "cell_type": "code",
   "execution_count": 28,
   "id": "eb088328",
   "metadata": {
    "execution": {
     "iopub.execute_input": "2022-07-01T20:26:17.942252Z",
     "iopub.status.busy": "2022-07-01T20:26:17.941808Z",
     "iopub.status.idle": "2022-07-01T20:26:17.946542Z",
     "shell.execute_reply": "2022-07-01T20:26:17.945671Z"
    },
    "papermill": {
     "duration": 1.196406,
     "end_time": "2022-07-01T20:26:17.951901",
     "exception": false,
     "start_time": "2022-07-01T20:26:16.755495",
     "status": "completed"
    },
    "tags": []
   },
   "outputs": [],
   "source": [
    "index_classes_list = list(index_classes_dict.values())"
   ]
  },
  {
   "cell_type": "code",
   "execution_count": 29,
   "id": "cc8efa2b",
   "metadata": {
    "execution": {
     "iopub.execute_input": "2022-07-01T20:26:19.085579Z",
     "iopub.status.busy": "2022-07-01T20:26:19.085198Z",
     "iopub.status.idle": "2022-07-01T20:26:19.090240Z",
     "shell.execute_reply": "2022-07-01T20:26:19.089237Z"
    },
    "papermill": {
     "duration": 0.498069,
     "end_time": "2022-07-01T20:26:19.092296",
     "exception": false,
     "start_time": "2022-07-01T20:26:18.594227",
     "status": "completed"
    },
    "tags": []
   },
   "outputs": [],
   "source": [
    "inv_index_classes_dict = {v: k for k, v in index_classes_dict.items()}"
   ]
  },
  {
   "cell_type": "code",
   "execution_count": 30,
   "id": "0593fe94",
   "metadata": {
    "execution": {
     "iopub.execute_input": "2022-07-01T20:26:20.097960Z",
     "iopub.status.busy": "2022-07-01T20:26:20.097566Z",
     "iopub.status.idle": "2022-07-01T20:26:20.102574Z",
     "shell.execute_reply": "2022-07-01T20:26:20.101443Z"
    },
    "papermill": {
     "duration": 0.49259,
     "end_time": "2022-07-01T20:26:20.105088",
     "exception": false,
     "start_time": "2022-07-01T20:26:19.612498",
     "status": "completed"
    },
    "tags": []
   },
   "outputs": [],
   "source": [
    "inv_index_classes_list = list(inv_index_classes_dict.values())"
   ]
  },
  {
   "cell_type": "code",
   "execution_count": 31,
   "id": "59f14cc9",
   "metadata": {
    "execution": {
     "iopub.execute_input": "2022-07-01T20:26:21.107145Z",
     "iopub.status.busy": "2022-07-01T20:26:21.106782Z",
     "iopub.status.idle": "2022-07-01T20:26:28.987632Z",
     "shell.execute_reply": "2022-07-01T20:26:28.986551Z"
    },
    "papermill": {
     "duration": 8.365157,
     "end_time": "2022-07-01T20:26:28.990450",
     "exception": false,
     "start_time": "2022-07-01T20:26:20.625293",
     "status": "completed"
    },
    "tags": []
   },
   "outputs": [],
   "source": [
    "y_pred = []  # store predicted labels\n",
    "y_true = []  # store true labels\n",
    "i = 0\n",
    "# iterate over the dataset\n",
    "for image_batch, label_batch in valid_generator:\n",
    "    # use dataset.unbatch() with repeat\n",
    "    # append true labels\n",
    "    y_true.append(label_batch)\n",
    "    # compute predictions\n",
    "    preds = model.predict(image_batch)\n",
    "    # append predicted labels\n",
    "    y_pred.append(np.argmax(preds, axis = - 1))\n",
    "    i+=1\n",
    "    if i == len(valid_generator): # A generator runs infinitely, \n",
    "        # so here I am running the valid gen once so all samples are seen\n",
    "        # The gen length is valid split * total samples / batch size\n",
    "        # 0.2*759/8 = 19\n",
    "        break\n",
    "\n",
    "\n",
    "# convert the true and predicted labels into tensors\n",
    "correct_labels = tf.concat([item for item in y_true], axis = 0)\n",
    "correct_labels = np.argmax(correct_labels,axis=1)\n",
    "predicted_labels = tf.concat([item for item in y_pred], axis = 0)"
   ]
  },
  {
   "cell_type": "code",
   "execution_count": 32,
   "id": "a6c556f6",
   "metadata": {
    "execution": {
     "iopub.execute_input": "2022-07-01T20:26:30.044661Z",
     "iopub.status.busy": "2022-07-01T20:26:30.044071Z",
     "iopub.status.idle": "2022-07-01T20:26:30.050004Z",
     "shell.execute_reply": "2022-07-01T20:26:30.049046Z"
    },
    "papermill": {
     "duration": 0.533375,
     "end_time": "2022-07-01T20:26:30.051991",
     "exception": false,
     "start_time": "2022-07-01T20:26:29.518616",
     "status": "completed"
    },
    "tags": []
   },
   "outputs": [],
   "source": [
    "names_correct_labels = np.vectorize(inv_index_classes_dict.get)(correct_labels)\n",
    "names_predicted_labels = np.vectorize(inv_index_classes_dict.get)(predicted_labels)"
   ]
  },
  {
   "cell_type": "code",
   "execution_count": 33,
   "id": "fe33364d",
   "metadata": {
    "execution": {
     "iopub.execute_input": "2022-07-01T20:26:31.122820Z",
     "iopub.status.busy": "2022-07-01T20:26:31.122463Z",
     "iopub.status.idle": "2022-07-01T20:26:33.123050Z",
     "shell.execute_reply": "2022-07-01T20:26:33.121953Z"
    },
    "papermill": {
     "duration": 2.501747,
     "end_time": "2022-07-01T20:26:33.126286",
     "exception": false,
     "start_time": "2022-07-01T20:26:30.624539",
     "status": "completed"
    },
    "tags": []
   },
   "outputs": [
    {
     "data": {
      "image/png": "[encoded data removed]",
      "text/plain": [
       "<Figure size 1296x1296 with 1 Axes>"
      ]
     },
     "metadata": {
      "needs_background": "light"
     },
     "output_type": "display_data"
    }
   ],
   "source": [
    "cm = confusion_matrix(correct_labels, predicted_labels, labels=index_classes_list, normalize='true')\n",
    "fig = plt.figure(figsize = (18,18))\n",
    "ax1 = fig.add_subplot(1,1,1)\n",
    "sns.set(font_scale=1.2) #for label size\n",
    "sns.heatmap(cm, annot=True, annot_kws={\"size\": 12},\n",
    "     cbar = False, cmap='Purples', fmt='.2f', \n",
    "            xticklabels=inv_index_classes_list, yticklabels=inv_index_classes_list);\n",
    "ax1.set_ylabel('True Values',fontsize=12)\n",
    "ax1.set_xlabel('Predicted Values',fontsize=12)\n",
    "plt.show()"
   ]
  },
  {
   "cell_type": "code",
   "execution_count": 34,
   "id": "b8b8312e",
   "metadata": {
    "execution": {
     "iopub.execute_input": "2022-07-01T20:26:34.128538Z",
     "iopub.status.busy": "2022-07-01T20:26:34.128190Z",
     "iopub.status.idle": "2022-07-01T20:26:35.778652Z",
     "shell.execute_reply": "2022-07-01T20:26:35.777800Z"
    },
    "papermill": {
     "duration": 2.176004,
     "end_time": "2022-07-01T20:26:35.781013",
     "exception": false,
     "start_time": "2022-07-01T20:26:33.605009",
     "status": "completed"
    },
    "tags": []
   },
   "outputs": [
    {
     "data": {
      "image/png": "[encoded data removed]",
      "text/plain": [
       "<Figure size 1296x1296 with 1 Axes>"
      ]
     },
     "metadata": {},
     "output_type": "display_data"
    }
   ],
   "source": [
    "cm = confusion_matrix(correct_labels, predicted_labels, labels=index_classes_list)\n",
    "fig = plt.figure(figsize = (18,18))\n",
    "ax1 = fig.add_subplot(1,1,1)\n",
    "sns.set(font_scale=1.2) #for label size\n",
    "sns.heatmap(cm, annot=True, annot_kws={\"size\": 12},\n",
    "     cbar = False, cmap='Purples', fmt='d',\n",
    "           xticklabels=inv_index_classes_list, yticklabels=inv_index_classes_list);\n",
    "ax1.set_ylabel('True Values',fontsize=12)\n",
    "ax1.set_xlabel('Predicted Values',fontsize=12)\n",
    "plt.show()"
   ]
  },
  {
   "cell_type": "code",
   "execution_count": 35,
   "id": "d3d701af",
   "metadata": {
    "execution": {
     "iopub.execute_input": "2022-07-01T20:26:36.789340Z",
     "iopub.status.busy": "2022-07-01T20:26:36.788991Z",
     "iopub.status.idle": "2022-07-01T20:26:36.797377Z",
     "shell.execute_reply": "2022-07-01T20:26:36.796362Z"
    },
    "papermill": {
     "duration": 0.53863,
     "end_time": "2022-07-01T20:26:36.800639",
     "exception": false,
     "start_time": "2022-07-01T20:26:36.262009",
     "status": "completed"
    },
    "tags": []
   },
   "outputs": [
    {
     "data": {
      "text/plain": [
       "0.4"
      ]
     },
     "execution_count": 35,
     "metadata": {},
     "output_type": "execute_result"
    }
   ],
   "source": [
    "FN = cm.sum(axis=1) - np.diag(cm)\n",
    "TP = np.diag(cm)\n",
    "FP = cm.sum(axis=0) - np.diag(cm)\n",
    "TN = cm.sum() - (FP + FN + TP)\n",
    "\n",
    "# from https://stackoverflow.com/questions/31324218/scikit-learn-how-to-obtain-true-positive-true-negative-false-positive-and-fal\n",
    "# Sensitivity, hit rate, recall, or true positive rate\n",
    "TPR = TP/(TP+FN)\n",
    "TPR[18]"
   ]
  },
  {
   "cell_type": "code",
   "execution_count": 36,
   "id": "1acfb12a",
   "metadata": {
    "execution": {
     "iopub.execute_input": "2022-07-01T20:26:37.766362Z",
     "iopub.status.busy": "2022-07-01T20:26:37.765969Z",
     "iopub.status.idle": "2022-07-01T20:26:37.770736Z",
     "shell.execute_reply": "2022-07-01T20:26:37.769819Z"
    },
    "papermill": {
     "duration": 0.489498,
     "end_time": "2022-07-01T20:26:37.772744",
     "exception": false,
     "start_time": "2022-07-01T20:26:37.283246",
     "status": "completed"
    },
    "tags": []
   },
   "outputs": [],
   "source": [
    "F1 = TP/(TP+(FP+FN)/2)"
   ]
  },
  {
   "cell_type": "code",
   "execution_count": 37,
   "id": "3df4a3c0",
   "metadata": {
    "execution": {
     "iopub.execute_input": "2022-07-01T20:26:38.790017Z",
     "iopub.status.busy": "2022-07-01T20:26:38.789640Z",
     "iopub.status.idle": "2022-07-01T20:26:38.822521Z",
     "shell.execute_reply": "2022-07-01T20:26:38.821321Z"
    },
    "papermill": {
     "duration": 0.569127,
     "end_time": "2022-07-01T20:26:38.825445",
     "exception": false,
     "start_time": "2022-07-01T20:26:38.256318",
     "status": "completed"
    },
    "tags": []
   },
   "outputs": [
    {
     "name": "stdout",
     "output_type": "stream",
     "text": [
      "               True positives  False positives  True negatives  \\\n",
      "Kleats                   18.0             35.0           491.0   \n",
      "Midge                     6.0              1.0           552.0   \n",
      "Dilton                   24.0             32.0           489.0   \n",
      "Pop Tate                 15.0              4.0           535.0   \n",
      "Reggie                   15.0             17.0           514.0   \n",
      "Jughead                   4.0             11.0           537.0   \n",
      "Grundy                    3.0              4.0           548.0   \n",
      "Ethel                    13.0              9.0           522.0   \n",
      "Weatherbee               19.0             11.0           515.0   \n",
      "Harry Clayton             2.0              0.0           555.0   \n",
      "Smithers                 32.0             39.0           476.0   \n",
      "Svenson                  22.0             10.0           505.0   \n",
      "Moose                     1.0              1.0           553.0   \n",
      "Chuck                     7.0              2.0           543.0   \n",
      "Nancy                    11.0             12.0           520.0   \n",
      "Veronica                  4.0              4.0           547.0   \n",
      "Flutesnoot               10.0             42.0           487.0   \n",
      "Fred Andrews              5.0              3.0           540.0   \n",
      "Archie                   12.0             12.0           519.0   \n",
      "Betty                     2.0              3.0           544.0   \n",
      "Beazley                   3.0              2.0           553.0   \n",
      "Hiram Lodge              31.0             13.0           506.0   \n",
      "Others                   21.0             14.0           510.0   \n",
      "Total                   280.0            281.0         12061.0   \n",
      "\n",
      "               False negatives  F1 score  \n",
      "Kleats                    17.0      0.41  \n",
      "Midge                      2.0      0.80  \n",
      "Dilton                    16.0      0.50  \n",
      "Pop Tate                   7.0      0.73  \n",
      "Reggie                    15.0      0.48  \n",
      "Jughead                    9.0      0.29  \n",
      "Grundy                     6.0      0.38  \n",
      "Ethel                     17.0      0.50  \n",
      "Weatherbee                16.0      0.58  \n",
      "Harry Clayton              4.0      0.50  \n",
      "Smithers                  14.0      0.55  \n",
      "Svenson                   24.0      0.56  \n",
      "Moose                      6.0      0.22  \n",
      "Chuck                      9.0      0.56  \n",
      "Nancy                     18.0      0.42  \n",
      "Veronica                   6.0      0.44  \n",
      "Flutesnoot                22.0      0.24  \n",
      "Fred Andrews              13.0      0.38  \n",
      "Archie                    18.0      0.44  \n",
      "Betty                     12.0      0.21  \n",
      "Beazley                    3.0      0.55  \n",
      "Hiram Lodge               11.0      0.72  \n",
      "Others                    16.0      0.58  \n",
      "Total                    281.0       NaN  \n"
     ]
    }
   ],
   "source": [
    "df_from_arr_2 = pd.DataFrame(data=[TP, FP, TN, FN, F1]).T\n",
    "df_from_arr_2.rename(columns={0: \"True positives\", 1: \"False positives\",\n",
    "                           2: \"True negatives\", 3: \"False negatives\", 4: \"F1 score\"}, inplace = True)\n",
    "df_from_arr_2.index = classes\n",
    "df_from_arr_2[\"F1 score\"] = df_from_arr_2[\"F1 score\"].round(2)\n",
    "\n",
    "#Total sum per column: \n",
    "df_from_arr_2.loc['Total']= df_from_arr_2.sum(axis=0)\n",
    "df_from_arr_2.iloc[-1,-1]= np.nan\n",
    "\n",
    "print(df_from_arr_2)"
   ]
  },
  {
   "cell_type": "code",
   "execution_count": 38,
   "id": "83081103",
   "metadata": {
    "execution": {
     "iopub.execute_input": "2022-07-01T20:26:40.066936Z",
     "iopub.status.busy": "2022-07-01T20:26:40.066576Z",
     "iopub.status.idle": "2022-07-01T20:26:40.073716Z",
     "shell.execute_reply": "2022-07-01T20:26:40.072843Z"
    },
    "papermill": {
     "duration": 0.493021,
     "end_time": "2022-07-01T20:26:40.076137",
     "exception": false,
     "start_time": "2022-07-01T20:26:39.583116",
     "status": "completed"
    },
    "tags": []
   },
   "outputs": [
    {
     "data": {
      "text/plain": [
       "0.48"
      ]
     },
     "execution_count": 38,
     "metadata": {},
     "output_type": "execute_result"
    }
   ],
   "source": [
    "macro_F1 = round(df_from_arr_2[\"F1 score\"].mean(),2)\n",
    "macro_F1"
   ]
  },
  {
   "cell_type": "code",
   "execution_count": 39,
   "id": "707ced53",
   "metadata": {
    "execution": {
     "iopub.execute_input": "2022-07-01T20:26:41.082069Z",
     "iopub.status.busy": "2022-07-01T20:26:41.081498Z",
     "iopub.status.idle": "2022-07-01T20:26:41.089812Z",
     "shell.execute_reply": "2022-07-01T20:26:41.088791Z"
    },
    "papermill": {
     "duration": 0.49334,
     "end_time": "2022-07-01T20:26:41.091906",
     "exception": false,
     "start_time": "2022-07-01T20:26:40.598566",
     "status": "completed"
    },
    "tags": []
   },
   "outputs": [
    {
     "data": {
      "text/plain": [
       "0.5"
      ]
     },
     "execution_count": 39,
     "metadata": {},
     "output_type": "execute_result"
    }
   ],
   "source": [
    "micro_F1 = df_from_arr_2.iloc[-1,0]/(df_from_arr_2.iloc[-1,0]+0.5*(df_from_arr_2.iloc[-1,1]+df_from_arr_2.iloc[-1,3]))\n",
    "micro_F1 = round(micro_F1,2)\n",
    "micro_F1"
   ]
  },
  {
   "cell_type": "code",
   "execution_count": 40,
   "id": "6a90779f",
   "metadata": {
    "execution": {
     "iopub.execute_input": "2022-07-01T20:26:42.103160Z",
     "iopub.status.busy": "2022-07-01T20:26:42.102797Z",
     "iopub.status.idle": "2022-07-01T20:26:42.115635Z",
     "shell.execute_reply": "2022-07-01T20:26:42.114740Z"
    },
    "papermill": {
     "duration": 0.500066,
     "end_time": "2022-07-01T20:26:42.117610",
     "exception": false,
     "start_time": "2022-07-01T20:26:41.617544",
     "status": "completed"
    },
    "tags": []
   },
   "outputs": [
    {
     "name": "stdout",
     "output_type": "stream",
     "text": [
      "|               |   True positives |   False positives |   True negatives |   False negatives |   F1 score |\n",
      "|:--------------|-----------------:|------------------:|-----------------:|------------------:|-----------:|\n",
      "| Kleats        |               18 |                35 |              491 |                17 |       0.41 |\n",
      "| Midge         |                6 |                 1 |              552 |                 2 |       0.8  |\n",
      "| Dilton        |               24 |                32 |              489 |                16 |       0.5  |\n",
      "| Pop Tate      |               15 |                 4 |              535 |                 7 |       0.73 |\n",
      "| Reggie        |               15 |                17 |              514 |                15 |       0.48 |\n",
      "| Jughead       |                4 |                11 |              537 |                 9 |       0.29 |\n",
      "| Grundy        |                3 |                 4 |              548 |                 6 |       0.38 |\n",
      "| Ethel         |               13 |                 9 |              522 |                17 |       0.5  |\n",
      "| Weatherbee    |               19 |                11 |              515 |                16 |       0.58 |\n",
      "| Harry Clayton |                2 |                 0 |              555 |                 4 |       0.5  |\n",
      "| Smithers      |               32 |                39 |              476 |                14 |       0.55 |\n",
      "| Svenson       |               22 |                10 |              505 |                24 |       0.56 |\n",
      "| Moose         |                1 |                 1 |              553 |                 6 |       0.22 |\n",
      "| Chuck         |                7 |                 2 |              543 |                 9 |       0.56 |\n",
      "| Nancy         |               11 |                12 |              520 |                18 |       0.42 |\n",
      "| Veronica      |                4 |                 4 |              547 |                 6 |       0.44 |\n",
      "| Flutesnoot    |               10 |                42 |              487 |                22 |       0.24 |\n",
      "| Fred Andrews  |                5 |                 3 |              540 |                13 |       0.38 |\n",
      "| Archie        |               12 |                12 |              519 |                18 |       0.44 |\n",
      "| Betty         |                2 |                 3 |              544 |                12 |       0.21 |\n",
      "| Beazley       |                3 |                 2 |              553 |                 3 |       0.55 |\n",
      "| Hiram Lodge   |               31 |                13 |              506 |                11 |       0.72 |\n",
      "| Others        |               21 |                14 |              510 |                16 |       0.58 |\n",
      "| Total         |              280 |               281 |            12061 |               281 |     nan    |\n"
     ]
    }
   ],
   "source": [
    "print(df_from_arr_2.to_markdown()) "
   ]
  },
  {
   "cell_type": "code",
   "execution_count": 41,
   "id": "c235753e",
   "metadata": {
    "execution": {
     "iopub.execute_input": "2022-07-01T20:26:43.079572Z",
     "iopub.status.busy": "2022-07-01T20:26:43.079151Z",
     "iopub.status.idle": "2022-07-01T20:26:43.087017Z",
     "shell.execute_reply": "2022-07-01T20:26:43.086081Z"
    },
    "papermill": {
     "duration": 0.492049,
     "end_time": "2022-07-01T20:26:43.089295",
     "exception": false,
     "start_time": "2022-07-01T20:26:42.597246",
     "status": "completed"
    },
    "tags": []
   },
   "outputs": [],
   "source": [
    "MCC = matthews_corrcoef(correct_labels, predicted_labels)"
   ]
  },
  {
   "cell_type": "code",
   "execution_count": 42,
   "id": "39648d22",
   "metadata": {
    "execution": {
     "iopub.execute_input": "2022-07-01T20:26:44.096147Z",
     "iopub.status.busy": "2022-07-01T20:26:44.095784Z",
     "iopub.status.idle": "2022-07-01T20:26:44.101822Z",
     "shell.execute_reply": "2022-07-01T20:26:44.100924Z"
    },
    "papermill": {
     "duration": 0.490159,
     "end_time": "2022-07-01T20:26:44.103799",
     "exception": false,
     "start_time": "2022-07-01T20:26:43.613640",
     "status": "completed"
    },
    "tags": []
   },
   "outputs": [
    {
     "data": {
      "text/plain": [
       "0.4688769012668147"
      ]
     },
     "execution_count": 42,
     "metadata": {},
     "output_type": "execute_result"
    }
   ],
   "source": [
    "MCC"
   ]
  }
 ],
 "metadata": {
  "kernelspec": {
   "display_name": "Python 3",
   "language": "python",
   "name": "python3"
  },
  "language_info": {
   "codemirror_mode": {
    "name": "ipython",
    "version": 3
   },
   "file_extension": ".py",
   "mimetype": "text/x-python",
   "name": "python",
   "nbconvert_exporter": "python",
   "pygments_lexer": "ipython3",
   "version": "3.7.12"
  },
  "papermill": {
   "default_parameters": {},
   "duration": 876.253678,
   "end_time": "2022-07-01T20:26:47.580573",
   "environment_variables": {},
   "exception": null,
   "input_path": "__notebook__.ipynb",
   "output_path": "__notebook__.ipynb",
   "parameters": {},
   "start_time": "2022-07-01T20:12:11.326895",
   "version": "2.3.4"
  }
 },
 "nbformat": 4,
 "nbformat_minor": 5
}
