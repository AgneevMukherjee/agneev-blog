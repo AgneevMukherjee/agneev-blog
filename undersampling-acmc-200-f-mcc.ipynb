{
 "cells": [
  {
   "cell_type": "code",
   "execution_count": 1,
   "id": "5d59f1be",
   "metadata": {
    "execution": {
     "iopub.execute_input": "2022-07-02T20:37:14.869503Z",
     "iopub.status.busy": "2022-07-02T20:37:14.868904Z",
     "iopub.status.idle": "2022-07-02T20:37:20.233419Z",
     "shell.execute_reply": "2022-07-02T20:37:20.232376Z"
    },
    "papermill": {
     "duration": 5.381616,
     "end_time": "2022-07-02T20:37:20.235907",
     "exception": false,
     "start_time": "2022-07-02T20:37:14.854291",
     "status": "completed"
    },
    "tags": []
   },
   "outputs": [],
   "source": [
    "import tensorflow as tf\n",
    "from tensorflow import keras\n",
    "import numpy as np\n",
    "import matplotlib.pyplot as plt\n",
    "import matplotlib.image as mpimg\n",
    "import os\n",
    "import pandas as pd\n",
    "import seaborn as sns\n",
    "import random\n",
    "from PIL import Image\n",
    "import cv2\n",
    "from matplotlib import rcParams\n",
    "import re"
   ]
  },
  {
   "cell_type": "code",
   "execution_count": 2,
   "id": "c07d6718",
   "metadata": {
    "execution": {
     "iopub.execute_input": "2022-07-02T20:37:20.257484Z",
     "iopub.status.busy": "2022-07-02T20:37:20.256908Z",
     "iopub.status.idle": "2022-07-02T20:37:21.440621Z",
     "shell.execute_reply": "2022-07-02T20:37:21.439527Z"
    },
    "papermill": {
     "duration": 1.197434,
     "end_time": "2022-07-02T20:37:21.443278",
     "exception": false,
     "start_time": "2022-07-02T20:37:20.245844",
     "status": "completed"
    },
    "tags": []
   },
   "outputs": [],
   "source": [
    "from keras_preprocessing.image import ImageDataGenerator\n",
    "from sklearn.metrics import confusion_matrix,ConfusionMatrixDisplay, matthews_corrcoef\n",
    "from tensorflow.keras.layers import Input\n",
    "from tensorflow.keras.layers import AveragePooling2D\n",
    "from tensorflow.keras.layers import Dropout\n",
    "from tensorflow.keras.layers import Flatten\n",
    "from tensorflow.keras.layers import Dense\n",
    "from tensorflow.keras.layers import Input\n",
    "from tensorflow.keras.models import Model"
   ]
  },
  {
   "cell_type": "code",
   "execution_count": 3,
   "id": "92c308b3",
   "metadata": {
    "execution": {
     "iopub.execute_input": "2022-07-02T20:37:21.463560Z",
     "iopub.status.busy": "2022-07-02T20:37:21.463283Z",
     "iopub.status.idle": "2022-07-02T20:37:21.467852Z",
     "shell.execute_reply": "2022-07-02T20:37:21.466559Z"
    },
    "papermill": {
     "duration": 0.016967,
     "end_time": "2022-07-02T20:37:21.469866",
     "exception": false,
     "start_time": "2022-07-02T20:37:21.452899",
     "status": "completed"
    },
    "tags": []
   },
   "outputs": [],
   "source": [
    "main_folder = '../input/archie-comics-multi-class/Multi-class'"
   ]
  },
  {
   "cell_type": "code",
   "execution_count": 4,
   "id": "d60c4eee",
   "metadata": {
    "execution": {
     "iopub.execute_input": "2022-07-02T20:37:21.489659Z",
     "iopub.status.busy": "2022-07-02T20:37:21.489415Z",
     "iopub.status.idle": "2022-07-02T20:37:21.493558Z",
     "shell.execute_reply": "2022-07-02T20:37:21.492660Z"
    },
    "papermill": {
     "duration": 0.016147,
     "end_time": "2022-07-02T20:37:21.495438",
     "exception": false,
     "start_time": "2022-07-02T20:37:21.479291",
     "status": "completed"
    },
    "tags": []
   },
   "outputs": [],
   "source": [
    "samples_per_class = []\n",
    "classes = []\n",
    "file_names = []"
   ]
  },
  {
   "cell_type": "code",
   "execution_count": 5,
   "id": "27171443",
   "metadata": {
    "_kg_hide-output": true,
    "execution": {
     "iopub.execute_input": "2022-07-02T20:37:21.516202Z",
     "iopub.status.busy": "2022-07-02T20:37:21.515512Z",
     "iopub.status.idle": "2022-07-02T20:37:25.189177Z",
     "shell.execute_reply": "2022-07-02T20:37:25.188055Z"
    },
    "papermill": {
     "duration": 3.686567,
     "end_time": "2022-07-02T20:37:25.191436",
     "exception": false,
     "start_time": "2022-07-02T20:37:21.504869",
     "status": "completed"
    },
    "tags": []
   },
   "outputs": [],
   "source": [
    "directory=os.listdir('../input/archie-comics-multi-class/Multi-class/')\n",
    "for each in directory:\n",
    "    currentFolder = '../input/archie-comics-multi-class/Multi-class/' + each\n",
    "    count = sum(len(files) for _, _, files in os.walk(currentFolder))\n",
    "    samples_per_class.append(count)\n",
    "    classes.append(each)\n",
    "    \n",
    "    for i, file in enumerate(os.listdir(currentFolder)):\n",
    "        fullpath = currentFolder+ \"/\" + file\n",
    "        file_names.append(fullpath)"
   ]
  },
  {
   "cell_type": "code",
   "execution_count": 6,
   "id": "8510e009",
   "metadata": {
    "execution": {
     "iopub.execute_input": "2022-07-02T20:37:25.215196Z",
     "iopub.status.busy": "2022-07-02T20:37:25.214854Z",
     "iopub.status.idle": "2022-07-02T20:37:25.222776Z",
     "shell.execute_reply": "2022-07-02T20:37:25.221816Z"
    },
    "papermill": {
     "duration": 0.021291,
     "end_time": "2022-07-02T20:37:25.225225",
     "exception": false,
     "start_time": "2022-07-02T20:37:25.203934",
     "status": "completed"
    },
    "tags": []
   },
   "outputs": [
    {
     "data": {
      "text/plain": [
       "33"
      ]
     },
     "execution_count": 6,
     "metadata": {},
     "output_type": "execute_result"
    }
   ],
   "source": [
    "min(samples_per_class)"
   ]
  },
  {
   "cell_type": "code",
   "execution_count": 7,
   "id": "fe5d075c",
   "metadata": {
    "execution": {
     "iopub.execute_input": "2022-07-02T20:37:25.245481Z",
     "iopub.status.busy": "2022-07-02T20:37:25.245232Z",
     "iopub.status.idle": "2022-07-02T20:37:25.248943Z",
     "shell.execute_reply": "2022-07-02T20:37:25.248046Z"
    },
    "papermill": {
     "duration": 0.016036,
     "end_time": "2022-07-02T20:37:25.250890",
     "exception": false,
     "start_time": "2022-07-02T20:37:25.234854",
     "status": "completed"
    },
    "tags": []
   },
   "outputs": [],
   "source": [
    "small_ds = []"
   ]
  },
  {
   "cell_type": "code",
   "execution_count": 8,
   "id": "7f7c27ed",
   "metadata": {
    "execution": {
     "iopub.execute_input": "2022-07-02T20:37:25.272094Z",
     "iopub.status.busy": "2022-07-02T20:37:25.271307Z",
     "iopub.status.idle": "2022-07-02T20:37:25.417344Z",
     "shell.execute_reply": "2022-07-02T20:37:25.416419Z"
    },
    "papermill": {
     "duration": 0.158719,
     "end_time": "2022-07-02T20:37:25.419289",
     "exception": false,
     "start_time": "2022-07-02T20:37:25.260570",
     "status": "completed"
    },
    "tags": []
   },
   "outputs": [],
   "source": [
    "for each_class in classes:\n",
    "    trial_list = []\n",
    "    for name in file_names:\n",
    "        if re.search(f'{each_class}', name):\n",
    "            trial_list.append(name)\n",
    "    small_ds.append(random.sample(trial_list, min(len(trial_list),200)))"
   ]
  },
  {
   "cell_type": "code",
   "execution_count": 9,
   "id": "b61675a8",
   "metadata": {
    "execution": {
     "iopub.execute_input": "2022-07-02T20:37:25.439462Z",
     "iopub.status.busy": "2022-07-02T20:37:25.438971Z",
     "iopub.status.idle": "2022-07-02T20:37:25.445299Z",
     "shell.execute_reply": "2022-07-02T20:37:25.444143Z"
    },
    "papermill": {
     "duration": 0.018397,
     "end_time": "2022-07-02T20:37:25.447163",
     "exception": false,
     "start_time": "2022-07-02T20:37:25.428766",
     "status": "completed"
    },
    "tags": []
   },
   "outputs": [
    {
     "name": "stdout",
     "output_type": "stream",
     "text": [
      "23\n",
      "41\n",
      "943\n"
     ]
    }
   ],
   "source": [
    "print(len(small_ds))\n",
    "print(len(small_ds[0]))\n",
    "print(len(small_ds)*len(small_ds[0]))"
   ]
  },
  {
   "cell_type": "code",
   "execution_count": 10,
   "id": "99da0d5e",
   "metadata": {
    "execution": {
     "iopub.execute_input": "2022-07-02T20:37:25.468368Z",
     "iopub.status.busy": "2022-07-02T20:37:25.467112Z",
     "iopub.status.idle": "2022-07-02T20:37:25.475190Z",
     "shell.execute_reply": "2022-07-02T20:37:25.474375Z"
    },
    "papermill": {
     "duration": 0.020273,
     "end_time": "2022-07-02T20:37:25.477231",
     "exception": false,
     "start_time": "2022-07-02T20:37:25.456958",
     "status": "completed"
    },
    "tags": []
   },
   "outputs": [],
   "source": [
    "small_ds=list(np.concatenate(small_ds).flat)\n",
    "# For flattening small_ds into a 1-D list"
   ]
  },
  {
   "cell_type": "code",
   "execution_count": 11,
   "id": "a323c807",
   "metadata": {
    "execution": {
     "iopub.execute_input": "2022-07-02T20:37:25.497564Z",
     "iopub.status.busy": "2022-07-02T20:37:25.497043Z",
     "iopub.status.idle": "2022-07-02T20:37:25.501695Z",
     "shell.execute_reply": "2022-07-02T20:37:25.500792Z"
    },
    "papermill": {
     "duration": 0.016941,
     "end_time": "2022-07-02T20:37:25.503662",
     "exception": false,
     "start_time": "2022-07-02T20:37:25.486721",
     "status": "completed"
    },
    "tags": []
   },
   "outputs": [
    {
     "name": "stdout",
     "output_type": "stream",
     "text": [
      "2807\n"
     ]
    }
   ],
   "source": [
    "print(len(small_ds))"
   ]
  },
  {
   "cell_type": "code",
   "execution_count": 12,
   "id": "ceae143e",
   "metadata": {
    "execution": {
     "iopub.execute_input": "2022-07-02T20:37:25.524436Z",
     "iopub.status.busy": "2022-07-02T20:37:25.523729Z",
     "iopub.status.idle": "2022-07-02T20:37:25.530139Z",
     "shell.execute_reply": "2022-07-02T20:37:25.529171Z"
    },
    "papermill": {
     "duration": 0.018626,
     "end_time": "2022-07-02T20:37:25.532041",
     "exception": false,
     "start_time": "2022-07-02T20:37:25.513415",
     "status": "completed"
    },
    "tags": []
   },
   "outputs": [
    {
     "data": {
      "text/plain": [
       "['Kleats',\n",
       " 'Midge',\n",
       " 'Dilton',\n",
       " 'Pop Tate',\n",
       " 'Reggie',\n",
       " 'Jughead',\n",
       " 'Grundy',\n",
       " 'Ethel',\n",
       " 'Weatherbee',\n",
       " 'Harry Clayton',\n",
       " 'Smithers',\n",
       " 'Svenson',\n",
       " 'Moose',\n",
       " 'Chuck',\n",
       " 'Nancy',\n",
       " 'Veronica',\n",
       " 'Flutesnoot',\n",
       " 'Fred Andrews',\n",
       " 'Archie',\n",
       " 'Betty',\n",
       " 'Beazley',\n",
       " 'Hiram Lodge',\n",
       " 'Others']"
      ]
     },
     "execution_count": 12,
     "metadata": {},
     "output_type": "execute_result"
    }
   ],
   "source": [
    "classes"
   ]
  },
  {
   "cell_type": "code",
   "execution_count": 13,
   "id": "af637836",
   "metadata": {
    "execution": {
     "iopub.execute_input": "2022-07-02T20:37:25.553125Z",
     "iopub.status.busy": "2022-07-02T20:37:25.552368Z",
     "iopub.status.idle": "2022-07-02T20:37:25.558871Z",
     "shell.execute_reply": "2022-07-02T20:37:25.557906Z"
    },
    "papermill": {
     "duration": 0.019078,
     "end_time": "2022-07-02T20:37:25.560754",
     "exception": false,
     "start_time": "2022-07-02T20:37:25.541676",
     "status": "completed"
    },
    "tags": []
   },
   "outputs": [
    {
     "data": {
      "text/plain": [
       "['../input/archie-comics-multi-class/Multi-class/Jughead/Jughead_590.png',\n",
       " '../input/archie-comics-multi-class/Multi-class/Jughead/Jughead_701.png',\n",
       " '../input/archie-comics-multi-class/Multi-class/Jughead/Jughead_064.png',\n",
       " '../input/archie-comics-multi-class/Multi-class/Jughead/Jughead_230.png',\n",
       " '../input/archie-comics-multi-class/Multi-class/Jughead/Jughead_696.png',\n",
       " '../input/archie-comics-multi-class/Multi-class/Jughead/Jughead_007.png',\n",
       " '../input/archie-comics-multi-class/Multi-class/Jughead/Jughead_620.png',\n",
       " '../input/archie-comics-multi-class/Multi-class/Jughead/Jughead_546.png',\n",
       " '../input/archie-comics-multi-class/Multi-class/Jughead/Jughead_649.png',\n",
       " '../input/archie-comics-multi-class/Multi-class/Jughead/Jughead_954.png']"
      ]
     },
     "execution_count": 13,
     "metadata": {},
     "output_type": "execute_result"
    }
   ],
   "source": [
    "small_ds[720:730]"
   ]
  },
  {
   "cell_type": "code",
   "execution_count": 14,
   "id": "30cfb28d",
   "metadata": {
    "execution": {
     "iopub.execute_input": "2022-07-02T20:37:25.581532Z",
     "iopub.status.busy": "2022-07-02T20:37:25.580832Z",
     "iopub.status.idle": "2022-07-02T20:37:25.592615Z",
     "shell.execute_reply": "2022-07-02T20:37:25.591622Z"
    },
    "papermill": {
     "duration": 0.024274,
     "end_time": "2022-07-02T20:37:25.594608",
     "exception": false,
     "start_time": "2022-07-02T20:37:25.570334",
     "status": "completed"
    },
    "tags": []
   },
   "outputs": [],
   "source": [
    "files_df = pd.DataFrame(index=range(0, len(small_ds)),columns = ['Files'])"
   ]
  },
  {
   "cell_type": "code",
   "execution_count": 15,
   "id": "0b6ca303",
   "metadata": {
    "execution": {
     "iopub.execute_input": "2022-07-02T20:37:25.615870Z",
     "iopub.status.busy": "2022-07-02T20:37:25.615055Z",
     "iopub.status.idle": "2022-07-02T20:37:25.623757Z",
     "shell.execute_reply": "2022-07-02T20:37:25.622704Z"
    },
    "papermill": {
     "duration": 0.021336,
     "end_time": "2022-07-02T20:37:25.625759",
     "exception": false,
     "start_time": "2022-07-02T20:37:25.604423",
     "status": "completed"
    },
    "tags": []
   },
   "outputs": [],
   "source": [
    "files_df['Files'] = small_ds"
   ]
  },
  {
   "cell_type": "code",
   "execution_count": 16,
   "id": "08b7cdb4",
   "metadata": {
    "execution": {
     "iopub.execute_input": "2022-07-02T20:37:25.646652Z",
     "iopub.status.busy": "2022-07-02T20:37:25.645935Z",
     "iopub.status.idle": "2022-07-02T20:37:25.658875Z",
     "shell.execute_reply": "2022-07-02T20:37:25.658019Z"
    },
    "papermill": {
     "duration": 0.02558,
     "end_time": "2022-07-02T20:37:25.660930",
     "exception": false,
     "start_time": "2022-07-02T20:37:25.635350",
     "status": "completed"
    },
    "tags": []
   },
   "outputs": [],
   "source": [
    "files_df['Class'] = files_df.Files.str.extract(r'Multi-class/(.*?)/', expand=True)"
   ]
  },
  {
   "cell_type": "code",
   "execution_count": 17,
   "id": "8c89053d",
   "metadata": {
    "execution": {
     "iopub.execute_input": "2022-07-02T20:37:25.681922Z",
     "iopub.status.busy": "2022-07-02T20:37:25.681100Z",
     "iopub.status.idle": "2022-07-02T20:37:25.692440Z",
     "shell.execute_reply": "2022-07-02T20:37:25.691449Z"
    },
    "papermill": {
     "duration": 0.023819,
     "end_time": "2022-07-02T20:37:25.694446",
     "exception": false,
     "start_time": "2022-07-02T20:37:25.670627",
     "status": "completed"
    },
    "tags": []
   },
   "outputs": [
    {
     "data": {
      "text/html": [
       "<div>\n",
       "<style scoped>\n",
       "    .dataframe tbody tr th:only-of-type {\n",
       "        vertical-align: middle;\n",
       "    }\n",
       "\n",
       "    .dataframe tbody tr th {\n",
       "        vertical-align: top;\n",
       "    }\n",
       "\n",
       "    .dataframe thead th {\n",
       "        text-align: right;\n",
       "    }\n",
       "</style>\n",
       "<table border=\"1\" class=\"dataframe\">\n",
       "  <thead>\n",
       "    <tr style=\"text-align: right;\">\n",
       "      <th></th>\n",
       "      <th>Files</th>\n",
       "      <th>Class</th>\n",
       "    </tr>\n",
       "  </thead>\n",
       "  <tbody>\n",
       "    <tr>\n",
       "      <th>0</th>\n",
       "      <td>../input/archie-comics-multi-class/Multi-class...</td>\n",
       "      <td>Kleats</td>\n",
       "    </tr>\n",
       "    <tr>\n",
       "      <th>1</th>\n",
       "      <td>../input/archie-comics-multi-class/Multi-class...</td>\n",
       "      <td>Kleats</td>\n",
       "    </tr>\n",
       "    <tr>\n",
       "      <th>2</th>\n",
       "      <td>../input/archie-comics-multi-class/Multi-class...</td>\n",
       "      <td>Kleats</td>\n",
       "    </tr>\n",
       "    <tr>\n",
       "      <th>3</th>\n",
       "      <td>../input/archie-comics-multi-class/Multi-class...</td>\n",
       "      <td>Kleats</td>\n",
       "    </tr>\n",
       "    <tr>\n",
       "      <th>4</th>\n",
       "      <td>../input/archie-comics-multi-class/Multi-class...</td>\n",
       "      <td>Kleats</td>\n",
       "    </tr>\n",
       "  </tbody>\n",
       "</table>\n",
       "</div>"
      ],
      "text/plain": [
       "                                               Files   Class\n",
       "0  ../input/archie-comics-multi-class/Multi-class...  Kleats\n",
       "1  ../input/archie-comics-multi-class/Multi-class...  Kleats\n",
       "2  ../input/archie-comics-multi-class/Multi-class...  Kleats\n",
       "3  ../input/archie-comics-multi-class/Multi-class...  Kleats\n",
       "4  ../input/archie-comics-multi-class/Multi-class...  Kleats"
      ]
     },
     "execution_count": 17,
     "metadata": {},
     "output_type": "execute_result"
    }
   ],
   "source": [
    "files_df.head()"
   ]
  },
  {
   "cell_type": "code",
   "execution_count": 18,
   "id": "98879963",
   "metadata": {
    "execution": {
     "iopub.execute_input": "2022-07-02T20:37:25.716457Z",
     "iopub.status.busy": "2022-07-02T20:37:25.715699Z",
     "iopub.status.idle": "2022-07-02T20:37:25.723623Z",
     "shell.execute_reply": "2022-07-02T20:37:25.722803Z"
    },
    "papermill": {
     "duration": 0.020761,
     "end_time": "2022-07-02T20:37:25.725495",
     "exception": false,
     "start_time": "2022-07-02T20:37:25.704734",
     "status": "completed"
    },
    "tags": []
   },
   "outputs": [],
   "source": [
    "files_df = files_df.sample(frac=1, random_state=1).reset_index(drop=True)\n",
    "# For randomly shuffling the rows of the dataframe,\n",
    "# else the training set gets the the top classes, the validation the bottom classes of the df\n",
    "# random_state is for reproducability, i.e., same distribution each time the code is run"
   ]
  },
  {
   "cell_type": "code",
   "execution_count": 19,
   "id": "d277df38",
   "metadata": {
    "execution": {
     "iopub.execute_input": "2022-07-02T20:37:25.746617Z",
     "iopub.status.busy": "2022-07-02T20:37:25.746010Z",
     "iopub.status.idle": "2022-07-02T20:37:25.750429Z",
     "shell.execute_reply": "2022-07-02T20:37:25.749621Z"
    },
    "papermill": {
     "duration": 0.016999,
     "end_time": "2022-07-02T20:37:25.752299",
     "exception": false,
     "start_time": "2022-07-02T20:37:25.735300",
     "status": "completed"
    },
    "tags": []
   },
   "outputs": [],
   "source": [
    "pd.set_option('display.max_colwidth', None)"
   ]
  },
  {
   "cell_type": "code",
   "execution_count": 20,
   "id": "074ffb75",
   "metadata": {
    "execution": {
     "iopub.execute_input": "2022-07-02T20:37:25.775644Z",
     "iopub.status.busy": "2022-07-02T20:37:25.774954Z",
     "iopub.status.idle": "2022-07-02T20:37:25.784065Z",
     "shell.execute_reply": "2022-07-02T20:37:25.783157Z"
    },
    "papermill": {
     "duration": 0.023268,
     "end_time": "2022-07-02T20:37:25.785939",
     "exception": false,
     "start_time": "2022-07-02T20:37:25.762671",
     "status": "completed"
    },
    "tags": []
   },
   "outputs": [
    {
     "data": {
      "text/html": [
       "<div>\n",
       "<style scoped>\n",
       "    .dataframe tbody tr th:only-of-type {\n",
       "        vertical-align: middle;\n",
       "    }\n",
       "\n",
       "    .dataframe tbody tr th {\n",
       "        vertical-align: top;\n",
       "    }\n",
       "\n",
       "    .dataframe thead th {\n",
       "        text-align: right;\n",
       "    }\n",
       "</style>\n",
       "<table border=\"1\" class=\"dataframe\">\n",
       "  <thead>\n",
       "    <tr style=\"text-align: right;\">\n",
       "      <th></th>\n",
       "      <th>Files</th>\n",
       "      <th>Class</th>\n",
       "    </tr>\n",
       "  </thead>\n",
       "  <tbody>\n",
       "    <tr>\n",
       "      <th>2797</th>\n",
       "      <td>../input/archie-comics-multi-class/Multi-class/Hiram Lodge/Hiram Lodge_164.png</td>\n",
       "      <td>Hiram Lodge</td>\n",
       "    </tr>\n",
       "    <tr>\n",
       "      <th>2798</th>\n",
       "      <td>../input/archie-comics-multi-class/Multi-class/Others/Others_018.png</td>\n",
       "      <td>Others</td>\n",
       "    </tr>\n",
       "    <tr>\n",
       "      <th>2799</th>\n",
       "      <td>../input/archie-comics-multi-class/Multi-class/Dilton/Dilton_137.png</td>\n",
       "      <td>Dilton</td>\n",
       "    </tr>\n",
       "    <tr>\n",
       "      <th>2800</th>\n",
       "      <td>../input/archie-comics-multi-class/Multi-class/Dilton/Dilton_085.png</td>\n",
       "      <td>Dilton</td>\n",
       "    </tr>\n",
       "    <tr>\n",
       "      <th>2801</th>\n",
       "      <td>../input/archie-comics-multi-class/Multi-class/Ethel/Ethel_032.png</td>\n",
       "      <td>Ethel</td>\n",
       "    </tr>\n",
       "    <tr>\n",
       "      <th>2802</th>\n",
       "      <td>../input/archie-comics-multi-class/Multi-class/Others/Others_167.png</td>\n",
       "      <td>Others</td>\n",
       "    </tr>\n",
       "    <tr>\n",
       "      <th>2803</th>\n",
       "      <td>../input/archie-comics-multi-class/Multi-class/Ethel/Ethel_023.png</td>\n",
       "      <td>Ethel</td>\n",
       "    </tr>\n",
       "    <tr>\n",
       "      <th>2804</th>\n",
       "      <td>../input/archie-comics-multi-class/Multi-class/Weatherbee/Weatherbee_108.png</td>\n",
       "      <td>Weatherbee</td>\n",
       "    </tr>\n",
       "    <tr>\n",
       "      <th>2805</th>\n",
       "      <td>../input/archie-comics-multi-class/Multi-class/Dilton/Dilton_118.png</td>\n",
       "      <td>Dilton</td>\n",
       "    </tr>\n",
       "    <tr>\n",
       "      <th>2806</th>\n",
       "      <td>../input/archie-comics-multi-class/Multi-class/Weatherbee/Weatherbee_004.png</td>\n",
       "      <td>Weatherbee</td>\n",
       "    </tr>\n",
       "  </tbody>\n",
       "</table>\n",
       "</div>"
      ],
      "text/plain": [
       "                                                                               Files  \\\n",
       "2797  ../input/archie-comics-multi-class/Multi-class/Hiram Lodge/Hiram Lodge_164.png   \n",
       "2798            ../input/archie-comics-multi-class/Multi-class/Others/Others_018.png   \n",
       "2799            ../input/archie-comics-multi-class/Multi-class/Dilton/Dilton_137.png   \n",
       "2800            ../input/archie-comics-multi-class/Multi-class/Dilton/Dilton_085.png   \n",
       "2801              ../input/archie-comics-multi-class/Multi-class/Ethel/Ethel_032.png   \n",
       "2802            ../input/archie-comics-multi-class/Multi-class/Others/Others_167.png   \n",
       "2803              ../input/archie-comics-multi-class/Multi-class/Ethel/Ethel_023.png   \n",
       "2804    ../input/archie-comics-multi-class/Multi-class/Weatherbee/Weatherbee_108.png   \n",
       "2805            ../input/archie-comics-multi-class/Multi-class/Dilton/Dilton_118.png   \n",
       "2806    ../input/archie-comics-multi-class/Multi-class/Weatherbee/Weatherbee_004.png   \n",
       "\n",
       "            Class  \n",
       "2797  Hiram Lodge  \n",
       "2798       Others  \n",
       "2799       Dilton  \n",
       "2800       Dilton  \n",
       "2801        Ethel  \n",
       "2802       Others  \n",
       "2803        Ethel  \n",
       "2804   Weatherbee  \n",
       "2805       Dilton  \n",
       "2806   Weatherbee  "
      ]
     },
     "execution_count": 20,
     "metadata": {},
     "output_type": "execute_result"
    }
   ],
   "source": [
    "files_df.tail(10)"
   ]
  },
  {
   "cell_type": "code",
   "execution_count": 21,
   "id": "647012e8",
   "metadata": {
    "execution": {
     "iopub.execute_input": "2022-07-02T20:37:25.807668Z",
     "iopub.status.busy": "2022-07-02T20:37:25.807396Z",
     "iopub.status.idle": "2022-07-02T20:37:25.811501Z",
     "shell.execute_reply": "2022-07-02T20:37:25.810533Z"
    },
    "papermill": {
     "duration": 0.017827,
     "end_time": "2022-07-02T20:37:25.813757",
     "exception": false,
     "start_time": "2022-07-02T20:37:25.795930",
     "status": "completed"
    },
    "tags": []
   },
   "outputs": [],
   "source": [
    "datagen=ImageDataGenerator(validation_split=0.2)"
   ]
  },
  {
   "cell_type": "code",
   "execution_count": 22,
   "id": "ac7197cd",
   "metadata": {
    "execution": {
     "iopub.execute_input": "2022-07-02T20:37:25.834646Z",
     "iopub.status.busy": "2022-07-02T20:37:25.834410Z",
     "iopub.status.idle": "2022-07-02T20:37:25.838337Z",
     "shell.execute_reply": "2022-07-02T20:37:25.837332Z"
    },
    "papermill": {
     "duration": 0.016724,
     "end_time": "2022-07-02T20:37:25.840589",
     "exception": false,
     "start_time": "2022-07-02T20:37:25.823865",
     "status": "completed"
    },
    "tags": []
   },
   "outputs": [],
   "source": [
    "batch_size = 8"
   ]
  },
  {
   "cell_type": "code",
   "execution_count": 23,
   "id": "8734287c",
   "metadata": {
    "execution": {
     "iopub.execute_input": "2022-07-02T20:37:25.861593Z",
     "iopub.status.busy": "2022-07-02T20:37:25.861358Z",
     "iopub.status.idle": "2022-07-02T20:37:27.020128Z",
     "shell.execute_reply": "2022-07-02T20:37:27.019033Z"
    },
    "papermill": {
     "duration": 1.172066,
     "end_time": "2022-07-02T20:37:27.022517",
     "exception": false,
     "start_time": "2022-07-02T20:37:25.850451",
     "status": "completed"
    },
    "tags": []
   },
   "outputs": [
    {
     "name": "stdout",
     "output_type": "stream",
     "text": [
      "Found 2246 validated image filenames belonging to 23 classes.\n",
      "Found 561 validated image filenames belonging to 23 classes.\n"
     ]
    }
   ],
   "source": [
    "train_generator=datagen.flow_from_dataframe(\n",
    "dataframe=files_df,\n",
    "directory=None,\n",
    "x_col='Files',\n",
    "y_col='Class',\n",
    "subset=\"training\",\n",
    "batch_size=batch_size,\n",
    "seed=42,\n",
    "shuffle=True,\n",
    "class_mode=\"categorical\",\n",
    "# rotation_range=30,\n",
    "# width_shift_range=0.2,\n",
    "# height_shift_range=0.2,\n",
    "# brightness_range=(0.5,1.5),\n",
    "# shear_range=0.2,\n",
    "# zoom_range=0.2,\n",
    "# channel_shift_range=30.0,\n",
    "# fill_mode='nearest',\n",
    "# horizontal_flip=True,\n",
    "# vertical_flip=False,\n",
    "target_size=(256,256))\n",
    "\n",
    "valid_generator=datagen.flow_from_dataframe(\n",
    "dataframe=files_df,\n",
    "directory=None,\n",
    "x_col='Files',\n",
    "y_col='Class',\n",
    "subset=\"validation\",\n",
    "batch_size=batch_size,\n",
    "seed=42,\n",
    "shuffle=True,\n",
    "class_mode=\"categorical\",\n",
    "target_size=(256,256))"
   ]
  },
  {
   "cell_type": "code",
   "execution_count": 24,
   "id": "56abe000",
   "metadata": {
    "execution": {
     "iopub.execute_input": "2022-07-02T20:37:27.045260Z",
     "iopub.status.busy": "2022-07-02T20:37:27.044470Z",
     "iopub.status.idle": "2022-07-02T20:37:27.050402Z",
     "shell.execute_reply": "2022-07-02T20:37:27.049499Z"
    },
    "papermill": {
     "duration": 0.019389,
     "end_time": "2022-07-02T20:37:27.052393",
     "exception": false,
     "start_time": "2022-07-02T20:37:27.033004",
     "status": "completed"
    },
    "tags": []
   },
   "outputs": [],
   "source": [
    "stopping = tf.keras.callbacks.EarlyStopping(\n",
    "        monitor=\"val_accuracy\",\n",
    "        min_delta=0,\n",
    "        patience=15,\n",
    "        verbose=0,\n",
    "        mode=\"auto\",\n",
    "        baseline=None,\n",
    "        restore_best_weights=False,\n",
    "    )\n",
    "\n",
    "checkpoint = tf.keras.callbacks.ModelCheckpoint(\n",
    "        \"best_model\",\n",
    "        monitor=\"val_accuracy\",\n",
    "        mode=\"max\",\n",
    "        save_best_only=True,\n",
    "        save_weights_only=True,\n",
    "    )"
   ]
  },
  {
   "cell_type": "code",
   "execution_count": 25,
   "id": "c25bdc32",
   "metadata": {
    "execution": {
     "iopub.execute_input": "2022-07-02T20:37:27.074347Z",
     "iopub.status.busy": "2022-07-02T20:37:27.073613Z",
     "iopub.status.idle": "2022-07-02T20:50:07.511866Z",
     "shell.execute_reply": "2022-07-02T20:50:07.510807Z"
    },
    "papermill": {
     "duration": 760.451165,
     "end_time": "2022-07-02T20:50:07.513955",
     "exception": false,
     "start_time": "2022-07-02T20:37:27.062790",
     "status": "completed"
    },
    "tags": []
   },
   "outputs": [
    {
     "name": "stderr",
     "output_type": "stream",
     "text": [
      "2022-07-02 20:37:27.191206: I tensorflow/stream_executor/cuda/cuda_gpu_executor.cc:937] successful NUMA node read from SysFS had negative value (-1), but there must be at least one NUMA node, so returning NUMA node zero\n",
      "2022-07-02 20:37:27.349298: I tensorflow/stream_executor/cuda/cuda_gpu_executor.cc:937] successful NUMA node read from SysFS had negative value (-1), but there must be at least one NUMA node, so returning NUMA node zero\n",
      "2022-07-02 20:37:27.350084: I tensorflow/stream_executor/cuda/cuda_gpu_executor.cc:937] successful NUMA node read from SysFS had negative value (-1), but there must be at least one NUMA node, so returning NUMA node zero\n",
      "2022-07-02 20:37:27.351644: I tensorflow/core/platform/cpu_feature_guard.cc:142] This TensorFlow binary is optimized with oneAPI Deep Neural Network Library (oneDNN) to use the following CPU instructions in performance-critical operations:  AVX2 AVX512F FMA\n",
      "To enable them in other operations, rebuild TensorFlow with the appropriate compiler flags.\n",
      "2022-07-02 20:37:27.351940: I tensorflow/stream_executor/cuda/cuda_gpu_executor.cc:937] successful NUMA node read from SysFS had negative value (-1), but there must be at least one NUMA node, so returning NUMA node zero\n",
      "2022-07-02 20:37:27.352794: I tensorflow/stream_executor/cuda/cuda_gpu_executor.cc:937] successful NUMA node read from SysFS had negative value (-1), but there must be at least one NUMA node, so returning NUMA node zero\n",
      "2022-07-02 20:37:27.353559: I tensorflow/stream_executor/cuda/cuda_gpu_executor.cc:937] successful NUMA node read from SysFS had negative value (-1), but there must be at least one NUMA node, so returning NUMA node zero\n",
      "2022-07-02 20:37:29.670555: I tensorflow/stream_executor/cuda/cuda_gpu_executor.cc:937] successful NUMA node read from SysFS had negative value (-1), but there must be at least one NUMA node, so returning NUMA node zero\n",
      "2022-07-02 20:37:29.671395: I tensorflow/stream_executor/cuda/cuda_gpu_executor.cc:937] successful NUMA node read from SysFS had negative value (-1), but there must be at least one NUMA node, so returning NUMA node zero\n",
      "2022-07-02 20:37:29.672082: I tensorflow/stream_executor/cuda/cuda_gpu_executor.cc:937] successful NUMA node read from SysFS had negative value (-1), but there must be at least one NUMA node, so returning NUMA node zero\n",
      "2022-07-02 20:37:29.672708: I tensorflow/core/common_runtime/gpu/gpu_device.cc:1510] Created device /job:localhost/replica:0/task:0/device:GPU:0 with 15403 MB memory:  -> device: 0, name: Tesla P100-PCIE-16GB, pci bus id: 0000:00:04.0, compute capability: 6.0\n"
     ]
    },
    {
     "name": "stdout",
     "output_type": "stream",
     "text": [
      "Downloading data from https://storage.googleapis.com/tensorflow/keras-applications/resnet/resnet50_weights_tf_dim_ordering_tf_kernels_notop.h5\n",
      "94773248/94765736 [==============================] - 0s 0us/step\n",
      "94781440/94765736 [==============================] - 0s 0us/step\n"
     ]
    },
    {
     "name": "stderr",
     "output_type": "stream",
     "text": [
      "2022-07-02 20:37:32.014347: I tensorflow/compiler/mlir/mlir_graph_optimization_pass.cc:185] None of the MLIR Optimization Passes are enabled (registered 2)\n",
      "2022-07-02 20:37:34.421992: I tensorflow/stream_executor/cuda/cuda_dnn.cc:369] Loaded cuDNN version 8005\n"
     ]
    },
    {
     "name": "stdout",
     "output_type": "stream",
     "text": [
      "71/71 [==============================] - 15s 91ms/step - loss: 3.9318 - accuracy: 0.0232\n",
      "loss 3.9317564964294434, acc 0.023172905668616295\n",
      "Epoch 1/50\n",
      "281/281 [==============================] - 31s 99ms/step - loss: 3.2332 - accuracy: 0.0770 - val_loss: 2.8659 - val_accuracy: 0.1533\n",
      "Epoch 2/50\n",
      "281/281 [==============================] - 14s 49ms/step - loss: 2.8338 - accuracy: 0.1518 - val_loss: 2.7368 - val_accuracy: 0.1925\n",
      "Epoch 3/50\n",
      "281/281 [==============================] - 14s 50ms/step - loss: 2.6351 - accuracy: 0.2150 - val_loss: 2.6046 - val_accuracy: 0.2727\n",
      "Epoch 4/50\n",
      "281/281 [==============================] - 14s 50ms/step - loss: 2.4750 - accuracy: 0.2502 - val_loss: 2.5076 - val_accuracy: 0.2674\n",
      "Epoch 5/50\n",
      "281/281 [==============================] - 14s 50ms/step - loss: 2.2781 - accuracy: 0.3099 - val_loss: 2.4296 - val_accuracy: 0.2977\n",
      "Epoch 6/50\n",
      "281/281 [==============================] - 14s 49ms/step - loss: 2.1229 - accuracy: 0.3575 - val_loss: 2.3234 - val_accuracy: 0.3280\n",
      "Epoch 7/50\n",
      "281/281 [==============================] - 16s 57ms/step - loss: 2.0016 - accuracy: 0.3909 - val_loss: 2.2532 - val_accuracy: 0.3547\n",
      "Epoch 8/50\n",
      "281/281 [==============================] - 14s 48ms/step - loss: 1.8704 - accuracy: 0.4421 - val_loss: 2.2355 - val_accuracy: 0.3440\n",
      "Epoch 9/50\n",
      "281/281 [==============================] - 14s 48ms/step - loss: 1.7238 - accuracy: 0.4835 - val_loss: 2.1898 - val_accuracy: 0.3547\n",
      "Epoch 10/50\n",
      "281/281 [==============================] - 14s 51ms/step - loss: 1.6120 - accuracy: 0.5156 - val_loss: 2.1393 - val_accuracy: 0.3832\n",
      "Epoch 11/50\n",
      "281/281 [==============================] - 13s 47ms/step - loss: 1.5446 - accuracy: 0.5392 - val_loss: 2.1066 - val_accuracy: 0.3886\n",
      "Epoch 12/50\n",
      "281/281 [==============================] - 14s 50ms/step - loss: 1.4276 - accuracy: 0.5775 - val_loss: 2.1175 - val_accuracy: 0.3725\n",
      "Epoch 13/50\n",
      "281/281 [==============================] - 14s 48ms/step - loss: 1.3438 - accuracy: 0.6006 - val_loss: 2.0717 - val_accuracy: 0.3761\n",
      "Epoch 14/50\n",
      "281/281 [==============================] - 14s 51ms/step - loss: 1.2974 - accuracy: 0.6042 - val_loss: 2.0641 - val_accuracy: 0.4064\n",
      "Epoch 15/50\n",
      "281/281 [==============================] - 14s 48ms/step - loss: 1.1925 - accuracy: 0.6487 - val_loss: 2.0365 - val_accuracy: 0.3904\n",
      "Epoch 16/50\n",
      "281/281 [==============================] - 14s 48ms/step - loss: 1.1313 - accuracy: 0.6687 - val_loss: 1.9868 - val_accuracy: 0.4189\n",
      "Epoch 17/50\n",
      "281/281 [==============================] - 14s 50ms/step - loss: 1.0495 - accuracy: 0.7057 - val_loss: 1.9694 - val_accuracy: 0.4367\n",
      "Epoch 18/50\n",
      "281/281 [==============================] - 14s 48ms/step - loss: 0.9793 - accuracy: 0.7213 - val_loss: 1.9810 - val_accuracy: 0.4225\n",
      "Epoch 19/50\n",
      "281/281 [==============================] - 15s 52ms/step - loss: 0.9379 - accuracy: 0.7418 - val_loss: 1.9688 - val_accuracy: 0.4189\n",
      "Epoch 20/50\n",
      "281/281 [==============================] - 14s 48ms/step - loss: 0.9005 - accuracy: 0.7498 - val_loss: 1.9841 - val_accuracy: 0.4421\n",
      "Epoch 21/50\n",
      "281/281 [==============================] - 17s 60ms/step - loss: 0.8309 - accuracy: 0.7814 - val_loss: 1.9528 - val_accuracy: 0.4064\n",
      "Epoch 22/50\n",
      "281/281 [==============================] - 14s 49ms/step - loss: 0.7815 - accuracy: 0.7934 - val_loss: 1.9557 - val_accuracy: 0.4349\n",
      "Epoch 23/50\n",
      "281/281 [==============================] - 14s 52ms/step - loss: 0.7531 - accuracy: 0.7992 - val_loss: 1.9675 - val_accuracy: 0.4278\n",
      "Epoch 24/50\n",
      "281/281 [==============================] - 13s 48ms/step - loss: 0.6887 - accuracy: 0.8237 - val_loss: 1.9291 - val_accuracy: 0.4314\n",
      "Epoch 25/50\n",
      "281/281 [==============================] - 15s 52ms/step - loss: 0.6617 - accuracy: 0.8290 - val_loss: 1.9201 - val_accuracy: 0.4403\n",
      "Epoch 26/50\n",
      "281/281 [==============================] - 14s 49ms/step - loss: 0.6245 - accuracy: 0.8451 - val_loss: 1.9675 - val_accuracy: 0.4064\n",
      "Epoch 27/50\n",
      "281/281 [==============================] - 14s 49ms/step - loss: 0.5832 - accuracy: 0.8531 - val_loss: 1.9243 - val_accuracy: 0.4439\n",
      "Epoch 28/50\n",
      "281/281 [==============================] - 14s 51ms/step - loss: 0.5541 - accuracy: 0.8673 - val_loss: 1.8999 - val_accuracy: 0.4314\n",
      "Epoch 29/50\n",
      "281/281 [==============================] - 14s 49ms/step - loss: 0.5348 - accuracy: 0.8789 - val_loss: 1.9549 - val_accuracy: 0.4207\n",
      "Epoch 30/50\n",
      "281/281 [==============================] - 14s 50ms/step - loss: 0.5038 - accuracy: 0.8811 - val_loss: 1.9442 - val_accuracy: 0.4207\n",
      "Epoch 31/50\n",
      "281/281 [==============================] - 14s 48ms/step - loss: 0.4847 - accuracy: 0.8811 - val_loss: 1.9373 - val_accuracy: 0.4296\n",
      "Epoch 32/50\n",
      "281/281 [==============================] - 14s 51ms/step - loss: 0.4466 - accuracy: 0.8958 - val_loss: 1.9230 - val_accuracy: 0.4439\n",
      "Epoch 33/50\n",
      "281/281 [==============================] - 14s 49ms/step - loss: 0.4289 - accuracy: 0.9016 - val_loss: 1.9485 - val_accuracy: 0.4332\n",
      "Epoch 34/50\n",
      "281/281 [==============================] - 14s 48ms/step - loss: 0.3836 - accuracy: 0.9181 - val_loss: 1.9219 - val_accuracy: 0.4332\n",
      "Epoch 35/50\n",
      "281/281 [==============================] - 14s 50ms/step - loss: 0.3658 - accuracy: 0.9305 - val_loss: 1.9381 - val_accuracy: 0.4367\n",
      "Epoch 36/50\n",
      "281/281 [==============================] - 14s 49ms/step - loss: 0.3537 - accuracy: 0.9234 - val_loss: 1.9356 - val_accuracy: 0.4635\n",
      "Epoch 37/50\n",
      "281/281 [==============================] - 14s 51ms/step - loss: 0.3312 - accuracy: 0.9328 - val_loss: 1.9059 - val_accuracy: 0.4563\n",
      "Epoch 38/50\n",
      "281/281 [==============================] - 14s 49ms/step - loss: 0.3464 - accuracy: 0.9190 - val_loss: 1.9829 - val_accuracy: 0.4421\n",
      "Epoch 39/50\n",
      "281/281 [==============================] - 14s 50ms/step - loss: 0.2872 - accuracy: 0.9457 - val_loss: 1.9717 - val_accuracy: 0.4421\n",
      "Epoch 40/50\n",
      "281/281 [==============================] - 14s 50ms/step - loss: 0.2955 - accuracy: 0.9443 - val_loss: 1.9712 - val_accuracy: 0.4314\n",
      "Epoch 41/50\n",
      "281/281 [==============================] - 13s 48ms/step - loss: 0.2923 - accuracy: 0.9399 - val_loss: 1.9768 - val_accuracy: 0.4385\n",
      "Epoch 42/50\n",
      "281/281 [==============================] - 14s 50ms/step - loss: 0.2545 - accuracy: 0.9568 - val_loss: 1.9536 - val_accuracy: 0.4581\n",
      "Epoch 43/50\n",
      "281/281 [==============================] - 14s 49ms/step - loss: 0.2386 - accuracy: 0.9581 - val_loss: 1.9907 - val_accuracy: 0.4367\n",
      "Epoch 44/50\n",
      "281/281 [==============================] - 14s 51ms/step - loss: 0.2363 - accuracy: 0.9564 - val_loss: 1.9923 - val_accuracy: 0.4296\n",
      "Epoch 45/50\n",
      "281/281 [==============================] - 14s 49ms/step - loss: 0.2184 - accuracy: 0.9586 - val_loss: 1.9945 - val_accuracy: 0.4510\n",
      "Epoch 46/50\n",
      "281/281 [==============================] - 14s 49ms/step - loss: 0.2113 - accuracy: 0.9648 - val_loss: 2.0036 - val_accuracy: 0.4332\n",
      "Epoch 47/50\n",
      "281/281 [==============================] - 14s 49ms/step - loss: 0.2014 - accuracy: 0.9604 - val_loss: 2.0482 - val_accuracy: 0.4332\n",
      "Epoch 48/50\n",
      "281/281 [==============================] - 14s 49ms/step - loss: 0.1742 - accuracy: 0.9702 - val_loss: 2.0272 - val_accuracy: 0.4492\n",
      "Epoch 49/50\n",
      "281/281 [==============================] - 14s 50ms/step - loss: 0.1695 - accuracy: 0.9760 - val_loss: 2.0300 - val_accuracy: 0.4314\n",
      "Epoch 50/50\n",
      "281/281 [==============================] - 14s 48ms/step - loss: 0.1692 - accuracy: 0.9715 - val_loss: 2.0611 - val_accuracy: 0.4545\n",
      "71/71 [==============================] - 3s 41ms/step - loss: 1.9356 - accuracy: 0.4635\n",
      "final loss 1.9355888366699219, final acc 0.4634581208229065\n"
     ]
    }
   ],
   "source": [
    "base_model = tf.keras.applications.ResNet50(weights='imagenet', input_shape=(256, 256, 3), classes=len(classes), include_top = False)\n",
    "\n",
    "\n",
    "# Based on https://pyimagesearch.com/2020/04/27/fine-tuning-resnet-with-keras-tensorflow-and-deep-learning/\n",
    "\n",
    "# construct the head of the model that will be placed on top of the\n",
    "# the base model\n",
    "headModel = base_model.output\n",
    "headModel = AveragePooling2D(pool_size=(7, 7))(headModel)\n",
    "headModel = Flatten(name=\"flatten\")(headModel)\n",
    "headModel = Dense(256, activation=\"relu\")(headModel)\n",
    "headModel = Dropout(0.5)(headModel)\n",
    "headModel = Dense(len(classes), activation=\"softmax\")(headModel)\n",
    "# place the head FC model on top of the base model (this will become\n",
    "# the actual model we will train)\n",
    "model = Model(inputs=base_model.input, outputs=headModel)\n",
    "# loop over all layers in the base model and freeze them so they will\n",
    "# *not* be updated during the training process\n",
    "for layer in base_model.layers:\n",
    "    layer.trainable = False\n",
    "    \n",
    "model.compile(\n",
    "        optimizer=tf.keras.optimizers.Adam(learning_rate=0.0001),\n",
    "        loss=tf.keras.losses.CategoricalCrossentropy(),#from_logits=True),\n",
    "        metrics=[\"accuracy\"]\n",
    "    )\n",
    " \n",
    "loss_0, acc_0 = model.evaluate(valid_generator)\n",
    "print(f\"loss {loss_0}, acc {acc_0}\")\n",
    "    \n",
    "\n",
    "history = model.fit(\n",
    "        train_generator,\n",
    "        validation_data=valid_generator,\n",
    "        epochs=50,\n",
    "        callbacks=[stopping, checkpoint]\n",
    ")\n",
    "\n",
    "model.load_weights(\"best_model\")\n",
    "\n",
    "loss, acc = model.evaluate(valid_generator)\n",
    "print(f\"final loss {loss}, final acc {acc}\")"
   ]
  },
  {
   "cell_type": "code",
   "execution_count": 26,
   "id": "10bf34fd",
   "metadata": {
    "execution": {
     "iopub.execute_input": "2022-07-02T20:50:08.458807Z",
     "iopub.status.busy": "2022-07-02T20:50:08.458466Z",
     "iopub.status.idle": "2022-07-02T20:50:08.821713Z",
     "shell.execute_reply": "2022-07-02T20:50:08.820797Z"
    },
    "papermill": {
     "duration": 0.836296,
     "end_time": "2022-07-02T20:50:08.823876",
     "exception": false,
     "start_time": "2022-07-02T20:50:07.987580",
     "status": "completed"
    },
    "tags": []
   },
   "outputs": [
    {
     "data": {
      "image/png": "[encoded data removed]",
      "text/plain": [
       "<Figure size 432x288 with 1 Axes>"
      ]
     },
     "metadata": {
      "needs_background": "light"
     },
     "output_type": "display_data"
    },
    {
     "data": {
      "image/png": "[encoded data removed]",
      "text/plain": [
       "<Figure size 432x288 with 1 Axes>"
      ]
     },
     "metadata": {
      "needs_background": "light"
     },
     "output_type": "display_data"
    }
   ],
   "source": [
    "# summarize history for accuracy\n",
    "plt.plot(history.history['accuracy'])\n",
    "plt.plot(history.history['val_accuracy'])\n",
    "plt.title('model accuracy')\n",
    "plt.ylabel('accuracy')\n",
    "plt.xlabel('epoch')\n",
    "plt.legend(['train', 'val'], loc='upper left')\n",
    "plt.show()\n",
    "# summarize history for loss\n",
    "plt.plot(history.history['loss'])\n",
    "plt.plot(history.history['val_loss'])\n",
    "plt.title('model loss')\n",
    "plt.ylabel('loss')\n",
    "plt.xlabel('epoch')\n",
    "plt.legend(['train', 'val'], loc='upper left')\n",
    "plt.show()"
   ]
  },
  {
   "cell_type": "code",
   "execution_count": 27,
   "id": "9a004a6d",
   "metadata": {
    "execution": {
     "iopub.execute_input": "2022-07-02T20:50:09.828471Z",
     "iopub.status.busy": "2022-07-02T20:50:09.828001Z",
     "iopub.status.idle": "2022-07-02T20:50:09.833000Z",
     "shell.execute_reply": "2022-07-02T20:50:09.832028Z"
    },
    "papermill": {
     "duration": 0.536536,
     "end_time": "2022-07-02T20:50:09.834900",
     "exception": false,
     "start_time": "2022-07-02T20:50:09.298364",
     "status": "completed"
    },
    "tags": []
   },
   "outputs": [],
   "source": [
    "index_classes_dict = {k: v for v, k in enumerate(classes)}"
   ]
  },
  {
   "cell_type": "code",
   "execution_count": 28,
   "id": "cadd8707",
   "metadata": {
    "execution": {
     "iopub.execute_input": "2022-07-02T20:50:10.787682Z",
     "iopub.status.busy": "2022-07-02T20:50:10.787269Z",
     "iopub.status.idle": "2022-07-02T20:50:10.792155Z",
     "shell.execute_reply": "2022-07-02T20:50:10.791012Z"
    },
    "papermill": {
     "duration": 0.481433,
     "end_time": "2022-07-02T20:50:10.794490",
     "exception": false,
     "start_time": "2022-07-02T20:50:10.313057",
     "status": "completed"
    },
    "tags": []
   },
   "outputs": [],
   "source": [
    "index_classes_list = list(index_classes_dict.values())"
   ]
  },
  {
   "cell_type": "code",
   "execution_count": 29,
   "id": "76820669",
   "metadata": {
    "execution": {
     "iopub.execute_input": "2022-07-02T20:50:12.333694Z",
     "iopub.status.busy": "2022-07-02T20:50:12.333360Z",
     "iopub.status.idle": "2022-07-02T20:50:12.337981Z",
     "shell.execute_reply": "2022-07-02T20:50:12.337048Z"
    },
    "papermill": {
     "duration": 0.815903,
     "end_time": "2022-07-02T20:50:12.340010",
     "exception": false,
     "start_time": "2022-07-02T20:50:11.524107",
     "status": "completed"
    },
    "tags": []
   },
   "outputs": [],
   "source": [
    "inv_index_classes_dict = {v: k for k, v in index_classes_dict.items()}"
   ]
  },
  {
   "cell_type": "code",
   "execution_count": 30,
   "id": "2ae9b335",
   "metadata": {
    "execution": {
     "iopub.execute_input": "2022-07-02T20:50:13.336378Z",
     "iopub.status.busy": "2022-07-02T20:50:13.336011Z",
     "iopub.status.idle": "2022-07-02T20:50:13.340693Z",
     "shell.execute_reply": "2022-07-02T20:50:13.339664Z"
    },
    "papermill": {
     "duration": 0.529735,
     "end_time": "2022-07-02T20:50:13.343457",
     "exception": false,
     "start_time": "2022-07-02T20:50:12.813722",
     "status": "completed"
    },
    "tags": []
   },
   "outputs": [],
   "source": [
    "inv_index_classes_list = list(inv_index_classes_dict.values())"
   ]
  },
  {
   "cell_type": "code",
   "execution_count": 31,
   "id": "e5890bb7",
   "metadata": {
    "execution": {
     "iopub.execute_input": "2022-07-02T20:50:14.301376Z",
     "iopub.status.busy": "2022-07-02T20:50:14.300675Z",
     "iopub.status.idle": "2022-07-02T20:50:22.702841Z",
     "shell.execute_reply": "2022-07-02T20:50:22.701856Z"
    },
    "papermill": {
     "duration": 8.883027,
     "end_time": "2022-07-02T20:50:22.705353",
     "exception": false,
     "start_time": "2022-07-02T20:50:13.822326",
     "status": "completed"
    },
    "tags": []
   },
   "outputs": [],
   "source": [
    "y_pred = []  # store predicted labels\n",
    "y_true = []  # store true labels\n",
    "i = 0\n",
    "# iterate over the dataset\n",
    "for image_batch, label_batch in valid_generator:\n",
    "    # use dataset.unbatch() with repeat\n",
    "    # append true labels\n",
    "    y_true.append(label_batch)\n",
    "    # compute predictions\n",
    "    preds = model.predict(image_batch)\n",
    "    # append predicted labels\n",
    "    y_pred.append(np.argmax(preds, axis = - 1))\n",
    "    i+=1\n",
    "    if i == len(valid_generator): # A generator runs infinitely, \n",
    "        # so here I am running the valid gen once so all samples are seen\n",
    "        # The gen length is valid split * total samples / batch size\n",
    "        # 0.2*759/8 = 19\n",
    "        break\n",
    "\n",
    "\n",
    "# convert the true and predicted labels into tensors\n",
    "correct_labels = tf.concat([item for item in y_true], axis = 0)\n",
    "correct_labels = np.argmax(correct_labels,axis=1)\n",
    "predicted_labels = tf.concat([item for item in y_pred], axis = 0)"
   ]
  },
  {
   "cell_type": "code",
   "execution_count": 32,
   "id": "6cc0512a",
   "metadata": {
    "execution": {
     "iopub.execute_input": "2022-07-02T20:50:23.703309Z",
     "iopub.status.busy": "2022-07-02T20:50:23.702905Z",
     "iopub.status.idle": "2022-07-02T20:50:23.709156Z",
     "shell.execute_reply": "2022-07-02T20:50:23.708198Z"
    },
    "papermill": {
     "duration": 0.484509,
     "end_time": "2022-07-02T20:50:23.711187",
     "exception": false,
     "start_time": "2022-07-02T20:50:23.226678",
     "status": "completed"
    },
    "tags": []
   },
   "outputs": [],
   "source": [
    "names_correct_labels = np.vectorize(inv_index_classes_dict.get)(correct_labels)\n",
    "names_predicted_labels = np.vectorize(inv_index_classes_dict.get)(predicted_labels)"
   ]
  },
  {
   "cell_type": "code",
   "execution_count": 33,
   "id": "b4633249",
   "metadata": {
    "execution": {
     "iopub.execute_input": "2022-07-02T20:50:24.733935Z",
     "iopub.status.busy": "2022-07-02T20:50:24.733544Z",
     "iopub.status.idle": "2022-07-02T20:50:27.094605Z",
     "shell.execute_reply": "2022-07-02T20:50:27.093191Z"
    },
    "papermill": {
     "duration": 2.907601,
     "end_time": "2022-07-02T20:50:27.096944",
     "exception": false,
     "start_time": "2022-07-02T20:50:24.189343",
     "status": "completed"
    },
    "tags": []
   },
   "outputs": [
    {
     "data": {
      "image/png": "[encoded data removed]",
      "text/plain": [
       "<Figure size 1296x1296 with 1 Axes>"
      ]
     },
     "metadata": {
      "needs_background": "light"
     },
     "output_type": "display_data"
    }
   ],
   "source": [
    "cm = confusion_matrix(correct_labels, predicted_labels, labels=index_classes_list, normalize='true')\n",
    "fig = plt.figure(figsize = (18,18))\n",
    "ax1 = fig.add_subplot(1,1,1)\n",
    "sns.set(font_scale=1.2) #for label size\n",
    "sns.heatmap(cm, annot=True, annot_kws={\"size\": 12},\n",
    "     cbar = False, cmap='Purples', fmt='.2f', \n",
    "            xticklabels=inv_index_classes_list, yticklabels=inv_index_classes_list);\n",
    "ax1.set_ylabel('True Values',fontsize=12)\n",
    "ax1.set_xlabel('Predicted Values',fontsize=12)\n",
    "plt.show()"
   ]
  },
  {
   "cell_type": "code",
   "execution_count": 34,
   "id": "17d14406",
   "metadata": {
    "execution": {
     "iopub.execute_input": "2022-07-02T20:50:28.110175Z",
     "iopub.status.busy": "2022-07-02T20:50:28.109802Z",
     "iopub.status.idle": "2022-07-02T20:50:30.059942Z",
     "shell.execute_reply": "2022-07-02T20:50:30.059047Z"
    },
    "papermill": {
     "duration": 2.437011,
     "end_time": "2022-07-02T20:50:30.062765",
     "exception": false,
     "start_time": "2022-07-02T20:50:27.625754",
     "status": "completed"
    },
    "tags": []
   },
   "outputs": [
    {
     "data": {
      "image/png": "[encoded data removed]",
      "text/plain": [
       "<Figure size 1296x1296 with 1 Axes>"
      ]
     },
     "metadata": {},
     "output_type": "display_data"
    }
   ],
   "source": [
    "cm = confusion_matrix(correct_labels, predicted_labels, labels=index_classes_list)\n",
    "fig = plt.figure(figsize = (18,18))\n",
    "ax1 = fig.add_subplot(1,1,1)\n",
    "sns.set(font_scale=1.2) #for label size\n",
    "sns.heatmap(cm, annot=True, annot_kws={\"size\": 12},\n",
    "     cbar = False, cmap='Purples', fmt='d',\n",
    "           xticklabels=inv_index_classes_list, yticklabels=inv_index_classes_list);\n",
    "ax1.set_ylabel('True Values',fontsize=12)\n",
    "ax1.set_xlabel('Predicted Values',fontsize=12)\n",
    "plt.show()"
   ]
  },
  {
   "cell_type": "code",
   "execution_count": 35,
   "id": "0a07192b",
   "metadata": {
    "execution": {
     "iopub.execute_input": "2022-07-02T20:50:31.057417Z",
     "iopub.status.busy": "2022-07-02T20:50:31.057053Z",
     "iopub.status.idle": "2022-07-02T20:50:31.066120Z",
     "shell.execute_reply": "2022-07-02T20:50:31.065195Z"
    },
    "papermill": {
     "duration": 0.490529,
     "end_time": "2022-07-02T20:50:31.068183",
     "exception": false,
     "start_time": "2022-07-02T20:50:30.577654",
     "status": "completed"
    },
    "tags": []
   },
   "outputs": [
    {
     "data": {
      "text/plain": [
       "0.4"
      ]
     },
     "execution_count": 35,
     "metadata": {},
     "output_type": "execute_result"
    }
   ],
   "source": [
    "FN = cm.sum(axis=1) - np.diag(cm)\n",
    "TP = np.diag(cm)\n",
    "FP = cm.sum(axis=0) - np.diag(cm)\n",
    "TN = cm.sum() - (FP + FN + TP)\n",
    "\n",
    "# from https://stackoverflow.com/questions/31324218/scikit-learn-how-to-obtain-true-positive-true-negative-false-positive-and-fal\n",
    "# Sensitivity, hit rate, recall, or true positive rate\n",
    "TPR = TP/(TP+FN)\n",
    "TPR[18]"
   ]
  },
  {
   "cell_type": "code",
   "execution_count": 36,
   "id": "ed30f25b",
   "metadata": {
    "execution": {
     "iopub.execute_input": "2022-07-02T20:50:32.062105Z",
     "iopub.status.busy": "2022-07-02T20:50:32.061756Z",
     "iopub.status.idle": "2022-07-02T20:50:32.066170Z",
     "shell.execute_reply": "2022-07-02T20:50:32.065253Z"
    },
    "papermill": {
     "duration": 0.522891,
     "end_time": "2022-07-02T20:50:32.068249",
     "exception": false,
     "start_time": "2022-07-02T20:50:31.545358",
     "status": "completed"
    },
    "tags": []
   },
   "outputs": [],
   "source": [
    "F1 = TP/(TP+(FP+FN)/2)"
   ]
  },
  {
   "cell_type": "code",
   "execution_count": 37,
   "id": "f9c6670f",
   "metadata": {
    "execution": {
     "iopub.execute_input": "2022-07-02T20:50:33.020106Z",
     "iopub.status.busy": "2022-07-02T20:50:33.019759Z",
     "iopub.status.idle": "2022-07-02T20:50:33.041675Z",
     "shell.execute_reply": "2022-07-02T20:50:33.040193Z"
    },
    "papermill": {
     "duration": 0.499828,
     "end_time": "2022-07-02T20:50:33.043822",
     "exception": false,
     "start_time": "2022-07-02T20:50:32.543994",
     "status": "completed"
    },
    "tags": []
   },
   "outputs": [
    {
     "name": "stdout",
     "output_type": "stream",
     "text": [
      "               True positives  False positives  True negatives  \\\n",
      "Kleats                   11.0             28.0           498.0   \n",
      "Midge                     7.0              2.0           551.0   \n",
      "Dilton                   26.0             15.0           506.0   \n",
      "Pop Tate                 15.0             12.0           527.0   \n",
      "Reggie                   14.0              7.0           524.0   \n",
      "Jughead                   2.0              5.0           543.0   \n",
      "Grundy                    2.0              3.0           549.0   \n",
      "Ethel                    11.0              8.0           523.0   \n",
      "Weatherbee               20.0             17.0           509.0   \n",
      "Harry Clayton             1.0              0.0           555.0   \n",
      "Smithers                 21.0             22.0           493.0   \n",
      "Svenson                  30.0             38.0           477.0   \n",
      "Moose                     1.0              2.0           552.0   \n",
      "Chuck                     5.0              6.0           539.0   \n",
      "Nancy                    13.0             17.0           515.0   \n",
      "Veronica                  4.0              0.0           551.0   \n",
      "Flutesnoot                5.0             20.0           509.0   \n",
      "Fred Andrews              9.0              5.0           538.0   \n",
      "Archie                   12.0             30.0           501.0   \n",
      "Betty                     0.0              2.0           545.0   \n",
      "Beazley                   2.0              2.0           553.0   \n",
      "Hiram Lodge              29.0             34.0           485.0   \n",
      "Others                   20.0             26.0           498.0   \n",
      "Total                   260.0            301.0         12041.0   \n",
      "\n",
      "               False negatives  F1 score  \n",
      "Kleats                    24.0      0.30  \n",
      "Midge                      1.0      0.82  \n",
      "Dilton                    14.0      0.64  \n",
      "Pop Tate                   7.0      0.61  \n",
      "Reggie                    16.0      0.55  \n",
      "Jughead                   11.0      0.20  \n",
      "Grundy                     7.0      0.29  \n",
      "Ethel                     19.0      0.45  \n",
      "Weatherbee                15.0      0.56  \n",
      "Harry Clayton              5.0      0.29  \n",
      "Smithers                  25.0      0.47  \n",
      "Svenson                   16.0      0.53  \n",
      "Moose                      6.0      0.20  \n",
      "Chuck                     11.0      0.37  \n",
      "Nancy                     16.0      0.44  \n",
      "Veronica                   6.0      0.57  \n",
      "Flutesnoot                27.0      0.18  \n",
      "Fred Andrews               9.0      0.56  \n",
      "Archie                    18.0      0.33  \n",
      "Betty                     14.0      0.00  \n",
      "Beazley                    4.0      0.40  \n",
      "Hiram Lodge               13.0      0.55  \n",
      "Others                    17.0      0.48  \n",
      "Total                    301.0       NaN  \n"
     ]
    }
   ],
   "source": [
    "df_from_arr_2 = pd.DataFrame(data=[TP, FP, TN, FN, F1]).T\n",
    "df_from_arr_2.rename(columns={0: \"True positives\", 1: \"False positives\",\n",
    "                           2: \"True negatives\", 3: \"False negatives\", 4: \"F1 score\"}, inplace = True)\n",
    "df_from_arr_2.index = classes\n",
    "df_from_arr_2[\"F1 score\"] = df_from_arr_2[\"F1 score\"].round(2)\n",
    "\n",
    "#Total sum per column: \n",
    "df_from_arr_2.loc['Total']= df_from_arr_2.sum(axis=0)\n",
    "df_from_arr_2.iloc[-1,-1]= np.nan\n",
    "\n",
    "print(df_from_arr_2)"
   ]
  },
  {
   "cell_type": "code",
   "execution_count": 38,
   "id": "44ec6cb1",
   "metadata": {
    "execution": {
     "iopub.execute_input": "2022-07-02T20:50:34.048753Z",
     "iopub.status.busy": "2022-07-02T20:50:34.048404Z",
     "iopub.status.idle": "2022-07-02T20:50:34.056596Z",
     "shell.execute_reply": "2022-07-02T20:50:34.055191Z"
    },
    "papermill": {
     "duration": 0.489737,
     "end_time": "2022-07-02T20:50:34.058808",
     "exception": false,
     "start_time": "2022-07-02T20:50:33.569071",
     "status": "completed"
    },
    "tags": []
   },
   "outputs": [
    {
     "data": {
      "text/plain": [
       "0.43"
      ]
     },
     "execution_count": 38,
     "metadata": {},
     "output_type": "execute_result"
    }
   ],
   "source": [
    "macro_F1 = round(df_from_arr_2[\"F1 score\"].mean(),2)\n",
    "macro_F1"
   ]
  },
  {
   "cell_type": "code",
   "execution_count": 39,
   "id": "ed809d3b",
   "metadata": {
    "execution": {
     "iopub.execute_input": "2022-07-02T20:50:35.071331Z",
     "iopub.status.busy": "2022-07-02T20:50:35.070950Z",
     "iopub.status.idle": "2022-07-02T20:50:35.078982Z",
     "shell.execute_reply": "2022-07-02T20:50:35.078052Z"
    },
    "papermill": {
     "duration": 0.53767,
     "end_time": "2022-07-02T20:50:35.081623",
     "exception": false,
     "start_time": "2022-07-02T20:50:34.543953",
     "status": "completed"
    },
    "tags": []
   },
   "outputs": [
    {
     "data": {
      "text/plain": [
       "0.46"
      ]
     },
     "execution_count": 39,
     "metadata": {},
     "output_type": "execute_result"
    }
   ],
   "source": [
    "micro_F1 = df_from_arr_2.iloc[-1,0]/(df_from_arr_2.iloc[-1,0]+0.5*(df_from_arr_2.iloc[-1,1]+df_from_arr_2.iloc[-1,3]))\n",
    "micro_F1 = round(micro_F1,2)\n",
    "micro_F1"
   ]
  },
  {
   "cell_type": "code",
   "execution_count": 40,
   "id": "9ffd746b",
   "metadata": {
    "execution": {
     "iopub.execute_input": "2022-07-02T20:50:36.037656Z",
     "iopub.status.busy": "2022-07-02T20:50:36.036927Z",
     "iopub.status.idle": "2022-07-02T20:50:36.051475Z",
     "shell.execute_reply": "2022-07-02T20:50:36.049964Z"
    },
    "papermill": {
     "duration": 0.497828,
     "end_time": "2022-07-02T20:50:36.053597",
     "exception": false,
     "start_time": "2022-07-02T20:50:35.555769",
     "status": "completed"
    },
    "tags": []
   },
   "outputs": [
    {
     "name": "stdout",
     "output_type": "stream",
     "text": [
      "|               |   True positives |   False positives |   True negatives |   False negatives |   F1 score |\n",
      "|:--------------|-----------------:|------------------:|-----------------:|------------------:|-----------:|\n",
      "| Kleats        |               11 |                28 |              498 |                24 |       0.3  |\n",
      "| Midge         |                7 |                 2 |              551 |                 1 |       0.82 |\n",
      "| Dilton        |               26 |                15 |              506 |                14 |       0.64 |\n",
      "| Pop Tate      |               15 |                12 |              527 |                 7 |       0.61 |\n",
      "| Reggie        |               14 |                 7 |              524 |                16 |       0.55 |\n",
      "| Jughead       |                2 |                 5 |              543 |                11 |       0.2  |\n",
      "| Grundy        |                2 |                 3 |              549 |                 7 |       0.29 |\n",
      "| Ethel         |               11 |                 8 |              523 |                19 |       0.45 |\n",
      "| Weatherbee    |               20 |                17 |              509 |                15 |       0.56 |\n",
      "| Harry Clayton |                1 |                 0 |              555 |                 5 |       0.29 |\n",
      "| Smithers      |               21 |                22 |              493 |                25 |       0.47 |\n",
      "| Svenson       |               30 |                38 |              477 |                16 |       0.53 |\n",
      "| Moose         |                1 |                 2 |              552 |                 6 |       0.2  |\n",
      "| Chuck         |                5 |                 6 |              539 |                11 |       0.37 |\n",
      "| Nancy         |               13 |                17 |              515 |                16 |       0.44 |\n",
      "| Veronica      |                4 |                 0 |              551 |                 6 |       0.57 |\n",
      "| Flutesnoot    |                5 |                20 |              509 |                27 |       0.18 |\n",
      "| Fred Andrews  |                9 |                 5 |              538 |                 9 |       0.56 |\n",
      "| Archie        |               12 |                30 |              501 |                18 |       0.33 |\n",
      "| Betty         |                0 |                 2 |              545 |                14 |       0    |\n",
      "| Beazley       |                2 |                 2 |              553 |                 4 |       0.4  |\n",
      "| Hiram Lodge   |               29 |                34 |              485 |                13 |       0.55 |\n",
      "| Others        |               20 |                26 |              498 |                17 |       0.48 |\n",
      "| Total         |              260 |               301 |            12041 |               301 |     nan    |\n"
     ]
    }
   ],
   "source": [
    "print(df_from_arr_2.to_markdown()) "
   ]
  },
  {
   "cell_type": "code",
   "execution_count": 41,
   "id": "eed2c1b1",
   "metadata": {
    "execution": {
     "iopub.execute_input": "2022-07-02T20:50:37.057708Z",
     "iopub.status.busy": "2022-07-02T20:50:37.057364Z",
     "iopub.status.idle": "2022-07-02T20:50:37.065226Z",
     "shell.execute_reply": "2022-07-02T20:50:37.064174Z"
    },
    "papermill": {
     "duration": 0.487667,
     "end_time": "2022-07-02T20:50:37.067319",
     "exception": false,
     "start_time": "2022-07-02T20:50:36.579652",
     "status": "completed"
    },
    "tags": []
   },
   "outputs": [],
   "source": [
    "MCC = matthews_corrcoef(correct_labels, predicted_labels)"
   ]
  },
  {
   "cell_type": "code",
   "execution_count": 42,
   "id": "7b70309c",
   "metadata": {
    "execution": {
     "iopub.execute_input": "2022-07-02T20:50:38.068922Z",
     "iopub.status.busy": "2022-07-02T20:50:38.068568Z",
     "iopub.status.idle": "2022-07-02T20:50:38.075057Z",
     "shell.execute_reply": "2022-07-02T20:50:38.074045Z"
    },
    "papermill": {
     "duration": 0.533804,
     "end_time": "2022-07-02T20:50:38.077152",
     "exception": false,
     "start_time": "2022-07-02T20:50:37.543348",
     "status": "completed"
    },
    "tags": []
   },
   "outputs": [
    {
     "data": {
      "text/plain": [
       "0.4298405132485255"
      ]
     },
     "execution_count": 42,
     "metadata": {},
     "output_type": "execute_result"
    }
   ],
   "source": [
    "MCC"
   ]
  }
 ],
 "metadata": {
  "kernelspec": {
   "display_name": "Python 3",
   "language": "python",
   "name": "python3"
  },
  "language_info": {
   "codemirror_mode": {
    "name": "ipython",
    "version": 3
   },
   "file_extension": ".py",
   "mimetype": "text/x-python",
   "name": "python",
   "nbconvert_exporter": "python",
   "pygments_lexer": "ipython3",
   "version": "3.7.12"
  },
  "papermill": {
   "default_parameters": {},
   "duration": 815.04656,
   "end_time": "2022-07-02T20:50:41.922837",
   "environment_variables": {},
   "exception": null,
   "input_path": "__notebook__.ipynb",
   "output_path": "__notebook__.ipynb",
   "parameters": {},
   "start_time": "2022-07-02T20:37:06.876277",
   "version": "2.3.4"
  }
 },
 "nbformat": 4,
 "nbformat_minor": 5
}
