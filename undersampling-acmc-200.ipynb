{
 "cells": [
  {
   "cell_type": "code",
   "execution_count": 1,
   "id": "2a2cfd1f",
   "metadata": {
    "execution": {
     "iopub.execute_input": "2022-06-30T22:41:19.263179Z",
     "iopub.status.busy": "2022-06-30T22:41:19.262611Z",
     "iopub.status.idle": "2022-06-30T22:41:25.397879Z",
     "shell.execute_reply": "2022-06-30T22:41:25.396823Z"
    },
    "papermill": {
     "duration": 6.150357,
     "end_time": "2022-06-30T22:41:25.400899",
     "exception": false,
     "start_time": "2022-06-30T22:41:19.250542",
     "status": "completed"
    },
    "tags": []
   },
   "outputs": [],
   "source": [
    "import tensorflow as tf\n",
    "from tensorflow import keras\n",
    "import numpy as np\n",
    "import matplotlib.pyplot as plt\n",
    "import matplotlib.image as mpimg\n",
    "import os\n",
    "import pandas as pd\n",
    "import seaborn as sns\n",
    "import random\n",
    "from PIL import Image\n",
    "import cv2\n",
    "from matplotlib import rcParams\n",
    "import re"
   ]
  },
  {
   "cell_type": "code",
   "execution_count": 2,
   "id": "e6e6e410",
   "metadata": {
    "execution": {
     "iopub.execute_input": "2022-06-30T22:41:25.421766Z",
     "iopub.status.busy": "2022-06-30T22:41:25.421231Z",
     "iopub.status.idle": "2022-06-30T22:41:26.723632Z",
     "shell.execute_reply": "2022-06-30T22:41:26.722528Z"
    },
    "papermill": {
     "duration": 1.315674,
     "end_time": "2022-06-30T22:41:26.726430",
     "exception": false,
     "start_time": "2022-06-30T22:41:25.410756",
     "status": "completed"
    },
    "tags": []
   },
   "outputs": [],
   "source": [
    "from keras_preprocessing.image import ImageDataGenerator\n",
    "from sklearn.metrics import confusion_matrix,ConfusionMatrixDisplay\n",
    "from tensorflow.keras.layers import Input\n",
    "from tensorflow.keras.layers import AveragePooling2D\n",
    "from tensorflow.keras.layers import Dropout\n",
    "from tensorflow.keras.layers import Flatten\n",
    "from tensorflow.keras.layers import Dense\n",
    "from tensorflow.keras.layers import Input\n",
    "from tensorflow.keras.models import Model"
   ]
  },
  {
   "cell_type": "code",
   "execution_count": 3,
   "id": "fe44dbd1",
   "metadata": {
    "execution": {
     "iopub.execute_input": "2022-06-30T22:41:26.746367Z",
     "iopub.status.busy": "2022-06-30T22:41:26.746078Z",
     "iopub.status.idle": "2022-06-30T22:41:26.750342Z",
     "shell.execute_reply": "2022-06-30T22:41:26.749420Z"
    },
    "papermill": {
     "duration": 0.016318,
     "end_time": "2022-06-30T22:41:26.752197",
     "exception": false,
     "start_time": "2022-06-30T22:41:26.735879",
     "status": "completed"
    },
    "tags": []
   },
   "outputs": [],
   "source": [
    "main_folder = '../input/archie-comics-multi-class/Multi-class'"
   ]
  },
  {
   "cell_type": "code",
   "execution_count": 4,
   "id": "fa67b612",
   "metadata": {
    "execution": {
     "iopub.execute_input": "2022-06-30T22:41:26.772259Z",
     "iopub.status.busy": "2022-06-30T22:41:26.771526Z",
     "iopub.status.idle": "2022-06-30T22:41:26.776383Z",
     "shell.execute_reply": "2022-06-30T22:41:26.775508Z"
    },
    "papermill": {
     "duration": 0.017046,
     "end_time": "2022-06-30T22:41:26.778310",
     "exception": false,
     "start_time": "2022-06-30T22:41:26.761264",
     "status": "completed"
    },
    "tags": []
   },
   "outputs": [],
   "source": [
    "samples_per_class = []\n",
    "classes = []\n",
    "file_names = []"
   ]
  },
  {
   "cell_type": "code",
   "execution_count": 5,
   "id": "8dbe8b4f",
   "metadata": {
    "_kg_hide-output": true,
    "execution": {
     "iopub.execute_input": "2022-06-30T22:41:26.798029Z",
     "iopub.status.busy": "2022-06-30T22:41:26.797507Z",
     "iopub.status.idle": "2022-06-30T22:41:30.096335Z",
     "shell.execute_reply": "2022-06-30T22:41:30.095167Z"
    },
    "papermill": {
     "duration": 3.311904,
     "end_time": "2022-06-30T22:41:30.099523",
     "exception": false,
     "start_time": "2022-06-30T22:41:26.787619",
     "status": "completed"
    },
    "tags": []
   },
   "outputs": [],
   "source": [
    "directory=os.listdir('../input/archie-comics-multi-class/Multi-class/')\n",
    "for each in directory:\n",
    "    currentFolder = '../input/archie-comics-multi-class/Multi-class/' + each\n",
    "    count = sum(len(files) for _, _, files in os.walk(currentFolder))\n",
    "    samples_per_class.append(count)\n",
    "    classes.append(each)\n",
    "    \n",
    "    for i, file in enumerate(os.listdir(currentFolder)):\n",
    "        fullpath = currentFolder+ \"/\" + file\n",
    "        file_names.append(fullpath)"
   ]
  },
  {
   "cell_type": "code",
   "execution_count": 6,
   "id": "ab4f4c3f",
   "metadata": {
    "execution": {
     "iopub.execute_input": "2022-06-30T22:41:30.132480Z",
     "iopub.status.busy": "2022-06-30T22:41:30.132130Z",
     "iopub.status.idle": "2022-06-30T22:41:30.144390Z",
     "shell.execute_reply": "2022-06-30T22:41:30.143177Z"
    },
    "papermill": {
     "duration": 0.03526,
     "end_time": "2022-06-30T22:41:30.151283",
     "exception": false,
     "start_time": "2022-06-30T22:41:30.116023",
     "status": "completed"
    },
    "tags": []
   },
   "outputs": [
    {
     "data": {
      "text/plain": [
       "33"
      ]
     },
     "execution_count": 6,
     "metadata": {},
     "output_type": "execute_result"
    }
   ],
   "source": [
    "min(samples_per_class)"
   ]
  },
  {
   "cell_type": "code",
   "execution_count": 7,
   "id": "0752809f",
   "metadata": {
    "execution": {
     "iopub.execute_input": "2022-06-30T22:41:30.172379Z",
     "iopub.status.busy": "2022-06-30T22:41:30.172068Z",
     "iopub.status.idle": "2022-06-30T22:41:30.176863Z",
     "shell.execute_reply": "2022-06-30T22:41:30.175799Z"
    },
    "papermill": {
     "duration": 0.016931,
     "end_time": "2022-06-30T22:41:30.178669",
     "exception": false,
     "start_time": "2022-06-30T22:41:30.161738",
     "status": "completed"
    },
    "tags": []
   },
   "outputs": [],
   "source": [
    "small_ds = []"
   ]
  },
  {
   "cell_type": "code",
   "execution_count": 8,
   "id": "6495e5ca",
   "metadata": {
    "execution": {
     "iopub.execute_input": "2022-06-30T22:41:30.198902Z",
     "iopub.status.busy": "2022-06-30T22:41:30.198181Z",
     "iopub.status.idle": "2022-06-30T22:41:30.348759Z",
     "shell.execute_reply": "2022-06-30T22:41:30.347814Z"
    },
    "papermill": {
     "duration": 0.163243,
     "end_time": "2022-06-30T22:41:30.351093",
     "exception": false,
     "start_time": "2022-06-30T22:41:30.187850",
     "status": "completed"
    },
    "tags": []
   },
   "outputs": [],
   "source": [
    "for each_class in classes:\n",
    "    trial_list = []\n",
    "    for name in file_names:\n",
    "        if re.search(f'{each_class}', name):\n",
    "            trial_list.append(name)\n",
    "    small_ds.append(random.sample(trial_list, min(len(trial_list),200)))"
   ]
  },
  {
   "cell_type": "code",
   "execution_count": 9,
   "id": "e4d3543f",
   "metadata": {
    "execution": {
     "iopub.execute_input": "2022-06-30T22:41:30.371791Z",
     "iopub.status.busy": "2022-06-30T22:41:30.371466Z",
     "iopub.status.idle": "2022-06-30T22:41:30.377284Z",
     "shell.execute_reply": "2022-06-30T22:41:30.376284Z"
    },
    "papermill": {
     "duration": 0.020744,
     "end_time": "2022-06-30T22:41:30.381440",
     "exception": false,
     "start_time": "2022-06-30T22:41:30.360696",
     "status": "completed"
    },
    "tags": []
   },
   "outputs": [
    {
     "name": "stdout",
     "output_type": "stream",
     "text": [
      "23\n",
      "41\n",
      "943\n"
     ]
    }
   ],
   "source": [
    "print(len(small_ds))\n",
    "print(len(small_ds[0]))\n",
    "print(len(small_ds)*len(small_ds[0]))"
   ]
  },
  {
   "cell_type": "code",
   "execution_count": 10,
   "id": "5662d4c8",
   "metadata": {
    "execution": {
     "iopub.execute_input": "2022-06-30T22:41:30.402444Z",
     "iopub.status.busy": "2022-06-30T22:41:30.401671Z",
     "iopub.status.idle": "2022-06-30T22:41:30.410250Z",
     "shell.execute_reply": "2022-06-30T22:41:30.409386Z"
    },
    "papermill": {
     "duration": 0.020468,
     "end_time": "2022-06-30T22:41:30.412212",
     "exception": false,
     "start_time": "2022-06-30T22:41:30.391744",
     "status": "completed"
    },
    "tags": []
   },
   "outputs": [],
   "source": [
    "small_ds=list(np.concatenate(small_ds).flat)\n",
    "# For flattening small_ds into a 1-D list"
   ]
  },
  {
   "cell_type": "code",
   "execution_count": 11,
   "id": "3913a884",
   "metadata": {
    "execution": {
     "iopub.execute_input": "2022-06-30T22:41:30.432633Z",
     "iopub.status.busy": "2022-06-30T22:41:30.432382Z",
     "iopub.status.idle": "2022-06-30T22:41:30.439041Z",
     "shell.execute_reply": "2022-06-30T22:41:30.437953Z"
    },
    "papermill": {
     "duration": 0.020786,
     "end_time": "2022-06-30T22:41:30.442076",
     "exception": false,
     "start_time": "2022-06-30T22:41:30.421290",
     "status": "completed"
    },
    "tags": []
   },
   "outputs": [
    {
     "name": "stdout",
     "output_type": "stream",
     "text": [
      "2807\n"
     ]
    }
   ],
   "source": [
    "print(len(small_ds))"
   ]
  },
  {
   "cell_type": "code",
   "execution_count": 12,
   "id": "107ba96f",
   "metadata": {
    "execution": {
     "iopub.execute_input": "2022-06-30T22:41:30.461623Z",
     "iopub.status.busy": "2022-06-30T22:41:30.461377Z",
     "iopub.status.idle": "2022-06-30T22:41:30.467537Z",
     "shell.execute_reply": "2022-06-30T22:41:30.466651Z"
    },
    "papermill": {
     "duration": 0.01797,
     "end_time": "2022-06-30T22:41:30.469476",
     "exception": false,
     "start_time": "2022-06-30T22:41:30.451506",
     "status": "completed"
    },
    "tags": []
   },
   "outputs": [
    {
     "data": {
      "text/plain": [
       "['Kleats',\n",
       " 'Midge',\n",
       " 'Dilton',\n",
       " 'Pop Tate',\n",
       " 'Reggie',\n",
       " 'Jughead',\n",
       " 'Grundy',\n",
       " 'Ethel',\n",
       " 'Weatherbee',\n",
       " 'Harry Clayton',\n",
       " 'Smithers',\n",
       " 'Svenson',\n",
       " 'Moose',\n",
       " 'Chuck',\n",
       " 'Nancy',\n",
       " 'Veronica',\n",
       " 'Flutesnoot',\n",
       " 'Fred Andrews',\n",
       " 'Archie',\n",
       " 'Betty',\n",
       " 'Beazley',\n",
       " 'Hiram Lodge',\n",
       " 'Others']"
      ]
     },
     "execution_count": 12,
     "metadata": {},
     "output_type": "execute_result"
    }
   ],
   "source": [
    "classes"
   ]
  },
  {
   "cell_type": "code",
   "execution_count": 13,
   "id": "93dc0375",
   "metadata": {
    "execution": {
     "iopub.execute_input": "2022-06-30T22:41:30.489338Z",
     "iopub.status.busy": "2022-06-30T22:41:30.489095Z",
     "iopub.status.idle": "2022-06-30T22:41:30.495199Z",
     "shell.execute_reply": "2022-06-30T22:41:30.494172Z"
    },
    "papermill": {
     "duration": 0.018338,
     "end_time": "2022-06-30T22:41:30.497296",
     "exception": false,
     "start_time": "2022-06-30T22:41:30.478958",
     "status": "completed"
    },
    "tags": []
   },
   "outputs": [
    {
     "data": {
      "text/plain": [
       "['../input/archie-comics-multi-class/Multi-class/Jughead/Jughead_316.png',\n",
       " '../input/archie-comics-multi-class/Multi-class/Jughead/Jughead_092.png',\n",
       " '../input/archie-comics-multi-class/Multi-class/Jughead/Jughead_304.png',\n",
       " '../input/archie-comics-multi-class/Multi-class/Jughead/Jughead_752.png',\n",
       " '../input/archie-comics-multi-class/Multi-class/Jughead/Jughead_850.png',\n",
       " '../input/archie-comics-multi-class/Multi-class/Jughead/Jughead_302.png',\n",
       " '../input/archie-comics-multi-class/Multi-class/Jughead/Jughead_822.png',\n",
       " '../input/archie-comics-multi-class/Multi-class/Jughead/Jughead_058.png',\n",
       " '../input/archie-comics-multi-class/Multi-class/Jughead/Jughead_929.png',\n",
       " '../input/archie-comics-multi-class/Multi-class/Jughead/Jughead_797.png']"
      ]
     },
     "execution_count": 13,
     "metadata": {},
     "output_type": "execute_result"
    }
   ],
   "source": [
    "small_ds[720:730]"
   ]
  },
  {
   "cell_type": "code",
   "execution_count": 14,
   "id": "8892ea69",
   "metadata": {
    "execution": {
     "iopub.execute_input": "2022-06-30T22:41:30.518115Z",
     "iopub.status.busy": "2022-06-30T22:41:30.517408Z",
     "iopub.status.idle": "2022-06-30T22:41:30.529173Z",
     "shell.execute_reply": "2022-06-30T22:41:30.528319Z"
    },
    "papermill": {
     "duration": 0.024091,
     "end_time": "2022-06-30T22:41:30.531014",
     "exception": false,
     "start_time": "2022-06-30T22:41:30.506923",
     "status": "completed"
    },
    "tags": []
   },
   "outputs": [],
   "source": [
    "files_df = pd.DataFrame(index=range(0, len(small_ds)),columns = ['Files'])"
   ]
  },
  {
   "cell_type": "code",
   "execution_count": 15,
   "id": "21d2ae65",
   "metadata": {
    "execution": {
     "iopub.execute_input": "2022-06-30T22:41:30.552154Z",
     "iopub.status.busy": "2022-06-30T22:41:30.551422Z",
     "iopub.status.idle": "2022-06-30T22:41:30.560435Z",
     "shell.execute_reply": "2022-06-30T22:41:30.559532Z"
    },
    "papermill": {
     "duration": 0.021854,
     "end_time": "2022-06-30T22:41:30.562306",
     "exception": false,
     "start_time": "2022-06-30T22:41:30.540452",
     "status": "completed"
    },
    "tags": []
   },
   "outputs": [],
   "source": [
    "files_df['Files'] = small_ds"
   ]
  },
  {
   "cell_type": "code",
   "execution_count": 16,
   "id": "569bf745",
   "metadata": {
    "execution": {
     "iopub.execute_input": "2022-06-30T22:41:30.583373Z",
     "iopub.status.busy": "2022-06-30T22:41:30.582683Z",
     "iopub.status.idle": "2022-06-30T22:41:30.595708Z",
     "shell.execute_reply": "2022-06-30T22:41:30.594717Z"
    },
    "papermill": {
     "duration": 0.025052,
     "end_time": "2022-06-30T22:41:30.597617",
     "exception": false,
     "start_time": "2022-06-30T22:41:30.572565",
     "status": "completed"
    },
    "tags": []
   },
   "outputs": [],
   "source": [
    "files_df['Class'] = files_df.Files.str.extract(r'Multi-class/(.*?)/', expand=True)"
   ]
  },
  {
   "cell_type": "code",
   "execution_count": 17,
   "id": "9ad6070f",
   "metadata": {
    "execution": {
     "iopub.execute_input": "2022-06-30T22:41:30.618591Z",
     "iopub.status.busy": "2022-06-30T22:41:30.617743Z",
     "iopub.status.idle": "2022-06-30T22:41:30.629677Z",
     "shell.execute_reply": "2022-06-30T22:41:30.628614Z"
    },
    "papermill": {
     "duration": 0.024645,
     "end_time": "2022-06-30T22:41:30.631742",
     "exception": false,
     "start_time": "2022-06-30T22:41:30.607097",
     "status": "completed"
    },
    "tags": []
   },
   "outputs": [
    {
     "data": {
      "text/html": [
       "<div>\n",
       "<style scoped>\n",
       "    .dataframe tbody tr th:only-of-type {\n",
       "        vertical-align: middle;\n",
       "    }\n",
       "\n",
       "    .dataframe tbody tr th {\n",
       "        vertical-align: top;\n",
       "    }\n",
       "\n",
       "    .dataframe thead th {\n",
       "        text-align: right;\n",
       "    }\n",
       "</style>\n",
       "<table border=\"1\" class=\"dataframe\">\n",
       "  <thead>\n",
       "    <tr style=\"text-align: right;\">\n",
       "      <th></th>\n",
       "      <th>Files</th>\n",
       "      <th>Class</th>\n",
       "    </tr>\n",
       "  </thead>\n",
       "  <tbody>\n",
       "    <tr>\n",
       "      <th>0</th>\n",
       "      <td>../input/archie-comics-multi-class/Multi-class...</td>\n",
       "      <td>Kleats</td>\n",
       "    </tr>\n",
       "    <tr>\n",
       "      <th>1</th>\n",
       "      <td>../input/archie-comics-multi-class/Multi-class...</td>\n",
       "      <td>Kleats</td>\n",
       "    </tr>\n",
       "    <tr>\n",
       "      <th>2</th>\n",
       "      <td>../input/archie-comics-multi-class/Multi-class...</td>\n",
       "      <td>Kleats</td>\n",
       "    </tr>\n",
       "    <tr>\n",
       "      <th>3</th>\n",
       "      <td>../input/archie-comics-multi-class/Multi-class...</td>\n",
       "      <td>Kleats</td>\n",
       "    </tr>\n",
       "    <tr>\n",
       "      <th>4</th>\n",
       "      <td>../input/archie-comics-multi-class/Multi-class...</td>\n",
       "      <td>Kleats</td>\n",
       "    </tr>\n",
       "  </tbody>\n",
       "</table>\n",
       "</div>"
      ],
      "text/plain": [
       "                                               Files   Class\n",
       "0  ../input/archie-comics-multi-class/Multi-class...  Kleats\n",
       "1  ../input/archie-comics-multi-class/Multi-class...  Kleats\n",
       "2  ../input/archie-comics-multi-class/Multi-class...  Kleats\n",
       "3  ../input/archie-comics-multi-class/Multi-class...  Kleats\n",
       "4  ../input/archie-comics-multi-class/Multi-class...  Kleats"
      ]
     },
     "execution_count": 17,
     "metadata": {},
     "output_type": "execute_result"
    }
   ],
   "source": [
    "files_df.head()"
   ]
  },
  {
   "cell_type": "code",
   "execution_count": 18,
   "id": "b4de6596",
   "metadata": {
    "execution": {
     "iopub.execute_input": "2022-06-30T22:41:30.652926Z",
     "iopub.status.busy": "2022-06-30T22:41:30.652166Z",
     "iopub.status.idle": "2022-06-30T22:41:30.660855Z",
     "shell.execute_reply": "2022-06-30T22:41:30.659860Z"
    },
    "papermill": {
     "duration": 0.021567,
     "end_time": "2022-06-30T22:41:30.663137",
     "exception": false,
     "start_time": "2022-06-30T22:41:30.641570",
     "status": "completed"
    },
    "tags": []
   },
   "outputs": [],
   "source": [
    "files_df = files_df.sample(frac=1, random_state=1).reset_index(drop=True)\n",
    "# For randomly shuffling the rows of the dataframe,\n",
    "# else the training set gets the the top classes, the validation the bottom classes of the df\n",
    "# random_state is for reproducability, i.e., same distribution each time the code is run"
   ]
  },
  {
   "cell_type": "code",
   "execution_count": 19,
   "id": "e10f0f37",
   "metadata": {
    "execution": {
     "iopub.execute_input": "2022-06-30T22:41:30.686728Z",
     "iopub.status.busy": "2022-06-30T22:41:30.686453Z",
     "iopub.status.idle": "2022-06-30T22:41:30.690828Z",
     "shell.execute_reply": "2022-06-30T22:41:30.689847Z"
    },
    "papermill": {
     "duration": 0.01854,
     "end_time": "2022-06-30T22:41:30.693002",
     "exception": false,
     "start_time": "2022-06-30T22:41:30.674462",
     "status": "completed"
    },
    "tags": []
   },
   "outputs": [],
   "source": [
    "pd.set_option('display.max_colwidth', None)"
   ]
  },
  {
   "cell_type": "code",
   "execution_count": 20,
   "id": "0d5328ec",
   "metadata": {
    "execution": {
     "iopub.execute_input": "2022-06-30T22:41:30.714587Z",
     "iopub.status.busy": "2022-06-30T22:41:30.714314Z",
     "iopub.status.idle": "2022-06-30T22:41:30.723745Z",
     "shell.execute_reply": "2022-06-30T22:41:30.722851Z"
    },
    "papermill": {
     "duration": 0.022455,
     "end_time": "2022-06-30T22:41:30.725925",
     "exception": false,
     "start_time": "2022-06-30T22:41:30.703470",
     "status": "completed"
    },
    "tags": []
   },
   "outputs": [
    {
     "data": {
      "text/html": [
       "<div>\n",
       "<style scoped>\n",
       "    .dataframe tbody tr th:only-of-type {\n",
       "        vertical-align: middle;\n",
       "    }\n",
       "\n",
       "    .dataframe tbody tr th {\n",
       "        vertical-align: top;\n",
       "    }\n",
       "\n",
       "    .dataframe thead th {\n",
       "        text-align: right;\n",
       "    }\n",
       "</style>\n",
       "<table border=\"1\" class=\"dataframe\">\n",
       "  <thead>\n",
       "    <tr style=\"text-align: right;\">\n",
       "      <th></th>\n",
       "      <th>Files</th>\n",
       "      <th>Class</th>\n",
       "    </tr>\n",
       "  </thead>\n",
       "  <tbody>\n",
       "    <tr>\n",
       "      <th>2797</th>\n",
       "      <td>../input/archie-comics-multi-class/Multi-class/Hiram Lodge/Hiram Lodge_085.png</td>\n",
       "      <td>Hiram Lodge</td>\n",
       "    </tr>\n",
       "    <tr>\n",
       "      <th>2798</th>\n",
       "      <td>../input/archie-comics-multi-class/Multi-class/Others/Others_008.png</td>\n",
       "      <td>Others</td>\n",
       "    </tr>\n",
       "    <tr>\n",
       "      <th>2799</th>\n",
       "      <td>../input/archie-comics-multi-class/Multi-class/Dilton/Dilton_013.png</td>\n",
       "      <td>Dilton</td>\n",
       "    </tr>\n",
       "    <tr>\n",
       "      <th>2800</th>\n",
       "      <td>../input/archie-comics-multi-class/Multi-class/Dilton/Dilton_056.png</td>\n",
       "      <td>Dilton</td>\n",
       "    </tr>\n",
       "    <tr>\n",
       "      <th>2801</th>\n",
       "      <td>../input/archie-comics-multi-class/Multi-class/Ethel/Ethel_029.png</td>\n",
       "      <td>Ethel</td>\n",
       "    </tr>\n",
       "    <tr>\n",
       "      <th>2802</th>\n",
       "      <td>../input/archie-comics-multi-class/Multi-class/Others/Others_548.png</td>\n",
       "      <td>Others</td>\n",
       "    </tr>\n",
       "    <tr>\n",
       "      <th>2803</th>\n",
       "      <td>../input/archie-comics-multi-class/Multi-class/Ethel/Ethel_005.png</td>\n",
       "      <td>Ethel</td>\n",
       "    </tr>\n",
       "    <tr>\n",
       "      <th>2804</th>\n",
       "      <td>../input/archie-comics-multi-class/Multi-class/Weatherbee/Weatherbee_243.png</td>\n",
       "      <td>Weatherbee</td>\n",
       "    </tr>\n",
       "    <tr>\n",
       "      <th>2805</th>\n",
       "      <td>../input/archie-comics-multi-class/Multi-class/Dilton/Dilton_087.png</td>\n",
       "      <td>Dilton</td>\n",
       "    </tr>\n",
       "    <tr>\n",
       "      <th>2806</th>\n",
       "      <td>../input/archie-comics-multi-class/Multi-class/Weatherbee/Weatherbee_187.png</td>\n",
       "      <td>Weatherbee</td>\n",
       "    </tr>\n",
       "  </tbody>\n",
       "</table>\n",
       "</div>"
      ],
      "text/plain": [
       "                                                                               Files  \\\n",
       "2797  ../input/archie-comics-multi-class/Multi-class/Hiram Lodge/Hiram Lodge_085.png   \n",
       "2798            ../input/archie-comics-multi-class/Multi-class/Others/Others_008.png   \n",
       "2799            ../input/archie-comics-multi-class/Multi-class/Dilton/Dilton_013.png   \n",
       "2800            ../input/archie-comics-multi-class/Multi-class/Dilton/Dilton_056.png   \n",
       "2801              ../input/archie-comics-multi-class/Multi-class/Ethel/Ethel_029.png   \n",
       "2802            ../input/archie-comics-multi-class/Multi-class/Others/Others_548.png   \n",
       "2803              ../input/archie-comics-multi-class/Multi-class/Ethel/Ethel_005.png   \n",
       "2804    ../input/archie-comics-multi-class/Multi-class/Weatherbee/Weatherbee_243.png   \n",
       "2805            ../input/archie-comics-multi-class/Multi-class/Dilton/Dilton_087.png   \n",
       "2806    ../input/archie-comics-multi-class/Multi-class/Weatherbee/Weatherbee_187.png   \n",
       "\n",
       "            Class  \n",
       "2797  Hiram Lodge  \n",
       "2798       Others  \n",
       "2799       Dilton  \n",
       "2800       Dilton  \n",
       "2801        Ethel  \n",
       "2802       Others  \n",
       "2803        Ethel  \n",
       "2804   Weatherbee  \n",
       "2805       Dilton  \n",
       "2806   Weatherbee  "
      ]
     },
     "execution_count": 20,
     "metadata": {},
     "output_type": "execute_result"
    }
   ],
   "source": [
    "files_df.tail(10)"
   ]
  },
  {
   "cell_type": "code",
   "execution_count": 21,
   "id": "3e4717aa",
   "metadata": {
    "execution": {
     "iopub.execute_input": "2022-06-30T22:41:30.748337Z",
     "iopub.status.busy": "2022-06-30T22:41:30.747556Z",
     "iopub.status.idle": "2022-06-30T22:41:30.752466Z",
     "shell.execute_reply": "2022-06-30T22:41:30.751551Z"
    },
    "papermill": {
     "duration": 0.01816,
     "end_time": "2022-06-30T22:41:30.754429",
     "exception": false,
     "start_time": "2022-06-30T22:41:30.736269",
     "status": "completed"
    },
    "tags": []
   },
   "outputs": [],
   "source": [
    "datagen=ImageDataGenerator(validation_split=0.2)"
   ]
  },
  {
   "cell_type": "code",
   "execution_count": 22,
   "id": "d8f79442",
   "metadata": {
    "execution": {
     "iopub.execute_input": "2022-06-30T22:41:30.779338Z",
     "iopub.status.busy": "2022-06-30T22:41:30.778508Z",
     "iopub.status.idle": "2022-06-30T22:41:30.783133Z",
     "shell.execute_reply": "2022-06-30T22:41:30.782272Z"
    },
    "papermill": {
     "duration": 0.020202,
     "end_time": "2022-06-30T22:41:30.785410",
     "exception": false,
     "start_time": "2022-06-30T22:41:30.765208",
     "status": "completed"
    },
    "tags": []
   },
   "outputs": [],
   "source": [
    "batch_size = 8"
   ]
  },
  {
   "cell_type": "code",
   "execution_count": 23,
   "id": "0ebb6c7a",
   "metadata": {
    "execution": {
     "iopub.execute_input": "2022-06-30T22:41:30.808018Z",
     "iopub.status.busy": "2022-06-30T22:41:30.807162Z",
     "iopub.status.idle": "2022-06-30T22:41:31.722933Z",
     "shell.execute_reply": "2022-06-30T22:41:31.721827Z"
    },
    "papermill": {
     "duration": 0.929338,
     "end_time": "2022-06-30T22:41:31.725376",
     "exception": false,
     "start_time": "2022-06-30T22:41:30.796038",
     "status": "completed"
    },
    "tags": []
   },
   "outputs": [
    {
     "name": "stdout",
     "output_type": "stream",
     "text": [
      "Found 2246 validated image filenames belonging to 23 classes.\n",
      "Found 561 validated image filenames belonging to 23 classes.\n"
     ]
    }
   ],
   "source": [
    "train_generator=datagen.flow_from_dataframe(\n",
    "dataframe=files_df,\n",
    "directory=None,\n",
    "x_col='Files',\n",
    "y_col='Class',\n",
    "subset=\"training\",\n",
    "batch_size=batch_size,\n",
    "seed=42,\n",
    "shuffle=True,\n",
    "class_mode=\"categorical\",\n",
    "rotation_range=30,\n",
    "width_shift_range=0.2,\n",
    "height_shift_range=0.2,\n",
    "brightness_range=(0.5,1.5),\n",
    "shear_range=0.2,\n",
    "zoom_range=0.2,\n",
    "channel_shift_range=30.0,\n",
    "fill_mode='nearest',\n",
    "horizontal_flip=True,\n",
    "vertical_flip=False,\n",
    "target_size=(256,256))\n",
    "\n",
    "valid_generator=datagen.flow_from_dataframe(\n",
    "dataframe=files_df,\n",
    "directory=None,\n",
    "x_col='Files',\n",
    "y_col='Class',\n",
    "subset=\"validation\",\n",
    "batch_size=batch_size,\n",
    "seed=42,\n",
    "shuffle=True,\n",
    "class_mode=\"categorical\",\n",
    "target_size=(256,256))"
   ]
  },
  {
   "cell_type": "code",
   "execution_count": 24,
   "id": "59185ce2",
   "metadata": {
    "execution": {
     "iopub.execute_input": "2022-06-30T22:41:31.747209Z",
     "iopub.status.busy": "2022-06-30T22:41:31.746922Z",
     "iopub.status.idle": "2022-06-30T22:41:31.753052Z",
     "shell.execute_reply": "2022-06-30T22:41:31.751834Z"
    },
    "papermill": {
     "duration": 0.019561,
     "end_time": "2022-06-30T22:41:31.755124",
     "exception": false,
     "start_time": "2022-06-30T22:41:31.735563",
     "status": "completed"
    },
    "tags": []
   },
   "outputs": [],
   "source": [
    "stopping = tf.keras.callbacks.EarlyStopping(\n",
    "        monitor=\"val_accuracy\",\n",
    "        min_delta=0,\n",
    "        patience=15,\n",
    "        verbose=0,\n",
    "        mode=\"auto\",\n",
    "        baseline=None,\n",
    "        restore_best_weights=False,\n",
    "    )\n",
    "\n",
    "checkpoint = tf.keras.callbacks.ModelCheckpoint(\n",
    "        \"best_model\",\n",
    "        monitor=\"val_accuracy\",\n",
    "        mode=\"max\",\n",
    "        save_best_only=True,\n",
    "        save_weights_only=True,\n",
    "    )"
   ]
  },
  {
   "cell_type": "code",
   "execution_count": 25,
   "id": "cf6097cd",
   "metadata": {
    "execution": {
     "iopub.execute_input": "2022-06-30T22:41:31.777082Z",
     "iopub.status.busy": "2022-06-30T22:41:31.776208Z",
     "iopub.status.idle": "2022-06-30T22:55:07.633327Z",
     "shell.execute_reply": "2022-06-30T22:55:07.632301Z"
    },
    "papermill": {
     "duration": 815.870346,
     "end_time": "2022-06-30T22:55:07.635632",
     "exception": false,
     "start_time": "2022-06-30T22:41:31.765286",
     "status": "completed"
    },
    "tags": []
   },
   "outputs": [
    {
     "name": "stderr",
     "output_type": "stream",
     "text": [
      "2022-06-30 22:41:31.899846: I tensorflow/stream_executor/cuda/cuda_gpu_executor.cc:937] successful NUMA node read from SysFS had negative value (-1), but there must be at least one NUMA node, so returning NUMA node zero\n",
      "2022-06-30 22:41:32.012482: I tensorflow/stream_executor/cuda/cuda_gpu_executor.cc:937] successful NUMA node read from SysFS had negative value (-1), but there must be at least one NUMA node, so returning NUMA node zero\n",
      "2022-06-30 22:41:32.013259: I tensorflow/stream_executor/cuda/cuda_gpu_executor.cc:937] successful NUMA node read from SysFS had negative value (-1), but there must be at least one NUMA node, so returning NUMA node zero\n",
      "2022-06-30 22:41:32.014996: I tensorflow/core/platform/cpu_feature_guard.cc:142] This TensorFlow binary is optimized with oneAPI Deep Neural Network Library (oneDNN) to use the following CPU instructions in performance-critical operations:  AVX2 AVX512F FMA\n",
      "To enable them in other operations, rebuild TensorFlow with the appropriate compiler flags.\n",
      "2022-06-30 22:41:32.015329: I tensorflow/stream_executor/cuda/cuda_gpu_executor.cc:937] successful NUMA node read from SysFS had negative value (-1), but there must be at least one NUMA node, so returning NUMA node zero\n",
      "2022-06-30 22:41:32.016200: I tensorflow/stream_executor/cuda/cuda_gpu_executor.cc:937] successful NUMA node read from SysFS had negative value (-1), but there must be at least one NUMA node, so returning NUMA node zero\n",
      "2022-06-30 22:41:32.016934: I tensorflow/stream_executor/cuda/cuda_gpu_executor.cc:937] successful NUMA node read from SysFS had negative value (-1), but there must be at least one NUMA node, so returning NUMA node zero\n",
      "2022-06-30 22:41:34.576762: I tensorflow/stream_executor/cuda/cuda_gpu_executor.cc:937] successful NUMA node read from SysFS had negative value (-1), but there must be at least one NUMA node, so returning NUMA node zero\n",
      "2022-06-30 22:41:34.577629: I tensorflow/stream_executor/cuda/cuda_gpu_executor.cc:937] successful NUMA node read from SysFS had negative value (-1), but there must be at least one NUMA node, so returning NUMA node zero\n",
      "2022-06-30 22:41:34.578355: I tensorflow/stream_executor/cuda/cuda_gpu_executor.cc:937] successful NUMA node read from SysFS had negative value (-1), but there must be at least one NUMA node, so returning NUMA node zero\n",
      "2022-06-30 22:41:34.579029: I tensorflow/core/common_runtime/gpu/gpu_device.cc:1510] Created device /job:localhost/replica:0/task:0/device:GPU:0 with 15403 MB memory:  -> device: 0, name: Tesla P100-PCIE-16GB, pci bus id: 0000:00:04.0, compute capability: 6.0\n"
     ]
    },
    {
     "name": "stdout",
     "output_type": "stream",
     "text": [
      "Downloading data from https://storage.googleapis.com/tensorflow/keras-applications/resnet/resnet50_weights_tf_dim_ordering_tf_kernels_notop.h5\n",
      "94773248/94765736 [==============================] - 0s 0us/step\n",
      "94781440/94765736 [==============================] - 0s 0us/step\n"
     ]
    },
    {
     "name": "stderr",
     "output_type": "stream",
     "text": [
      "2022-06-30 22:41:36.980835: I tensorflow/compiler/mlir/mlir_graph_optimization_pass.cc:185] None of the MLIR Optimization Passes are enabled (registered 2)\n",
      "2022-06-30 22:41:39.492332: I tensorflow/stream_executor/cuda/cuda_dnn.cc:369] Loaded cuDNN version 8005\n"
     ]
    },
    {
     "name": "stdout",
     "output_type": "stream",
     "text": [
      "71/71 [==============================] - 16s 111ms/step - loss: 4.0249 - accuracy: 0.0410\n",
      "loss 4.024930953979492, acc 0.04099821671843529\n",
      "Epoch 1/50\n",
      "281/281 [==============================] - 36s 115ms/step - loss: 3.2746 - accuracy: 0.0980 - val_loss: 2.8611 - val_accuracy: 0.1301\n",
      "Epoch 2/50\n",
      "281/281 [==============================] - 15s 53ms/step - loss: 2.8228 - accuracy: 0.1603 - val_loss: 2.7229 - val_accuracy: 0.2032\n",
      "Epoch 3/50\n",
      "281/281 [==============================] - 15s 52ms/step - loss: 2.6282 - accuracy: 0.2231 - val_loss: 2.6401 - val_accuracy: 0.2086\n",
      "Epoch 4/50\n",
      "281/281 [==============================] - 14s 51ms/step - loss: 2.4571 - accuracy: 0.2573 - val_loss: 2.5308 - val_accuracy: 0.2620\n",
      "Epoch 5/50\n",
      "281/281 [==============================] - 15s 52ms/step - loss: 2.3152 - accuracy: 0.3143 - val_loss: 2.4223 - val_accuracy: 0.2941\n",
      "Epoch 6/50\n",
      "281/281 [==============================] - 15s 52ms/step - loss: 2.1751 - accuracy: 0.3562 - val_loss: 2.3528 - val_accuracy: 0.3102\n",
      "Epoch 7/50\n",
      "281/281 [==============================] - 15s 53ms/step - loss: 2.0312 - accuracy: 0.3936 - val_loss: 2.2917 - val_accuracy: 0.3119\n",
      "Epoch 8/50\n",
      "281/281 [==============================] - 14s 51ms/step - loss: 1.9099 - accuracy: 0.4110 - val_loss: 2.2693 - val_accuracy: 0.3333\n",
      "Epoch 9/50\n",
      "281/281 [==============================] - 15s 52ms/step - loss: 1.7676 - accuracy: 0.4711 - val_loss: 2.1968 - val_accuracy: 0.3529\n",
      "Epoch 10/50\n",
      "281/281 [==============================] - 15s 52ms/step - loss: 1.6801 - accuracy: 0.4875 - val_loss: 2.1448 - val_accuracy: 0.3476\n",
      "Epoch 11/50\n",
      "281/281 [==============================] - 14s 51ms/step - loss: 1.5758 - accuracy: 0.5232 - val_loss: 2.1171 - val_accuracy: 0.3779\n",
      "Epoch 12/50\n",
      "281/281 [==============================] - 15s 54ms/step - loss: 1.4622 - accuracy: 0.5766 - val_loss: 2.0841 - val_accuracy: 0.3636\n",
      "Epoch 13/50\n",
      "281/281 [==============================] - 14s 51ms/step - loss: 1.3718 - accuracy: 0.5975 - val_loss: 2.0598 - val_accuracy: 0.3725\n",
      "Epoch 14/50\n",
      "281/281 [==============================] - 15s 53ms/step - loss: 1.3159 - accuracy: 0.6131 - val_loss: 2.0457 - val_accuracy: 0.3904\n",
      "Epoch 15/50\n",
      "281/281 [==============================] - 15s 52ms/step - loss: 1.2315 - accuracy: 0.6411 - val_loss: 2.0076 - val_accuracy: 0.4011\n",
      "Epoch 16/50\n",
      "281/281 [==============================] - 15s 52ms/step - loss: 1.1420 - accuracy: 0.6728 - val_loss: 1.9723 - val_accuracy: 0.4189\n",
      "Epoch 17/50\n",
      "281/281 [==============================] - 15s 52ms/step - loss: 1.0945 - accuracy: 0.6915 - val_loss: 1.9758 - val_accuracy: 0.4064\n",
      "Epoch 18/50\n",
      "281/281 [==============================] - 15s 53ms/step - loss: 1.0215 - accuracy: 0.7146 - val_loss: 1.9395 - val_accuracy: 0.4064\n",
      "Epoch 19/50\n",
      "281/281 [==============================] - 14s 50ms/step - loss: 0.9522 - accuracy: 0.7284 - val_loss: 1.9781 - val_accuracy: 0.3993\n",
      "Epoch 20/50\n",
      "281/281 [==============================] - 14s 51ms/step - loss: 0.9062 - accuracy: 0.7467 - val_loss: 1.9041 - val_accuracy: 0.4242\n",
      "Epoch 21/50\n",
      "281/281 [==============================] - 15s 52ms/step - loss: 0.8559 - accuracy: 0.7605 - val_loss: 1.9466 - val_accuracy: 0.4118\n",
      "Epoch 22/50\n",
      "281/281 [==============================] - 14s 50ms/step - loss: 0.8014 - accuracy: 0.7832 - val_loss: 1.8833 - val_accuracy: 0.4421\n",
      "Epoch 23/50\n",
      "281/281 [==============================] - 15s 53ms/step - loss: 0.7606 - accuracy: 0.8032 - val_loss: 1.8742 - val_accuracy: 0.4314\n",
      "Epoch 24/50\n",
      "281/281 [==============================] - 14s 50ms/step - loss: 0.7161 - accuracy: 0.8126 - val_loss: 1.8903 - val_accuracy: 0.4367\n",
      "Epoch 25/50\n",
      "281/281 [==============================] - 15s 52ms/step - loss: 0.6797 - accuracy: 0.8197 - val_loss: 1.8586 - val_accuracy: 0.4349\n",
      "Epoch 26/50\n",
      "281/281 [==============================] - 15s 52ms/step - loss: 0.6172 - accuracy: 0.8477 - val_loss: 1.9055 - val_accuracy: 0.4456\n",
      "Epoch 27/50\n",
      "281/281 [==============================] - 15s 53ms/step - loss: 0.5927 - accuracy: 0.8531 - val_loss: 1.8771 - val_accuracy: 0.4492\n",
      "Epoch 28/50\n",
      "281/281 [==============================] - 14s 52ms/step - loss: 0.5508 - accuracy: 0.8722 - val_loss: 1.8777 - val_accuracy: 0.4563\n",
      "Epoch 29/50\n",
      "281/281 [==============================] - 15s 52ms/step - loss: 0.5317 - accuracy: 0.8691 - val_loss: 1.8678 - val_accuracy: 0.4599\n",
      "Epoch 30/50\n",
      "281/281 [==============================] - 14s 51ms/step - loss: 0.5118 - accuracy: 0.8785 - val_loss: 1.8590 - val_accuracy: 0.4563\n",
      "Epoch 31/50\n",
      "281/281 [==============================] - 15s 52ms/step - loss: 0.4847 - accuracy: 0.8838 - val_loss: 1.8532 - val_accuracy: 0.4563\n",
      "Epoch 32/50\n",
      "281/281 [==============================] - 14s 51ms/step - loss: 0.4596 - accuracy: 0.8918 - val_loss: 1.9028 - val_accuracy: 0.4545\n",
      "Epoch 33/50\n",
      "281/281 [==============================] - 14s 51ms/step - loss: 0.4249 - accuracy: 0.9043 - val_loss: 1.8560 - val_accuracy: 0.4474\n",
      "Epoch 34/50\n",
      "281/281 [==============================] - 15s 53ms/step - loss: 0.3978 - accuracy: 0.9105 - val_loss: 1.8727 - val_accuracy: 0.4492\n",
      "Epoch 35/50\n",
      "281/281 [==============================] - 14s 51ms/step - loss: 0.3872 - accuracy: 0.9136 - val_loss: 1.9047 - val_accuracy: 0.4492\n",
      "Epoch 36/50\n",
      "281/281 [==============================] - 16s 55ms/step - loss: 0.3645 - accuracy: 0.9270 - val_loss: 1.9208 - val_accuracy: 0.4367\n",
      "Epoch 37/50\n",
      "281/281 [==============================] - 14s 50ms/step - loss: 0.3256 - accuracy: 0.9328 - val_loss: 1.8982 - val_accuracy: 0.4421\n",
      "Epoch 38/50\n",
      "281/281 [==============================] - 15s 53ms/step - loss: 0.3392 - accuracy: 0.9230 - val_loss: 1.8514 - val_accuracy: 0.4563\n",
      "Epoch 39/50\n",
      "281/281 [==============================] - 15s 53ms/step - loss: 0.3004 - accuracy: 0.9448 - val_loss: 1.8845 - val_accuracy: 0.4563\n",
      "Epoch 40/50\n",
      "281/281 [==============================] - 15s 53ms/step - loss: 0.2945 - accuracy: 0.9341 - val_loss: 1.8903 - val_accuracy: 0.4545\n",
      "Epoch 41/50\n",
      "281/281 [==============================] - 14s 50ms/step - loss: 0.2657 - accuracy: 0.9488 - val_loss: 1.8850 - val_accuracy: 0.4759\n",
      "Epoch 42/50\n",
      "281/281 [==============================] - 15s 53ms/step - loss: 0.2594 - accuracy: 0.9506 - val_loss: 1.8787 - val_accuracy: 0.4456\n",
      "Epoch 43/50\n",
      "281/281 [==============================] - 15s 52ms/step - loss: 0.2436 - accuracy: 0.9564 - val_loss: 1.8893 - val_accuracy: 0.4777\n",
      "Epoch 44/50\n",
      "281/281 [==============================] - 16s 56ms/step - loss: 0.2349 - accuracy: 0.9497 - val_loss: 1.9166 - val_accuracy: 0.4545\n",
      "Epoch 45/50\n",
      "281/281 [==============================] - 15s 54ms/step - loss: 0.2316 - accuracy: 0.9559 - val_loss: 1.9338 - val_accuracy: 0.4688\n",
      "Epoch 46/50\n",
      "281/281 [==============================] - 14s 51ms/step - loss: 0.2287 - accuracy: 0.9537 - val_loss: 1.9329 - val_accuracy: 0.4617\n",
      "Epoch 47/50\n",
      "281/281 [==============================] - 15s 54ms/step - loss: 0.2171 - accuracy: 0.9577 - val_loss: 1.9245 - val_accuracy: 0.4724\n",
      "Epoch 48/50\n",
      "281/281 [==============================] - 14s 51ms/step - loss: 0.1861 - accuracy: 0.9715 - val_loss: 1.8681 - val_accuracy: 0.4920\n",
      "Epoch 49/50\n",
      "281/281 [==============================] - 15s 52ms/step - loss: 0.1930 - accuracy: 0.9604 - val_loss: 1.8619 - val_accuracy: 0.4652\n",
      "Epoch 50/50\n",
      "281/281 [==============================] - 14s 51ms/step - loss: 0.1898 - accuracy: 0.9653 - val_loss: 1.9241 - val_accuracy: 0.4831\n",
      "71/71 [==============================] - 4s 51ms/step - loss: 1.8681 - accuracy: 0.4920\n",
      "final loss 1.8680583238601685, final acc 0.49197861552238464\n"
     ]
    }
   ],
   "source": [
    "base_model = tf.keras.applications.ResNet50(weights='imagenet', input_shape=(256, 256, 3), classes=len(classes), include_top = False)\n",
    "\n",
    "\n",
    "# Based on https://pyimagesearch.com/2020/04/27/fine-tuning-resnet-with-keras-tensorflow-and-deep-learning/\n",
    "\n",
    "# construct the head of the model that will be placed on top of the\n",
    "# the base model\n",
    "headModel = base_model.output\n",
    "headModel = AveragePooling2D(pool_size=(7, 7))(headModel)\n",
    "headModel = Flatten(name=\"flatten\")(headModel)\n",
    "headModel = Dense(256, activation=\"relu\")(headModel)\n",
    "headModel = Dropout(0.5)(headModel)\n",
    "headModel = Dense(len(classes), activation=\"softmax\")(headModel)\n",
    "# place the head FC model on top of the base model (this will become\n",
    "# the actual model we will train)\n",
    "model = Model(inputs=base_model.input, outputs=headModel)\n",
    "# loop over all layers in the base model and freeze them so they will\n",
    "# *not* be updated during the training process\n",
    "for layer in base_model.layers:\n",
    "    layer.trainable = False\n",
    "    \n",
    "model.compile(\n",
    "        optimizer=tf.keras.optimizers.Adam(learning_rate=0.0001),\n",
    "        loss=tf.keras.losses.CategoricalCrossentropy(),#from_logits=True),\n",
    "        metrics=[\"accuracy\"]\n",
    "    )\n",
    " \n",
    "loss_0, acc_0 = model.evaluate(valid_generator)\n",
    "print(f\"loss {loss_0}, acc {acc_0}\")\n",
    "    \n",
    "\n",
    "history = model.fit(\n",
    "        train_generator,\n",
    "        validation_data=valid_generator,\n",
    "        epochs=50,\n",
    "        callbacks=[stopping, checkpoint]\n",
    ")\n",
    "\n",
    "model.load_weights(\"best_model\")\n",
    "\n",
    "loss, acc = model.evaluate(valid_generator)\n",
    "print(f\"final loss {loss}, final acc {acc}\")"
   ]
  },
  {
   "cell_type": "code",
   "execution_count": 26,
   "id": "cf114bb3",
   "metadata": {
    "execution": {
     "iopub.execute_input": "2022-06-30T22:55:08.706200Z",
     "iopub.status.busy": "2022-06-30T22:55:08.705850Z",
     "iopub.status.idle": "2022-06-30T22:55:09.088541Z",
     "shell.execute_reply": "2022-06-30T22:55:09.087658Z"
    },
    "papermill": {
     "duration": 0.93162,
     "end_time": "2022-06-30T22:55:09.090609",
     "exception": false,
     "start_time": "2022-06-30T22:55:08.158989",
     "status": "completed"
    },
    "tags": []
   },
   "outputs": [
    {
     "data": {
      "image/png": "[encoded data removed]",
      "text/plain": [
       "<Figure size 432x288 with 1 Axes>"
      ]
     },
     "metadata": {
      "needs_background": "light"
     },
     "output_type": "display_data"
    },
    {
     "data": {
      "image/png": "[encoded data removed]",
      "text/plain": [
       "<Figure size 432x288 with 1 Axes>"
      ]
     },
     "metadata": {
      "needs_background": "light"
     },
     "output_type": "display_data"
    }
   ],
   "source": [
    "# summarize history for accuracy\n",
    "plt.plot(history.history['accuracy'])\n",
    "plt.plot(history.history['val_accuracy'])\n",
    "plt.title('model accuracy')\n",
    "plt.ylabel('accuracy')\n",
    "plt.xlabel('epoch')\n",
    "plt.legend(['train', 'val'], loc='upper left')\n",
    "plt.show()\n",
    "# summarize history for loss\n",
    "plt.plot(history.history['loss'])\n",
    "plt.plot(history.history['val_loss'])\n",
    "plt.title('model loss')\n",
    "plt.ylabel('loss')\n",
    "plt.xlabel('epoch')\n",
    "plt.legend(['train', 'val'], loc='upper left')\n",
    "plt.show()"
   ]
  },
  {
   "cell_type": "code",
   "execution_count": 27,
   "id": "167ac857",
   "metadata": {
    "execution": {
     "iopub.execute_input": "2022-06-30T22:55:10.109726Z",
     "iopub.status.busy": "2022-06-30T22:55:10.109064Z",
     "iopub.status.idle": "2022-06-30T22:55:10.115247Z",
     "shell.execute_reply": "2022-06-30T22:55:10.114240Z"
    },
    "papermill": {
     "duration": 0.514381,
     "end_time": "2022-06-30T22:55:10.117789",
     "exception": false,
     "start_time": "2022-06-30T22:55:09.603408",
     "status": "completed"
    },
    "tags": []
   },
   "outputs": [],
   "source": [
    "index_classes_dict = {k: v for v, k in enumerate(classes)}"
   ]
  },
  {
   "cell_type": "code",
   "execution_count": 28,
   "id": "6a76fac6",
   "metadata": {
    "execution": {
     "iopub.execute_input": "2022-06-30T22:55:11.184326Z",
     "iopub.status.busy": "2022-06-30T22:55:11.183915Z",
     "iopub.status.idle": "2022-06-30T22:55:11.188492Z",
     "shell.execute_reply": "2022-06-30T22:55:11.187555Z"
    },
    "papermill": {
     "duration": 0.513528,
     "end_time": "2022-06-30T22:55:11.190661",
     "exception": false,
     "start_time": "2022-06-30T22:55:10.677133",
     "status": "completed"
    },
    "tags": []
   },
   "outputs": [],
   "source": [
    "index_classes_list = list(index_classes_dict.values())"
   ]
  },
  {
   "cell_type": "code",
   "execution_count": 29,
   "id": "46788506",
   "metadata": {
    "execution": {
     "iopub.execute_input": "2022-06-30T22:55:12.200525Z",
     "iopub.status.busy": "2022-06-30T22:55:12.200173Z",
     "iopub.status.idle": "2022-06-30T22:55:12.205376Z",
     "shell.execute_reply": "2022-06-30T22:55:12.204117Z"
    },
    "papermill": {
     "duration": 0.512147,
     "end_time": "2022-06-30T22:55:12.207811",
     "exception": false,
     "start_time": "2022-06-30T22:55:11.695664",
     "status": "completed"
    },
    "tags": []
   },
   "outputs": [],
   "source": [
    "inv_index_classes_dict = {v: k for k, v in index_classes_dict.items()}"
   ]
  },
  {
   "cell_type": "code",
   "execution_count": 30,
   "id": "a57bf008",
   "metadata": {
    "execution": {
     "iopub.execute_input": "2022-06-30T22:55:13.268562Z",
     "iopub.status.busy": "2022-06-30T22:55:13.268129Z",
     "iopub.status.idle": "2022-06-30T22:55:13.274153Z",
     "shell.execute_reply": "2022-06-30T22:55:13.272264Z"
    },
    "papermill": {
     "duration": 0.518002,
     "end_time": "2022-06-30T22:55:13.276613",
     "exception": false,
     "start_time": "2022-06-30T22:55:12.758611",
     "status": "completed"
    },
    "tags": []
   },
   "outputs": [],
   "source": [
    "inv_index_classes_list = list(inv_index_classes_dict.values())"
   ]
  },
  {
   "cell_type": "code",
   "execution_count": 31,
   "id": "80b4f21d",
   "metadata": {
    "execution": {
     "iopub.execute_input": "2022-06-30T22:55:14.324650Z",
     "iopub.status.busy": "2022-06-30T22:55:14.324260Z",
     "iopub.status.idle": "2022-06-30T22:55:22.496470Z",
     "shell.execute_reply": "2022-06-30T22:55:22.495387Z"
    },
    "papermill": {
     "duration": 8.721683,
     "end_time": "2022-06-30T22:55:22.498910",
     "exception": false,
     "start_time": "2022-06-30T22:55:13.777227",
     "status": "completed"
    },
    "tags": []
   },
   "outputs": [],
   "source": [
    "y_pred = []  # store predicted labels\n",
    "y_true = []  # store true labels\n",
    "i = 0\n",
    "# iterate over the dataset\n",
    "for image_batch, label_batch in valid_generator:\n",
    "    # use dataset.unbatch() with repeat\n",
    "    # append true labels\n",
    "    y_true.append(label_batch)\n",
    "    # compute predictions\n",
    "    preds = model.predict(image_batch)\n",
    "    # append predicted labels\n",
    "    y_pred.append(np.argmax(preds, axis = - 1))\n",
    "    i+=1\n",
    "    if i == len(valid_generator): # A generator runs infinitely, \n",
    "        # so here I am running the valid gen once so all samples are seen\n",
    "        # The gen length is valid split * total samples / batch size\n",
    "        # 0.2*759/8 = 19\n",
    "        break\n",
    "\n",
    "\n",
    "# convert the true and predicted labels into tensors\n",
    "correct_labels = tf.concat([item for item in y_true], axis = 0)\n",
    "correct_labels = np.argmax(correct_labels,axis=1)\n",
    "predicted_labels = tf.concat([item for item in y_pred], axis = 0)"
   ]
  },
  {
   "cell_type": "code",
   "execution_count": 32,
   "id": "71b6deb5",
   "metadata": {
    "execution": {
     "iopub.execute_input": "2022-06-30T22:55:23.518656Z",
     "iopub.status.busy": "2022-06-30T22:55:23.518296Z",
     "iopub.status.idle": "2022-06-30T22:55:23.524329Z",
     "shell.execute_reply": "2022-06-30T22:55:23.523243Z"
    },
    "papermill": {
     "duration": 0.524823,
     "end_time": "2022-06-30T22:55:23.526628",
     "exception": false,
     "start_time": "2022-06-30T22:55:23.001805",
     "status": "completed"
    },
    "tags": []
   },
   "outputs": [],
   "source": [
    "names_correct_labels = np.vectorize(inv_index_classes_dict.get)(correct_labels)\n",
    "names_predicted_labels = np.vectorize(inv_index_classes_dict.get)(predicted_labels)"
   ]
  },
  {
   "cell_type": "code",
   "execution_count": 33,
   "id": "a49aeb05",
   "metadata": {
    "execution": {
     "iopub.execute_input": "2022-06-30T22:55:24.574093Z",
     "iopub.status.busy": "2022-06-30T22:55:24.573695Z",
     "iopub.status.idle": "2022-06-30T22:55:26.800240Z",
     "shell.execute_reply": "2022-06-30T22:55:26.799120Z"
    },
    "papermill": {
     "duration": 2.73088,
     "end_time": "2022-06-30T22:55:26.803683",
     "exception": false,
     "start_time": "2022-06-30T22:55:24.072803",
     "status": "completed"
    },
    "tags": []
   },
   "outputs": [
    {
     "data": {
      "image/png": "[encoded data removed]",
      "text/plain": [
       "<Figure size 1296x1296 with 1 Axes>"
      ]
     },
     "metadata": {
      "needs_background": "light"
     },
     "output_type": "display_data"
    }
   ],
   "source": [
    "cm = confusion_matrix(correct_labels, predicted_labels, labels=index_classes_list, normalize='true')\n",
    "fig = plt.figure(figsize = (18,18))\n",
    "ax1 = fig.add_subplot(1,1,1)\n",
    "sns.set(font_scale=1.2) #for label size\n",
    "sns.heatmap(cm, annot=True, annot_kws={\"size\": 12},\n",
    "     cbar = False, cmap='Purples', fmt='.2f', \n",
    "            xticklabels=inv_index_classes_list, yticklabels=inv_index_classes_list);\n",
    "ax1.set_ylabel('True Values',fontsize=12)\n",
    "ax1.set_xlabel('Predicted Values',fontsize=12)\n",
    "plt.show()"
   ]
  },
  {
   "cell_type": "code",
   "execution_count": 34,
   "id": "16f38ef0",
   "metadata": {
    "execution": {
     "iopub.execute_input": "2022-06-30T22:55:28.093083Z",
     "iopub.status.busy": "2022-06-30T22:55:28.092582Z",
     "iopub.status.idle": "2022-06-30T22:55:29.925774Z",
     "shell.execute_reply": "2022-06-30T22:55:29.924752Z"
    },
    "papermill": {
     "duration": 2.383731,
     "end_time": "2022-06-30T22:55:29.928288",
     "exception": false,
     "start_time": "2022-06-30T22:55:27.544557",
     "status": "completed"
    },
    "tags": []
   },
   "outputs": [
    {
     "data": {
      "image/png": "[encoded data removed]",
      "text/plain": [
       "<Figure size 1296x1296 with 1 Axes>"
      ]
     },
     "metadata": {},
     "output_type": "display_data"
    }
   ],
   "source": [
    "cm = confusion_matrix(correct_labels, predicted_labels, labels=index_classes_list)\n",
    "fig = plt.figure(figsize = (18,18))\n",
    "ax1 = fig.add_subplot(1,1,1)\n",
    "sns.set(font_scale=1.2) #for label size\n",
    "sns.heatmap(cm, annot=True, annot_kws={\"size\": 12},\n",
    "     cbar = False, cmap='Purples', fmt='d',\n",
    "           xticklabels=inv_index_classes_list, yticklabels=inv_index_classes_list);\n",
    "ax1.set_ylabel('True Values',fontsize=12)\n",
    "ax1.set_xlabel('Predicted Values',fontsize=12)\n",
    "plt.show()"
   ]
  },
  {
   "cell_type": "code",
   "execution_count": 35,
   "id": "1a765a0f",
   "metadata": {
    "execution": {
     "iopub.execute_input": "2022-06-30T22:55:30.998389Z",
     "iopub.status.busy": "2022-06-30T22:55:30.998038Z",
     "iopub.status.idle": "2022-06-30T22:55:31.007838Z",
     "shell.execute_reply": "2022-06-30T22:55:31.006755Z"
    },
    "papermill": {
     "duration": 0.527101,
     "end_time": "2022-06-30T22:55:31.009993",
     "exception": false,
     "start_time": "2022-06-30T22:55:30.482892",
     "status": "completed"
    },
    "tags": []
   },
   "outputs": [
    {
     "data": {
      "text/plain": [
       "0.36666666666666664"
      ]
     },
     "execution_count": 35,
     "metadata": {},
     "output_type": "execute_result"
    }
   ],
   "source": [
    "FN = cm.sum(axis=1) - np.diag(cm)\n",
    "TP = np.diag(cm)\n",
    "FP = cm.sum(axis=0) - np.diag(cm)\n",
    "TN = cm.sum() - (FP + FN + TP)\n",
    "\n",
    "# from https://stackoverflow.com/questions/31324218/scikit-learn-how-to-obtain-true-positive-true-negative-false-positive-and-fal\n",
    "# Sensitivity, hit rate, recall, or true positive rate\n",
    "TPR = TP/(TP+FN)\n",
    "TPR[18]"
   ]
  },
  {
   "cell_type": "code",
   "execution_count": 36,
   "id": "d31fd398",
   "metadata": {
    "execution": {
     "iopub.execute_input": "2022-06-30T22:55:32.077930Z",
     "iopub.status.busy": "2022-06-30T22:55:32.077553Z",
     "iopub.status.idle": "2022-06-30T22:55:32.082412Z",
     "shell.execute_reply": "2022-06-30T22:55:32.081428Z"
    },
    "papermill": {
     "duration": 0.5659,
     "end_time": "2022-06-30T22:55:32.084507",
     "exception": false,
     "start_time": "2022-06-30T22:55:31.518607",
     "status": "completed"
    },
    "tags": []
   },
   "outputs": [],
   "source": [
    "F1 = TP/(TP+(FP+FN)/2)"
   ]
  },
  {
   "cell_type": "code",
   "execution_count": 37,
   "id": "9c0af1cc",
   "metadata": {
    "execution": {
     "iopub.execute_input": "2022-06-30T22:55:33.103642Z",
     "iopub.status.busy": "2022-06-30T22:55:33.103205Z",
     "iopub.status.idle": "2022-06-30T22:55:33.130833Z",
     "shell.execute_reply": "2022-06-30T22:55:33.128919Z"
    },
    "papermill": {
     "duration": 0.542746,
     "end_time": "2022-06-30T22:55:33.133228",
     "exception": false,
     "start_time": "2022-06-30T22:55:32.590482",
     "status": "completed"
    },
    "tags": []
   },
   "outputs": [
    {
     "name": "stdout",
     "output_type": "stream",
     "text": [
      "               True positives  False positives  True negatives  \\\n",
      "Kleats                   16.0             20.0           506.0   \n",
      "Midge                     6.0              0.0           553.0   \n",
      "Dilton                   30.0             21.0           500.0   \n",
      "Pop Tate                 16.0              0.0           539.0   \n",
      "Reggie                   14.0             20.0           511.0   \n",
      "Jughead                   4.0              8.0           540.0   \n",
      "Grundy                    4.0              5.0           547.0   \n",
      "Ethel                    15.0             20.0           511.0   \n",
      "Weatherbee               21.0             23.0           503.0   \n",
      "Harry Clayton             4.0              2.0           553.0   \n",
      "Smithers                 21.0             32.0           483.0   \n",
      "Svenson                  30.0             21.0           494.0   \n",
      "Moose                     2.0              3.0           551.0   \n",
      "Chuck                     3.0              3.0           542.0   \n",
      "Nancy                    14.0             11.0           521.0   \n",
      "Veronica                  5.0              2.0           549.0   \n",
      "Flutesnoot                1.0             16.0           513.0   \n",
      "Fred Andrews              8.0             10.0           533.0   \n",
      "Archie                   11.0             24.0           507.0   \n",
      "Betty                     1.0              3.0           544.0   \n",
      "Beazley                   2.0              2.0           553.0   \n",
      "Hiram Lodge              27.0             20.0           499.0   \n",
      "Others                   21.0             19.0           505.0   \n",
      "Total                   276.0            285.0         12057.0   \n",
      "\n",
      "               False negatives  F1 score  \n",
      "Kleats                    19.0      0.45  \n",
      "Midge                      2.0      0.86  \n",
      "Dilton                    10.0      0.66  \n",
      "Pop Tate                   6.0      0.84  \n",
      "Reggie                    16.0      0.44  \n",
      "Jughead                    9.0      0.32  \n",
      "Grundy                     5.0      0.44  \n",
      "Ethel                     15.0      0.46  \n",
      "Weatherbee                14.0      0.53  \n",
      "Harry Clayton              2.0      0.67  \n",
      "Smithers                  25.0      0.42  \n",
      "Svenson                   16.0      0.62  \n",
      "Moose                      5.0      0.33  \n",
      "Chuck                     13.0      0.27  \n",
      "Nancy                     15.0      0.52  \n",
      "Veronica                   5.0      0.59  \n",
      "Flutesnoot                31.0      0.04  \n",
      "Fred Andrews              10.0      0.44  \n",
      "Archie                    19.0      0.34  \n",
      "Betty                     13.0      0.11  \n",
      "Beazley                    4.0      0.40  \n",
      "Hiram Lodge               15.0      0.61  \n",
      "Others                    16.0      0.55  \n",
      "Total                    285.0       NaN  \n"
     ]
    }
   ],
   "source": [
    "df_from_arr_2 = pd.DataFrame(data=[TP, FP, TN, FN, F1]).T\n",
    "df_from_arr_2.rename(columns={0: \"True positives\", 1: \"False positives\",\n",
    "                           2: \"True negatives\", 3: \"False negatives\", 4: \"F1 score\"}, inplace = True)\n",
    "df_from_arr_2.index = classes\n",
    "df_from_arr_2[\"F1 score\"] = df_from_arr_2[\"F1 score\"].round(2)\n",
    "\n",
    "#Total sum per column: \n",
    "df_from_arr_2.loc['Total']= df_from_arr_2.sum(axis=0)\n",
    "df_from_arr_2.iloc[-1,-1]= np.nan\n",
    "\n",
    "print(df_from_arr_2)"
   ]
  },
  {
   "cell_type": "code",
   "execution_count": 38,
   "id": "956ed222",
   "metadata": {
    "execution": {
     "iopub.execute_input": "2022-06-30T22:55:34.205587Z",
     "iopub.status.busy": "2022-06-30T22:55:34.205217Z",
     "iopub.status.idle": "2022-06-30T22:55:34.214309Z",
     "shell.execute_reply": "2022-06-30T22:55:34.213041Z"
    },
    "papermill": {
     "duration": 0.531579,
     "end_time": "2022-06-30T22:55:34.216947",
     "exception": false,
     "start_time": "2022-06-30T22:55:33.685368",
     "status": "completed"
    },
    "tags": []
   },
   "outputs": [
    {
     "data": {
      "text/plain": [
       "0.47"
      ]
     },
     "execution_count": 38,
     "metadata": {},
     "output_type": "execute_result"
    }
   ],
   "source": [
    "macro_F1 = round(df_from_arr_2[\"F1 score\"].mean(),2)\n",
    "macro_F1"
   ]
  },
  {
   "cell_type": "code",
   "execution_count": 39,
   "id": "edf4c7cc",
   "metadata": {
    "execution": {
     "iopub.execute_input": "2022-06-30T22:55:35.284624Z",
     "iopub.status.busy": "2022-06-30T22:55:35.284236Z",
     "iopub.status.idle": "2022-06-30T22:55:35.292927Z",
     "shell.execute_reply": "2022-06-30T22:55:35.291795Z"
    },
    "papermill": {
     "duration": 0.568039,
     "end_time": "2022-06-30T22:55:35.295635",
     "exception": false,
     "start_time": "2022-06-30T22:55:34.727596",
     "status": "completed"
    },
    "tags": []
   },
   "outputs": [
    {
     "data": {
      "text/plain": [
       "0.49"
      ]
     },
     "execution_count": 39,
     "metadata": {},
     "output_type": "execute_result"
    }
   ],
   "source": [
    "micro_F1 = df_from_arr_2.iloc[-1,0]/(df_from_arr_2.iloc[-1,0]+0.5*(df_from_arr_2.iloc[-1,1]+df_from_arr_2.iloc[-1,3]))\n",
    "micro_F1 = round(micro_F1,2)\n",
    "micro_F1"
   ]
  },
  {
   "cell_type": "code",
   "execution_count": 40,
   "id": "8ab3d426",
   "metadata": {
    "execution": {
     "iopub.execute_input": "2022-06-30T22:55:36.508276Z",
     "iopub.status.busy": "2022-06-30T22:55:36.507638Z",
     "iopub.status.idle": "2022-06-30T22:55:36.528511Z",
     "shell.execute_reply": "2022-06-30T22:55:36.527595Z"
    },
    "papermill": {
     "duration": 0.7274,
     "end_time": "2022-06-30T22:55:36.532831",
     "exception": false,
     "start_time": "2022-06-30T22:55:35.805431",
     "status": "completed"
    },
    "tags": []
   },
   "outputs": [
    {
     "name": "stdout",
     "output_type": "stream",
     "text": [
      "|               |   True positives |   False positives |   True negatives |   False negatives |   F1 score |\n",
      "|:--------------|-----------------:|------------------:|-----------------:|------------------:|-----------:|\n",
      "| Kleats        |               16 |                20 |              506 |                19 |       0.45 |\n",
      "| Midge         |                6 |                 0 |              553 |                 2 |       0.86 |\n",
      "| Dilton        |               30 |                21 |              500 |                10 |       0.66 |\n",
      "| Pop Tate      |               16 |                 0 |              539 |                 6 |       0.84 |\n",
      "| Reggie        |               14 |                20 |              511 |                16 |       0.44 |\n",
      "| Jughead       |                4 |                 8 |              540 |                 9 |       0.32 |\n",
      "| Grundy        |                4 |                 5 |              547 |                 5 |       0.44 |\n",
      "| Ethel         |               15 |                20 |              511 |                15 |       0.46 |\n",
      "| Weatherbee    |               21 |                23 |              503 |                14 |       0.53 |\n",
      "| Harry Clayton |                4 |                 2 |              553 |                 2 |       0.67 |\n",
      "| Smithers      |               21 |                32 |              483 |                25 |       0.42 |\n",
      "| Svenson       |               30 |                21 |              494 |                16 |       0.62 |\n",
      "| Moose         |                2 |                 3 |              551 |                 5 |       0.33 |\n",
      "| Chuck         |                3 |                 3 |              542 |                13 |       0.27 |\n",
      "| Nancy         |               14 |                11 |              521 |                15 |       0.52 |\n",
      "| Veronica      |                5 |                 2 |              549 |                 5 |       0.59 |\n",
      "| Flutesnoot    |                1 |                16 |              513 |                31 |       0.04 |\n",
      "| Fred Andrews  |                8 |                10 |              533 |                10 |       0.44 |\n",
      "| Archie        |               11 |                24 |              507 |                19 |       0.34 |\n",
      "| Betty         |                1 |                 3 |              544 |                13 |       0.11 |\n",
      "| Beazley       |                2 |                 2 |              553 |                 4 |       0.4  |\n",
      "| Hiram Lodge   |               27 |                20 |              499 |                15 |       0.61 |\n",
      "| Others        |               21 |                19 |              505 |                16 |       0.55 |\n",
      "| Total         |              276 |               285 |            12057 |               285 |     nan    |\n"
     ]
    }
   ],
   "source": [
    "print(df_from_arr_2.to_markdown()) "
   ]
  }
 ],
 "metadata": {
  "kernelspec": {
   "display_name": "Python 3",
   "language": "python",
   "name": "python3"
  },
  "language_info": {
   "codemirror_mode": {
    "name": "ipython",
    "version": 3
   },
   "file_extension": ".py",
   "mimetype": "text/x-python",
   "name": "python",
   "nbconvert_exporter": "python",
   "pygments_lexer": "ipython3",
   "version": "3.7.12"
  },
  "papermill": {
   "default_parameters": {},
   "duration": 870.235131,
   "end_time": "2022-06-30T22:55:40.979552",
   "environment_variables": {},
   "exception": null,
   "input_path": "__notebook__.ipynb",
   "output_path": "__notebook__.ipynb",
   "parameters": {},
   "start_time": "2022-06-30T22:41:10.744421",
   "version": "2.3.4"
  }
 },
 "nbformat": 4,
 "nbformat_minor": 5
}
