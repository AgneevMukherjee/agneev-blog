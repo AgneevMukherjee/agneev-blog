{
 "cells": [
  {
   "cell_type": "code",
   "execution_count": 1,
   "id": "f5476130",
   "metadata": {
    "execution": {
     "iopub.execute_input": "2022-06-30T21:13:13.090585Z",
     "iopub.status.busy": "2022-06-30T21:13:13.090013Z",
     "iopub.status.idle": "2022-06-30T21:13:18.330286Z",
     "shell.execute_reply": "2022-06-30T21:13:18.329325Z"
    },
    "papermill": {
     "duration": 5.254829,
     "end_time": "2022-06-30T21:13:18.332736",
     "exception": false,
     "start_time": "2022-06-30T21:13:13.077907",
     "status": "completed"
    },
    "tags": []
   },
   "outputs": [],
   "source": [
    "import tensorflow as tf\n",
    "from tensorflow import keras\n",
    "import numpy as np\n",
    "import matplotlib.pyplot as plt\n",
    "import matplotlib.image as mpimg\n",
    "import os\n",
    "import pandas as pd\n",
    "import seaborn as sns\n",
    "import random\n",
    "from PIL import Image\n",
    "import cv2\n",
    "from matplotlib import rcParams\n",
    "import re"
   ]
  },
  {
   "cell_type": "code",
   "execution_count": 2,
   "id": "162b3b1f",
   "metadata": {
    "execution": {
     "iopub.execute_input": "2022-06-30T21:13:18.353176Z",
     "iopub.status.busy": "2022-06-30T21:13:18.352588Z",
     "iopub.status.idle": "2022-06-30T21:13:19.558738Z",
     "shell.execute_reply": "2022-06-30T21:13:19.557752Z"
    },
    "papermill": {
     "duration": 1.219187,
     "end_time": "2022-06-30T21:13:19.561195",
     "exception": false,
     "start_time": "2022-06-30T21:13:18.342008",
     "status": "completed"
    },
    "tags": []
   },
   "outputs": [],
   "source": [
    "from keras_preprocessing.image import ImageDataGenerator\n",
    "from sklearn.metrics import confusion_matrix,ConfusionMatrixDisplay\n",
    "from tensorflow.keras.layers import Input\n",
    "from tensorflow.keras.layers import AveragePooling2D\n",
    "from tensorflow.keras.layers import Dropout\n",
    "from tensorflow.keras.layers import Flatten\n",
    "from tensorflow.keras.layers import Dense\n",
    "from tensorflow.keras.layers import Input\n",
    "from tensorflow.keras.models import Model"
   ]
  },
  {
   "cell_type": "code",
   "execution_count": 3,
   "id": "ca59c28e",
   "metadata": {
    "execution": {
     "iopub.execute_input": "2022-06-30T21:13:19.581372Z",
     "iopub.status.busy": "2022-06-30T21:13:19.581046Z",
     "iopub.status.idle": "2022-06-30T21:13:19.585212Z",
     "shell.execute_reply": "2022-06-30T21:13:19.584310Z"
    },
    "papermill": {
     "duration": 0.016238,
     "end_time": "2022-06-30T21:13:19.587217",
     "exception": false,
     "start_time": "2022-06-30T21:13:19.570979",
     "status": "completed"
    },
    "tags": []
   },
   "outputs": [],
   "source": [
    "main_folder = '../input/archie-comics-multi-class/Multi-class'"
   ]
  },
  {
   "cell_type": "code",
   "execution_count": 4,
   "id": "68d85044",
   "metadata": {
    "execution": {
     "iopub.execute_input": "2022-06-30T21:13:19.607159Z",
     "iopub.status.busy": "2022-06-30T21:13:19.606446Z",
     "iopub.status.idle": "2022-06-30T21:13:19.612086Z",
     "shell.execute_reply": "2022-06-30T21:13:19.611201Z"
    },
    "papermill": {
     "duration": 0.01791,
     "end_time": "2022-06-30T21:13:19.614173",
     "exception": false,
     "start_time": "2022-06-30T21:13:19.596263",
     "status": "completed"
    },
    "tags": []
   },
   "outputs": [],
   "source": [
    "samples_per_class = []\n",
    "classes = []\n",
    "file_names = []"
   ]
  },
  {
   "cell_type": "code",
   "execution_count": 5,
   "id": "fbd702cf",
   "metadata": {
    "_kg_hide-output": true,
    "execution": {
     "iopub.execute_input": "2022-06-30T21:13:19.633517Z",
     "iopub.status.busy": "2022-06-30T21:13:19.633199Z",
     "iopub.status.idle": "2022-06-30T21:13:21.685091Z",
     "shell.execute_reply": "2022-06-30T21:13:21.684093Z"
    },
    "papermill": {
     "duration": 2.064203,
     "end_time": "2022-06-30T21:13:21.687418",
     "exception": false,
     "start_time": "2022-06-30T21:13:19.623215",
     "status": "completed"
    },
    "tags": []
   },
   "outputs": [],
   "source": [
    "directory=os.listdir('../input/archie-comics-multi-class/Multi-class/')\n",
    "for each in directory:\n",
    "    currentFolder = '../input/archie-comics-multi-class/Multi-class/' + each\n",
    "    count = sum(len(files) for _, _, files in os.walk(currentFolder))\n",
    "    samples_per_class.append(count)\n",
    "    classes.append(each)\n",
    "    \n",
    "    for i, file in enumerate(os.listdir(currentFolder)):\n",
    "        fullpath = currentFolder+ \"/\" + file\n",
    "        file_names.append(fullpath)"
   ]
  },
  {
   "cell_type": "code",
   "execution_count": 6,
   "id": "8651dfd5",
   "metadata": {
    "execution": {
     "iopub.execute_input": "2022-06-30T21:13:21.708154Z",
     "iopub.status.busy": "2022-06-30T21:13:21.707610Z",
     "iopub.status.idle": "2022-06-30T21:13:21.716145Z",
     "shell.execute_reply": "2022-06-30T21:13:21.715137Z"
    },
    "papermill": {
     "duration": 0.023391,
     "end_time": "2022-06-30T21:13:21.720390",
     "exception": false,
     "start_time": "2022-06-30T21:13:21.696999",
     "status": "completed"
    },
    "tags": []
   },
   "outputs": [
    {
     "data": {
      "text/plain": [
       "33"
      ]
     },
     "execution_count": 6,
     "metadata": {},
     "output_type": "execute_result"
    }
   ],
   "source": [
    "min(samples_per_class)"
   ]
  },
  {
   "cell_type": "code",
   "execution_count": 7,
   "id": "7596d985",
   "metadata": {
    "execution": {
     "iopub.execute_input": "2022-06-30T21:13:21.741482Z",
     "iopub.status.busy": "2022-06-30T21:13:21.741118Z",
     "iopub.status.idle": "2022-06-30T21:13:21.745202Z",
     "shell.execute_reply": "2022-06-30T21:13:21.744305Z"
    },
    "papermill": {
     "duration": 0.016847,
     "end_time": "2022-06-30T21:13:21.747172",
     "exception": false,
     "start_time": "2022-06-30T21:13:21.730325",
     "status": "completed"
    },
    "tags": []
   },
   "outputs": [],
   "source": [
    "small_ds = []"
   ]
  },
  {
   "cell_type": "code",
   "execution_count": 8,
   "id": "2d6316c6",
   "metadata": {
    "execution": {
     "iopub.execute_input": "2022-06-30T21:13:21.767279Z",
     "iopub.status.busy": "2022-06-30T21:13:21.766440Z",
     "iopub.status.idle": "2022-06-30T21:13:21.910945Z",
     "shell.execute_reply": "2022-06-30T21:13:21.909959Z"
    },
    "papermill": {
     "duration": 0.157047,
     "end_time": "2022-06-30T21:13:21.913226",
     "exception": false,
     "start_time": "2022-06-30T21:13:21.756179",
     "status": "completed"
    },
    "tags": []
   },
   "outputs": [],
   "source": [
    "for each_class in classes:\n",
    "    trial_list = []\n",
    "    for name in file_names:\n",
    "        if re.search(f'{each_class}', name):\n",
    "            trial_list.append(name)\n",
    "    small_ds.append(random.sample(trial_list, min(len(trial_list),200)))"
   ]
  },
  {
   "cell_type": "code",
   "execution_count": 9,
   "id": "3559dfab",
   "metadata": {
    "execution": {
     "iopub.execute_input": "2022-06-30T21:13:21.933570Z",
     "iopub.status.busy": "2022-06-30T21:13:21.933213Z",
     "iopub.status.idle": "2022-06-30T21:13:21.938936Z",
     "shell.execute_reply": "2022-06-30T21:13:21.937865Z"
    },
    "papermill": {
     "duration": 0.020408,
     "end_time": "2022-06-30T21:13:21.943272",
     "exception": false,
     "start_time": "2022-06-30T21:13:21.922864",
     "status": "completed"
    },
    "tags": []
   },
   "outputs": [
    {
     "name": "stdout",
     "output_type": "stream",
     "text": [
      "23\n",
      "41\n",
      "943\n"
     ]
    }
   ],
   "source": [
    "print(len(small_ds))\n",
    "print(len(small_ds[0]))\n",
    "print(len(small_ds)*len(small_ds[0]))"
   ]
  },
  {
   "cell_type": "code",
   "execution_count": 10,
   "id": "70fe4e45",
   "metadata": {
    "execution": {
     "iopub.execute_input": "2022-06-30T21:13:21.963675Z",
     "iopub.status.busy": "2022-06-30T21:13:21.962871Z",
     "iopub.status.idle": "2022-06-30T21:13:21.971402Z",
     "shell.execute_reply": "2022-06-30T21:13:21.970503Z"
    },
    "papermill": {
     "duration": 0.020661,
     "end_time": "2022-06-30T21:13:21.973555",
     "exception": false,
     "start_time": "2022-06-30T21:13:21.952894",
     "status": "completed"
    },
    "tags": []
   },
   "outputs": [],
   "source": [
    "small_ds=list(np.concatenate(small_ds).flat)\n",
    "# For flattening small_ds into a 1-D list"
   ]
  },
  {
   "cell_type": "code",
   "execution_count": 11,
   "id": "09c5b288",
   "metadata": {
    "execution": {
     "iopub.execute_input": "2022-06-30T21:13:21.994036Z",
     "iopub.status.busy": "2022-06-30T21:13:21.993185Z",
     "iopub.status.idle": "2022-06-30T21:13:21.999411Z",
     "shell.execute_reply": "2022-06-30T21:13:21.997898Z"
    },
    "papermill": {
     "duration": 0.018876,
     "end_time": "2022-06-30T21:13:22.001911",
     "exception": false,
     "start_time": "2022-06-30T21:13:21.983035",
     "status": "completed"
    },
    "tags": []
   },
   "outputs": [
    {
     "name": "stdout",
     "output_type": "stream",
     "text": [
      "2807\n"
     ]
    }
   ],
   "source": [
    "print(len(small_ds))"
   ]
  },
  {
   "cell_type": "code",
   "execution_count": 12,
   "id": "1db4d0d8",
   "metadata": {
    "execution": {
     "iopub.execute_input": "2022-06-30T21:13:22.023007Z",
     "iopub.status.busy": "2022-06-30T21:13:22.022657Z",
     "iopub.status.idle": "2022-06-30T21:13:22.029250Z",
     "shell.execute_reply": "2022-06-30T21:13:22.028239Z"
    },
    "papermill": {
     "duration": 0.019725,
     "end_time": "2022-06-30T21:13:22.031369",
     "exception": false,
     "start_time": "2022-06-30T21:13:22.011644",
     "status": "completed"
    },
    "tags": []
   },
   "outputs": [
    {
     "data": {
      "text/plain": [
       "['Kleats',\n",
       " 'Midge',\n",
       " 'Dilton',\n",
       " 'Pop Tate',\n",
       " 'Reggie',\n",
       " 'Jughead',\n",
       " 'Grundy',\n",
       " 'Ethel',\n",
       " 'Weatherbee',\n",
       " 'Harry Clayton',\n",
       " 'Smithers',\n",
       " 'Svenson',\n",
       " 'Moose',\n",
       " 'Chuck',\n",
       " 'Nancy',\n",
       " 'Veronica',\n",
       " 'Flutesnoot',\n",
       " 'Fred Andrews',\n",
       " 'Archie',\n",
       " 'Betty',\n",
       " 'Beazley',\n",
       " 'Hiram Lodge',\n",
       " 'Others']"
      ]
     },
     "execution_count": 12,
     "metadata": {},
     "output_type": "execute_result"
    }
   ],
   "source": [
    "classes"
   ]
  },
  {
   "cell_type": "code",
   "execution_count": 13,
   "id": "411e6f51",
   "metadata": {
    "execution": {
     "iopub.execute_input": "2022-06-30T21:13:22.051461Z",
     "iopub.status.busy": "2022-06-30T21:13:22.050468Z",
     "iopub.status.idle": "2022-06-30T21:13:22.057330Z",
     "shell.execute_reply": "2022-06-30T21:13:22.056237Z"
    },
    "papermill": {
     "duration": 0.01912,
     "end_time": "2022-06-30T21:13:22.059594",
     "exception": false,
     "start_time": "2022-06-30T21:13:22.040474",
     "status": "completed"
    },
    "tags": []
   },
   "outputs": [
    {
     "data": {
      "text/plain": [
       "['../input/archie-comics-multi-class/Multi-class/Jughead/Jughead_779.png',\n",
       " '../input/archie-comics-multi-class/Multi-class/Jughead/Jughead_814.png',\n",
       " '../input/archie-comics-multi-class/Multi-class/Jughead/Jughead_903.png',\n",
       " '../input/archie-comics-multi-class/Multi-class/Jughead/Jughead_242.png',\n",
       " '../input/archie-comics-multi-class/Multi-class/Jughead/Jughead_939.png',\n",
       " '../input/archie-comics-multi-class/Multi-class/Jughead/Jughead_653.png',\n",
       " '../input/archie-comics-multi-class/Multi-class/Jughead/Jughead_355.png',\n",
       " '../input/archie-comics-multi-class/Multi-class/Jughead/Jughead_630.png',\n",
       " '../input/archie-comics-multi-class/Multi-class/Jughead/Jughead_873.png',\n",
       " '../input/archie-comics-multi-class/Multi-class/Jughead/Jughead_834.png']"
      ]
     },
     "execution_count": 13,
     "metadata": {},
     "output_type": "execute_result"
    }
   ],
   "source": [
    "small_ds[720:730]"
   ]
  },
  {
   "cell_type": "code",
   "execution_count": 14,
   "id": "c0b9a6d1",
   "metadata": {
    "execution": {
     "iopub.execute_input": "2022-06-30T21:13:22.080801Z",
     "iopub.status.busy": "2022-06-30T21:13:22.080054Z",
     "iopub.status.idle": "2022-06-30T21:13:22.091763Z",
     "shell.execute_reply": "2022-06-30T21:13:22.090900Z"
    },
    "papermill": {
     "duration": 0.024407,
     "end_time": "2022-06-30T21:13:22.093717",
     "exception": false,
     "start_time": "2022-06-30T21:13:22.069310",
     "status": "completed"
    },
    "tags": []
   },
   "outputs": [],
   "source": [
    "files_df = pd.DataFrame(index=range(0, len(small_ds)),columns = ['Files'])"
   ]
  },
  {
   "cell_type": "code",
   "execution_count": 15,
   "id": "ff486290",
   "metadata": {
    "execution": {
     "iopub.execute_input": "2022-06-30T21:13:22.114737Z",
     "iopub.status.busy": "2022-06-30T21:13:22.113837Z",
     "iopub.status.idle": "2022-06-30T21:13:22.122837Z",
     "shell.execute_reply": "2022-06-30T21:13:22.121882Z"
    },
    "papermill": {
     "duration": 0.021592,
     "end_time": "2022-06-30T21:13:22.124981",
     "exception": false,
     "start_time": "2022-06-30T21:13:22.103389",
     "status": "completed"
    },
    "tags": []
   },
   "outputs": [],
   "source": [
    "files_df['Files'] = small_ds"
   ]
  },
  {
   "cell_type": "code",
   "execution_count": 16,
   "id": "71698e72",
   "metadata": {
    "execution": {
     "iopub.execute_input": "2022-06-30T21:13:22.146221Z",
     "iopub.status.busy": "2022-06-30T21:13:22.145389Z",
     "iopub.status.idle": "2022-06-30T21:13:22.158800Z",
     "shell.execute_reply": "2022-06-30T21:13:22.157815Z"
    },
    "papermill": {
     "duration": 0.026193,
     "end_time": "2022-06-30T21:13:22.161269",
     "exception": false,
     "start_time": "2022-06-30T21:13:22.135076",
     "status": "completed"
    },
    "tags": []
   },
   "outputs": [],
   "source": [
    "files_df['Class'] = files_df.Files.str.extract(r'Multi-class/(.*?)/', expand=True)"
   ]
  },
  {
   "cell_type": "code",
   "execution_count": 17,
   "id": "a9d4a519",
   "metadata": {
    "execution": {
     "iopub.execute_input": "2022-06-30T21:13:22.182551Z",
     "iopub.status.busy": "2022-06-30T21:13:22.181822Z",
     "iopub.status.idle": "2022-06-30T21:13:22.193851Z",
     "shell.execute_reply": "2022-06-30T21:13:22.192831Z"
    },
    "papermill": {
     "duration": 0.025508,
     "end_time": "2022-06-30T21:13:22.196353",
     "exception": false,
     "start_time": "2022-06-30T21:13:22.170845",
     "status": "completed"
    },
    "tags": []
   },
   "outputs": [
    {
     "data": {
      "text/html": [
       "<div>\n",
       "<style scoped>\n",
       "    .dataframe tbody tr th:only-of-type {\n",
       "        vertical-align: middle;\n",
       "    }\n",
       "\n",
       "    .dataframe tbody tr th {\n",
       "        vertical-align: top;\n",
       "    }\n",
       "\n",
       "    .dataframe thead th {\n",
       "        text-align: right;\n",
       "    }\n",
       "</style>\n",
       "<table border=\"1\" class=\"dataframe\">\n",
       "  <thead>\n",
       "    <tr style=\"text-align: right;\">\n",
       "      <th></th>\n",
       "      <th>Files</th>\n",
       "      <th>Class</th>\n",
       "    </tr>\n",
       "  </thead>\n",
       "  <tbody>\n",
       "    <tr>\n",
       "      <th>0</th>\n",
       "      <td>../input/archie-comics-multi-class/Multi-class...</td>\n",
       "      <td>Kleats</td>\n",
       "    </tr>\n",
       "    <tr>\n",
       "      <th>1</th>\n",
       "      <td>../input/archie-comics-multi-class/Multi-class...</td>\n",
       "      <td>Kleats</td>\n",
       "    </tr>\n",
       "    <tr>\n",
       "      <th>2</th>\n",
       "      <td>../input/archie-comics-multi-class/Multi-class...</td>\n",
       "      <td>Kleats</td>\n",
       "    </tr>\n",
       "    <tr>\n",
       "      <th>3</th>\n",
       "      <td>../input/archie-comics-multi-class/Multi-class...</td>\n",
       "      <td>Kleats</td>\n",
       "    </tr>\n",
       "    <tr>\n",
       "      <th>4</th>\n",
       "      <td>../input/archie-comics-multi-class/Multi-class...</td>\n",
       "      <td>Kleats</td>\n",
       "    </tr>\n",
       "  </tbody>\n",
       "</table>\n",
       "</div>"
      ],
      "text/plain": [
       "                                               Files   Class\n",
       "0  ../input/archie-comics-multi-class/Multi-class...  Kleats\n",
       "1  ../input/archie-comics-multi-class/Multi-class...  Kleats\n",
       "2  ../input/archie-comics-multi-class/Multi-class...  Kleats\n",
       "3  ../input/archie-comics-multi-class/Multi-class...  Kleats\n",
       "4  ../input/archie-comics-multi-class/Multi-class...  Kleats"
      ]
     },
     "execution_count": 17,
     "metadata": {},
     "output_type": "execute_result"
    }
   ],
   "source": [
    "files_df.head()"
   ]
  },
  {
   "cell_type": "code",
   "execution_count": 18,
   "id": "bb3b0e0d",
   "metadata": {
    "execution": {
     "iopub.execute_input": "2022-06-30T21:13:22.219487Z",
     "iopub.status.busy": "2022-06-30T21:13:22.218536Z",
     "iopub.status.idle": "2022-06-30T21:13:22.227656Z",
     "shell.execute_reply": "2022-06-30T21:13:22.226770Z"
    },
    "papermill": {
     "duration": 0.022941,
     "end_time": "2022-06-30T21:13:22.229652",
     "exception": false,
     "start_time": "2022-06-30T21:13:22.206711",
     "status": "completed"
    },
    "tags": []
   },
   "outputs": [],
   "source": [
    "files_df = files_df.sample(frac=1, random_state=1).reset_index(drop=True)\n",
    "# For randomly shuffling the rows of the dataframe,\n",
    "# else the training set gets the the top classes, the validation the bottom classes of the df\n",
    "# random_state is for reproducability, i.e., same distribution each time the code is run"
   ]
  },
  {
   "cell_type": "code",
   "execution_count": 19,
   "id": "970f54c2",
   "metadata": {
    "execution": {
     "iopub.execute_input": "2022-06-30T21:13:22.251291Z",
     "iopub.status.busy": "2022-06-30T21:13:22.250304Z",
     "iopub.status.idle": "2022-06-30T21:13:22.255406Z",
     "shell.execute_reply": "2022-06-30T21:13:22.254576Z"
    },
    "papermill": {
     "duration": 0.017733,
     "end_time": "2022-06-30T21:13:22.257348",
     "exception": false,
     "start_time": "2022-06-30T21:13:22.239615",
     "status": "completed"
    },
    "tags": []
   },
   "outputs": [],
   "source": [
    "pd.set_option('display.max_colwidth', None)"
   ]
  },
  {
   "cell_type": "code",
   "execution_count": 20,
   "id": "44cc8407",
   "metadata": {
    "execution": {
     "iopub.execute_input": "2022-06-30T21:13:22.278407Z",
     "iopub.status.busy": "2022-06-30T21:13:22.277605Z",
     "iopub.status.idle": "2022-06-30T21:13:22.288002Z",
     "shell.execute_reply": "2022-06-30T21:13:22.287123Z"
    },
    "papermill": {
     "duration": 0.023037,
     "end_time": "2022-06-30T21:13:22.289967",
     "exception": false,
     "start_time": "2022-06-30T21:13:22.266930",
     "status": "completed"
    },
    "tags": []
   },
   "outputs": [
    {
     "data": {
      "text/html": [
       "<div>\n",
       "<style scoped>\n",
       "    .dataframe tbody tr th:only-of-type {\n",
       "        vertical-align: middle;\n",
       "    }\n",
       "\n",
       "    .dataframe tbody tr th {\n",
       "        vertical-align: top;\n",
       "    }\n",
       "\n",
       "    .dataframe thead th {\n",
       "        text-align: right;\n",
       "    }\n",
       "</style>\n",
       "<table border=\"1\" class=\"dataframe\">\n",
       "  <thead>\n",
       "    <tr style=\"text-align: right;\">\n",
       "      <th></th>\n",
       "      <th>Files</th>\n",
       "      <th>Class</th>\n",
       "    </tr>\n",
       "  </thead>\n",
       "  <tbody>\n",
       "    <tr>\n",
       "      <th>2797</th>\n",
       "      <td>../input/archie-comics-multi-class/Multi-class/Hiram Lodge/Hiram Lodge_119.png</td>\n",
       "      <td>Hiram Lodge</td>\n",
       "    </tr>\n",
       "    <tr>\n",
       "      <th>2798</th>\n",
       "      <td>../input/archie-comics-multi-class/Multi-class/Others/Others_448.png</td>\n",
       "      <td>Others</td>\n",
       "    </tr>\n",
       "    <tr>\n",
       "      <th>2799</th>\n",
       "      <td>../input/archie-comics-multi-class/Multi-class/Dilton/Dilton_009.png</td>\n",
       "      <td>Dilton</td>\n",
       "    </tr>\n",
       "    <tr>\n",
       "      <th>2800</th>\n",
       "      <td>../input/archie-comics-multi-class/Multi-class/Dilton/Dilton_047.png</td>\n",
       "      <td>Dilton</td>\n",
       "    </tr>\n",
       "    <tr>\n",
       "      <th>2801</th>\n",
       "      <td>../input/archie-comics-multi-class/Multi-class/Ethel/Ethel_064.png</td>\n",
       "      <td>Ethel</td>\n",
       "    </tr>\n",
       "    <tr>\n",
       "      <th>2802</th>\n",
       "      <td>../input/archie-comics-multi-class/Multi-class/Others/Others_357.png</td>\n",
       "      <td>Others</td>\n",
       "    </tr>\n",
       "    <tr>\n",
       "      <th>2803</th>\n",
       "      <td>../input/archie-comics-multi-class/Multi-class/Ethel/Ethel_021.png</td>\n",
       "      <td>Ethel</td>\n",
       "    </tr>\n",
       "    <tr>\n",
       "      <th>2804</th>\n",
       "      <td>../input/archie-comics-multi-class/Multi-class/Weatherbee/Weatherbee_068.png</td>\n",
       "      <td>Weatherbee</td>\n",
       "    </tr>\n",
       "    <tr>\n",
       "      <th>2805</th>\n",
       "      <td>../input/archie-comics-multi-class/Multi-class/Dilton/Dilton_106.png</td>\n",
       "      <td>Dilton</td>\n",
       "    </tr>\n",
       "    <tr>\n",
       "      <th>2806</th>\n",
       "      <td>../input/archie-comics-multi-class/Multi-class/Weatherbee/Weatherbee_129.png</td>\n",
       "      <td>Weatherbee</td>\n",
       "    </tr>\n",
       "  </tbody>\n",
       "</table>\n",
       "</div>"
      ],
      "text/plain": [
       "                                                                               Files  \\\n",
       "2797  ../input/archie-comics-multi-class/Multi-class/Hiram Lodge/Hiram Lodge_119.png   \n",
       "2798            ../input/archie-comics-multi-class/Multi-class/Others/Others_448.png   \n",
       "2799            ../input/archie-comics-multi-class/Multi-class/Dilton/Dilton_009.png   \n",
       "2800            ../input/archie-comics-multi-class/Multi-class/Dilton/Dilton_047.png   \n",
       "2801              ../input/archie-comics-multi-class/Multi-class/Ethel/Ethel_064.png   \n",
       "2802            ../input/archie-comics-multi-class/Multi-class/Others/Others_357.png   \n",
       "2803              ../input/archie-comics-multi-class/Multi-class/Ethel/Ethel_021.png   \n",
       "2804    ../input/archie-comics-multi-class/Multi-class/Weatherbee/Weatherbee_068.png   \n",
       "2805            ../input/archie-comics-multi-class/Multi-class/Dilton/Dilton_106.png   \n",
       "2806    ../input/archie-comics-multi-class/Multi-class/Weatherbee/Weatherbee_129.png   \n",
       "\n",
       "            Class  \n",
       "2797  Hiram Lodge  \n",
       "2798       Others  \n",
       "2799       Dilton  \n",
       "2800       Dilton  \n",
       "2801        Ethel  \n",
       "2802       Others  \n",
       "2803        Ethel  \n",
       "2804   Weatherbee  \n",
       "2805       Dilton  \n",
       "2806   Weatherbee  "
      ]
     },
     "execution_count": 20,
     "metadata": {},
     "output_type": "execute_result"
    }
   ],
   "source": [
    "files_df.tail(10)"
   ]
  },
  {
   "cell_type": "code",
   "execution_count": 21,
   "id": "6fb33674",
   "metadata": {
    "execution": {
     "iopub.execute_input": "2022-06-30T21:13:22.311922Z",
     "iopub.status.busy": "2022-06-30T21:13:22.311055Z",
     "iopub.status.idle": "2022-06-30T21:13:22.316073Z",
     "shell.execute_reply": "2022-06-30T21:13:22.315183Z"
    },
    "papermill": {
     "duration": 0.018129,
     "end_time": "2022-06-30T21:13:22.317998",
     "exception": false,
     "start_time": "2022-06-30T21:13:22.299869",
     "status": "completed"
    },
    "tags": []
   },
   "outputs": [],
   "source": [
    "datagen=ImageDataGenerator(validation_split=0.2)"
   ]
  },
  {
   "cell_type": "code",
   "execution_count": 22,
   "id": "86ac405d",
   "metadata": {
    "execution": {
     "iopub.execute_input": "2022-06-30T21:13:22.339521Z",
     "iopub.status.busy": "2022-06-30T21:13:22.338476Z",
     "iopub.status.idle": "2022-06-30T21:13:22.343367Z",
     "shell.execute_reply": "2022-06-30T21:13:22.342563Z"
    },
    "papermill": {
     "duration": 0.017623,
     "end_time": "2022-06-30T21:13:22.345370",
     "exception": false,
     "start_time": "2022-06-30T21:13:22.327747",
     "status": "completed"
    },
    "tags": []
   },
   "outputs": [],
   "source": [
    "batch_size = 8"
   ]
  },
  {
   "cell_type": "code",
   "execution_count": 23,
   "id": "572b680b",
   "metadata": {
    "execution": {
     "iopub.execute_input": "2022-06-30T21:13:22.367505Z",
     "iopub.status.busy": "2022-06-30T21:13:22.365678Z",
     "iopub.status.idle": "2022-06-30T21:13:22.438069Z",
     "shell.execute_reply": "2022-06-30T21:13:22.436453Z"
    },
    "papermill": {
     "duration": 0.085838,
     "end_time": "2022-06-30T21:13:22.440909",
     "exception": false,
     "start_time": "2022-06-30T21:13:22.355071",
     "status": "completed"
    },
    "tags": []
   },
   "outputs": [
    {
     "name": "stdout",
     "output_type": "stream",
     "text": [
      "Found 2246 validated image filenames belonging to 23 classes.\n",
      "Found 561 validated image filenames belonging to 23 classes.\n"
     ]
    }
   ],
   "source": [
    "train_generator=datagen.flow_from_dataframe(\n",
    "dataframe=files_df,\n",
    "directory=None,\n",
    "x_col='Files',\n",
    "y_col='Class',\n",
    "subset=\"training\",\n",
    "batch_size=batch_size,\n",
    "seed=42,\n",
    "shuffle=True,\n",
    "class_mode=\"categorical\",\n",
    "rotation_range=30,\n",
    "width_shift_range=0.2,\n",
    "height_shift_range=0.2,\n",
    "brightness_range=(0.5,1.5),\n",
    "shear_range=0.2,\n",
    "zoom_range=0.2,\n",
    "channel_shift_range=30.0,\n",
    "fill_mode='nearest',\n",
    "horizontal_flip=True,\n",
    "vertical_flip=False,\n",
    "target_size=(256,256))\n",
    "\n",
    "valid_generator=datagen.flow_from_dataframe(\n",
    "dataframe=files_df,\n",
    "directory=None,\n",
    "x_col='Files',\n",
    "y_col='Class',\n",
    "subset=\"validation\",\n",
    "batch_size=batch_size,\n",
    "seed=42,\n",
    "shuffle=True,\n",
    "class_mode=\"categorical\",\n",
    "target_size=(256,256))"
   ]
  },
  {
   "cell_type": "code",
   "execution_count": 24,
   "id": "0b7e0f9e",
   "metadata": {
    "execution": {
     "iopub.execute_input": "2022-06-30T21:13:22.463258Z",
     "iopub.status.busy": "2022-06-30T21:13:22.462440Z",
     "iopub.status.idle": "2022-06-30T21:13:22.468741Z",
     "shell.execute_reply": "2022-06-30T21:13:22.467754Z"
    },
    "papermill": {
     "duration": 0.019291,
     "end_time": "2022-06-30T21:13:22.470631",
     "exception": false,
     "start_time": "2022-06-30T21:13:22.451340",
     "status": "completed"
    },
    "tags": []
   },
   "outputs": [],
   "source": [
    "stopping = tf.keras.callbacks.EarlyStopping(\n",
    "        monitor=\"val_accuracy\",\n",
    "        min_delta=0,\n",
    "        patience=15,\n",
    "        verbose=0,\n",
    "        mode=\"auto\",\n",
    "        baseline=None,\n",
    "        restore_best_weights=False,\n",
    "    )\n",
    "\n",
    "checkpoint = tf.keras.callbacks.ModelCheckpoint(\n",
    "        \"best_model\",\n",
    "        monitor=\"val_accuracy\",\n",
    "        mode=\"max\",\n",
    "        save_best_only=True,\n",
    "        save_weights_only=True,\n",
    "    )"
   ]
  },
  {
   "cell_type": "code",
   "execution_count": 25,
   "id": "eaece649",
   "metadata": {
    "execution": {
     "iopub.execute_input": "2022-06-30T21:13:22.492510Z",
     "iopub.status.busy": "2022-06-30T21:13:22.491486Z",
     "iopub.status.idle": "2022-06-30T21:24:15.830823Z",
     "shell.execute_reply": "2022-06-30T21:24:15.829662Z"
    },
    "papermill": {
     "duration": 653.353356,
     "end_time": "2022-06-30T21:24:15.833753",
     "exception": false,
     "start_time": "2022-06-30T21:13:22.480397",
     "status": "completed"
    },
    "tags": []
   },
   "outputs": [
    {
     "name": "stderr",
     "output_type": "stream",
     "text": [
      "2022-06-30 21:13:22.596622: I tensorflow/stream_executor/cuda/cuda_gpu_executor.cc:937] successful NUMA node read from SysFS had negative value (-1), but there must be at least one NUMA node, so returning NUMA node zero\n",
      "2022-06-30 21:13:22.697878: I tensorflow/stream_executor/cuda/cuda_gpu_executor.cc:937] successful NUMA node read from SysFS had negative value (-1), but there must be at least one NUMA node, so returning NUMA node zero\n",
      "2022-06-30 21:13:22.698792: I tensorflow/stream_executor/cuda/cuda_gpu_executor.cc:937] successful NUMA node read from SysFS had negative value (-1), but there must be at least one NUMA node, so returning NUMA node zero\n",
      "2022-06-30 21:13:22.700810: I tensorflow/core/platform/cpu_feature_guard.cc:142] This TensorFlow binary is optimized with oneAPI Deep Neural Network Library (oneDNN) to use the following CPU instructions in performance-critical operations:  AVX2 AVX512F FMA\n",
      "To enable them in other operations, rebuild TensorFlow with the appropriate compiler flags.\n",
      "2022-06-30 21:13:22.701200: I tensorflow/stream_executor/cuda/cuda_gpu_executor.cc:937] successful NUMA node read from SysFS had negative value (-1), but there must be at least one NUMA node, so returning NUMA node zero\n",
      "2022-06-30 21:13:22.702222: I tensorflow/stream_executor/cuda/cuda_gpu_executor.cc:937] successful NUMA node read from SysFS had negative value (-1), but there must be at least one NUMA node, so returning NUMA node zero\n",
      "2022-06-30 21:13:22.703112: I tensorflow/stream_executor/cuda/cuda_gpu_executor.cc:937] successful NUMA node read from SysFS had negative value (-1), but there must be at least one NUMA node, so returning NUMA node zero\n",
      "2022-06-30 21:13:24.787276: I tensorflow/stream_executor/cuda/cuda_gpu_executor.cc:937] successful NUMA node read from SysFS had negative value (-1), but there must be at least one NUMA node, so returning NUMA node zero\n",
      "2022-06-30 21:13:24.788156: I tensorflow/stream_executor/cuda/cuda_gpu_executor.cc:937] successful NUMA node read from SysFS had negative value (-1), but there must be at least one NUMA node, so returning NUMA node zero\n",
      "2022-06-30 21:13:24.788844: I tensorflow/stream_executor/cuda/cuda_gpu_executor.cc:937] successful NUMA node read from SysFS had negative value (-1), but there must be at least one NUMA node, so returning NUMA node zero\n",
      "2022-06-30 21:13:24.789430: I tensorflow/core/common_runtime/gpu/gpu_device.cc:1510] Created device /job:localhost/replica:0/task:0/device:GPU:0 with 15403 MB memory:  -> device: 0, name: Tesla P100-PCIE-16GB, pci bus id: 0000:00:04.0, compute capability: 6.0\n"
     ]
    },
    {
     "name": "stdout",
     "output_type": "stream",
     "text": [
      "Downloading data from https://storage.googleapis.com/tensorflow/keras-applications/resnet/resnet50_weights_tf_dim_ordering_tf_kernels_notop.h5\n",
      "94773248/94765736 [==============================] - 1s 0us/step\n",
      "94781440/94765736 [==============================] - 1s 0us/step\n"
     ]
    },
    {
     "name": "stderr",
     "output_type": "stream",
     "text": [
      "2022-06-30 21:13:28.005700: I tensorflow/compiler/mlir/mlir_graph_optimization_pass.cc:185] None of the MLIR Optimization Passes are enabled (registered 2)\n",
      "2022-06-30 21:13:30.291732: I tensorflow/stream_executor/cuda/cuda_dnn.cc:369] Loaded cuDNN version 8005\n"
     ]
    },
    {
     "name": "stdout",
     "output_type": "stream",
     "text": [
      "71/71 [==============================] - 14s 95ms/step - loss: 4.0512 - accuracy: 0.0285\n",
      "loss 4.051233768463135, acc 0.028520498424768448\n",
      "Epoch 1/50\n",
      "281/281 [==============================] - 30s 96ms/step - loss: 3.2260 - accuracy: 0.0922 - val_loss: 2.8285 - val_accuracy: 0.1586\n",
      "Epoch 2/50\n",
      "281/281 [==============================] - 15s 52ms/step - loss: 2.8261 - accuracy: 0.1612 - val_loss: 2.6952 - val_accuracy: 0.2228\n",
      "Epoch 3/50\n",
      "281/281 [==============================] - 14s 51ms/step - loss: 2.6616 - accuracy: 0.2155 - val_loss: 2.5951 - val_accuracy: 0.2460\n",
      "Epoch 4/50\n",
      "281/281 [==============================] - 15s 53ms/step - loss: 2.4841 - accuracy: 0.2578 - val_loss: 2.4813 - val_accuracy: 0.2870\n",
      "Epoch 5/50\n",
      "281/281 [==============================] - 14s 50ms/step - loss: 2.3213 - accuracy: 0.3019 - val_loss: 2.3991 - val_accuracy: 0.2852\n",
      "Epoch 6/50\n",
      "281/281 [==============================] - 15s 52ms/step - loss: 2.1773 - accuracy: 0.3535 - val_loss: 2.3199 - val_accuracy: 0.2995\n",
      "Epoch 7/50\n",
      "281/281 [==============================] - 15s 52ms/step - loss: 2.0459 - accuracy: 0.3816 - val_loss: 2.2363 - val_accuracy: 0.3405\n",
      "Epoch 8/50\n",
      "281/281 [==============================] - 15s 52ms/step - loss: 1.9153 - accuracy: 0.4225 - val_loss: 2.2018 - val_accuracy: 0.3351\n",
      "Epoch 9/50\n",
      "281/281 [==============================] - 14s 51ms/step - loss: 1.8076 - accuracy: 0.4475 - val_loss: 2.1422 - val_accuracy: 0.3601\n",
      "Epoch 10/50\n",
      "281/281 [==============================] - 15s 52ms/step - loss: 1.6843 - accuracy: 0.4884 - val_loss: 2.1391 - val_accuracy: 0.3601\n",
      "Epoch 11/50\n",
      "281/281 [==============================] - 14s 50ms/step - loss: 1.5983 - accuracy: 0.5200 - val_loss: 2.0954 - val_accuracy: 0.3743\n",
      "Epoch 12/50\n",
      "281/281 [==============================] - 15s 52ms/step - loss: 1.4869 - accuracy: 0.5735 - val_loss: 2.0184 - val_accuracy: 0.3904\n",
      "Epoch 13/50\n",
      "281/281 [==============================] - 14s 50ms/step - loss: 1.4058 - accuracy: 0.5757 - val_loss: 2.0392 - val_accuracy: 0.3815\n",
      "Epoch 14/50\n",
      "281/281 [==============================] - 15s 53ms/step - loss: 1.3055 - accuracy: 0.6180 - val_loss: 2.0176 - val_accuracy: 0.3886\n",
      "Epoch 15/50\n",
      "281/281 [==============================] - 14s 50ms/step - loss: 1.2573 - accuracy: 0.6469 - val_loss: 1.9699 - val_accuracy: 0.4064\n",
      "Epoch 16/50\n",
      "281/281 [==============================] - 14s 51ms/step - loss: 1.1903 - accuracy: 0.6509 - val_loss: 1.9830 - val_accuracy: 0.4082\n",
      "Epoch 17/50\n",
      "281/281 [==============================] - 15s 52ms/step - loss: 1.0867 - accuracy: 0.6906 - val_loss: 1.9445 - val_accuracy: 0.4242\n",
      "Epoch 18/50\n",
      "281/281 [==============================] - 14s 51ms/step - loss: 1.0352 - accuracy: 0.7066 - val_loss: 1.9281 - val_accuracy: 0.4225\n",
      "Epoch 19/50\n",
      "281/281 [==============================] - 14s 51ms/step - loss: 0.9771 - accuracy: 0.7351 - val_loss: 1.9425 - val_accuracy: 0.4082\n",
      "Epoch 20/50\n",
      "281/281 [==============================] - 14s 51ms/step - loss: 0.9248 - accuracy: 0.7404 - val_loss: 1.9486 - val_accuracy: 0.4153\n",
      "Epoch 21/50\n",
      "281/281 [==============================] - 15s 52ms/step - loss: 0.8614 - accuracy: 0.7614 - val_loss: 1.9102 - val_accuracy: 0.4296\n",
      "Epoch 22/50\n",
      "281/281 [==============================] - 14s 50ms/step - loss: 0.8120 - accuracy: 0.7832 - val_loss: 1.9108 - val_accuracy: 0.4260\n",
      "Epoch 23/50\n",
      "281/281 [==============================] - 15s 52ms/step - loss: 0.7660 - accuracy: 0.8077 - val_loss: 1.8967 - val_accuracy: 0.4242\n",
      "Epoch 24/50\n",
      "281/281 [==============================] - 14s 50ms/step - loss: 0.7307 - accuracy: 0.8117 - val_loss: 1.8949 - val_accuracy: 0.4385\n",
      "Epoch 25/50\n",
      "281/281 [==============================] - 15s 54ms/step - loss: 0.6895 - accuracy: 0.8157 - val_loss: 1.8480 - val_accuracy: 0.4599\n",
      "Epoch 26/50\n",
      "281/281 [==============================] - 14s 51ms/step - loss: 0.6502 - accuracy: 0.8379 - val_loss: 1.8946 - val_accuracy: 0.4225\n",
      "Epoch 27/50\n",
      "281/281 [==============================] - 14s 51ms/step - loss: 0.6109 - accuracy: 0.8424 - val_loss: 1.8620 - val_accuracy: 0.4528\n",
      "Epoch 28/50\n",
      "281/281 [==============================] - 15s 52ms/step - loss: 0.5826 - accuracy: 0.8611 - val_loss: 1.8664 - val_accuracy: 0.4367\n",
      "Epoch 29/50\n",
      "281/281 [==============================] - 15s 53ms/step - loss: 0.5505 - accuracy: 0.8646 - val_loss: 1.8738 - val_accuracy: 0.4456\n",
      "Epoch 30/50\n",
      "281/281 [==============================] - 15s 52ms/step - loss: 0.5377 - accuracy: 0.8655 - val_loss: 1.8747 - val_accuracy: 0.4367\n",
      "Epoch 31/50\n",
      "281/281 [==============================] - 14s 50ms/step - loss: 0.4895 - accuracy: 0.8838 - val_loss: 1.8867 - val_accuracy: 0.4314\n",
      "Epoch 32/50\n",
      "281/281 [==============================] - 15s 54ms/step - loss: 0.4684 - accuracy: 0.8963 - val_loss: 1.8845 - val_accuracy: 0.4296\n",
      "Epoch 33/50\n",
      "281/281 [==============================] - 14s 50ms/step - loss: 0.4304 - accuracy: 0.9025 - val_loss: 1.9264 - val_accuracy: 0.4207\n",
      "Epoch 34/50\n",
      "281/281 [==============================] - 15s 52ms/step - loss: 0.4134 - accuracy: 0.9110 - val_loss: 1.8964 - val_accuracy: 0.4492\n",
      "Epoch 35/50\n",
      "281/281 [==============================] - 14s 50ms/step - loss: 0.4106 - accuracy: 0.9078 - val_loss: 1.8579 - val_accuracy: 0.4349\n",
      "Epoch 36/50\n",
      "281/281 [==============================] - 15s 52ms/step - loss: 0.3645 - accuracy: 0.9248 - val_loss: 1.9014 - val_accuracy: 0.4456\n",
      "Epoch 37/50\n",
      "281/281 [==============================] - 14s 50ms/step - loss: 0.3489 - accuracy: 0.9199 - val_loss: 1.8905 - val_accuracy: 0.4474\n",
      "Epoch 38/50\n",
      "281/281 [==============================] - 15s 52ms/step - loss: 0.3422 - accuracy: 0.9261 - val_loss: 1.9093 - val_accuracy: 0.4456\n",
      "Epoch 39/50\n",
      "281/281 [==============================] - 14s 50ms/step - loss: 0.3366 - accuracy: 0.9314 - val_loss: 1.9019 - val_accuracy: 0.4421\n",
      "Epoch 40/50\n",
      "281/281 [==============================] - 15s 52ms/step - loss: 0.3021 - accuracy: 0.9368 - val_loss: 1.9483 - val_accuracy: 0.4314\n",
      "71/71 [==============================] - 3s 42ms/step - loss: 1.8480 - accuracy: 0.4599\n",
      "final loss 1.847978949546814, final acc 0.45989304780960083\n"
     ]
    }
   ],
   "source": [
    "base_model = tf.keras.applications.ResNet50(weights='imagenet', input_shape=(256, 256, 3), classes=len(classes), include_top = False)\n",
    "\n",
    "\n",
    "# Based on https://pyimagesearch.com/2020/04/27/fine-tuning-resnet-with-keras-tensorflow-and-deep-learning/\n",
    "\n",
    "# construct the head of the model that will be placed on top of the\n",
    "# the base model\n",
    "headModel = base_model.output\n",
    "headModel = AveragePooling2D(pool_size=(7, 7))(headModel)\n",
    "headModel = Flatten(name=\"flatten\")(headModel)\n",
    "headModel = Dense(256, activation=\"relu\")(headModel)\n",
    "headModel = Dropout(0.5)(headModel)\n",
    "headModel = Dense(len(classes), activation=\"softmax\")(headModel)\n",
    "# place the head FC model on top of the base model (this will become\n",
    "# the actual model we will train)\n",
    "model = Model(inputs=base_model.input, outputs=headModel)\n",
    "# loop over all layers in the base model and freeze them so they will\n",
    "# *not* be updated during the training process\n",
    "for layer in base_model.layers:\n",
    "    layer.trainable = False\n",
    "    \n",
    "model.compile(\n",
    "        optimizer=tf.keras.optimizers.Adam(learning_rate=0.0001),\n",
    "        loss=tf.keras.losses.CategoricalCrossentropy(),#from_logits=True),\n",
    "        metrics=[\"accuracy\"]\n",
    "    )\n",
    " \n",
    "loss_0, acc_0 = model.evaluate(valid_generator)\n",
    "print(f\"loss {loss_0}, acc {acc_0}\")\n",
    "    \n",
    "\n",
    "history = model.fit(\n",
    "        train_generator,\n",
    "        validation_data=valid_generator,\n",
    "        epochs=50,\n",
    "        callbacks=[stopping, checkpoint]\n",
    ")\n",
    "\n",
    "model.load_weights(\"best_model\")\n",
    "\n",
    "loss, acc = model.evaluate(valid_generator)\n",
    "print(f\"final loss {loss}, final acc {acc}\")"
   ]
  },
  {
   "cell_type": "code",
   "execution_count": 26,
   "id": "66dc525b",
   "metadata": {
    "execution": {
     "iopub.execute_input": "2022-06-30T21:24:16.712923Z",
     "iopub.status.busy": "2022-06-30T21:24:16.712560Z",
     "iopub.status.idle": "2022-06-30T21:24:17.107294Z",
     "shell.execute_reply": "2022-06-30T21:24:17.106384Z"
    },
    "papermill": {
     "duration": 0.846374,
     "end_time": "2022-06-30T21:24:17.109466",
     "exception": false,
     "start_time": "2022-06-30T21:24:16.263092",
     "status": "completed"
    },
    "tags": []
   },
   "outputs": [
    {
     "data": {
      "image/png": "[encoded data removed]",
      "text/plain": [
       "<Figure size 432x288 with 1 Axes>"
      ]
     },
     "metadata": {
      "needs_background": "light"
     },
     "output_type": "display_data"
    },
    {
     "data": {
      "image/png": "[encoded data removed]",
      "text/plain": [
       "<Figure size 432x288 with 1 Axes>"
      ]
     },
     "metadata": {
      "needs_background": "light"
     },
     "output_type": "display_data"
    }
   ],
   "source": [
    "# summarize history for accuracy\n",
    "plt.plot(history.history['accuracy'])\n",
    "plt.plot(history.history['val_accuracy'])\n",
    "plt.title('model accuracy')\n",
    "plt.ylabel('accuracy')\n",
    "plt.xlabel('epoch')\n",
    "plt.legend(['train', 'val'], loc='upper left')\n",
    "plt.show()\n",
    "# summarize history for loss\n",
    "plt.plot(history.history['loss'])\n",
    "plt.plot(history.history['val_loss'])\n",
    "plt.title('model loss')\n",
    "plt.ylabel('loss')\n",
    "plt.xlabel('epoch')\n",
    "plt.legend(['train', 'val'], loc='upper left')\n",
    "plt.show()"
   ]
  },
  {
   "cell_type": "code",
   "execution_count": 27,
   "id": "a69cb65f",
   "metadata": {
    "execution": {
     "iopub.execute_input": "2022-06-30T21:24:17.901531Z",
     "iopub.status.busy": "2022-06-30T21:24:17.901171Z",
     "iopub.status.idle": "2022-06-30T21:24:17.905963Z",
     "shell.execute_reply": "2022-06-30T21:24:17.904999Z"
    },
    "papermill": {
     "duration": 0.409718,
     "end_time": "2022-06-30T21:24:17.908040",
     "exception": false,
     "start_time": "2022-06-30T21:24:17.498322",
     "status": "completed"
    },
    "tags": []
   },
   "outputs": [],
   "source": [
    "index_classes_dict = {k: v for v, k in enumerate(classes)}"
   ]
  },
  {
   "cell_type": "code",
   "execution_count": 28,
   "id": "ef451569",
   "metadata": {
    "execution": {
     "iopub.execute_input": "2022-06-30T21:24:18.740266Z",
     "iopub.status.busy": "2022-06-30T21:24:18.739901Z",
     "iopub.status.idle": "2022-06-30T21:24:18.744647Z",
     "shell.execute_reply": "2022-06-30T21:24:18.743579Z"
    },
    "papermill": {
     "duration": 0.447819,
     "end_time": "2022-06-30T21:24:18.746687",
     "exception": false,
     "start_time": "2022-06-30T21:24:18.298868",
     "status": "completed"
    },
    "tags": []
   },
   "outputs": [],
   "source": [
    "index_classes_list = list(index_classes_dict.values())"
   ]
  },
  {
   "cell_type": "code",
   "execution_count": 29,
   "id": "6a9550be",
   "metadata": {
    "execution": {
     "iopub.execute_input": "2022-06-30T21:24:19.524712Z",
     "iopub.status.busy": "2022-06-30T21:24:19.524336Z",
     "iopub.status.idle": "2022-06-30T21:24:19.529451Z",
     "shell.execute_reply": "2022-06-30T21:24:19.528506Z"
    },
    "papermill": {
     "duration": 0.397256,
     "end_time": "2022-06-30T21:24:19.531597",
     "exception": false,
     "start_time": "2022-06-30T21:24:19.134341",
     "status": "completed"
    },
    "tags": []
   },
   "outputs": [],
   "source": [
    "inv_index_classes_dict = {v: k for k, v in index_classes_dict.items()}"
   ]
  },
  {
   "cell_type": "code",
   "execution_count": 30,
   "id": "b1617a03",
   "metadata": {
    "execution": {
     "iopub.execute_input": "2022-06-30T21:24:20.361294Z",
     "iopub.status.busy": "2022-06-30T21:24:20.360908Z",
     "iopub.status.idle": "2022-06-30T21:24:20.365342Z",
     "shell.execute_reply": "2022-06-30T21:24:20.364461Z"
    },
    "papermill": {
     "duration": 0.448228,
     "end_time": "2022-06-30T21:24:20.367227",
     "exception": false,
     "start_time": "2022-06-30T21:24:19.918999",
     "status": "completed"
    },
    "tags": []
   },
   "outputs": [],
   "source": [
    "inv_index_classes_list = list(inv_index_classes_dict.values())"
   ]
  },
  {
   "cell_type": "code",
   "execution_count": 31,
   "id": "0f7c659a",
   "metadata": {
    "execution": {
     "iopub.execute_input": "2022-06-30T21:24:21.141351Z",
     "iopub.status.busy": "2022-06-30T21:24:21.140973Z",
     "iopub.status.idle": "2022-06-30T21:24:29.560584Z",
     "shell.execute_reply": "2022-06-30T21:24:29.559470Z"
    },
    "papermill": {
     "duration": 8.81049,
     "end_time": "2022-06-30T21:24:29.563250",
     "exception": false,
     "start_time": "2022-06-30T21:24:20.752760",
     "status": "completed"
    },
    "tags": []
   },
   "outputs": [],
   "source": [
    "y_pred = []  # store predicted labels\n",
    "y_true = []  # store true labels\n",
    "i = 0\n",
    "# iterate over the dataset\n",
    "for image_batch, label_batch in valid_generator:\n",
    "    # use dataset.unbatch() with repeat\n",
    "    # append true labels\n",
    "    y_true.append(label_batch)\n",
    "    # compute predictions\n",
    "    preds = model.predict(image_batch)\n",
    "    # append predicted labels\n",
    "    y_pred.append(np.argmax(preds, axis = - 1))\n",
    "    i+=1\n",
    "    if i == len(valid_generator): # A generator runs infinitely, \n",
    "        # so here I am running the valid gen once so all samples are seen\n",
    "        # The gen length is valid split * total samples / batch size\n",
    "        # 0.2*759/8 = 19\n",
    "        break\n",
    "\n",
    "\n",
    "# convert the true and predicted labels into tensors\n",
    "correct_labels = tf.concat([item for item in y_true], axis = 0)\n",
    "correct_labels = np.argmax(correct_labels,axis=1)\n",
    "predicted_labels = tf.concat([item for item in y_pred], axis = 0)"
   ]
  },
  {
   "cell_type": "code",
   "execution_count": 32,
   "id": "61ea8cf9",
   "metadata": {
    "execution": {
     "iopub.execute_input": "2022-06-30T21:24:30.388018Z",
     "iopub.status.busy": "2022-06-30T21:24:30.387662Z",
     "iopub.status.idle": "2022-06-30T21:24:30.393335Z",
     "shell.execute_reply": "2022-06-30T21:24:30.392392Z"
    },
    "papermill": {
     "duration": 0.440511,
     "end_time": "2022-06-30T21:24:30.395329",
     "exception": false,
     "start_time": "2022-06-30T21:24:29.954818",
     "status": "completed"
    },
    "tags": []
   },
   "outputs": [],
   "source": [
    "names_correct_labels = np.vectorize(inv_index_classes_dict.get)(correct_labels)\n",
    "names_predicted_labels = np.vectorize(inv_index_classes_dict.get)(predicted_labels)"
   ]
  },
  {
   "cell_type": "code",
   "execution_count": 33,
   "id": "bfe7ca59",
   "metadata": {
    "execution": {
     "iopub.execute_input": "2022-06-30T21:24:31.177107Z",
     "iopub.status.busy": "2022-06-30T21:24:31.176403Z",
     "iopub.status.idle": "2022-06-30T21:24:33.353349Z",
     "shell.execute_reply": "2022-06-30T21:24:33.352398Z"
    },
    "papermill": {
     "duration": 2.573639,
     "end_time": "2022-06-30T21:24:33.356534",
     "exception": false,
     "start_time": "2022-06-30T21:24:30.782895",
     "status": "completed"
    },
    "tags": []
   },
   "outputs": [
    {
     "data": {
      "image/png": "[encoded data removed]",
      "text/plain": [
       "<Figure size 1296x1296 with 1 Axes>"
      ]
     },
     "metadata": {
      "needs_background": "light"
     },
     "output_type": "display_data"
    }
   ],
   "source": [
    "cm = confusion_matrix(correct_labels, predicted_labels, labels=index_classes_list, normalize='true')\n",
    "fig = plt.figure(figsize = (18,18))\n",
    "ax1 = fig.add_subplot(1,1,1)\n",
    "sns.set(font_scale=1.2) #for label size\n",
    "sns.heatmap(cm, annot=True, annot_kws={\"size\": 12},\n",
    "     cbar = False, cmap='Purples', fmt='.2f', \n",
    "            xticklabels=inv_index_classes_list, yticklabels=inv_index_classes_list);\n",
    "ax1.set_ylabel('True Values',fontsize=12)\n",
    "ax1.set_xlabel('Predicted Values',fontsize=12)\n",
    "plt.show()"
   ]
  },
  {
   "cell_type": "code",
   "execution_count": 34,
   "id": "c136a027",
   "metadata": {
    "execution": {
     "iopub.execute_input": "2022-06-30T21:24:34.192086Z",
     "iopub.status.busy": "2022-06-30T21:24:34.191733Z",
     "iopub.status.idle": "2022-06-30T21:24:35.934284Z",
     "shell.execute_reply": "2022-06-30T21:24:35.933197Z"
    },
    "papermill": {
     "duration": 2.184765,
     "end_time": "2022-06-30T21:24:35.937439",
     "exception": false,
     "start_time": "2022-06-30T21:24:33.752674",
     "status": "completed"
    },
    "tags": []
   },
   "outputs": [
    {
     "data": {
      "image/png": "[encoded data removed]",
      "text/plain": [
       "<Figure size 1296x1296 with 1 Axes>"
      ]
     },
     "metadata": {},
     "output_type": "display_data"
    }
   ],
   "source": [
    "cm = confusion_matrix(correct_labels, predicted_labels, labels=index_classes_list)\n",
    "fig = plt.figure(figsize = (18,18))\n",
    "ax1 = fig.add_subplot(1,1,1)\n",
    "sns.set(font_scale=1.2) #for label size\n",
    "sns.heatmap(cm, annot=True, annot_kws={\"size\": 12},\n",
    "     cbar = False, cmap='Purples', fmt='d',\n",
    "           xticklabels=inv_index_classes_list, yticklabels=inv_index_classes_list);\n",
    "ax1.set_ylabel('True Values',fontsize=12)\n",
    "ax1.set_xlabel('Predicted Values',fontsize=12)\n",
    "plt.show()"
   ]
  },
  {
   "cell_type": "code",
   "execution_count": 35,
   "id": "229c630e",
   "metadata": {
    "execution": {
     "iopub.execute_input": "2022-06-30T21:24:37.036984Z",
     "iopub.status.busy": "2022-06-30T21:24:37.036401Z",
     "iopub.status.idle": "2022-06-30T21:24:37.050043Z",
     "shell.execute_reply": "2022-06-30T21:24:37.049182Z"
    },
    "papermill": {
     "duration": 0.658146,
     "end_time": "2022-06-30T21:24:37.052626",
     "exception": false,
     "start_time": "2022-06-30T21:24:36.394480",
     "status": "completed"
    },
    "tags": []
   },
   "outputs": [
    {
     "data": {
      "text/plain": [
       "0.43333333333333335"
      ]
     },
     "execution_count": 35,
     "metadata": {},
     "output_type": "execute_result"
    }
   ],
   "source": [
    "FN = cm.sum(axis=1) - np.diag(cm)\n",
    "TP = np.diag(cm)\n",
    "FP = cm.sum(axis=0) - np.diag(cm)\n",
    "TN = cm.sum() - (FP + FN + TP)\n",
    "\n",
    "# from https://stackoverflow.com/questions/31324218/scikit-learn-how-to-obtain-true-positive-true-negative-false-positive-and-fal\n",
    "# Sensitivity, hit rate, recall, or true positive rate\n",
    "TPR = TP/(TP+FN)\n",
    "TPR[18]"
   ]
  },
  {
   "cell_type": "code",
   "execution_count": 36,
   "id": "8a3d6793",
   "metadata": {
    "execution": {
     "iopub.execute_input": "2022-06-30T21:24:38.417940Z",
     "iopub.status.busy": "2022-06-30T21:24:38.416926Z",
     "iopub.status.idle": "2022-06-30T21:24:38.422246Z",
     "shell.execute_reply": "2022-06-30T21:24:38.421106Z"
    },
    "papermill": {
     "duration": 0.510329,
     "end_time": "2022-06-30T21:24:38.424577",
     "exception": false,
     "start_time": "2022-06-30T21:24:37.914248",
     "status": "completed"
    },
    "tags": []
   },
   "outputs": [],
   "source": [
    "F1 = TP/(TP+(FP+FN)/2)"
   ]
  },
  {
   "cell_type": "code",
   "execution_count": 37,
   "id": "af82660a",
   "metadata": {
    "execution": {
     "iopub.execute_input": "2022-06-30T21:24:39.236590Z",
     "iopub.status.busy": "2022-06-30T21:24:39.236189Z",
     "iopub.status.idle": "2022-06-30T21:24:39.256503Z",
     "shell.execute_reply": "2022-06-30T21:24:39.255582Z"
    },
    "papermill": {
     "duration": 0.420635,
     "end_time": "2022-06-30T21:24:39.258537",
     "exception": false,
     "start_time": "2022-06-30T21:24:38.837902",
     "status": "completed"
    },
    "tags": []
   },
   "outputs": [
    {
     "name": "stdout",
     "output_type": "stream",
     "text": [
      "               True positives  False positives  True negatives  \\\n",
      "Kleats                    9.0             19.0           507.0   \n",
      "Midge                     4.0              2.0           551.0   \n",
      "Dilton                   26.0             22.0           499.0   \n",
      "Pop Tate                 16.0              0.0           539.0   \n",
      "Reggie                    9.0              5.0           526.0   \n",
      "Jughead                   4.0             11.0           537.0   \n",
      "Grundy                    1.0              2.0           550.0   \n",
      "Ethel                    15.0             21.0           510.0   \n",
      "Weatherbee               18.0             15.0           511.0   \n",
      "Harry Clayton             2.0              1.0           554.0   \n",
      "Smithers                 25.0             30.0           485.0   \n",
      "Svenson                  28.0             32.0           483.0   \n",
      "Moose                     1.0              3.0           551.0   \n",
      "Chuck                     5.0              1.0           544.0   \n",
      "Nancy                    11.0              9.0           523.0   \n",
      "Veronica                  7.0              5.0           546.0   \n",
      "Flutesnoot               10.0             42.0           487.0   \n",
      "Fred Andrews              3.0              4.0           539.0   \n",
      "Archie                   13.0             27.0           504.0   \n",
      "Betty                     1.0              0.0           547.0   \n",
      "Beazley                   2.0              2.0           553.0   \n",
      "Hiram Lodge              26.0             25.0           494.0   \n",
      "Others                   22.0             25.0           499.0   \n",
      "Total                   258.0            303.0         12039.0   \n",
      "\n",
      "               False negatives  F1 score  \n",
      "Kleats                    26.0      0.29  \n",
      "Midge                      4.0      0.57  \n",
      "Dilton                    14.0      0.59  \n",
      "Pop Tate                   6.0      0.84  \n",
      "Reggie                    21.0      0.41  \n",
      "Jughead                    9.0      0.29  \n",
      "Grundy                     8.0      0.17  \n",
      "Ethel                     15.0      0.45  \n",
      "Weatherbee                17.0      0.53  \n",
      "Harry Clayton              4.0      0.44  \n",
      "Smithers                  21.0      0.50  \n",
      "Svenson                   18.0      0.53  \n",
      "Moose                      6.0      0.18  \n",
      "Chuck                     11.0      0.45  \n",
      "Nancy                     18.0      0.45  \n",
      "Veronica                   3.0      0.64  \n",
      "Flutesnoot                22.0      0.24  \n",
      "Fred Andrews              15.0      0.24  \n",
      "Archie                    17.0      0.37  \n",
      "Betty                     13.0      0.13  \n",
      "Beazley                    4.0      0.40  \n",
      "Hiram Lodge               16.0      0.56  \n",
      "Others                    15.0      0.52  \n",
      "Total                    303.0       NaN  \n"
     ]
    }
   ],
   "source": [
    "df_from_arr_2 = pd.DataFrame(data=[TP, FP, TN, FN, F1]).T\n",
    "df_from_arr_2.rename(columns={0: \"True positives\", 1: \"False positives\",\n",
    "                           2: \"True negatives\", 3: \"False negatives\", 4: \"F1 score\"}, inplace = True)\n",
    "df_from_arr_2.index = classes\n",
    "df_from_arr_2[\"F1 score\"] = df_from_arr_2[\"F1 score\"].round(2)\n",
    "\n",
    "#Total sum per column: \n",
    "df_from_arr_2.loc['Total']= df_from_arr_2.sum(axis=0)\n",
    "df_from_arr_2.iloc[-1,-1]= np.nan\n",
    "\n",
    "print(df_from_arr_2)"
   ]
  },
  {
   "cell_type": "code",
   "execution_count": 38,
   "id": "522f32aa",
   "metadata": {
    "execution": {
     "iopub.execute_input": "2022-06-30T21:24:40.110932Z",
     "iopub.status.busy": "2022-06-30T21:24:40.110575Z",
     "iopub.status.idle": "2022-06-30T21:24:40.117595Z",
     "shell.execute_reply": "2022-06-30T21:24:40.116611Z"
    },
    "papermill": {
     "duration": 0.459942,
     "end_time": "2022-06-30T21:24:40.119678",
     "exception": false,
     "start_time": "2022-06-30T21:24:39.659736",
     "status": "completed"
    },
    "tags": []
   },
   "outputs": [
    {
     "data": {
      "text/plain": [
       "0.43"
      ]
     },
     "execution_count": 38,
     "metadata": {},
     "output_type": "execute_result"
    }
   ],
   "source": [
    "macro_F1 = round(df_from_arr_2[\"F1 score\"].mean(),2)\n",
    "macro_F1"
   ]
  },
  {
   "cell_type": "code",
   "execution_count": 39,
   "id": "0fcd157d",
   "metadata": {
    "execution": {
     "iopub.execute_input": "2022-06-30T21:24:40.929377Z",
     "iopub.status.busy": "2022-06-30T21:24:40.929028Z",
     "iopub.status.idle": "2022-06-30T21:24:40.936511Z",
     "shell.execute_reply": "2022-06-30T21:24:40.935607Z"
    },
    "papermill": {
     "duration": 0.41981,
     "end_time": "2022-06-30T21:24:40.938857",
     "exception": false,
     "start_time": "2022-06-30T21:24:40.519047",
     "status": "completed"
    },
    "tags": []
   },
   "outputs": [
    {
     "data": {
      "text/plain": [
       "0.46"
      ]
     },
     "execution_count": 39,
     "metadata": {},
     "output_type": "execute_result"
    }
   ],
   "source": [
    "micro_F1 = df_from_arr_2.iloc[-1,0]/(df_from_arr_2.iloc[-1,0]+0.5*(df_from_arr_2.iloc[-1,1]+df_from_arr_2.iloc[-1,3]))\n",
    "micro_F1 = round(micro_F1,2)\n",
    "micro_F1"
   ]
  },
  {
   "cell_type": "code",
   "execution_count": 40,
   "id": "f235650c",
   "metadata": {
    "execution": {
     "iopub.execute_input": "2022-06-30T21:24:41.776169Z",
     "iopub.status.busy": "2022-06-30T21:24:41.775812Z",
     "iopub.status.idle": "2022-06-30T21:24:41.788367Z",
     "shell.execute_reply": "2022-06-30T21:24:41.787264Z"
    },
    "papermill": {
     "duration": 0.460293,
     "end_time": "2022-06-30T21:24:41.790381",
     "exception": false,
     "start_time": "2022-06-30T21:24:41.330088",
     "status": "completed"
    },
    "tags": []
   },
   "outputs": [
    {
     "name": "stdout",
     "output_type": "stream",
     "text": [
      "|               |   True positives |   False positives |   True negatives |   False negatives |   F1 score |\n",
      "|:--------------|-----------------:|------------------:|-----------------:|------------------:|-----------:|\n",
      "| Kleats        |                9 |                19 |              507 |                26 |       0.29 |\n",
      "| Midge         |                4 |                 2 |              551 |                 4 |       0.57 |\n",
      "| Dilton        |               26 |                22 |              499 |                14 |       0.59 |\n",
      "| Pop Tate      |               16 |                 0 |              539 |                 6 |       0.84 |\n",
      "| Reggie        |                9 |                 5 |              526 |                21 |       0.41 |\n",
      "| Jughead       |                4 |                11 |              537 |                 9 |       0.29 |\n",
      "| Grundy        |                1 |                 2 |              550 |                 8 |       0.17 |\n",
      "| Ethel         |               15 |                21 |              510 |                15 |       0.45 |\n",
      "| Weatherbee    |               18 |                15 |              511 |                17 |       0.53 |\n",
      "| Harry Clayton |                2 |                 1 |              554 |                 4 |       0.44 |\n",
      "| Smithers      |               25 |                30 |              485 |                21 |       0.5  |\n",
      "| Svenson       |               28 |                32 |              483 |                18 |       0.53 |\n",
      "| Moose         |                1 |                 3 |              551 |                 6 |       0.18 |\n",
      "| Chuck         |                5 |                 1 |              544 |                11 |       0.45 |\n",
      "| Nancy         |               11 |                 9 |              523 |                18 |       0.45 |\n",
      "| Veronica      |                7 |                 5 |              546 |                 3 |       0.64 |\n",
      "| Flutesnoot    |               10 |                42 |              487 |                22 |       0.24 |\n",
      "| Fred Andrews  |                3 |                 4 |              539 |                15 |       0.24 |\n",
      "| Archie        |               13 |                27 |              504 |                17 |       0.37 |\n",
      "| Betty         |                1 |                 0 |              547 |                13 |       0.13 |\n",
      "| Beazley       |                2 |                 2 |              553 |                 4 |       0.4  |\n",
      "| Hiram Lodge   |               26 |                25 |              494 |                16 |       0.56 |\n",
      "| Others        |               22 |                25 |              499 |                15 |       0.52 |\n",
      "| Total         |              258 |               303 |            12039 |               303 |     nan    |\n"
     ]
    }
   ],
   "source": [
    "print(df_from_arr_2.to_markdown()) "
   ]
  }
 ],
 "metadata": {
  "kernelspec": {
   "display_name": "Python 3",
   "language": "python",
   "name": "python3"
  },
  "language_info": {
   "codemirror_mode": {
    "name": "ipython",
    "version": 3
   },
   "file_extension": ".py",
   "mimetype": "text/x-python",
   "name": "python",
   "nbconvert_exporter": "python",
   "pygments_lexer": "ipython3",
   "version": "3.7.12"
  },
  "papermill": {
   "default_parameters": {},
   "duration": 700.94296,
   "end_time": "2022-06-30T21:24:45.632631",
   "environment_variables": {},
   "exception": null,
   "input_path": "__notebook__.ipynb",
   "output_path": "__notebook__.ipynb",
   "parameters": {},
   "start_time": "2022-06-30T21:13:04.689671",
   "version": "2.3.4"
  }
 },
 "nbformat": 4,
 "nbformat_minor": 5
}
