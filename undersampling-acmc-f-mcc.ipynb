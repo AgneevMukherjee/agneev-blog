{
 "cells": [
  {
   "cell_type": "code",
   "execution_count": 1,
   "id": "36e16c33",
   "metadata": {
    "execution": {
     "iopub.execute_input": "2022-07-01T19:54:41.705004Z",
     "iopub.status.busy": "2022-07-01T19:54:41.704292Z",
     "iopub.status.idle": "2022-07-01T19:54:48.098763Z",
     "shell.execute_reply": "2022-07-01T19:54:48.097829Z"
    },
    "papermill": {
     "duration": 6.410033,
     "end_time": "2022-07-01T19:54:48.101382",
     "exception": false,
     "start_time": "2022-07-01T19:54:41.691349",
     "status": "completed"
    },
    "tags": []
   },
   "outputs": [],
   "source": [
    "import tensorflow as tf\n",
    "from tensorflow import keras\n",
    "import numpy as np\n",
    "import matplotlib.pyplot as plt\n",
    "import matplotlib.image as mpimg\n",
    "import os\n",
    "import pandas as pd\n",
    "import seaborn as sns\n",
    "import random\n",
    "from PIL import Image\n",
    "import cv2\n",
    "from matplotlib import rcParams\n",
    "import re"
   ]
  },
  {
   "cell_type": "code",
   "execution_count": 2,
   "id": "6110f03c",
   "metadata": {
    "execution": {
     "iopub.execute_input": "2022-07-01T19:54:48.123705Z",
     "iopub.status.busy": "2022-07-01T19:54:48.123163Z",
     "iopub.status.idle": "2022-07-01T19:54:49.423448Z",
     "shell.execute_reply": "2022-07-01T19:54:49.422347Z"
    },
    "papermill": {
     "duration": 1.314256,
     "end_time": "2022-07-01T19:54:49.426234",
     "exception": false,
     "start_time": "2022-07-01T19:54:48.111978",
     "status": "completed"
    },
    "tags": []
   },
   "outputs": [],
   "source": [
    "from keras_preprocessing.image import ImageDataGenerator\n",
    "from sklearn.metrics import confusion_matrix,ConfusionMatrixDisplay, matthews_corrcoef\n",
    "from tensorflow.keras.layers import Input\n",
    "from tensorflow.keras.layers import AveragePooling2D\n",
    "from tensorflow.keras.layers import Dropout\n",
    "from tensorflow.keras.layers import Flatten\n",
    "from tensorflow.keras.layers import Dense\n",
    "from tensorflow.keras.layers import Input\n",
    "from tensorflow.keras.models import Model"
   ]
  },
  {
   "cell_type": "code",
   "execution_count": 3,
   "id": "5be1af29",
   "metadata": {
    "execution": {
     "iopub.execute_input": "2022-07-01T19:54:49.448768Z",
     "iopub.status.busy": "2022-07-01T19:54:49.447198Z",
     "iopub.status.idle": "2022-07-01T19:54:49.453283Z",
     "shell.execute_reply": "2022-07-01T19:54:49.452204Z"
    },
    "papermill": {
     "duration": 0.018894,
     "end_time": "2022-07-01T19:54:49.455230",
     "exception": false,
     "start_time": "2022-07-01T19:54:49.436336",
     "status": "completed"
    },
    "tags": []
   },
   "outputs": [],
   "source": [
    "main_folder = '../input/archie-comics-multi-class/Multi-class'"
   ]
  },
  {
   "cell_type": "code",
   "execution_count": 4,
   "id": "4d95b33c",
   "metadata": {
    "execution": {
     "iopub.execute_input": "2022-07-01T19:54:49.476238Z",
     "iopub.status.busy": "2022-07-01T19:54:49.475983Z",
     "iopub.status.idle": "2022-07-01T19:54:49.480058Z",
     "shell.execute_reply": "2022-07-01T19:54:49.479115Z"
    },
    "papermill": {
     "duration": 0.016883,
     "end_time": "2022-07-01T19:54:49.482137",
     "exception": false,
     "start_time": "2022-07-01T19:54:49.465254",
     "status": "completed"
    },
    "tags": []
   },
   "outputs": [],
   "source": [
    "samples_per_class = []\n",
    "classes = []\n",
    "file_names = []"
   ]
  },
  {
   "cell_type": "code",
   "execution_count": 5,
   "id": "ab72e210",
   "metadata": {
    "_kg_hide-output": true,
    "execution": {
     "iopub.execute_input": "2022-07-01T19:54:49.504012Z",
     "iopub.status.busy": "2022-07-01T19:54:49.503227Z",
     "iopub.status.idle": "2022-07-01T19:54:52.255666Z",
     "shell.execute_reply": "2022-07-01T19:54:52.254451Z"
    },
    "papermill": {
     "duration": 2.765943,
     "end_time": "2022-07-01T19:54:52.258023",
     "exception": false,
     "start_time": "2022-07-01T19:54:49.492080",
     "status": "completed"
    },
    "tags": []
   },
   "outputs": [],
   "source": [
    "directory=os.listdir('../input/archie-comics-multi-class/Multi-class/')\n",
    "for each in directory:\n",
    "    currentFolder = '../input/archie-comics-multi-class/Multi-class/' + each\n",
    "    count = sum(len(files) for _, _, files in os.walk(currentFolder))\n",
    "    samples_per_class.append(count)\n",
    "    classes.append(each)\n",
    "    \n",
    "    for i, file in enumerate(os.listdir(currentFolder)):\n",
    "        fullpath = currentFolder+ \"/\" + file\n",
    "        file_names.append(fullpath)"
   ]
  },
  {
   "cell_type": "code",
   "execution_count": 6,
   "id": "ed22c252",
   "metadata": {
    "execution": {
     "iopub.execute_input": "2022-07-01T19:54:52.280178Z",
     "iopub.status.busy": "2022-07-01T19:54:52.279471Z",
     "iopub.status.idle": "2022-07-01T19:54:52.287934Z",
     "shell.execute_reply": "2022-07-01T19:54:52.287037Z"
    },
    "papermill": {
     "duration": 0.021485,
     "end_time": "2022-07-01T19:54:52.289835",
     "exception": false,
     "start_time": "2022-07-01T19:54:52.268350",
     "status": "completed"
    },
    "tags": []
   },
   "outputs": [
    {
     "data": {
      "text/plain": [
       "33"
      ]
     },
     "execution_count": 6,
     "metadata": {},
     "output_type": "execute_result"
    }
   ],
   "source": [
    "min(samples_per_class)"
   ]
  },
  {
   "cell_type": "code",
   "execution_count": 7,
   "id": "1aedc09a",
   "metadata": {
    "execution": {
     "iopub.execute_input": "2022-07-01T19:54:52.311194Z",
     "iopub.status.busy": "2022-07-01T19:54:52.310574Z",
     "iopub.status.idle": "2022-07-01T19:54:52.315302Z",
     "shell.execute_reply": "2022-07-01T19:54:52.314455Z"
    },
    "papermill": {
     "duration": 0.017342,
     "end_time": "2022-07-01T19:54:52.317182",
     "exception": false,
     "start_time": "2022-07-01T19:54:52.299840",
     "status": "completed"
    },
    "tags": []
   },
   "outputs": [],
   "source": [
    "small_ds = []"
   ]
  },
  {
   "cell_type": "code",
   "execution_count": 8,
   "id": "912c908c",
   "metadata": {
    "execution": {
     "iopub.execute_input": "2022-07-01T19:54:52.338003Z",
     "iopub.status.busy": "2022-07-01T19:54:52.337726Z",
     "iopub.status.idle": "2022-07-01T19:54:52.482490Z",
     "shell.execute_reply": "2022-07-01T19:54:52.481633Z"
    },
    "papermill": {
     "duration": 0.157501,
     "end_time": "2022-07-01T19:54:52.484592",
     "exception": false,
     "start_time": "2022-07-01T19:54:52.327091",
     "status": "completed"
    },
    "tags": []
   },
   "outputs": [],
   "source": [
    "for each_class in classes:\n",
    "    trial_list = []\n",
    "    for name in file_names:\n",
    "        if re.search(f'{each_class}', name):\n",
    "            trial_list.append(name)\n",
    "    small_ds.append(random.sample(trial_list, min(samples_per_class)))"
   ]
  },
  {
   "cell_type": "code",
   "execution_count": 9,
   "id": "ce6ba184",
   "metadata": {
    "execution": {
     "iopub.execute_input": "2022-07-01T19:54:52.506254Z",
     "iopub.status.busy": "2022-07-01T19:54:52.505987Z",
     "iopub.status.idle": "2022-07-01T19:54:52.511444Z",
     "shell.execute_reply": "2022-07-01T19:54:52.510289Z"
    },
    "papermill": {
     "duration": 0.020951,
     "end_time": "2022-07-01T19:54:52.515484",
     "exception": false,
     "start_time": "2022-07-01T19:54:52.494533",
     "status": "completed"
    },
    "tags": []
   },
   "outputs": [
    {
     "name": "stdout",
     "output_type": "stream",
     "text": [
      "23\n",
      "33\n",
      "759\n"
     ]
    }
   ],
   "source": [
    "print(len(small_ds))\n",
    "print(len(small_ds[0]))\n",
    "print(len(small_ds)*len(small_ds[0]))"
   ]
  },
  {
   "cell_type": "code",
   "execution_count": 10,
   "id": "69188c76",
   "metadata": {
    "execution": {
     "iopub.execute_input": "2022-07-01T19:54:52.537351Z",
     "iopub.status.busy": "2022-07-01T19:54:52.537106Z",
     "iopub.status.idle": "2022-07-01T19:54:52.543189Z",
     "shell.execute_reply": "2022-07-01T19:54:52.542400Z"
    },
    "papermill": {
     "duration": 0.018628,
     "end_time": "2022-07-01T19:54:52.544970",
     "exception": false,
     "start_time": "2022-07-01T19:54:52.526342",
     "status": "completed"
    },
    "tags": []
   },
   "outputs": [],
   "source": [
    "small_ds=list(np.concatenate(small_ds).flat)\n",
    "# For flattening small_ds into a 1-D list"
   ]
  },
  {
   "cell_type": "code",
   "execution_count": 11,
   "id": "d511eced",
   "metadata": {
    "execution": {
     "iopub.execute_input": "2022-07-01T19:54:52.566246Z",
     "iopub.status.busy": "2022-07-01T19:54:52.566000Z",
     "iopub.status.idle": "2022-07-01T19:54:52.572031Z",
     "shell.execute_reply": "2022-07-01T19:54:52.570451Z"
    },
    "papermill": {
     "duration": 0.019541,
     "end_time": "2022-07-01T19:54:52.574550",
     "exception": false,
     "start_time": "2022-07-01T19:54:52.555009",
     "status": "completed"
    },
    "tags": []
   },
   "outputs": [
    {
     "name": "stdout",
     "output_type": "stream",
     "text": [
      "759\n"
     ]
    }
   ],
   "source": [
    "print(len(small_ds))"
   ]
  },
  {
   "cell_type": "code",
   "execution_count": 12,
   "id": "72c77ae0",
   "metadata": {
    "execution": {
     "iopub.execute_input": "2022-07-01T19:54:52.595982Z",
     "iopub.status.busy": "2022-07-01T19:54:52.595711Z",
     "iopub.status.idle": "2022-07-01T19:54:52.601737Z",
     "shell.execute_reply": "2022-07-01T19:54:52.600692Z"
    },
    "papermill": {
     "duration": 0.018672,
     "end_time": "2022-07-01T19:54:52.603620",
     "exception": false,
     "start_time": "2022-07-01T19:54:52.584948",
     "status": "completed"
    },
    "tags": []
   },
   "outputs": [
    {
     "data": {
      "text/plain": [
       "['Kleats',\n",
       " 'Midge',\n",
       " 'Dilton',\n",
       " 'Pop Tate',\n",
       " 'Reggie',\n",
       " 'Jughead',\n",
       " 'Grundy',\n",
       " 'Ethel',\n",
       " 'Weatherbee',\n",
       " 'Harry Clayton',\n",
       " 'Smithers',\n",
       " 'Svenson',\n",
       " 'Moose',\n",
       " 'Chuck',\n",
       " 'Nancy',\n",
       " 'Veronica',\n",
       " 'Flutesnoot',\n",
       " 'Fred Andrews',\n",
       " 'Archie',\n",
       " 'Betty',\n",
       " 'Beazley',\n",
       " 'Hiram Lodge',\n",
       " 'Others']"
      ]
     },
     "execution_count": 12,
     "metadata": {},
     "output_type": "execute_result"
    }
   ],
   "source": [
    "classes"
   ]
  },
  {
   "cell_type": "code",
   "execution_count": 13,
   "id": "c8341c2f",
   "metadata": {
    "execution": {
     "iopub.execute_input": "2022-07-01T19:54:52.625886Z",
     "iopub.status.busy": "2022-07-01T19:54:52.625236Z",
     "iopub.status.idle": "2022-07-01T19:54:52.631688Z",
     "shell.execute_reply": "2022-07-01T19:54:52.630674Z"
    },
    "papermill": {
     "duration": 0.019397,
     "end_time": "2022-07-01T19:54:52.633682",
     "exception": false,
     "start_time": "2022-07-01T19:54:52.614285",
     "status": "completed"
    },
    "tags": []
   },
   "outputs": [
    {
     "data": {
      "text/plain": [
       "['../input/archie-comics-multi-class/Multi-class/Hiram Lodge/Hiram Lodge_147.png',\n",
       " '../input/archie-comics-multi-class/Multi-class/Hiram Lodge/Hiram Lodge_121.png',\n",
       " '../input/archie-comics-multi-class/Multi-class/Hiram Lodge/Hiram Lodge_080.png',\n",
       " '../input/archie-comics-multi-class/Multi-class/Hiram Lodge/Hiram Lodge_030.png',\n",
       " '../input/archie-comics-multi-class/Multi-class/Hiram Lodge/Hiram Lodge_069.png',\n",
       " '../input/archie-comics-multi-class/Multi-class/Hiram Lodge/Hiram Lodge_040.png',\n",
       " '../input/archie-comics-multi-class/Multi-class/Others/Others_126.png',\n",
       " '../input/archie-comics-multi-class/Multi-class/Others/Others_153.png',\n",
       " '../input/archie-comics-multi-class/Multi-class/Others/Others_395.png',\n",
       " '../input/archie-comics-multi-class/Multi-class/Others/Others_356.png']"
      ]
     },
     "execution_count": 13,
     "metadata": {},
     "output_type": "execute_result"
    }
   ],
   "source": [
    "small_ds[720:730]"
   ]
  },
  {
   "cell_type": "code",
   "execution_count": 14,
   "id": "c57d82a8",
   "metadata": {
    "execution": {
     "iopub.execute_input": "2022-07-01T19:54:52.655680Z",
     "iopub.status.busy": "2022-07-01T19:54:52.654845Z",
     "iopub.status.idle": "2022-07-01T19:54:52.666279Z",
     "shell.execute_reply": "2022-07-01T19:54:52.665418Z"
    },
    "papermill": {
     "duration": 0.024319,
     "end_time": "2022-07-01T19:54:52.668173",
     "exception": false,
     "start_time": "2022-07-01T19:54:52.643854",
     "status": "completed"
    },
    "tags": []
   },
   "outputs": [],
   "source": [
    "files_df = pd.DataFrame(index=range(0, len(small_ds)),columns = ['Class'])"
   ]
  },
  {
   "cell_type": "code",
   "execution_count": 15,
   "id": "f52ae5fc",
   "metadata": {
    "execution": {
     "iopub.execute_input": "2022-07-01T19:54:52.689705Z",
     "iopub.status.busy": "2022-07-01T19:54:52.689447Z",
     "iopub.status.idle": "2022-07-01T19:54:52.695599Z",
     "shell.execute_reply": "2022-07-01T19:54:52.694595Z"
    },
    "papermill": {
     "duration": 0.019233,
     "end_time": "2022-07-01T19:54:52.697708",
     "exception": false,
     "start_time": "2022-07-01T19:54:52.678475",
     "status": "completed"
    },
    "tags": []
   },
   "outputs": [],
   "source": [
    "start = 0\n",
    "end = min(samples_per_class)\n",
    "for each_class in classes:\n",
    "    files_df.iloc[start:end] = each_class\n",
    "    start = end\n",
    "    end = end + min(samples_per_class)"
   ]
  },
  {
   "cell_type": "code",
   "execution_count": 16,
   "id": "9b32937a",
   "metadata": {
    "execution": {
     "iopub.execute_input": "2022-07-01T19:54:52.721027Z",
     "iopub.status.busy": "2022-07-01T19:54:52.720243Z",
     "iopub.status.idle": "2022-07-01T19:54:52.733650Z",
     "shell.execute_reply": "2022-07-01T19:54:52.732651Z"
    },
    "papermill": {
     "duration": 0.02622,
     "end_time": "2022-07-01T19:54:52.735568",
     "exception": false,
     "start_time": "2022-07-01T19:54:52.709348",
     "status": "completed"
    },
    "tags": []
   },
   "outputs": [
    {
     "data": {
      "text/html": [
       "<div>\n",
       "<style scoped>\n",
       "    .dataframe tbody tr th:only-of-type {\n",
       "        vertical-align: middle;\n",
       "    }\n",
       "\n",
       "    .dataframe tbody tr th {\n",
       "        vertical-align: top;\n",
       "    }\n",
       "\n",
       "    .dataframe thead th {\n",
       "        text-align: right;\n",
       "    }\n",
       "</style>\n",
       "<table border=\"1\" class=\"dataframe\">\n",
       "  <thead>\n",
       "    <tr style=\"text-align: right;\">\n",
       "      <th></th>\n",
       "      <th>Class</th>\n",
       "    </tr>\n",
       "  </thead>\n",
       "  <tbody>\n",
       "    <tr>\n",
       "      <th>30</th>\n",
       "      <td>Kleats</td>\n",
       "    </tr>\n",
       "    <tr>\n",
       "      <th>31</th>\n",
       "      <td>Kleats</td>\n",
       "    </tr>\n",
       "    <tr>\n",
       "      <th>32</th>\n",
       "      <td>Kleats</td>\n",
       "    </tr>\n",
       "    <tr>\n",
       "      <th>33</th>\n",
       "      <td>Midge</td>\n",
       "    </tr>\n",
       "    <tr>\n",
       "      <th>34</th>\n",
       "      <td>Midge</td>\n",
       "    </tr>\n",
       "    <tr>\n",
       "      <th>35</th>\n",
       "      <td>Midge</td>\n",
       "    </tr>\n",
       "  </tbody>\n",
       "</table>\n",
       "</div>"
      ],
      "text/plain": [
       "     Class\n",
       "30  Kleats\n",
       "31  Kleats\n",
       "32  Kleats\n",
       "33   Midge\n",
       "34   Midge\n",
       "35   Midge"
      ]
     },
     "execution_count": 16,
     "metadata": {},
     "output_type": "execute_result"
    }
   ],
   "source": [
    "files_df.loc[30:35]"
   ]
  },
  {
   "cell_type": "code",
   "execution_count": 17,
   "id": "0f47d73f",
   "metadata": {
    "execution": {
     "iopub.execute_input": "2022-07-01T19:54:52.757936Z",
     "iopub.status.busy": "2022-07-01T19:54:52.757334Z",
     "iopub.status.idle": "2022-07-01T19:54:52.766077Z",
     "shell.execute_reply": "2022-07-01T19:54:52.765104Z"
    },
    "papermill": {
     "duration": 0.021957,
     "end_time": "2022-07-01T19:54:52.767928",
     "exception": false,
     "start_time": "2022-07-01T19:54:52.745971",
     "status": "completed"
    },
    "tags": []
   },
   "outputs": [
    {
     "data": {
      "text/html": [
       "<div>\n",
       "<style scoped>\n",
       "    .dataframe tbody tr th:only-of-type {\n",
       "        vertical-align: middle;\n",
       "    }\n",
       "\n",
       "    .dataframe tbody tr th {\n",
       "        vertical-align: top;\n",
       "    }\n",
       "\n",
       "    .dataframe thead th {\n",
       "        text-align: right;\n",
       "    }\n",
       "</style>\n",
       "<table border=\"1\" class=\"dataframe\">\n",
       "  <thead>\n",
       "    <tr style=\"text-align: right;\">\n",
       "      <th></th>\n",
       "      <th>Class</th>\n",
       "    </tr>\n",
       "  </thead>\n",
       "  <tbody>\n",
       "    <tr>\n",
       "      <th>65</th>\n",
       "      <td>Midge</td>\n",
       "    </tr>\n",
       "    <tr>\n",
       "      <th>66</th>\n",
       "      <td>Dilton</td>\n",
       "    </tr>\n",
       "    <tr>\n",
       "      <th>67</th>\n",
       "      <td>Dilton</td>\n",
       "    </tr>\n",
       "    <tr>\n",
       "      <th>68</th>\n",
       "      <td>Dilton</td>\n",
       "    </tr>\n",
       "    <tr>\n",
       "      <th>69</th>\n",
       "      <td>Dilton</td>\n",
       "    </tr>\n",
       "    <tr>\n",
       "      <th>70</th>\n",
       "      <td>Dilton</td>\n",
       "    </tr>\n",
       "  </tbody>\n",
       "</table>\n",
       "</div>"
      ],
      "text/plain": [
       "     Class\n",
       "65   Midge\n",
       "66  Dilton\n",
       "67  Dilton\n",
       "68  Dilton\n",
       "69  Dilton\n",
       "70  Dilton"
      ]
     },
     "execution_count": 17,
     "metadata": {},
     "output_type": "execute_result"
    }
   ],
   "source": [
    "files_df.loc[65:70]"
   ]
  },
  {
   "cell_type": "code",
   "execution_count": 18,
   "id": "28b0eb27",
   "metadata": {
    "execution": {
     "iopub.execute_input": "2022-07-01T19:54:52.790414Z",
     "iopub.status.busy": "2022-07-01T19:54:52.789712Z",
     "iopub.status.idle": "2022-07-01T19:54:52.797505Z",
     "shell.execute_reply": "2022-07-01T19:54:52.796671Z"
    },
    "papermill": {
     "duration": 0.020999,
     "end_time": "2022-07-01T19:54:52.799397",
     "exception": false,
     "start_time": "2022-07-01T19:54:52.778398",
     "status": "completed"
    },
    "tags": []
   },
   "outputs": [],
   "source": [
    "files_df['Class']=files_df['Class'].astype('str')"
   ]
  },
  {
   "cell_type": "code",
   "execution_count": 19,
   "id": "6d023e0d",
   "metadata": {
    "execution": {
     "iopub.execute_input": "2022-07-01T19:54:52.822822Z",
     "iopub.status.busy": "2022-07-01T19:54:52.821891Z",
     "iopub.status.idle": "2022-07-01T19:54:52.827125Z",
     "shell.execute_reply": "2022-07-01T19:54:52.826264Z"
    },
    "papermill": {
     "duration": 0.018482,
     "end_time": "2022-07-01T19:54:52.829031",
     "exception": false,
     "start_time": "2022-07-01T19:54:52.810549",
     "status": "completed"
    },
    "tags": []
   },
   "outputs": [],
   "source": [
    "files_df['Files'] = small_ds"
   ]
  },
  {
   "cell_type": "code",
   "execution_count": 20,
   "id": "b048e1aa",
   "metadata": {
    "execution": {
     "iopub.execute_input": "2022-07-01T19:54:52.856474Z",
     "iopub.status.busy": "2022-07-01T19:54:52.855726Z",
     "iopub.status.idle": "2022-07-01T19:54:52.865089Z",
     "shell.execute_reply": "2022-07-01T19:54:52.864144Z"
    },
    "papermill": {
     "duration": 0.023227,
     "end_time": "2022-07-01T19:54:52.867218",
     "exception": false,
     "start_time": "2022-07-01T19:54:52.843991",
     "status": "completed"
    },
    "tags": []
   },
   "outputs": [
    {
     "data": {
      "text/html": [
       "<div>\n",
       "<style scoped>\n",
       "    .dataframe tbody tr th:only-of-type {\n",
       "        vertical-align: middle;\n",
       "    }\n",
       "\n",
       "    .dataframe tbody tr th {\n",
       "        vertical-align: top;\n",
       "    }\n",
       "\n",
       "    .dataframe thead th {\n",
       "        text-align: right;\n",
       "    }\n",
       "</style>\n",
       "<table border=\"1\" class=\"dataframe\">\n",
       "  <thead>\n",
       "    <tr style=\"text-align: right;\">\n",
       "      <th></th>\n",
       "      <th>Class</th>\n",
       "      <th>Files</th>\n",
       "    </tr>\n",
       "  </thead>\n",
       "  <tbody>\n",
       "    <tr>\n",
       "      <th>754</th>\n",
       "      <td>Others</td>\n",
       "      <td>../input/archie-comics-multi-class/Multi-class...</td>\n",
       "    </tr>\n",
       "    <tr>\n",
       "      <th>755</th>\n",
       "      <td>Others</td>\n",
       "      <td>../input/archie-comics-multi-class/Multi-class...</td>\n",
       "    </tr>\n",
       "    <tr>\n",
       "      <th>756</th>\n",
       "      <td>Others</td>\n",
       "      <td>../input/archie-comics-multi-class/Multi-class...</td>\n",
       "    </tr>\n",
       "    <tr>\n",
       "      <th>757</th>\n",
       "      <td>Others</td>\n",
       "      <td>../input/archie-comics-multi-class/Multi-class...</td>\n",
       "    </tr>\n",
       "    <tr>\n",
       "      <th>758</th>\n",
       "      <td>Others</td>\n",
       "      <td>../input/archie-comics-multi-class/Multi-class...</td>\n",
       "    </tr>\n",
       "  </tbody>\n",
       "</table>\n",
       "</div>"
      ],
      "text/plain": [
       "      Class                                              Files\n",
       "754  Others  ../input/archie-comics-multi-class/Multi-class...\n",
       "755  Others  ../input/archie-comics-multi-class/Multi-class...\n",
       "756  Others  ../input/archie-comics-multi-class/Multi-class...\n",
       "757  Others  ../input/archie-comics-multi-class/Multi-class...\n",
       "758  Others  ../input/archie-comics-multi-class/Multi-class..."
      ]
     },
     "execution_count": 20,
     "metadata": {},
     "output_type": "execute_result"
    }
   ],
   "source": [
    "files_df.tail()"
   ]
  },
  {
   "cell_type": "code",
   "execution_count": 21,
   "id": "913e86b3",
   "metadata": {
    "execution": {
     "iopub.execute_input": "2022-07-01T19:54:52.890174Z",
     "iopub.status.busy": "2022-07-01T19:54:52.889468Z",
     "iopub.status.idle": "2022-07-01T19:54:52.898648Z",
     "shell.execute_reply": "2022-07-01T19:54:52.897760Z"
    },
    "papermill": {
     "duration": 0.022988,
     "end_time": "2022-07-01T19:54:52.900809",
     "exception": false,
     "start_time": "2022-07-01T19:54:52.877821",
     "status": "completed"
    },
    "tags": []
   },
   "outputs": [],
   "source": [
    "files_df = files_df.sample(frac=1, random_state=1).reset_index()\n",
    "# For randomly shuffling the rows of the dataframe,\n",
    "# else the training set gets the the top classes, the validation the bottom classes of the df\n",
    "# random_state is for reproducability, i.e., same distribution each time the code is run"
   ]
  },
  {
   "cell_type": "code",
   "execution_count": 22,
   "id": "e6a2559d",
   "metadata": {
    "execution": {
     "iopub.execute_input": "2022-07-01T19:54:52.924259Z",
     "iopub.status.busy": "2022-07-01T19:54:52.923452Z",
     "iopub.status.idle": "2022-07-01T19:54:52.933799Z",
     "shell.execute_reply": "2022-07-01T19:54:52.932811Z"
    },
    "papermill": {
     "duration": 0.023907,
     "end_time": "2022-07-01T19:54:52.936011",
     "exception": false,
     "start_time": "2022-07-01T19:54:52.912104",
     "status": "completed"
    },
    "tags": []
   },
   "outputs": [
    {
     "data": {
      "text/html": [
       "<div>\n",
       "<style scoped>\n",
       "    .dataframe tbody tr th:only-of-type {\n",
       "        vertical-align: middle;\n",
       "    }\n",
       "\n",
       "    .dataframe tbody tr th {\n",
       "        vertical-align: top;\n",
       "    }\n",
       "\n",
       "    .dataframe thead th {\n",
       "        text-align: right;\n",
       "    }\n",
       "</style>\n",
       "<table border=\"1\" class=\"dataframe\">\n",
       "  <thead>\n",
       "    <tr style=\"text-align: right;\">\n",
       "      <th></th>\n",
       "      <th>index</th>\n",
       "      <th>Class</th>\n",
       "      <th>Files</th>\n",
       "    </tr>\n",
       "  </thead>\n",
       "  <tbody>\n",
       "    <tr>\n",
       "      <th>749</th>\n",
       "      <td>508</td>\n",
       "      <td>Veronica</td>\n",
       "      <td>../input/archie-comics-multi-class/Multi-class...</td>\n",
       "    </tr>\n",
       "    <tr>\n",
       "      <th>750</th>\n",
       "      <td>749</td>\n",
       "      <td>Others</td>\n",
       "      <td>../input/archie-comics-multi-class/Multi-class...</td>\n",
       "    </tr>\n",
       "    <tr>\n",
       "      <th>751</th>\n",
       "      <td>583</td>\n",
       "      <td>Fred Andrews</td>\n",
       "      <td>../input/archie-comics-multi-class/Multi-class...</td>\n",
       "    </tr>\n",
       "    <tr>\n",
       "      <th>752</th>\n",
       "      <td>129</td>\n",
       "      <td>Pop Tate</td>\n",
       "      <td>../input/archie-comics-multi-class/Multi-class...</td>\n",
       "    </tr>\n",
       "    <tr>\n",
       "      <th>753</th>\n",
       "      <td>144</td>\n",
       "      <td>Reggie</td>\n",
       "      <td>../input/archie-comics-multi-class/Multi-class...</td>\n",
       "    </tr>\n",
       "    <tr>\n",
       "      <th>754</th>\n",
       "      <td>645</td>\n",
       "      <td>Betty</td>\n",
       "      <td>../input/archie-comics-multi-class/Multi-class...</td>\n",
       "    </tr>\n",
       "    <tr>\n",
       "      <th>755</th>\n",
       "      <td>715</td>\n",
       "      <td>Hiram Lodge</td>\n",
       "      <td>../input/archie-comics-multi-class/Multi-class...</td>\n",
       "    </tr>\n",
       "    <tr>\n",
       "      <th>756</th>\n",
       "      <td>72</td>\n",
       "      <td>Dilton</td>\n",
       "      <td>../input/archie-comics-multi-class/Multi-class...</td>\n",
       "    </tr>\n",
       "    <tr>\n",
       "      <th>757</th>\n",
       "      <td>235</td>\n",
       "      <td>Ethel</td>\n",
       "      <td>../input/archie-comics-multi-class/Multi-class...</td>\n",
       "    </tr>\n",
       "    <tr>\n",
       "      <th>758</th>\n",
       "      <td>37</td>\n",
       "      <td>Midge</td>\n",
       "      <td>../input/archie-comics-multi-class/Multi-class...</td>\n",
       "    </tr>\n",
       "  </tbody>\n",
       "</table>\n",
       "</div>"
      ],
      "text/plain": [
       "     index         Class                                              Files\n",
       "749    508      Veronica  ../input/archie-comics-multi-class/Multi-class...\n",
       "750    749        Others  ../input/archie-comics-multi-class/Multi-class...\n",
       "751    583  Fred Andrews  ../input/archie-comics-multi-class/Multi-class...\n",
       "752    129      Pop Tate  ../input/archie-comics-multi-class/Multi-class...\n",
       "753    144        Reggie  ../input/archie-comics-multi-class/Multi-class...\n",
       "754    645         Betty  ../input/archie-comics-multi-class/Multi-class...\n",
       "755    715   Hiram Lodge  ../input/archie-comics-multi-class/Multi-class...\n",
       "756     72        Dilton  ../input/archie-comics-multi-class/Multi-class...\n",
       "757    235         Ethel  ../input/archie-comics-multi-class/Multi-class...\n",
       "758     37         Midge  ../input/archie-comics-multi-class/Multi-class..."
      ]
     },
     "execution_count": 22,
     "metadata": {},
     "output_type": "execute_result"
    }
   ],
   "source": [
    "files_df.tail(10)"
   ]
  },
  {
   "cell_type": "code",
   "execution_count": 23,
   "id": "a47dc1d2",
   "metadata": {
    "execution": {
     "iopub.execute_input": "2022-07-01T19:54:52.959531Z",
     "iopub.status.busy": "2022-07-01T19:54:52.958660Z",
     "iopub.status.idle": "2022-07-01T19:54:52.963566Z",
     "shell.execute_reply": "2022-07-01T19:54:52.962702Z"
    },
    "papermill": {
     "duration": 0.018464,
     "end_time": "2022-07-01T19:54:52.965515",
     "exception": false,
     "start_time": "2022-07-01T19:54:52.947051",
     "status": "completed"
    },
    "tags": []
   },
   "outputs": [],
   "source": [
    "datagen=ImageDataGenerator(validation_split=0.2)"
   ]
  },
  {
   "cell_type": "code",
   "execution_count": 24,
   "id": "b9420921",
   "metadata": {
    "execution": {
     "iopub.execute_input": "2022-07-01T19:54:52.989199Z",
     "iopub.status.busy": "2022-07-01T19:54:52.988226Z",
     "iopub.status.idle": "2022-07-01T19:54:52.992900Z",
     "shell.execute_reply": "2022-07-01T19:54:52.992017Z"
    },
    "papermill": {
     "duration": 0.018339,
     "end_time": "2022-07-01T19:54:52.994849",
     "exception": false,
     "start_time": "2022-07-01T19:54:52.976510",
     "status": "completed"
    },
    "tags": []
   },
   "outputs": [],
   "source": [
    "batch_size = 8"
   ]
  },
  {
   "cell_type": "code",
   "execution_count": 25,
   "id": "3d1d7205",
   "metadata": {
    "execution": {
     "iopub.execute_input": "2022-07-01T19:54:53.018637Z",
     "iopub.status.busy": "2022-07-01T19:54:53.017912Z",
     "iopub.status.idle": "2022-07-01T19:54:53.135861Z",
     "shell.execute_reply": "2022-07-01T19:54:53.134445Z"
    },
    "papermill": {
     "duration": 0.132769,
     "end_time": "2022-07-01T19:54:53.138903",
     "exception": false,
     "start_time": "2022-07-01T19:54:53.006134",
     "status": "completed"
    },
    "tags": []
   },
   "outputs": [
    {
     "name": "stdout",
     "output_type": "stream",
     "text": [
      "Found 608 validated image filenames belonging to 23 classes.\n",
      "Found 151 validated image filenames belonging to 23 classes.\n"
     ]
    }
   ],
   "source": [
    "train_generator=datagen.flow_from_dataframe(\n",
    "dataframe=files_df,\n",
    "directory=None,\n",
    "x_col='Files',\n",
    "y_col='Class',\n",
    "subset=\"training\",\n",
    "batch_size=batch_size,\n",
    "seed=42,\n",
    "shuffle=True,\n",
    "class_mode=\"categorical\",\n",
    "# rotation_range=30,\n",
    "# width_shift_range=0.2,\n",
    "# height_shift_range=0.2,\n",
    "# brightness_range=(0.5,1.5),\n",
    "# shear_range=0.2,\n",
    "# zoom_range=0.2,\n",
    "# channel_shift_range=30.0,\n",
    "# fill_mode='nearest',\n",
    "# horizontal_flip=True,\n",
    "# vertical_flip=False,\n",
    "target_size=(256,256))\n",
    "\n",
    "valid_generator=datagen.flow_from_dataframe(\n",
    "dataframe=files_df,\n",
    "directory=None,\n",
    "x_col='Files',\n",
    "y_col='Class',\n",
    "subset=\"validation\",\n",
    "batch_size=batch_size,\n",
    "seed=42,\n",
    "shuffle=True,\n",
    "class_mode=\"categorical\",\n",
    "target_size=(256,256))"
   ]
  },
  {
   "cell_type": "code",
   "execution_count": 26,
   "id": "b7aa7e35",
   "metadata": {
    "execution": {
     "iopub.execute_input": "2022-07-01T19:54:53.164553Z",
     "iopub.status.busy": "2022-07-01T19:54:53.164267Z",
     "iopub.status.idle": "2022-07-01T19:54:53.169920Z",
     "shell.execute_reply": "2022-07-01T19:54:53.168953Z"
    },
    "papermill": {
     "duration": 0.020888,
     "end_time": "2022-07-01T19:54:53.172050",
     "exception": false,
     "start_time": "2022-07-01T19:54:53.151162",
     "status": "completed"
    },
    "tags": []
   },
   "outputs": [],
   "source": [
    "stopping = tf.keras.callbacks.EarlyStopping(\n",
    "        monitor=\"val_accuracy\",\n",
    "        min_delta=0,\n",
    "        patience=15,\n",
    "        verbose=0,\n",
    "        mode=\"auto\",\n",
    "        baseline=None,\n",
    "        restore_best_weights=False,\n",
    "    )\n",
    "\n",
    "checkpoint = tf.keras.callbacks.ModelCheckpoint(\n",
    "        \"best_model\",\n",
    "        monitor=\"val_accuracy\",\n",
    "        mode=\"max\",\n",
    "        save_best_only=True,\n",
    "        save_weights_only=True,\n",
    "    )"
   ]
  },
  {
   "cell_type": "code",
   "execution_count": 27,
   "id": "cf1a7525",
   "metadata": {
    "execution": {
     "iopub.execute_input": "2022-07-01T19:54:53.195635Z",
     "iopub.status.busy": "2022-07-01T19:54:53.194757Z",
     "iopub.status.idle": "2022-07-01T19:58:10.302051Z",
     "shell.execute_reply": "2022-07-01T19:58:10.300656Z"
    },
    "papermill": {
     "duration": 197.121734,
     "end_time": "2022-07-01T19:58:10.304833",
     "exception": false,
     "start_time": "2022-07-01T19:54:53.183099",
     "status": "completed"
    },
    "tags": []
   },
   "outputs": [
    {
     "name": "stderr",
     "output_type": "stream",
     "text": [
      "2022-07-01 19:54:53.329860: I tensorflow/stream_executor/cuda/cuda_gpu_executor.cc:937] successful NUMA node read from SysFS had negative value (-1), but there must be at least one NUMA node, so returning NUMA node zero\n",
      "2022-07-01 19:54:53.455648: I tensorflow/stream_executor/cuda/cuda_gpu_executor.cc:937] successful NUMA node read from SysFS had negative value (-1), but there must be at least one NUMA node, so returning NUMA node zero\n",
      "2022-07-01 19:54:53.456879: I tensorflow/stream_executor/cuda/cuda_gpu_executor.cc:937] successful NUMA node read from SysFS had negative value (-1), but there must be at least one NUMA node, so returning NUMA node zero\n",
      "2022-07-01 19:54:53.459751: I tensorflow/core/platform/cpu_feature_guard.cc:142] This TensorFlow binary is optimized with oneAPI Deep Neural Network Library (oneDNN) to use the following CPU instructions in performance-critical operations:  AVX2 AVX512F FMA\n",
      "To enable them in other operations, rebuild TensorFlow with the appropriate compiler flags.\n",
      "2022-07-01 19:54:53.460124: I tensorflow/stream_executor/cuda/cuda_gpu_executor.cc:937] successful NUMA node read from SysFS had negative value (-1), but there must be at least one NUMA node, so returning NUMA node zero\n",
      "2022-07-01 19:54:53.461319: I tensorflow/stream_executor/cuda/cuda_gpu_executor.cc:937] successful NUMA node read from SysFS had negative value (-1), but there must be at least one NUMA node, so returning NUMA node zero\n",
      "2022-07-01 19:54:53.462480: I tensorflow/stream_executor/cuda/cuda_gpu_executor.cc:937] successful NUMA node read from SysFS had negative value (-1), but there must be at least one NUMA node, so returning NUMA node zero\n",
      "2022-07-01 19:54:56.205896: I tensorflow/stream_executor/cuda/cuda_gpu_executor.cc:937] successful NUMA node read from SysFS had negative value (-1), but there must be at least one NUMA node, so returning NUMA node zero\n",
      "2022-07-01 19:54:56.207074: I tensorflow/stream_executor/cuda/cuda_gpu_executor.cc:937] successful NUMA node read from SysFS had negative value (-1), but there must be at least one NUMA node, so returning NUMA node zero\n",
      "2022-07-01 19:54:56.208078: I tensorflow/stream_executor/cuda/cuda_gpu_executor.cc:937] successful NUMA node read from SysFS had negative value (-1), but there must be at least one NUMA node, so returning NUMA node zero\n",
      "2022-07-01 19:54:56.208948: I tensorflow/core/common_runtime/gpu/gpu_device.cc:1510] Created device /job:localhost/replica:0/task:0/device:GPU:0 with 15403 MB memory:  -> device: 0, name: Tesla P100-PCIE-16GB, pci bus id: 0000:00:04.0, compute capability: 6.0\n"
     ]
    },
    {
     "name": "stdout",
     "output_type": "stream",
     "text": [
      "Downloading data from https://storage.googleapis.com/tensorflow/keras-applications/resnet/resnet50_weights_tf_dim_ordering_tf_kernels_notop.h5\n",
      "94773248/94765736 [==============================] - 1s 0us/step\n",
      "94781440/94765736 [==============================] - 1s 0us/step\n"
     ]
    },
    {
     "name": "stderr",
     "output_type": "stream",
     "text": [
      "2022-07-01 19:54:58.657030: I tensorflow/compiler/mlir/mlir_graph_optimization_pass.cc:185] None of the MLIR Optimization Passes are enabled (registered 2)\n",
      "2022-07-01 19:55:01.127569: I tensorflow/stream_executor/cuda/cuda_dnn.cc:369] Loaded cuDNN version 8005\n"
     ]
    },
    {
     "name": "stdout",
     "output_type": "stream",
     "text": [
      "19/19 [==============================] - 11s 118ms/step - loss: 4.0418 - accuracy: 0.0464\n",
      "loss 4.041787147521973, acc 0.046357616782188416\n",
      "Epoch 1/50\n",
      "76/76 [==============================] - 10s 99ms/step - loss: 3.8355 - accuracy: 0.0576 - val_loss: 3.1332 - val_accuracy: 0.0596\n",
      "Epoch 2/50\n",
      "76/76 [==============================] - 4s 48ms/step - loss: 3.0912 - accuracy: 0.1069 - val_loss: 3.0558 - val_accuracy: 0.0728\n",
      "Epoch 3/50\n",
      "76/76 [==============================] - 4s 55ms/step - loss: 2.9210 - accuracy: 0.1480 - val_loss: 2.9986 - val_accuracy: 0.1325\n",
      "Epoch 4/50\n",
      "76/76 [==============================] - 4s 51ms/step - loss: 2.7106 - accuracy: 0.1891 - val_loss: 2.9565 - val_accuracy: 0.1523\n",
      "Epoch 5/50\n",
      "76/76 [==============================] - 4s 47ms/step - loss: 2.5410 - accuracy: 0.2451 - val_loss: 2.8553 - val_accuracy: 0.1589\n",
      "Epoch 6/50\n",
      "76/76 [==============================] - 4s 48ms/step - loss: 2.3858 - accuracy: 0.3224 - val_loss: 2.8336 - val_accuracy: 0.1722\n",
      "Epoch 7/50\n",
      "76/76 [==============================] - 4s 48ms/step - loss: 2.3011 - accuracy: 0.3322 - val_loss: 2.8240 - val_accuracy: 0.1921\n",
      "Epoch 8/50\n",
      "76/76 [==============================] - 4s 51ms/step - loss: 2.1038 - accuracy: 0.3717 - val_loss: 2.7975 - val_accuracy: 0.1921\n",
      "Epoch 9/50\n",
      "76/76 [==============================] - 4s 48ms/step - loss: 2.0097 - accuracy: 0.4326 - val_loss: 2.7825 - val_accuracy: 0.1987\n",
      "Epoch 10/50\n",
      "76/76 [==============================] - 4s 47ms/step - loss: 1.8387 - accuracy: 0.4901 - val_loss: 2.7044 - val_accuracy: 0.2185\n",
      "Epoch 11/50\n",
      "76/76 [==============================] - 5s 62ms/step - loss: 1.7263 - accuracy: 0.5247 - val_loss: 2.7391 - val_accuracy: 0.2185\n",
      "Epoch 12/50\n",
      "76/76 [==============================] - 4s 48ms/step - loss: 1.6152 - accuracy: 0.5461 - val_loss: 2.6943 - val_accuracy: 0.2649\n",
      "Epoch 13/50\n",
      "76/76 [==============================] - 4s 51ms/step - loss: 1.4524 - accuracy: 0.6201 - val_loss: 2.7017 - val_accuracy: 0.2318\n",
      "Epoch 14/50\n",
      "76/76 [==============================] - 4s 47ms/step - loss: 1.3818 - accuracy: 0.6201 - val_loss: 2.6631 - val_accuracy: 0.2583\n",
      "Epoch 15/50\n",
      "76/76 [==============================] - 4s 47ms/step - loss: 1.2763 - accuracy: 0.6628 - val_loss: 2.6252 - val_accuracy: 0.2384\n",
      "Epoch 16/50\n",
      "76/76 [==============================] - 4s 52ms/step - loss: 1.2142 - accuracy: 0.6891 - val_loss: 2.6468 - val_accuracy: 0.2715\n",
      "Epoch 17/50\n",
      "76/76 [==============================] - 4s 49ms/step - loss: 1.0959 - accuracy: 0.7434 - val_loss: 2.5899 - val_accuracy: 0.2583\n",
      "Epoch 18/50\n",
      "76/76 [==============================] - 4s 48ms/step - loss: 1.0445 - accuracy: 0.7385 - val_loss: 2.6130 - val_accuracy: 0.2649\n",
      "Epoch 19/50\n",
      "76/76 [==============================] - 4s 59ms/step - loss: 1.0272 - accuracy: 0.7566 - val_loss: 2.6282 - val_accuracy: 0.2384\n",
      "Epoch 20/50\n",
      "76/76 [==============================] - 4s 47ms/step - loss: 0.8783 - accuracy: 0.8092 - val_loss: 2.6190 - val_accuracy: 0.2649\n",
      "Epoch 21/50\n",
      "76/76 [==============================] - 4s 50ms/step - loss: 0.8813 - accuracy: 0.7977 - val_loss: 2.6156 - val_accuracy: 0.2980\n",
      "Epoch 22/50\n",
      "76/76 [==============================] - 4s 50ms/step - loss: 0.7974 - accuracy: 0.8421 - val_loss: 2.5849 - val_accuracy: 0.2649\n",
      "Epoch 23/50\n",
      "76/76 [==============================] - 4s 47ms/step - loss: 0.7591 - accuracy: 0.8405 - val_loss: 2.5852 - val_accuracy: 0.2583\n",
      "Epoch 24/50\n",
      "76/76 [==============================] - 4s 48ms/step - loss: 0.7011 - accuracy: 0.8454 - val_loss: 2.5947 - val_accuracy: 0.2914\n",
      "Epoch 25/50\n",
      "76/76 [==============================] - 4s 52ms/step - loss: 0.6781 - accuracy: 0.8684 - val_loss: 2.5971 - val_accuracy: 0.2781\n",
      "Epoch 26/50\n",
      "76/76 [==============================] - 4s 47ms/step - loss: 0.6018 - accuracy: 0.8832 - val_loss: 2.6378 - val_accuracy: 0.2715\n",
      "Epoch 27/50\n",
      "76/76 [==============================] - 4s 53ms/step - loss: 0.5824 - accuracy: 0.8832 - val_loss: 2.5740 - val_accuracy: 0.2914\n",
      "Epoch 28/50\n",
      "76/76 [==============================] - 4s 50ms/step - loss: 0.5345 - accuracy: 0.9079 - val_loss: 2.6078 - val_accuracy: 0.3113\n",
      "Epoch 29/50\n",
      "76/76 [==============================] - 4s 48ms/step - loss: 0.4968 - accuracy: 0.9161 - val_loss: 2.5952 - val_accuracy: 0.2715\n",
      "Epoch 30/50\n",
      "76/76 [==============================] - 4s 50ms/step - loss: 0.4889 - accuracy: 0.9178 - val_loss: 2.5456 - val_accuracy: 0.2848\n",
      "Epoch 31/50\n",
      "76/76 [==============================] - 4s 49ms/step - loss: 0.4276 - accuracy: 0.9441 - val_loss: 2.6086 - val_accuracy: 0.2914\n",
      "Epoch 32/50\n",
      "76/76 [==============================] - 4s 50ms/step - loss: 0.4553 - accuracy: 0.9161 - val_loss: 2.5848 - val_accuracy: 0.2715\n",
      "Epoch 33/50\n",
      "76/76 [==============================] - 4s 52ms/step - loss: 0.3877 - accuracy: 0.9490 - val_loss: 2.6179 - val_accuracy: 0.2914\n",
      "Epoch 34/50\n",
      "76/76 [==============================] - 4s 48ms/step - loss: 0.3780 - accuracy: 0.9375 - val_loss: 2.5998 - val_accuracy: 0.2781\n",
      "Epoch 35/50\n",
      "76/76 [==============================] - 4s 47ms/step - loss: 0.3416 - accuracy: 0.9605 - val_loss: 2.5724 - val_accuracy: 0.2980\n",
      "Epoch 36/50\n",
      "76/76 [==============================] - 4s 58ms/step - loss: 0.3437 - accuracy: 0.9572 - val_loss: 2.6214 - val_accuracy: 0.2848\n",
      "Epoch 37/50\n",
      "76/76 [==============================] - 4s 48ms/step - loss: 0.3061 - accuracy: 0.9605 - val_loss: 2.6132 - val_accuracy: 0.2781\n",
      "Epoch 38/50\n",
      "76/76 [==============================] - 4s 47ms/step - loss: 0.3175 - accuracy: 0.9605 - val_loss: 2.6158 - val_accuracy: 0.2980\n",
      "Epoch 39/50\n",
      "76/76 [==============================] - 4s 51ms/step - loss: 0.2926 - accuracy: 0.9556 - val_loss: 2.5927 - val_accuracy: 0.2980\n",
      "Epoch 40/50\n",
      "76/76 [==============================] - 4s 48ms/step - loss: 0.2773 - accuracy: 0.9622 - val_loss: 2.6069 - val_accuracy: 0.3046\n",
      "Epoch 41/50\n",
      "76/76 [==============================] - 4s 49ms/step - loss: 0.2282 - accuracy: 0.9770 - val_loss: 2.6018 - val_accuracy: 0.2914\n",
      "Epoch 42/50\n",
      "76/76 [==============================] - 4s 51ms/step - loss: 0.2324 - accuracy: 0.9786 - val_loss: 2.6219 - val_accuracy: 0.3046\n",
      "Epoch 43/50\n",
      "76/76 [==============================] - 4s 47ms/step - loss: 0.2214 - accuracy: 0.9770 - val_loss: 2.6170 - val_accuracy: 0.2980\n",
      "19/19 [==============================] - 1s 37ms/step - loss: 2.6078 - accuracy: 0.3113\n",
      "final loss 2.6077969074249268, final acc 0.3112582862377167\n"
     ]
    }
   ],
   "source": [
    "base_model = tf.keras.applications.ResNet50(weights='imagenet', input_shape=(256, 256, 3), classes=len(classes), include_top = False)\n",
    "\n",
    "\n",
    "# Based on https://pyimagesearch.com/2020/04/27/fine-tuning-resnet-with-keras-tensorflow-and-deep-learning/\n",
    "\n",
    "# construct the head of the model that will be placed on top of the\n",
    "# the base model\n",
    "headModel = base_model.output\n",
    "headModel = AveragePooling2D(pool_size=(7, 7))(headModel)\n",
    "headModel = Flatten(name=\"flatten\")(headModel)\n",
    "headModel = Dense(256, activation=\"relu\")(headModel)\n",
    "headModel = Dropout(0.5)(headModel)\n",
    "headModel = Dense(len(classes), activation=\"softmax\")(headModel)\n",
    "# place the head FC model on top of the base model (this will become\n",
    "# the actual model we will train)\n",
    "model = Model(inputs=base_model.input, outputs=headModel)\n",
    "# loop over all layers in the base model and freeze them so they will\n",
    "# *not* be updated during the training process\n",
    "for layer in base_model.layers:\n",
    "    layer.trainable = False\n",
    "    \n",
    "model.compile(\n",
    "        optimizer=tf.keras.optimizers.Adam(learning_rate=0.0001),\n",
    "        loss=tf.keras.losses.CategoricalCrossentropy(),#from_logits=True),\n",
    "        metrics=[\"accuracy\"]\n",
    "    )\n",
    " \n",
    "loss_0, acc_0 = model.evaluate(valid_generator)\n",
    "print(f\"loss {loss_0}, acc {acc_0}\")\n",
    "    \n",
    "\n",
    "history = model.fit(\n",
    "        train_generator,\n",
    "        validation_data=valid_generator,\n",
    "        epochs=50,\n",
    "        callbacks=[stopping, checkpoint]\n",
    ")\n",
    "\n",
    "model.load_weights(\"best_model\")\n",
    "\n",
    "loss, acc = model.evaluate(valid_generator)\n",
    "print(f\"final loss {loss}, final acc {acc}\")"
   ]
  },
  {
   "cell_type": "code",
   "execution_count": 28,
   "id": "e4b6d93f",
   "metadata": {
    "execution": {
     "iopub.execute_input": "2022-07-01T19:58:10.552851Z",
     "iopub.status.busy": "2022-07-01T19:58:10.552483Z",
     "iopub.status.idle": "2022-07-01T19:58:10.937739Z",
     "shell.execute_reply": "2022-07-01T19:58:10.936743Z"
    },
    "papermill": {
     "duration": 0.511589,
     "end_time": "2022-07-01T19:58:10.940104",
     "exception": false,
     "start_time": "2022-07-01T19:58:10.428515",
     "status": "completed"
    },
    "tags": []
   },
   "outputs": [
    {
     "data": {
      "image/png": "[encoded data removed]",
      "text/plain": [
       "<Figure size 432x288 with 1 Axes>"
      ]
     },
     "metadata": {
      "needs_background": "light"
     },
     "output_type": "display_data"
    },
    {
     "data": {
      "image/png": "[encoded data removed]",
      "text/plain": [
       "<Figure size 432x288 with 1 Axes>"
      ]
     },
     "metadata": {
      "needs_background": "light"
     },
     "output_type": "display_data"
    }
   ],
   "source": [
    "# summarize history for accuracy\n",
    "plt.plot(history.history['accuracy'])\n",
    "plt.plot(history.history['val_accuracy'])\n",
    "plt.title('model accuracy')\n",
    "plt.ylabel('accuracy')\n",
    "plt.xlabel('epoch')\n",
    "plt.legend(['train', 'val'], loc='upper left')\n",
    "plt.show()\n",
    "# summarize history for loss\n",
    "plt.plot(history.history['loss'])\n",
    "plt.plot(history.history['val_loss'])\n",
    "plt.title('model loss')\n",
    "plt.ylabel('loss')\n",
    "plt.xlabel('epoch')\n",
    "plt.legend(['train', 'val'], loc='upper left')\n",
    "plt.show()"
   ]
  },
  {
   "cell_type": "code",
   "execution_count": 29,
   "id": "8955d564",
   "metadata": {
    "execution": {
     "iopub.execute_input": "2022-07-01T19:58:11.188697Z",
     "iopub.status.busy": "2022-07-01T19:58:11.188375Z",
     "iopub.status.idle": "2022-07-01T19:58:11.193616Z",
     "shell.execute_reply": "2022-07-01T19:58:11.192401Z"
    },
    "papermill": {
     "duration": 0.130987,
     "end_time": "2022-07-01T19:58:11.195824",
     "exception": false,
     "start_time": "2022-07-01T19:58:11.064837",
     "status": "completed"
    },
    "tags": []
   },
   "outputs": [],
   "source": [
    "index_classes_dict = {k: v for v, k in enumerate(classes)}"
   ]
  },
  {
   "cell_type": "code",
   "execution_count": 30,
   "id": "7d60cf5d",
   "metadata": {
    "execution": {
     "iopub.execute_input": "2022-07-01T19:58:11.607457Z",
     "iopub.status.busy": "2022-07-01T19:58:11.607038Z",
     "iopub.status.idle": "2022-07-01T19:58:11.618142Z",
     "shell.execute_reply": "2022-07-01T19:58:11.613020Z"
    },
    "papermill": {
     "duration": 0.249654,
     "end_time": "2022-07-01T19:58:11.621551",
     "exception": false,
     "start_time": "2022-07-01T19:58:11.371897",
     "status": "completed"
    },
    "tags": []
   },
   "outputs": [],
   "source": [
    "index_classes_list = list(index_classes_dict.values())"
   ]
  },
  {
   "cell_type": "code",
   "execution_count": 31,
   "id": "10bd5ed0",
   "metadata": {
    "execution": {
     "iopub.execute_input": "2022-07-01T19:58:12.304699Z",
     "iopub.status.busy": "2022-07-01T19:58:12.304255Z",
     "iopub.status.idle": "2022-07-01T19:58:12.322175Z",
     "shell.execute_reply": "2022-07-01T19:58:12.313341Z"
    },
    "papermill": {
     "duration": 0.337116,
     "end_time": "2022-07-01T19:58:12.325109",
     "exception": false,
     "start_time": "2022-07-01T19:58:11.987993",
     "status": "completed"
    },
    "tags": []
   },
   "outputs": [],
   "source": [
    "inv_index_classes_dict = {v: k for k, v in index_classes_dict.items()}"
   ]
  },
  {
   "cell_type": "code",
   "execution_count": 32,
   "id": "f507b711",
   "metadata": {
    "execution": {
     "iopub.execute_input": "2022-07-01T19:58:12.851967Z",
     "iopub.status.busy": "2022-07-01T19:58:12.851564Z",
     "iopub.status.idle": "2022-07-01T19:58:12.856191Z",
     "shell.execute_reply": "2022-07-01T19:58:12.855119Z"
    },
    "papermill": {
     "duration": 0.257379,
     "end_time": "2022-07-01T19:58:12.858315",
     "exception": false,
     "start_time": "2022-07-01T19:58:12.600936",
     "status": "completed"
    },
    "tags": []
   },
   "outputs": [],
   "source": [
    "inv_index_classes_list = list(inv_index_classes_dict.values())"
   ]
  },
  {
   "cell_type": "code",
   "execution_count": 33,
   "id": "61bde1a2",
   "metadata": {
    "execution": {
     "iopub.execute_input": "2022-07-01T19:58:13.105083Z",
     "iopub.status.busy": "2022-07-01T19:58:13.104752Z",
     "iopub.status.idle": "2022-07-01T19:58:15.927671Z",
     "shell.execute_reply": "2022-07-01T19:58:15.926680Z"
    },
    "papermill": {
     "duration": 2.947952,
     "end_time": "2022-07-01T19:58:15.930346",
     "exception": false,
     "start_time": "2022-07-01T19:58:12.982394",
     "status": "completed"
    },
    "tags": []
   },
   "outputs": [],
   "source": [
    "y_pred = []  # store predicted labels\n",
    "y_true = []  # store true labels\n",
    "i = 0\n",
    "# iterate over the dataset\n",
    "for image_batch, label_batch in valid_generator:\n",
    "    # use dataset.unbatch() with repeat\n",
    "    # append true labels\n",
    "    y_true.append(label_batch)\n",
    "    # compute predictions\n",
    "    preds = model.predict(image_batch)\n",
    "    # append predicted labels\n",
    "    y_pred.append(np.argmax(preds, axis = - 1))\n",
    "    i+=1\n",
    "    if i == len(valid_generator): # A generator runs infinitely, \n",
    "        # so here I am running the valid gen once so all samples are seen\n",
    "        # The gen length is valid split * total samples / batch size\n",
    "        # 0.2*759/8 = 19\n",
    "        break\n",
    "\n",
    "\n",
    "# convert the true and predicted labels into tensors\n",
    "correct_labels = tf.concat([item for item in y_true], axis = 0)\n",
    "correct_labels = np.argmax(correct_labels,axis=1)\n",
    "predicted_labels = tf.concat([item for item in y_pred], axis = 0)"
   ]
  },
  {
   "cell_type": "code",
   "execution_count": 34,
   "id": "7b88cda8",
   "metadata": {
    "execution": {
     "iopub.execute_input": "2022-07-01T19:58:16.178521Z",
     "iopub.status.busy": "2022-07-01T19:58:16.178199Z",
     "iopub.status.idle": "2022-07-01T19:58:16.183601Z",
     "shell.execute_reply": "2022-07-01T19:58:16.182621Z"
    },
    "papermill": {
     "duration": 0.130856,
     "end_time": "2022-07-01T19:58:16.185647",
     "exception": false,
     "start_time": "2022-07-01T19:58:16.054791",
     "status": "completed"
    },
    "tags": []
   },
   "outputs": [],
   "source": [
    "names_correct_labels = np.vectorize(inv_index_classes_dict.get)(correct_labels)\n",
    "names_predicted_labels = np.vectorize(inv_index_classes_dict.get)(predicted_labels)"
   ]
  },
  {
   "cell_type": "code",
   "execution_count": 35,
   "id": "3c9c782b",
   "metadata": {
    "execution": {
     "iopub.execute_input": "2022-07-01T19:58:16.431433Z",
     "iopub.status.busy": "2022-07-01T19:58:16.430581Z",
     "iopub.status.idle": "2022-07-01T19:58:18.387027Z",
     "shell.execute_reply": "2022-07-01T19:58:18.386068Z"
    },
    "papermill": {
     "duration": 2.082153,
     "end_time": "2022-07-01T19:58:18.389969",
     "exception": false,
     "start_time": "2022-07-01T19:58:16.307816",
     "status": "completed"
    },
    "tags": []
   },
   "outputs": [
    {
     "data": {
      "image/png": "[encoded data removed]",
      "text/plain": [
       "<Figure size 1296x1296 with 1 Axes>"
      ]
     },
     "metadata": {
      "needs_background": "light"
     },
     "output_type": "display_data"
    }
   ],
   "source": [
    "cm = confusion_matrix(correct_labels, predicted_labels, labels=index_classes_list, normalize='true')\n",
    "fig = plt.figure(figsize = (18,18))\n",
    "ax1 = fig.add_subplot(1,1,1)\n",
    "sns.set(font_scale=1.2) #for label size\n",
    "sns.heatmap(cm, annot=True, annot_kws={\"size\": 12},\n",
    "     cbar = False, cmap='Purples', fmt='.2f', \n",
    "            xticklabels=inv_index_classes_list, yticklabels=inv_index_classes_list);\n",
    "ax1.set_ylabel('True Values',fontsize=12)\n",
    "ax1.set_xlabel('Predicted Values',fontsize=12)\n",
    "plt.show()"
   ]
  },
  {
   "cell_type": "code",
   "execution_count": 36,
   "id": "2857c089",
   "metadata": {
    "execution": {
     "iopub.execute_input": "2022-07-01T19:58:18.640726Z",
     "iopub.status.busy": "2022-07-01T19:58:18.640359Z",
     "iopub.status.idle": "2022-07-01T19:58:20.589717Z",
     "shell.execute_reply": "2022-07-01T19:58:20.588805Z"
    },
    "papermill": {
     "duration": 2.077642,
     "end_time": "2022-07-01T19:58:20.592114",
     "exception": false,
     "start_time": "2022-07-01T19:58:18.514472",
     "status": "completed"
    },
    "tags": []
   },
   "outputs": [
    {
     "data": {
      "image/png": "[encoded data removed]",
      "text/plain": [
       "<Figure size 1296x1296 with 1 Axes>"
      ]
     },
     "metadata": {},
     "output_type": "display_data"
    }
   ],
   "source": [
    "cm = confusion_matrix(correct_labels, predicted_labels, labels=index_classes_list)\n",
    "fig = plt.figure(figsize = (18,18))\n",
    "ax1 = fig.add_subplot(1,1,1)\n",
    "sns.set(font_scale=1.2) #for label size\n",
    "sns.heatmap(cm, annot=True, annot_kws={\"size\": 12},\n",
    "     cbar = False, cmap='Purples', fmt='d',\n",
    "           xticklabels=inv_index_classes_list, yticklabels=inv_index_classes_list);\n",
    "ax1.set_ylabel('True Values',fontsize=12)\n",
    "ax1.set_xlabel('Predicted Values',fontsize=12)\n",
    "plt.show()"
   ]
  },
  {
   "cell_type": "code",
   "execution_count": 37,
   "id": "527cc2ac",
   "metadata": {
    "execution": {
     "iopub.execute_input": "2022-07-01T19:58:20.844610Z",
     "iopub.status.busy": "2022-07-01T19:58:20.844299Z",
     "iopub.status.idle": "2022-07-01T19:58:20.853236Z",
     "shell.execute_reply": "2022-07-01T19:58:20.852341Z"
    },
    "papermill": {
     "duration": 0.136497,
     "end_time": "2022-07-01T19:58:20.855141",
     "exception": false,
     "start_time": "2022-07-01T19:58:20.718644",
     "status": "completed"
    },
    "tags": []
   },
   "outputs": [
    {
     "data": {
      "text/plain": [
       "0.16666666666666666"
      ]
     },
     "execution_count": 37,
     "metadata": {},
     "output_type": "execute_result"
    }
   ],
   "source": [
    "FN = cm.sum(axis=1) - np.diag(cm)\n",
    "TP = np.diag(cm)\n",
    "FP = cm.sum(axis=0) - np.diag(cm)\n",
    "TN = cm.sum() - (FP + FN + TP)\n",
    "\n",
    "# from https://stackoverflow.com/questions/31324218/scikit-learn-how-to-obtain-true-positive-true-negative-false-positive-and-fal\n",
    "# Sensitivity, hit rate, recall, or true positive rate\n",
    "TPR = TP/(TP+FN)\n",
    "TPR[18]"
   ]
  },
  {
   "cell_type": "code",
   "execution_count": 38,
   "id": "b72fd45d",
   "metadata": {
    "execution": {
     "iopub.execute_input": "2022-07-01T19:58:21.110103Z",
     "iopub.status.busy": "2022-07-01T19:58:21.109744Z",
     "iopub.status.idle": "2022-07-01T19:58:21.114994Z",
     "shell.execute_reply": "2022-07-01T19:58:21.114007Z"
    },
    "papermill": {
     "duration": 0.134342,
     "end_time": "2022-07-01T19:58:21.116993",
     "exception": false,
     "start_time": "2022-07-01T19:58:20.982651",
     "status": "completed"
    },
    "tags": []
   },
   "outputs": [],
   "source": [
    "F1 = TP/(TP+(FP+FN)/2)"
   ]
  },
  {
   "cell_type": "code",
   "execution_count": 39,
   "id": "7cb26430",
   "metadata": {
    "execution": {
     "iopub.execute_input": "2022-07-01T19:58:21.375248Z",
     "iopub.status.busy": "2022-07-01T19:58:21.374958Z",
     "iopub.status.idle": "2022-07-01T19:58:21.397855Z",
     "shell.execute_reply": "2022-07-01T19:58:21.396077Z"
    },
    "papermill": {
     "duration": 0.157812,
     "end_time": "2022-07-01T19:58:21.401310",
     "exception": false,
     "start_time": "2022-07-01T19:58:21.243498",
     "status": "completed"
    },
    "tags": []
   },
   "outputs": [
    {
     "name": "stdout",
     "output_type": "stream",
     "text": [
      "               True positives  False positives  True negatives  \\\n",
      "Kleats                    0.0              2.0           140.0   \n",
      "Midge                     5.0              3.0           141.0   \n",
      "Dilton                    3.0              7.0           139.0   \n",
      "Pop Tate                  2.0              5.0           140.0   \n",
      "Reggie                    3.0              2.0           142.0   \n",
      "Jughead                   1.0             11.0           136.0   \n",
      "Grundy                    2.0              4.0           141.0   \n",
      "Ethel                     2.0              8.0           137.0   \n",
      "Weatherbee                1.0              9.0           137.0   \n",
      "Harry Clayton             2.0              1.0           145.0   \n",
      "Smithers                  0.0              2.0           139.0   \n",
      "Svenson                   2.0              2.0           143.0   \n",
      "Moose                     2.0              1.0           143.0   \n",
      "Chuck                     4.0              4.0           137.0   \n",
      "Nancy                     2.0              4.0           141.0   \n",
      "Veronica                  1.0              4.0           142.0   \n",
      "Flutesnoot                0.0              2.0           143.0   \n",
      "Fred Andrews              2.0              6.0           139.0   \n",
      "Archie                    1.0              4.0           141.0   \n",
      "Betty                     1.0              7.0           140.0   \n",
      "Beazley                   8.0              2.0           139.0   \n",
      "Hiram Lodge               2.0              5.0           138.0   \n",
      "Others                    1.0              9.0           135.0   \n",
      "Total                    47.0            104.0          3218.0   \n",
      "\n",
      "               False negatives  F1 score  \n",
      "Kleats                     9.0      0.00  \n",
      "Midge                      2.0      0.67  \n",
      "Dilton                     2.0      0.40  \n",
      "Pop Tate                   4.0      0.31  \n",
      "Reggie                     4.0      0.50  \n",
      "Jughead                    3.0      0.12  \n",
      "Grundy                     4.0      0.33  \n",
      "Ethel                      4.0      0.25  \n",
      "Weatherbee                 4.0      0.13  \n",
      "Harry Clayton              3.0      0.50  \n",
      "Smithers                  10.0      0.00  \n",
      "Svenson                    4.0      0.40  \n",
      "Moose                      5.0      0.40  \n",
      "Chuck                      6.0      0.44  \n",
      "Nancy                      4.0      0.33  \n",
      "Veronica                   4.0      0.20  \n",
      "Flutesnoot                 6.0      0.00  \n",
      "Fred Andrews               4.0      0.29  \n",
      "Archie                     5.0      0.18  \n",
      "Betty                      3.0      0.17  \n",
      "Beazley                    2.0      0.80  \n",
      "Hiram Lodge                6.0      0.27  \n",
      "Others                     6.0      0.12  \n",
      "Total                    104.0       NaN  \n"
     ]
    }
   ],
   "source": [
    "df_from_arr_2 = pd.DataFrame(data=[TP, FP, TN, FN, F1]).T\n",
    "df_from_arr_2.rename(columns={0: \"True positives\", 1: \"False positives\",\n",
    "                           2: \"True negatives\", 3: \"False negatives\", 4: \"F1 score\"}, inplace = True)\n",
    "df_from_arr_2.index = classes\n",
    "df_from_arr_2[\"F1 score\"] = df_from_arr_2[\"F1 score\"].round(2)\n",
    "\n",
    "#Total sum per column: \n",
    "df_from_arr_2.loc['Total']= df_from_arr_2.sum(axis=0)\n",
    "df_from_arr_2.iloc[-1,-1]= np.nan\n",
    "\n",
    "print(df_from_arr_2)"
   ]
  },
  {
   "cell_type": "code",
   "execution_count": 40,
   "id": "17248729",
   "metadata": {
    "execution": {
     "iopub.execute_input": "2022-07-01T19:58:21.652846Z",
     "iopub.status.busy": "2022-07-01T19:58:21.651226Z",
     "iopub.status.idle": "2022-07-01T19:58:21.658636Z",
     "shell.execute_reply": "2022-07-01T19:58:21.657711Z"
    },
    "papermill": {
     "duration": 0.13479,
     "end_time": "2022-07-01T19:58:21.660637",
     "exception": false,
     "start_time": "2022-07-01T19:58:21.525847",
     "status": "completed"
    },
    "tags": []
   },
   "outputs": [
    {
     "data": {
      "text/plain": [
       "0.3"
      ]
     },
     "execution_count": 40,
     "metadata": {},
     "output_type": "execute_result"
    }
   ],
   "source": [
    "macro_F1 = round(df_from_arr_2[\"F1 score\"].mean(),2)\n",
    "macro_F1"
   ]
  },
  {
   "cell_type": "code",
   "execution_count": 41,
   "id": "9cc271b9",
   "metadata": {
    "execution": {
     "iopub.execute_input": "2022-07-01T19:58:21.911976Z",
     "iopub.status.busy": "2022-07-01T19:58:21.911000Z",
     "iopub.status.idle": "2022-07-01T19:58:21.919387Z",
     "shell.execute_reply": "2022-07-01T19:58:21.918370Z"
    },
    "papermill": {
     "duration": 0.135666,
     "end_time": "2022-07-01T19:58:21.921517",
     "exception": false,
     "start_time": "2022-07-01T19:58:21.785851",
     "status": "completed"
    },
    "tags": []
   },
   "outputs": [
    {
     "data": {
      "text/plain": [
       "0.31"
      ]
     },
     "execution_count": 41,
     "metadata": {},
     "output_type": "execute_result"
    }
   ],
   "source": [
    "micro_F1 = df_from_arr_2.iloc[-1,0]/(df_from_arr_2.iloc[-1,0]+0.5*(df_from_arr_2.iloc[-1,1]+df_from_arr_2.iloc[-1,3]))\n",
    "micro_F1 = round(micro_F1,2)\n",
    "micro_F1"
   ]
  },
  {
   "cell_type": "code",
   "execution_count": 42,
   "id": "b3bfcc81",
   "metadata": {
    "execution": {
     "iopub.execute_input": "2022-07-01T19:58:22.170068Z",
     "iopub.status.busy": "2022-07-01T19:58:22.169683Z",
     "iopub.status.idle": "2022-07-01T19:58:22.182720Z",
     "shell.execute_reply": "2022-07-01T19:58:22.180817Z"
    },
    "papermill": {
     "duration": 0.139883,
     "end_time": "2022-07-01T19:58:22.184873",
     "exception": false,
     "start_time": "2022-07-01T19:58:22.044990",
     "status": "completed"
    },
    "tags": []
   },
   "outputs": [
    {
     "name": "stdout",
     "output_type": "stream",
     "text": [
      "|               |   True positives |   False positives |   True negatives |   False negatives |   F1 score |\n",
      "|:--------------|-----------------:|------------------:|-----------------:|------------------:|-----------:|\n",
      "| Kleats        |                0 |                 2 |              140 |                 9 |       0    |\n",
      "| Midge         |                5 |                 3 |              141 |                 2 |       0.67 |\n",
      "| Dilton        |                3 |                 7 |              139 |                 2 |       0.4  |\n",
      "| Pop Tate      |                2 |                 5 |              140 |                 4 |       0.31 |\n",
      "| Reggie        |                3 |                 2 |              142 |                 4 |       0.5  |\n",
      "| Jughead       |                1 |                11 |              136 |                 3 |       0.12 |\n",
      "| Grundy        |                2 |                 4 |              141 |                 4 |       0.33 |\n",
      "| Ethel         |                2 |                 8 |              137 |                 4 |       0.25 |\n",
      "| Weatherbee    |                1 |                 9 |              137 |                 4 |       0.13 |\n",
      "| Harry Clayton |                2 |                 1 |              145 |                 3 |       0.5  |\n",
      "| Smithers      |                0 |                 2 |              139 |                10 |       0    |\n",
      "| Svenson       |                2 |                 2 |              143 |                 4 |       0.4  |\n",
      "| Moose         |                2 |                 1 |              143 |                 5 |       0.4  |\n",
      "| Chuck         |                4 |                 4 |              137 |                 6 |       0.44 |\n",
      "| Nancy         |                2 |                 4 |              141 |                 4 |       0.33 |\n",
      "| Veronica      |                1 |                 4 |              142 |                 4 |       0.2  |\n",
      "| Flutesnoot    |                0 |                 2 |              143 |                 6 |       0    |\n",
      "| Fred Andrews  |                2 |                 6 |              139 |                 4 |       0.29 |\n",
      "| Archie        |                1 |                 4 |              141 |                 5 |       0.18 |\n",
      "| Betty         |                1 |                 7 |              140 |                 3 |       0.17 |\n",
      "| Beazley       |                8 |                 2 |              139 |                 2 |       0.8  |\n",
      "| Hiram Lodge   |                2 |                 5 |              138 |                 6 |       0.27 |\n",
      "| Others        |                1 |                 9 |              135 |                 6 |       0.12 |\n",
      "| Total         |               47 |               104 |             3218 |               104 |     nan    |\n"
     ]
    }
   ],
   "source": [
    "print(df_from_arr_2.to_markdown()) "
   ]
  },
  {
   "cell_type": "code",
   "execution_count": 43,
   "id": "edb43b88",
   "metadata": {
    "execution": {
     "iopub.execute_input": "2022-07-01T19:58:22.574196Z",
     "iopub.status.busy": "2022-07-01T19:58:22.573708Z",
     "iopub.status.idle": "2022-07-01T19:58:22.582897Z",
     "shell.execute_reply": "2022-07-01T19:58:22.581657Z"
    },
    "papermill": {
     "duration": 0.223965,
     "end_time": "2022-07-01T19:58:22.585038",
     "exception": false,
     "start_time": "2022-07-01T19:58:22.361073",
     "status": "completed"
    },
    "tags": []
   },
   "outputs": [],
   "source": [
    "MCC = matthews_corrcoef(correct_labels, predicted_labels)"
   ]
  },
  {
   "cell_type": "code",
   "execution_count": 44,
   "id": "37d50ea3",
   "metadata": {
    "execution": {
     "iopub.execute_input": "2022-07-01T19:58:22.970948Z",
     "iopub.status.busy": "2022-07-01T19:58:22.970555Z",
     "iopub.status.idle": "2022-07-01T19:58:22.976720Z",
     "shell.execute_reply": "2022-07-01T19:58:22.975843Z"
    },
    "papermill": {
     "duration": 0.135789,
     "end_time": "2022-07-01T19:58:22.978708",
     "exception": false,
     "start_time": "2022-07-01T19:58:22.842919",
     "status": "completed"
    },
    "tags": []
   },
   "outputs": [
    {
     "data": {
      "text/plain": [
       "0.28295398281285494"
      ]
     },
     "execution_count": 44,
     "metadata": {},
     "output_type": "execute_result"
    }
   ],
   "source": [
    "MCC"
   ]
  }
 ],
 "metadata": {
  "kernelspec": {
   "display_name": "Python 3",
   "language": "python",
   "name": "python3"
  },
  "language_info": {
   "codemirror_mode": {
    "name": "ipython",
    "version": 3
   },
   "file_extension": ".py",
   "mimetype": "text/x-python",
   "name": "python",
   "nbconvert_exporter": "python",
   "pygments_lexer": "ipython3",
   "version": "3.7.12"
  },
  "papermill": {
   "default_parameters": {},
   "duration": 233.658987,
   "end_time": "2022-07-01T19:58:26.767541",
   "environment_variables": {},
   "exception": null,
   "input_path": "__notebook__.ipynb",
   "output_path": "__notebook__.ipynb",
   "parameters": {},
   "start_time": "2022-07-01T19:54:33.108554",
   "version": "2.3.4"
  }
 },
 "nbformat": 4,
 "nbformat_minor": 5
}
