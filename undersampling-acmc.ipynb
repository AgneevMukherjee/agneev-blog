{
 "cells": [
  {
   "cell_type": "code",
   "execution_count": 1,
   "id": "e062f2df",
   "metadata": {
    "execution": {
     "iopub.execute_input": "2022-06-26T20:26:58.137527Z",
     "iopub.status.busy": "2022-06-26T20:26:58.136693Z",
     "iopub.status.idle": "2022-06-26T20:27:03.414721Z",
     "shell.execute_reply": "2022-06-26T20:27:03.413690Z"
    },
    "papermill": {
     "duration": 5.291323,
     "end_time": "2022-06-26T20:27:03.417434",
     "exception": false,
     "start_time": "2022-06-26T20:26:58.126111",
     "status": "completed"
    },
    "tags": []
   },
   "outputs": [],
   "source": [
    "import tensorflow as tf\n",
    "from tensorflow import keras\n",
    "import numpy as np\n",
    "import matplotlib.pyplot as plt\n",
    "import matplotlib.image as mpimg\n",
    "import os\n",
    "import pandas as pd\n",
    "import seaborn as sns\n",
    "import random\n",
    "from PIL import Image\n",
    "import cv2\n",
    "from matplotlib import rcParams\n",
    "import re"
   ]
  },
  {
   "cell_type": "code",
   "execution_count": 2,
   "id": "f111f1d2",
   "metadata": {
    "execution": {
     "iopub.execute_input": "2022-06-26T20:27:03.435674Z",
     "iopub.status.busy": "2022-06-26T20:27:03.435148Z",
     "iopub.status.idle": "2022-06-26T20:27:04.954467Z",
     "shell.execute_reply": "2022-06-26T20:27:04.953453Z"
    },
    "papermill": {
     "duration": 1.531368,
     "end_time": "2022-06-26T20:27:04.956935",
     "exception": false,
     "start_time": "2022-06-26T20:27:03.425567",
     "status": "completed"
    },
    "tags": []
   },
   "outputs": [],
   "source": [
    "from keras_preprocessing.image import ImageDataGenerator\n",
    "from sklearn.metrics import confusion_matrix,ConfusionMatrixDisplay\n",
    "from tensorflow.keras.layers import Input\n",
    "from tensorflow.keras.layers import AveragePooling2D\n",
    "from tensorflow.keras.layers import Dropout\n",
    "from tensorflow.keras.layers import Flatten\n",
    "from tensorflow.keras.layers import Dense\n",
    "from tensorflow.keras.layers import Input\n",
    "from tensorflow.keras.models import Model"
   ]
  },
  {
   "cell_type": "code",
   "execution_count": 3,
   "id": "f044446c",
   "metadata": {
    "execution": {
     "iopub.execute_input": "2022-06-26T20:27:04.975187Z",
     "iopub.status.busy": "2022-06-26T20:27:04.973743Z",
     "iopub.status.idle": "2022-06-26T20:27:04.979379Z",
     "shell.execute_reply": "2022-06-26T20:27:04.978541Z"
    },
    "papermill": {
     "duration": 0.016408,
     "end_time": "2022-06-26T20:27:04.981386",
     "exception": false,
     "start_time": "2022-06-26T20:27:04.964978",
     "status": "completed"
    },
    "tags": []
   },
   "outputs": [],
   "source": [
    "main_folder = '../input/archie-comics-multi-class/Multi-class'"
   ]
  },
  {
   "cell_type": "code",
   "execution_count": 4,
   "id": "25cf13cb",
   "metadata": {
    "execution": {
     "iopub.execute_input": "2022-06-26T20:27:04.999544Z",
     "iopub.status.busy": "2022-06-26T20:27:04.998055Z",
     "iopub.status.idle": "2022-06-26T20:27:05.003182Z",
     "shell.execute_reply": "2022-06-26T20:27:05.002327Z"
    },
    "papermill": {
     "duration": 0.01606,
     "end_time": "2022-06-26T20:27:05.005220",
     "exception": false,
     "start_time": "2022-06-26T20:27:04.989160",
     "status": "completed"
    },
    "tags": []
   },
   "outputs": [],
   "source": [
    "samples_per_class = []\n",
    "classes = []\n",
    "file_names = []"
   ]
  },
  {
   "cell_type": "code",
   "execution_count": 5,
   "id": "41dd8e2c",
   "metadata": {
    "_kg_hide-output": true,
    "execution": {
     "iopub.execute_input": "2022-06-26T20:27:05.021545Z",
     "iopub.status.busy": "2022-06-26T20:27:05.021289Z",
     "iopub.status.idle": "2022-06-26T20:27:05.699756Z",
     "shell.execute_reply": "2022-06-26T20:27:05.698796Z"
    },
    "papermill": {
     "duration": 0.689172,
     "end_time": "2022-06-26T20:27:05.702038",
     "exception": false,
     "start_time": "2022-06-26T20:27:05.012866",
     "status": "completed"
    },
    "tags": []
   },
   "outputs": [],
   "source": [
    "directory=os.listdir('../input/archie-comics-multi-class/Multi-class/')\n",
    "for each in directory:\n",
    "    currentFolder = '../input/archie-comics-multi-class/Multi-class/' + each\n",
    "    count = sum(len(files) for _, _, files in os.walk(currentFolder))\n",
    "    samples_per_class.append(count)\n",
    "    classes.append(each)\n",
    "    \n",
    "    for i, file in enumerate(os.listdir(currentFolder)):\n",
    "        fullpath = currentFolder+ \"/\" + file\n",
    "        file_names.append(fullpath)"
   ]
  },
  {
   "cell_type": "code",
   "execution_count": 6,
   "id": "a6fea9d0",
   "metadata": {
    "execution": {
     "iopub.execute_input": "2022-06-26T20:27:05.720461Z",
     "iopub.status.busy": "2022-06-26T20:27:05.718840Z",
     "iopub.status.idle": "2022-06-26T20:27:05.727372Z",
     "shell.execute_reply": "2022-06-26T20:27:05.726372Z"
    },
    "papermill": {
     "duration": 0.019441,
     "end_time": "2022-06-26T20:27:05.729561",
     "exception": false,
     "start_time": "2022-06-26T20:27:05.710120",
     "status": "completed"
    },
    "tags": []
   },
   "outputs": [
    {
     "data": {
      "text/plain": [
       "33"
      ]
     },
     "execution_count": 6,
     "metadata": {},
     "output_type": "execute_result"
    }
   ],
   "source": [
    "min(samples_per_class)"
   ]
  },
  {
   "cell_type": "code",
   "execution_count": 7,
   "id": "3d06cd37",
   "metadata": {
    "execution": {
     "iopub.execute_input": "2022-06-26T20:27:05.746217Z",
     "iopub.status.busy": "2022-06-26T20:27:05.745970Z",
     "iopub.status.idle": "2022-06-26T20:27:05.750143Z",
     "shell.execute_reply": "2022-06-26T20:27:05.749158Z"
    },
    "papermill": {
     "duration": 0.01486,
     "end_time": "2022-06-26T20:27:05.752301",
     "exception": false,
     "start_time": "2022-06-26T20:27:05.737441",
     "status": "completed"
    },
    "tags": []
   },
   "outputs": [],
   "source": [
    "small_ds = []"
   ]
  },
  {
   "cell_type": "code",
   "execution_count": 8,
   "id": "afce2677",
   "metadata": {
    "execution": {
     "iopub.execute_input": "2022-06-26T20:27:05.769315Z",
     "iopub.status.busy": "2022-06-26T20:27:05.769058Z",
     "iopub.status.idle": "2022-06-26T20:27:05.912926Z",
     "shell.execute_reply": "2022-06-26T20:27:05.912089Z"
    },
    "papermill": {
     "duration": 0.15499,
     "end_time": "2022-06-26T20:27:05.915015",
     "exception": false,
     "start_time": "2022-06-26T20:27:05.760025",
     "status": "completed"
    },
    "tags": []
   },
   "outputs": [],
   "source": [
    "for each_class in classes:\n",
    "    trial_list = []\n",
    "    for name in file_names:\n",
    "        if re.search(f'{each_class}', name):\n",
    "            trial_list.append(name)\n",
    "    small_ds.append(random.sample(trial_list, min(samples_per_class)))"
   ]
  },
  {
   "cell_type": "code",
   "execution_count": 9,
   "id": "deec763f",
   "metadata": {
    "execution": {
     "iopub.execute_input": "2022-06-26T20:27:05.933510Z",
     "iopub.status.busy": "2022-06-26T20:27:05.931891Z",
     "iopub.status.idle": "2022-06-26T20:27:05.938069Z",
     "shell.execute_reply": "2022-06-26T20:27:05.937039Z"
    },
    "papermill": {
     "duration": 0.018089,
     "end_time": "2022-06-26T20:27:05.941116",
     "exception": false,
     "start_time": "2022-06-26T20:27:05.923027",
     "status": "completed"
    },
    "tags": []
   },
   "outputs": [
    {
     "name": "stdout",
     "output_type": "stream",
     "text": [
      "23\n",
      "33\n",
      "759\n"
     ]
    }
   ],
   "source": [
    "print(len(small_ds))\n",
    "print(len(small_ds[0]))\n",
    "print(len(small_ds)*len(small_ds[0]))"
   ]
  },
  {
   "cell_type": "code",
   "execution_count": 10,
   "id": "5dc31c0f",
   "metadata": {
    "execution": {
     "iopub.execute_input": "2022-06-26T20:27:05.959256Z",
     "iopub.status.busy": "2022-06-26T20:27:05.958681Z",
     "iopub.status.idle": "2022-06-26T20:27:05.964954Z",
     "shell.execute_reply": "2022-06-26T20:27:05.964084Z"
    },
    "papermill": {
     "duration": 0.017173,
     "end_time": "2022-06-26T20:27:05.967124",
     "exception": false,
     "start_time": "2022-06-26T20:27:05.949951",
     "status": "completed"
    },
    "tags": []
   },
   "outputs": [],
   "source": [
    "small_ds=list(np.concatenate(small_ds).flat)\n",
    "# For flattening small_ds into a 1-D list"
   ]
  },
  {
   "cell_type": "code",
   "execution_count": 11,
   "id": "1c82c4d5",
   "metadata": {
    "execution": {
     "iopub.execute_input": "2022-06-26T20:27:05.984463Z",
     "iopub.status.busy": "2022-06-26T20:27:05.984222Z",
     "iopub.status.idle": "2022-06-26T20:27:05.991147Z",
     "shell.execute_reply": "2022-06-26T20:27:05.990183Z"
    },
    "papermill": {
     "duration": 0.017145,
     "end_time": "2022-06-26T20:27:05.992943",
     "exception": false,
     "start_time": "2022-06-26T20:27:05.975798",
     "status": "completed"
    },
    "tags": []
   },
   "outputs": [
    {
     "name": "stdout",
     "output_type": "stream",
     "text": [
      "759\n"
     ]
    }
   ],
   "source": [
    "print(len(small_ds))"
   ]
  },
  {
   "cell_type": "code",
   "execution_count": 12,
   "id": "4f2e4003",
   "metadata": {
    "execution": {
     "iopub.execute_input": "2022-06-26T20:27:06.010379Z",
     "iopub.status.busy": "2022-06-26T20:27:06.009432Z",
     "iopub.status.idle": "2022-06-26T20:27:06.016297Z",
     "shell.execute_reply": "2022-06-26T20:27:06.015320Z"
    },
    "papermill": {
     "duration": 0.017941,
     "end_time": "2022-06-26T20:27:06.018734",
     "exception": false,
     "start_time": "2022-06-26T20:27:06.000793",
     "status": "completed"
    },
    "tags": []
   },
   "outputs": [
    {
     "data": {
      "text/plain": [
       "['Kleats',\n",
       " 'Midge',\n",
       " 'Dilton',\n",
       " 'Pop Tate',\n",
       " 'Reggie',\n",
       " 'Jughead',\n",
       " 'Grundy',\n",
       " 'Ethel',\n",
       " 'Weatherbee',\n",
       " 'Harry Clayton',\n",
       " 'Smithers',\n",
       " 'Svenson',\n",
       " 'Moose',\n",
       " 'Chuck',\n",
       " 'Nancy',\n",
       " 'Veronica',\n",
       " 'Flutesnoot',\n",
       " 'Fred Andrews',\n",
       " 'Archie',\n",
       " 'Betty',\n",
       " 'Beazley',\n",
       " 'Hiram Lodge',\n",
       " 'Others']"
      ]
     },
     "execution_count": 12,
     "metadata": {},
     "output_type": "execute_result"
    }
   ],
   "source": [
    "classes"
   ]
  },
  {
   "cell_type": "code",
   "execution_count": 13,
   "id": "bc2ecabd",
   "metadata": {
    "execution": {
     "iopub.execute_input": "2022-06-26T20:27:06.036064Z",
     "iopub.status.busy": "2022-06-26T20:27:06.035773Z",
     "iopub.status.idle": "2022-06-26T20:27:06.041849Z",
     "shell.execute_reply": "2022-06-26T20:27:06.040867Z"
    },
    "papermill": {
     "duration": 0.017053,
     "end_time": "2022-06-26T20:27:06.043800",
     "exception": false,
     "start_time": "2022-06-26T20:27:06.026747",
     "status": "completed"
    },
    "tags": []
   },
   "outputs": [
    {
     "data": {
      "text/plain": [
       "['../input/archie-comics-multi-class/Multi-class/Hiram Lodge/Hiram Lodge_160.png',\n",
       " '../input/archie-comics-multi-class/Multi-class/Hiram Lodge/Hiram Lodge_130.png',\n",
       " '../input/archie-comics-multi-class/Multi-class/Hiram Lodge/Hiram Lodge_057.png',\n",
       " '../input/archie-comics-multi-class/Multi-class/Hiram Lodge/Hiram Lodge_038.png',\n",
       " '../input/archie-comics-multi-class/Multi-class/Hiram Lodge/Hiram Lodge_147.png',\n",
       " '../input/archie-comics-multi-class/Multi-class/Hiram Lodge/Hiram Lodge_108.png',\n",
       " '../input/archie-comics-multi-class/Multi-class/Others/Others_143.png',\n",
       " '../input/archie-comics-multi-class/Multi-class/Others/Others_613.png',\n",
       " '../input/archie-comics-multi-class/Multi-class/Others/Others_070.png',\n",
       " '../input/archie-comics-multi-class/Multi-class/Others/Others_274.png']"
      ]
     },
     "execution_count": 13,
     "metadata": {},
     "output_type": "execute_result"
    }
   ],
   "source": [
    "small_ds[720:730]"
   ]
  },
  {
   "cell_type": "code",
   "execution_count": 14,
   "id": "e176273f",
   "metadata": {
    "execution": {
     "iopub.execute_input": "2022-06-26T20:27:06.061159Z",
     "iopub.status.busy": "2022-06-26T20:27:06.060918Z",
     "iopub.status.idle": "2022-06-26T20:27:06.072728Z",
     "shell.execute_reply": "2022-06-26T20:27:06.071560Z"
    },
    "papermill": {
     "duration": 0.022675,
     "end_time": "2022-06-26T20:27:06.074725",
     "exception": false,
     "start_time": "2022-06-26T20:27:06.052050",
     "status": "completed"
    },
    "tags": []
   },
   "outputs": [],
   "source": [
    "files_df = pd.DataFrame(index=range(0, len(small_ds)),columns = ['Class'])"
   ]
  },
  {
   "cell_type": "code",
   "execution_count": 15,
   "id": "b0ced0da",
   "metadata": {
    "execution": {
     "iopub.execute_input": "2022-06-26T20:27:06.092502Z",
     "iopub.status.busy": "2022-06-26T20:27:06.092267Z",
     "iopub.status.idle": "2022-06-26T20:27:06.098478Z",
     "shell.execute_reply": "2022-06-26T20:27:06.097658Z"
    },
    "papermill": {
     "duration": 0.017359,
     "end_time": "2022-06-26T20:27:06.100588",
     "exception": false,
     "start_time": "2022-06-26T20:27:06.083229",
     "status": "completed"
    },
    "tags": []
   },
   "outputs": [],
   "source": [
    "start = 0\n",
    "end = min(samples_per_class)\n",
    "for each_class in classes:\n",
    "    files_df.iloc[start:end] = each_class\n",
    "    start = end\n",
    "    end = end + min(samples_per_class)"
   ]
  },
  {
   "cell_type": "code",
   "execution_count": 16,
   "id": "e5212a6d",
   "metadata": {
    "execution": {
     "iopub.execute_input": "2022-06-26T20:27:06.117999Z",
     "iopub.status.busy": "2022-06-26T20:27:06.117759Z",
     "iopub.status.idle": "2022-06-26T20:27:06.131620Z",
     "shell.execute_reply": "2022-06-26T20:27:06.130649Z"
    },
    "papermill": {
     "duration": 0.02495,
     "end_time": "2022-06-26T20:27:06.133725",
     "exception": false,
     "start_time": "2022-06-26T20:27:06.108775",
     "status": "completed"
    },
    "tags": []
   },
   "outputs": [
    {
     "data": {
      "text/html": [
       "<div>\n",
       "<style scoped>\n",
       "    .dataframe tbody tr th:only-of-type {\n",
       "        vertical-align: middle;\n",
       "    }\n",
       "\n",
       "    .dataframe tbody tr th {\n",
       "        vertical-align: top;\n",
       "    }\n",
       "\n",
       "    .dataframe thead th {\n",
       "        text-align: right;\n",
       "    }\n",
       "</style>\n",
       "<table border=\"1\" class=\"dataframe\">\n",
       "  <thead>\n",
       "    <tr style=\"text-align: right;\">\n",
       "      <th></th>\n",
       "      <th>Class</th>\n",
       "    </tr>\n",
       "  </thead>\n",
       "  <tbody>\n",
       "    <tr>\n",
       "      <th>30</th>\n",
       "      <td>Kleats</td>\n",
       "    </tr>\n",
       "    <tr>\n",
       "      <th>31</th>\n",
       "      <td>Kleats</td>\n",
       "    </tr>\n",
       "    <tr>\n",
       "      <th>32</th>\n",
       "      <td>Kleats</td>\n",
       "    </tr>\n",
       "    <tr>\n",
       "      <th>33</th>\n",
       "      <td>Midge</td>\n",
       "    </tr>\n",
       "    <tr>\n",
       "      <th>34</th>\n",
       "      <td>Midge</td>\n",
       "    </tr>\n",
       "    <tr>\n",
       "      <th>35</th>\n",
       "      <td>Midge</td>\n",
       "    </tr>\n",
       "  </tbody>\n",
       "</table>\n",
       "</div>"
      ],
      "text/plain": [
       "     Class\n",
       "30  Kleats\n",
       "31  Kleats\n",
       "32  Kleats\n",
       "33   Midge\n",
       "34   Midge\n",
       "35   Midge"
      ]
     },
     "execution_count": 16,
     "metadata": {},
     "output_type": "execute_result"
    }
   ],
   "source": [
    "files_df.loc[30:35]"
   ]
  },
  {
   "cell_type": "code",
   "execution_count": 17,
   "id": "85598917",
   "metadata": {
    "execution": {
     "iopub.execute_input": "2022-06-26T20:27:06.152994Z",
     "iopub.status.busy": "2022-06-26T20:27:06.152429Z",
     "iopub.status.idle": "2022-06-26T20:27:06.161642Z",
     "shell.execute_reply": "2022-06-26T20:27:06.160705Z"
    },
    "papermill": {
     "duration": 0.021032,
     "end_time": "2022-06-26T20:27:06.163682",
     "exception": false,
     "start_time": "2022-06-26T20:27:06.142650",
     "status": "completed"
    },
    "tags": []
   },
   "outputs": [
    {
     "data": {
      "text/html": [
       "<div>\n",
       "<style scoped>\n",
       "    .dataframe tbody tr th:only-of-type {\n",
       "        vertical-align: middle;\n",
       "    }\n",
       "\n",
       "    .dataframe tbody tr th {\n",
       "        vertical-align: top;\n",
       "    }\n",
       "\n",
       "    .dataframe thead th {\n",
       "        text-align: right;\n",
       "    }\n",
       "</style>\n",
       "<table border=\"1\" class=\"dataframe\">\n",
       "  <thead>\n",
       "    <tr style=\"text-align: right;\">\n",
       "      <th></th>\n",
       "      <th>Class</th>\n",
       "    </tr>\n",
       "  </thead>\n",
       "  <tbody>\n",
       "    <tr>\n",
       "      <th>65</th>\n",
       "      <td>Midge</td>\n",
       "    </tr>\n",
       "    <tr>\n",
       "      <th>66</th>\n",
       "      <td>Dilton</td>\n",
       "    </tr>\n",
       "    <tr>\n",
       "      <th>67</th>\n",
       "      <td>Dilton</td>\n",
       "    </tr>\n",
       "    <tr>\n",
       "      <th>68</th>\n",
       "      <td>Dilton</td>\n",
       "    </tr>\n",
       "    <tr>\n",
       "      <th>69</th>\n",
       "      <td>Dilton</td>\n",
       "    </tr>\n",
       "    <tr>\n",
       "      <th>70</th>\n",
       "      <td>Dilton</td>\n",
       "    </tr>\n",
       "  </tbody>\n",
       "</table>\n",
       "</div>"
      ],
      "text/plain": [
       "     Class\n",
       "65   Midge\n",
       "66  Dilton\n",
       "67  Dilton\n",
       "68  Dilton\n",
       "69  Dilton\n",
       "70  Dilton"
      ]
     },
     "execution_count": 17,
     "metadata": {},
     "output_type": "execute_result"
    }
   ],
   "source": [
    "files_df.loc[65:70]"
   ]
  },
  {
   "cell_type": "code",
   "execution_count": 18,
   "id": "0247aa09",
   "metadata": {
    "execution": {
     "iopub.execute_input": "2022-06-26T20:27:06.182962Z",
     "iopub.status.busy": "2022-06-26T20:27:06.182156Z",
     "iopub.status.idle": "2022-06-26T20:27:06.189976Z",
     "shell.execute_reply": "2022-06-26T20:27:06.189131Z"
    },
    "papermill": {
     "duration": 0.019411,
     "end_time": "2022-06-26T20:27:06.191894",
     "exception": false,
     "start_time": "2022-06-26T20:27:06.172483",
     "status": "completed"
    },
    "tags": []
   },
   "outputs": [],
   "source": [
    "files_df['Class']=files_df['Class'].astype('str')"
   ]
  },
  {
   "cell_type": "code",
   "execution_count": 19,
   "id": "9177d5ac",
   "metadata": {
    "execution": {
     "iopub.execute_input": "2022-06-26T20:27:06.210940Z",
     "iopub.status.busy": "2022-06-26T20:27:06.210206Z",
     "iopub.status.idle": "2022-06-26T20:27:06.215332Z",
     "shell.execute_reply": "2022-06-26T20:27:06.214521Z"
    },
    "papermill": {
     "duration": 0.017001,
     "end_time": "2022-06-26T20:27:06.217223",
     "exception": false,
     "start_time": "2022-06-26T20:27:06.200222",
     "status": "completed"
    },
    "tags": []
   },
   "outputs": [],
   "source": [
    "files_df['Files'] = small_ds"
   ]
  },
  {
   "cell_type": "code",
   "execution_count": 20,
   "id": "779ab7e9",
   "metadata": {
    "execution": {
     "iopub.execute_input": "2022-06-26T20:27:06.235535Z",
     "iopub.status.busy": "2022-06-26T20:27:06.234960Z",
     "iopub.status.idle": "2022-06-26T20:27:06.243390Z",
     "shell.execute_reply": "2022-06-26T20:27:06.242479Z"
    },
    "papermill": {
     "duration": 0.019448,
     "end_time": "2022-06-26T20:27:06.245399",
     "exception": false,
     "start_time": "2022-06-26T20:27:06.225951",
     "status": "completed"
    },
    "tags": []
   },
   "outputs": [
    {
     "data": {
      "text/html": [
       "<div>\n",
       "<style scoped>\n",
       "    .dataframe tbody tr th:only-of-type {\n",
       "        vertical-align: middle;\n",
       "    }\n",
       "\n",
       "    .dataframe tbody tr th {\n",
       "        vertical-align: top;\n",
       "    }\n",
       "\n",
       "    .dataframe thead th {\n",
       "        text-align: right;\n",
       "    }\n",
       "</style>\n",
       "<table border=\"1\" class=\"dataframe\">\n",
       "  <thead>\n",
       "    <tr style=\"text-align: right;\">\n",
       "      <th></th>\n",
       "      <th>Class</th>\n",
       "      <th>Files</th>\n",
       "    </tr>\n",
       "  </thead>\n",
       "  <tbody>\n",
       "    <tr>\n",
       "      <th>754</th>\n",
       "      <td>Others</td>\n",
       "      <td>../input/archie-comics-multi-class/Multi-class...</td>\n",
       "    </tr>\n",
       "    <tr>\n",
       "      <th>755</th>\n",
       "      <td>Others</td>\n",
       "      <td>../input/archie-comics-multi-class/Multi-class...</td>\n",
       "    </tr>\n",
       "    <tr>\n",
       "      <th>756</th>\n",
       "      <td>Others</td>\n",
       "      <td>../input/archie-comics-multi-class/Multi-class...</td>\n",
       "    </tr>\n",
       "    <tr>\n",
       "      <th>757</th>\n",
       "      <td>Others</td>\n",
       "      <td>../input/archie-comics-multi-class/Multi-class...</td>\n",
       "    </tr>\n",
       "    <tr>\n",
       "      <th>758</th>\n",
       "      <td>Others</td>\n",
       "      <td>../input/archie-comics-multi-class/Multi-class...</td>\n",
       "    </tr>\n",
       "  </tbody>\n",
       "</table>\n",
       "</div>"
      ],
      "text/plain": [
       "      Class                                              Files\n",
       "754  Others  ../input/archie-comics-multi-class/Multi-class...\n",
       "755  Others  ../input/archie-comics-multi-class/Multi-class...\n",
       "756  Others  ../input/archie-comics-multi-class/Multi-class...\n",
       "757  Others  ../input/archie-comics-multi-class/Multi-class...\n",
       "758  Others  ../input/archie-comics-multi-class/Multi-class..."
      ]
     },
     "execution_count": 20,
     "metadata": {},
     "output_type": "execute_result"
    }
   ],
   "source": [
    "files_df.tail()"
   ]
  },
  {
   "cell_type": "code",
   "execution_count": 21,
   "id": "e61d013e",
   "metadata": {
    "execution": {
     "iopub.execute_input": "2022-06-26T20:27:06.264081Z",
     "iopub.status.busy": "2022-06-26T20:27:06.263380Z",
     "iopub.status.idle": "2022-06-26T20:27:06.271002Z",
     "shell.execute_reply": "2022-06-26T20:27:06.270199Z"
    },
    "papermill": {
     "duration": 0.018828,
     "end_time": "2022-06-26T20:27:06.272878",
     "exception": false,
     "start_time": "2022-06-26T20:27:06.254050",
     "status": "completed"
    },
    "tags": []
   },
   "outputs": [],
   "source": [
    "files_df = files_df.sample(frac=1, random_state=1).reset_index()\n",
    "# For randomly shuffling the rows of the dataframe,\n",
    "# else the training set gets the the top classes, the validation the bottom classes of the df\n",
    "# random_state is for reproducability, i.e., same distribution each time the code is run"
   ]
  },
  {
   "cell_type": "code",
   "execution_count": 22,
   "id": "43f0cddc",
   "metadata": {
    "execution": {
     "iopub.execute_input": "2022-06-26T20:27:06.291911Z",
     "iopub.status.busy": "2022-06-26T20:27:06.291216Z",
     "iopub.status.idle": "2022-06-26T20:27:06.295815Z",
     "shell.execute_reply": "2022-06-26T20:27:06.294996Z"
    },
    "papermill": {
     "duration": 0.015957,
     "end_time": "2022-06-26T20:27:06.297584",
     "exception": false,
     "start_time": "2022-06-26T20:27:06.281627",
     "status": "completed"
    },
    "tags": []
   },
   "outputs": [],
   "source": [
    "datagen=ImageDataGenerator(validation_split=0.2)"
   ]
  },
  {
   "cell_type": "code",
   "execution_count": 23,
   "id": "4a260254",
   "metadata": {
    "execution": {
     "iopub.execute_input": "2022-06-26T20:27:06.317048Z",
     "iopub.status.busy": "2022-06-26T20:27:06.316325Z",
     "iopub.status.idle": "2022-06-26T20:27:06.320563Z",
     "shell.execute_reply": "2022-06-26T20:27:06.319707Z"
    },
    "papermill": {
     "duration": 0.015422,
     "end_time": "2022-06-26T20:27:06.322340",
     "exception": false,
     "start_time": "2022-06-26T20:27:06.306918",
     "status": "completed"
    },
    "tags": []
   },
   "outputs": [],
   "source": [
    "batch_size = 8"
   ]
  },
  {
   "cell_type": "code",
   "execution_count": 24,
   "id": "4067b0e6",
   "metadata": {
    "execution": {
     "iopub.execute_input": "2022-06-26T20:27:06.341273Z",
     "iopub.status.busy": "2022-06-26T20:27:06.340401Z",
     "iopub.status.idle": "2022-06-26T20:27:06.371651Z",
     "shell.execute_reply": "2022-06-26T20:27:06.370676Z"
    },
    "papermill": {
     "duration": 0.042752,
     "end_time": "2022-06-26T20:27:06.373783",
     "exception": false,
     "start_time": "2022-06-26T20:27:06.331031",
     "status": "completed"
    },
    "tags": []
   },
   "outputs": [
    {
     "name": "stdout",
     "output_type": "stream",
     "text": [
      "Found 608 validated image filenames belonging to 23 classes.\n",
      "Found 151 validated image filenames belonging to 23 classes.\n"
     ]
    }
   ],
   "source": [
    "train_generator=datagen.flow_from_dataframe(\n",
    "dataframe=files_df,\n",
    "directory=None,\n",
    "x_col='Files',\n",
    "y_col='Class',\n",
    "subset=\"training\",\n",
    "batch_size=batch_size,\n",
    "seed=42,\n",
    "shuffle=True,\n",
    "class_mode=\"categorical\",\n",
    "# rotation_range=30,\n",
    "# width_shift_range=0.2,\n",
    "# height_shift_range=0.2,\n",
    "# brightness_range=(0.5,1.5),\n",
    "# shear_range=0.2,\n",
    "# zoom_range=0.2,\n",
    "# channel_shift_range=30.0,\n",
    "# fill_mode='nearest',\n",
    "# horizontal_flip=True,\n",
    "# vertical_flip=False,\n",
    "target_size=(256,256))\n",
    "\n",
    "valid_generator=datagen.flow_from_dataframe(\n",
    "dataframe=files_df,\n",
    "directory=None,\n",
    "x_col='Files',\n",
    "y_col='Class',\n",
    "subset=\"validation\",\n",
    "batch_size=batch_size,\n",
    "seed=42,\n",
    "shuffle=True,\n",
    "class_mode=\"categorical\",\n",
    "target_size=(256,256))"
   ]
  },
  {
   "cell_type": "code",
   "execution_count": 25,
   "id": "71c77178",
   "metadata": {
    "execution": {
     "iopub.execute_input": "2022-06-26T20:27:06.392992Z",
     "iopub.status.busy": "2022-06-26T20:27:06.392260Z",
     "iopub.status.idle": "2022-06-26T20:27:06.397877Z",
     "shell.execute_reply": "2022-06-26T20:27:06.396906Z"
    },
    "papermill": {
     "duration": 0.017044,
     "end_time": "2022-06-26T20:27:06.399760",
     "exception": false,
     "start_time": "2022-06-26T20:27:06.382716",
     "status": "completed"
    },
    "tags": []
   },
   "outputs": [],
   "source": [
    "stopping = tf.keras.callbacks.EarlyStopping(\n",
    "        monitor=\"val_accuracy\",\n",
    "        min_delta=0,\n",
    "        patience=5,\n",
    "        verbose=0,\n",
    "        mode=\"auto\",\n",
    "        baseline=None,\n",
    "        restore_best_weights=False,\n",
    "    )\n",
    "\n",
    "checkpoint = tf.keras.callbacks.ModelCheckpoint(\n",
    "        \"best_model\",\n",
    "        monitor=\"val_accuracy\",\n",
    "        mode=\"max\",\n",
    "        save_best_only=True,\n",
    "        save_weights_only=True,\n",
    "    )"
   ]
  },
  {
   "cell_type": "code",
   "execution_count": 26,
   "id": "e4aef518",
   "metadata": {
    "execution": {
     "iopub.execute_input": "2022-06-26T20:27:06.418735Z",
     "iopub.status.busy": "2022-06-26T20:27:06.418105Z",
     "iopub.status.idle": "2022-06-26T20:29:42.086161Z",
     "shell.execute_reply": "2022-06-26T20:29:42.084189Z"
    },
    "papermill": {
     "duration": 155.680284,
     "end_time": "2022-06-26T20:29:42.088733",
     "exception": false,
     "start_time": "2022-06-26T20:27:06.408449",
     "status": "completed"
    },
    "tags": []
   },
   "outputs": [
    {
     "name": "stderr",
     "output_type": "stream",
     "text": [
      "2022-06-26 20:27:06.530776: I tensorflow/stream_executor/cuda/cuda_gpu_executor.cc:937] successful NUMA node read from SysFS had negative value (-1), but there must be at least one NUMA node, so returning NUMA node zero\n",
      "2022-06-26 20:27:06.638356: I tensorflow/stream_executor/cuda/cuda_gpu_executor.cc:937] successful NUMA node read from SysFS had negative value (-1), but there must be at least one NUMA node, so returning NUMA node zero\n",
      "2022-06-26 20:27:06.639155: I tensorflow/stream_executor/cuda/cuda_gpu_executor.cc:937] successful NUMA node read from SysFS had negative value (-1), but there must be at least one NUMA node, so returning NUMA node zero\n",
      "2022-06-26 20:27:06.640420: I tensorflow/core/platform/cpu_feature_guard.cc:142] This TensorFlow binary is optimized with oneAPI Deep Neural Network Library (oneDNN) to use the following CPU instructions in performance-critical operations:  AVX2 AVX512F FMA\n",
      "To enable them in other operations, rebuild TensorFlow with the appropriate compiler flags.\n",
      "2022-06-26 20:27:06.640765: I tensorflow/stream_executor/cuda/cuda_gpu_executor.cc:937] successful NUMA node read from SysFS had negative value (-1), but there must be at least one NUMA node, so returning NUMA node zero\n",
      "2022-06-26 20:27:06.641573: I tensorflow/stream_executor/cuda/cuda_gpu_executor.cc:937] successful NUMA node read from SysFS had negative value (-1), but there must be at least one NUMA node, so returning NUMA node zero\n",
      "2022-06-26 20:27:06.642277: I tensorflow/stream_executor/cuda/cuda_gpu_executor.cc:937] successful NUMA node read from SysFS had negative value (-1), but there must be at least one NUMA node, so returning NUMA node zero\n",
      "2022-06-26 20:27:08.877150: I tensorflow/stream_executor/cuda/cuda_gpu_executor.cc:937] successful NUMA node read from SysFS had negative value (-1), but there must be at least one NUMA node, so returning NUMA node zero\n",
      "2022-06-26 20:27:08.878019: I tensorflow/stream_executor/cuda/cuda_gpu_executor.cc:937] successful NUMA node read from SysFS had negative value (-1), but there must be at least one NUMA node, so returning NUMA node zero\n",
      "2022-06-26 20:27:08.878711: I tensorflow/stream_executor/cuda/cuda_gpu_executor.cc:937] successful NUMA node read from SysFS had negative value (-1), but there must be at least one NUMA node, so returning NUMA node zero\n",
      "2022-06-26 20:27:08.879297: I tensorflow/core/common_runtime/gpu/gpu_device.cc:1510] Created device /job:localhost/replica:0/task:0/device:GPU:0 with 15403 MB memory:  -> device: 0, name: Tesla P100-PCIE-16GB, pci bus id: 0000:00:04.0, compute capability: 6.0\n"
     ]
    },
    {
     "name": "stdout",
     "output_type": "stream",
     "text": [
      "Downloading data from https://storage.googleapis.com/tensorflow/keras-applications/resnet/resnet50_weights_tf_dim_ordering_tf_kernels_notop.h5\n",
      "94773248/94765736 [==============================] - 0s 0us/step\n",
      "94781440/94765736 [==============================] - 0s 0us/step\n"
     ]
    },
    {
     "name": "stderr",
     "output_type": "stream",
     "text": [
      "2022-06-26 20:27:11.375824: I tensorflow/compiler/mlir/mlir_graph_optimization_pass.cc:185] None of the MLIR Optimization Passes are enabled (registered 2)\n",
      "2022-06-26 20:27:13.683951: I tensorflow/stream_executor/cuda/cuda_dnn.cc:369] Loaded cuDNN version 8005\n"
     ]
    },
    {
     "name": "stdout",
     "output_type": "stream",
     "text": [
      "19/19 [==============================] - 9s 88ms/step - loss: 4.2526 - accuracy: 0.0331\n",
      "loss 4.252633571624756, acc 0.03311258181929588\n",
      "Epoch 1/50\n",
      "76/76 [==============================] - 10s 92ms/step - loss: 3.9219 - accuracy: 0.0444 - val_loss: 3.1995 - val_accuracy: 0.0331\n",
      "Epoch 2/50\n",
      "76/76 [==============================] - 4s 56ms/step - loss: 3.1180 - accuracy: 0.1151 - val_loss: 3.1089 - val_accuracy: 0.1060\n",
      "Epoch 3/50\n",
      "76/76 [==============================] - 4s 48ms/step - loss: 2.9383 - accuracy: 0.1217 - val_loss: 3.0473 - val_accuracy: 0.1457\n",
      "Epoch 4/50\n",
      "76/76 [==============================] - 4s 51ms/step - loss: 2.7116 - accuracy: 0.2089 - val_loss: 3.0245 - val_accuracy: 0.1457\n",
      "Epoch 5/50\n",
      "76/76 [==============================] - 4s 51ms/step - loss: 2.5589 - accuracy: 0.2615 - val_loss: 2.9539 - val_accuracy: 0.1788\n",
      "Epoch 6/50\n",
      "76/76 [==============================] - 4s 48ms/step - loss: 2.3979 - accuracy: 0.3191 - val_loss: 2.9083 - val_accuracy: 0.1722\n",
      "Epoch 7/50\n",
      "76/76 [==============================] - 4s 51ms/step - loss: 2.2606 - accuracy: 0.3536 - val_loss: 2.8675 - val_accuracy: 0.2119\n",
      "Epoch 8/50\n",
      "76/76 [==============================] - 4s 47ms/step - loss: 2.1542 - accuracy: 0.4062 - val_loss: 2.8248 - val_accuracy: 0.1854\n",
      "Epoch 9/50\n",
      "76/76 [==============================] - 4s 48ms/step - loss: 2.0136 - accuracy: 0.4276 - val_loss: 2.7931 - val_accuracy: 0.2119\n",
      "Epoch 10/50\n",
      "76/76 [==============================] - 4s 58ms/step - loss: 1.8325 - accuracy: 0.4918 - val_loss: 2.7382 - val_accuracy: 0.2185\n",
      "Epoch 11/50\n",
      "76/76 [==============================] - 4s 47ms/step - loss: 1.7040 - accuracy: 0.5230 - val_loss: 2.7145 - val_accuracy: 0.1987\n",
      "Epoch 12/50\n",
      "76/76 [==============================] - 4s 51ms/step - loss: 1.5959 - accuracy: 0.5674 - val_loss: 2.6971 - val_accuracy: 0.2318\n",
      "Epoch 13/50\n",
      "76/76 [==============================] - 4s 49ms/step - loss: 1.4393 - accuracy: 0.6201 - val_loss: 2.6470 - val_accuracy: 0.2384\n",
      "Epoch 14/50\n",
      "76/76 [==============================] - 4s 48ms/step - loss: 1.3493 - accuracy: 0.6447 - val_loss: 2.6217 - val_accuracy: 0.2318\n",
      "Epoch 15/50\n",
      "76/76 [==============================] - 4s 50ms/step - loss: 1.2781 - accuracy: 0.6595 - val_loss: 2.6119 - val_accuracy: 0.2252\n",
      "Epoch 16/50\n",
      "76/76 [==============================] - 4s 47ms/step - loss: 1.1715 - accuracy: 0.7007 - val_loss: 2.6159 - val_accuracy: 0.2781\n",
      "Epoch 17/50\n",
      "76/76 [==============================] - 4s 49ms/step - loss: 1.1195 - accuracy: 0.7237 - val_loss: 2.5736 - val_accuracy: 0.2517\n",
      "Epoch 18/50\n",
      "76/76 [==============================] - 4s 57ms/step - loss: 1.0205 - accuracy: 0.7516 - val_loss: 2.5570 - val_accuracy: 0.2715\n",
      "Epoch 19/50\n",
      "76/76 [==============================] - 4s 48ms/step - loss: 0.9564 - accuracy: 0.7747 - val_loss: 2.5457 - val_accuracy: 0.2781\n",
      "Epoch 20/50\n",
      "76/76 [==============================] - 4s 48ms/step - loss: 0.8695 - accuracy: 0.8043 - val_loss: 2.4837 - val_accuracy: 0.2848\n",
      "Epoch 21/50\n",
      "76/76 [==============================] - 4s 52ms/step - loss: 0.8745 - accuracy: 0.7961 - val_loss: 2.4767 - val_accuracy: 0.2649\n",
      "Epoch 22/50\n",
      "76/76 [==============================] - 4s 48ms/step - loss: 0.7895 - accuracy: 0.8487 - val_loss: 2.4844 - val_accuracy: 0.2848\n",
      "Epoch 23/50\n",
      "76/76 [==============================] - 4s 51ms/step - loss: 0.6961 - accuracy: 0.8717 - val_loss: 2.4929 - val_accuracy: 0.2781\n",
      "Epoch 24/50\n",
      "76/76 [==============================] - 4s 48ms/step - loss: 0.6903 - accuracy: 0.8668 - val_loss: 2.4884 - val_accuracy: 0.3046\n",
      "Epoch 25/50\n",
      "76/76 [==============================] - 4s 48ms/step - loss: 0.6442 - accuracy: 0.8783 - val_loss: 2.4902 - val_accuracy: 0.2848\n",
      "Epoch 26/50\n",
      "76/76 [==============================] - 4s 58ms/step - loss: 0.5950 - accuracy: 0.8931 - val_loss: 2.4537 - val_accuracy: 0.3046\n",
      "Epoch 27/50\n",
      "76/76 [==============================] - 4s 48ms/step - loss: 0.5844 - accuracy: 0.8964 - val_loss: 2.4763 - val_accuracy: 0.2914\n",
      "Epoch 28/50\n",
      "76/76 [==============================] - 4s 49ms/step - loss: 0.4898 - accuracy: 0.9309 - val_loss: 2.4565 - val_accuracy: 0.3245\n",
      "Epoch 29/50\n",
      "76/76 [==============================] - 4s 51ms/step - loss: 0.4597 - accuracy: 0.9194 - val_loss: 2.4782 - val_accuracy: 0.2848\n",
      "Epoch 30/50\n",
      "76/76 [==============================] - 4s 47ms/step - loss: 0.4818 - accuracy: 0.9145 - val_loss: 2.4235 - val_accuracy: 0.2980\n",
      "Epoch 31/50\n",
      "76/76 [==============================] - 4s 47ms/step - loss: 0.4431 - accuracy: 0.9375 - val_loss: 2.4364 - val_accuracy: 0.3179\n",
      "Epoch 32/50\n",
      "76/76 [==============================] - 4s 51ms/step - loss: 0.4001 - accuracy: 0.9326 - val_loss: 2.4570 - val_accuracy: 0.3113\n",
      "Epoch 33/50\n",
      "76/76 [==============================] - 4s 48ms/step - loss: 0.4076 - accuracy: 0.9391 - val_loss: 2.4432 - val_accuracy: 0.3245\n",
      "19/19 [==============================] - 1s 34ms/step - loss: 2.4565 - accuracy: 0.3245\n",
      "final loss 2.456535577774048, final acc 0.3245033025741577\n"
     ]
    }
   ],
   "source": [
    "base_model = tf.keras.applications.ResNet50(weights='imagenet', input_shape=(256, 256, 3), classes=len(classes), include_top = False)\n",
    "\n",
    "\n",
    "# Based on https://pyimagesearch.com/2020/04/27/fine-tuning-resnet-with-keras-tensorflow-and-deep-learning/\n",
    "\n",
    "# construct the head of the model that will be placed on top of the\n",
    "# the base model\n",
    "headModel = base_model.output\n",
    "headModel = AveragePooling2D(pool_size=(7, 7))(headModel)\n",
    "headModel = Flatten(name=\"flatten\")(headModel)\n",
    "headModel = Dense(256, activation=\"relu\")(headModel)\n",
    "headModel = Dropout(0.5)(headModel)\n",
    "headModel = Dense(len(classes), activation=\"softmax\")(headModel)\n",
    "# place the head FC model on top of the base model (this will become\n",
    "# the actual model we will train)\n",
    "model = Model(inputs=base_model.input, outputs=headModel)\n",
    "# loop over all layers in the base model and freeze them so they will\n",
    "# *not* be updated during the training process\n",
    "for layer in base_model.layers:\n",
    "    layer.trainable = False\n",
    "    \n",
    "model.compile(\n",
    "        optimizer=tf.keras.optimizers.Adam(learning_rate=0.0001),\n",
    "        loss=tf.keras.losses.CategoricalCrossentropy(),#from_logits=True),\n",
    "        metrics=[\"accuracy\"]\n",
    "    )\n",
    " \n",
    "loss_0, acc_0 = model.evaluate(valid_generator)\n",
    "print(f\"loss {loss_0}, acc {acc_0}\")\n",
    "    \n",
    "\n",
    "history = model.fit(\n",
    "        train_generator,\n",
    "        validation_data=valid_generator,\n",
    "        epochs=50,\n",
    "        callbacks=[stopping, checkpoint]\n",
    ")\n",
    "\n",
    "model.load_weights(\"best_model\")\n",
    "\n",
    "loss, acc = model.evaluate(valid_generator)\n",
    "print(f\"final loss {loss}, final acc {acc}\")"
   ]
  },
  {
   "cell_type": "code",
   "execution_count": 27,
   "id": "4fe6fd84",
   "metadata": {
    "execution": {
     "iopub.execute_input": "2022-06-26T20:29:42.278524Z",
     "iopub.status.busy": "2022-06-26T20:29:42.278184Z",
     "iopub.status.idle": "2022-06-26T20:29:42.672056Z",
     "shell.execute_reply": "2022-06-26T20:29:42.671130Z"
    },
    "papermill": {
     "duration": 0.491659,
     "end_time": "2022-06-26T20:29:42.674270",
     "exception": false,
     "start_time": "2022-06-26T20:29:42.182611",
     "status": "completed"
    },
    "tags": []
   },
   "outputs": [
    {
     "data": {
      "image/png": "[encoded data removed]",
      "text/plain": [
       "<Figure size 432x288 with 1 Axes>"
      ]
     },
     "metadata": {
      "needs_background": "light"
     },
     "output_type": "display_data"
    },
    {
     "data": {
      "image/png": "[encoded data removed]",
      "text/plain": [
       "<Figure size 432x288 with 1 Axes>"
      ]
     },
     "metadata": {
      "needs_background": "light"
     },
     "output_type": "display_data"
    }
   ],
   "source": [
    "# summarize history for accuracy\n",
    "plt.plot(history.history['accuracy'])\n",
    "plt.plot(history.history['val_accuracy'])\n",
    "plt.title('model accuracy')\n",
    "plt.ylabel('accuracy')\n",
    "plt.xlabel('epoch')\n",
    "plt.legend(['train', 'val'], loc='upper left')\n",
    "plt.show()\n",
    "# summarize history for loss\n",
    "plt.plot(history.history['loss'])\n",
    "plt.plot(history.history['val_loss'])\n",
    "plt.title('model loss')\n",
    "plt.ylabel('loss')\n",
    "plt.xlabel('epoch')\n",
    "plt.legend(['train', 'val'], loc='upper left')\n",
    "plt.show()"
   ]
  },
  {
   "cell_type": "code",
   "execution_count": 28,
   "id": "983404bd",
   "metadata": {
    "execution": {
     "iopub.execute_input": "2022-06-26T20:29:42.866334Z",
     "iopub.status.busy": "2022-06-26T20:29:42.865324Z",
     "iopub.status.idle": "2022-06-26T20:29:42.870444Z",
     "shell.execute_reply": "2022-06-26T20:29:42.869627Z"
    },
    "papermill": {
     "duration": 0.102594,
     "end_time": "2022-06-26T20:29:42.872409",
     "exception": false,
     "start_time": "2022-06-26T20:29:42.769815",
     "status": "completed"
    },
    "tags": []
   },
   "outputs": [],
   "source": [
    "index_classes_dict = {k: v for v, k in enumerate(classes)}"
   ]
  },
  {
   "cell_type": "code",
   "execution_count": 29,
   "id": "34c60172",
   "metadata": {
    "execution": {
     "iopub.execute_input": "2022-06-26T20:29:43.064261Z",
     "iopub.status.busy": "2022-06-26T20:29:43.063981Z",
     "iopub.status.idle": "2022-06-26T20:29:43.069249Z",
     "shell.execute_reply": "2022-06-26T20:29:43.068429Z"
    },
    "papermill": {
     "duration": 0.103039,
     "end_time": "2022-06-26T20:29:43.071166",
     "exception": false,
     "start_time": "2022-06-26T20:29:42.968127",
     "status": "completed"
    },
    "tags": []
   },
   "outputs": [],
   "source": [
    "index_classes_list = list(index_classes_dict.values())"
   ]
  },
  {
   "cell_type": "code",
   "execution_count": 30,
   "id": "d2686a32",
   "metadata": {
    "execution": {
     "iopub.execute_input": "2022-06-26T20:29:43.263828Z",
     "iopub.status.busy": "2022-06-26T20:29:43.263522Z",
     "iopub.status.idle": "2022-06-26T20:29:43.268010Z",
     "shell.execute_reply": "2022-06-26T20:29:43.267001Z"
    },
    "papermill": {
     "duration": 0.103876,
     "end_time": "2022-06-26T20:29:43.269966",
     "exception": false,
     "start_time": "2022-06-26T20:29:43.166090",
     "status": "completed"
    },
    "tags": []
   },
   "outputs": [],
   "source": [
    "inv_index_classes_dict = {v: k for k, v in index_classes_dict.items()}"
   ]
  },
  {
   "cell_type": "code",
   "execution_count": 31,
   "id": "5eb3255e",
   "metadata": {
    "execution": {
     "iopub.execute_input": "2022-06-26T20:29:43.462804Z",
     "iopub.status.busy": "2022-06-26T20:29:43.461172Z",
     "iopub.status.idle": "2022-06-26T20:29:43.466417Z",
     "shell.execute_reply": "2022-06-26T20:29:43.465563Z"
    },
    "papermill": {
     "duration": 0.103077,
     "end_time": "2022-06-26T20:29:43.468370",
     "exception": false,
     "start_time": "2022-06-26T20:29:43.365293",
     "status": "completed"
    },
    "tags": []
   },
   "outputs": [],
   "source": [
    "inv_index_classes_list = list(inv_index_classes_dict.values())"
   ]
  },
  {
   "cell_type": "code",
   "execution_count": 32,
   "id": "e15bed2d",
   "metadata": {
    "execution": {
     "iopub.execute_input": "2022-06-26T20:29:43.659186Z",
     "iopub.status.busy": "2022-06-26T20:29:43.658257Z",
     "iopub.status.idle": "2022-06-26T20:29:46.778409Z",
     "shell.execute_reply": "2022-06-26T20:29:46.777447Z"
    },
    "papermill": {
     "duration": 3.21879,
     "end_time": "2022-06-26T20:29:46.781258",
     "exception": false,
     "start_time": "2022-06-26T20:29:43.562468",
     "status": "completed"
    },
    "tags": []
   },
   "outputs": [],
   "source": [
    "y_pred = []  # store predicted labels\n",
    "y_true = []  # store true labels\n",
    "i = 0\n",
    "# iterate over the dataset\n",
    "for image_batch, label_batch in valid_generator:\n",
    "    # use dataset.unbatch() with repeat\n",
    "    # append true labels\n",
    "    y_true.append(label_batch)\n",
    "    # compute predictions\n",
    "    preds = model.predict(image_batch)\n",
    "    # append predicted labels\n",
    "    y_pred.append(np.argmax(preds, axis = - 1))\n",
    "    i+=1\n",
    "    if i == len(valid_generator): # A generator runs infinitely, \n",
    "        # so here I am running the valid gen once so all samples are seen\n",
    "        # The gen length is valid split * total samples / batch size\n",
    "        # 0.2*759/8 = 19\n",
    "        break\n",
    "\n",
    "\n",
    "# convert the true and predicted labels into tensors\n",
    "correct_labels = tf.concat([item for item in y_true], axis = 0)\n",
    "correct_labels = np.argmax(correct_labels,axis=1)\n",
    "predicted_labels = tf.concat([item for item in y_pred], axis = 0)"
   ]
  },
  {
   "cell_type": "code",
   "execution_count": 33,
   "id": "59b2783e",
   "metadata": {
    "execution": {
     "iopub.execute_input": "2022-06-26T20:29:46.975090Z",
     "iopub.status.busy": "2022-06-26T20:29:46.974768Z",
     "iopub.status.idle": "2022-06-26T20:29:46.980040Z",
     "shell.execute_reply": "2022-06-26T20:29:46.979072Z"
    },
    "papermill": {
     "duration": 0.103726,
     "end_time": "2022-06-26T20:29:46.982024",
     "exception": false,
     "start_time": "2022-06-26T20:29:46.878298",
     "status": "completed"
    },
    "tags": []
   },
   "outputs": [],
   "source": [
    "names_correct_labels = np.vectorize(inv_index_classes_dict.get)(correct_labels)\n",
    "names_predicted_labels = np.vectorize(inv_index_classes_dict.get)(predicted_labels)"
   ]
  },
  {
   "cell_type": "code",
   "execution_count": 34,
   "id": "5bcea62d",
   "metadata": {
    "execution": {
     "iopub.execute_input": "2022-06-26T20:29:47.224178Z",
     "iopub.status.busy": "2022-06-26T20:29:47.223523Z",
     "iopub.status.idle": "2022-06-26T20:29:49.144509Z",
     "shell.execute_reply": "2022-06-26T20:29:49.143580Z"
    },
    "papermill": {
     "duration": 2.069704,
     "end_time": "2022-06-26T20:29:49.146891",
     "exception": false,
     "start_time": "2022-06-26T20:29:47.077187",
     "status": "completed"
    },
    "tags": []
   },
   "outputs": [
    {
     "data": {
      "image/png": "[encoded data removed]",
      "text/plain": [
       "<Figure size 1296x1296 with 1 Axes>"
      ]
     },
     "metadata": {
      "needs_background": "light"
     },
     "output_type": "display_data"
    }
   ],
   "source": [
    "cm = confusion_matrix(correct_labels, predicted_labels, labels=index_classes_list, normalize='true')\n",
    "fig = plt.figure(figsize = (18,18))\n",
    "ax1 = fig.add_subplot(1,1,1)\n",
    "sns.set(font_scale=1.2) #for label size\n",
    "sns.heatmap(cm, annot=True, annot_kws={\"size\": 12},\n",
    "     cbar = False, cmap='Purples', fmt='.2f', \n",
    "            xticklabels=inv_index_classes_list, yticklabels=inv_index_classes_list);\n",
    "ax1.set_ylabel('True Values',fontsize=12)\n",
    "ax1.set_xlabel('Predicted Values',fontsize=12)\n",
    "plt.show()"
   ]
  },
  {
   "cell_type": "code",
   "execution_count": 35,
   "id": "758a114d",
   "metadata": {
    "execution": {
     "iopub.execute_input": "2022-06-26T20:29:49.341328Z",
     "iopub.status.busy": "2022-06-26T20:29:49.341023Z",
     "iopub.status.idle": "2022-06-26T20:29:51.315434Z",
     "shell.execute_reply": "2022-06-26T20:29:51.314590Z"
    },
    "papermill": {
     "duration": 2.071419,
     "end_time": "2022-06-26T20:29:51.317591",
     "exception": false,
     "start_time": "2022-06-26T20:29:49.246172",
     "status": "completed"
    },
    "tags": []
   },
   "outputs": [
    {
     "data": {
      "image/png": "[encoded data removed]",
      "text/plain": [
       "<Figure size 1296x1296 with 1 Axes>"
      ]
     },
     "metadata": {},
     "output_type": "display_data"
    }
   ],
   "source": [
    "cm = confusion_matrix(correct_labels, predicted_labels, labels=index_classes_list)\n",
    "fig = plt.figure(figsize = (18,18))\n",
    "ax1 = fig.add_subplot(1,1,1)\n",
    "sns.set(font_scale=1.2) #for label size\n",
    "sns.heatmap(cm, annot=True, annot_kws={\"size\": 12},\n",
    "     cbar = False, cmap='Purples', fmt='d',\n",
    "           xticklabels=inv_index_classes_list, yticklabels=inv_index_classes_list);\n",
    "ax1.set_ylabel('True Values',fontsize=12)\n",
    "ax1.set_xlabel('Predicted Values',fontsize=12)\n",
    "plt.show()"
   ]
  }
 ],
 "metadata": {
  "kernelspec": {
   "display_name": "Python 3",
   "language": "python",
   "name": "python3"
  },
  "language_info": {
   "codemirror_mode": {
    "name": "ipython",
    "version": 3
   },
   "file_extension": ".py",
   "mimetype": "text/x-python",
   "name": "python",
   "nbconvert_exporter": "python",
   "pygments_lexer": "ipython3",
   "version": "3.7.12"
  },
  "papermill": {
   "default_parameters": {},
   "duration": 184.413942,
   "end_time": "2022-06-26T20:29:54.619613",
   "environment_variables": {},
   "exception": null,
   "input_path": "__notebook__.ipynb",
   "output_path": "__notebook__.ipynb",
   "parameters": {},
   "start_time": "2022-06-26T20:26:50.205671",
   "version": "2.3.4"
  }
 },
 "nbformat": 4,
 "nbformat_minor": 5
}
