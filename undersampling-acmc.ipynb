{
 "cells": [
  {
   "cell_type": "code",
   "execution_count": 1,
   "id": "c54edfcc",
   "metadata": {
    "execution": {
     "iopub.execute_input": "2022-06-30T20:52:49.073120Z",
     "iopub.status.busy": "2022-06-30T20:52:49.072407Z",
     "iopub.status.idle": "2022-06-30T20:52:54.331577Z",
     "shell.execute_reply": "2022-06-30T20:52:54.330655Z"
    },
    "papermill": {
     "duration": 5.273866,
     "end_time": "2022-06-30T20:52:54.334092",
     "exception": false,
     "start_time": "2022-06-30T20:52:49.060226",
     "status": "completed"
    },
    "tags": []
   },
   "outputs": [],
   "source": [
    "import tensorflow as tf\n",
    "from tensorflow import keras\n",
    "import numpy as np\n",
    "import matplotlib.pyplot as plt\n",
    "import matplotlib.image as mpimg\n",
    "import os\n",
    "import pandas as pd\n",
    "import seaborn as sns\n",
    "import random\n",
    "from PIL import Image\n",
    "import cv2\n",
    "from matplotlib import rcParams\n",
    "import re"
   ]
  },
  {
   "cell_type": "code",
   "execution_count": 2,
   "id": "ec021b3d",
   "metadata": {
    "execution": {
     "iopub.execute_input": "2022-06-30T20:52:54.355495Z",
     "iopub.status.busy": "2022-06-30T20:52:54.355015Z",
     "iopub.status.idle": "2022-06-30T20:52:55.548705Z",
     "shell.execute_reply": "2022-06-30T20:52:55.547759Z"
    },
    "papermill": {
     "duration": 1.207247,
     "end_time": "2022-06-30T20:52:55.551087",
     "exception": false,
     "start_time": "2022-06-30T20:52:54.343840",
     "status": "completed"
    },
    "tags": []
   },
   "outputs": [],
   "source": [
    "from keras_preprocessing.image import ImageDataGenerator\n",
    "from sklearn.metrics import confusion_matrix,ConfusionMatrixDisplay\n",
    "from tensorflow.keras.layers import Input\n",
    "from tensorflow.keras.layers import AveragePooling2D\n",
    "from tensorflow.keras.layers import Dropout\n",
    "from tensorflow.keras.layers import Flatten\n",
    "from tensorflow.keras.layers import Dense\n",
    "from tensorflow.keras.layers import Input\n",
    "from tensorflow.keras.models import Model"
   ]
  },
  {
   "cell_type": "code",
   "execution_count": 3,
   "id": "2f3d73d6",
   "metadata": {
    "execution": {
     "iopub.execute_input": "2022-06-30T20:52:55.572028Z",
     "iopub.status.busy": "2022-06-30T20:52:55.571241Z",
     "iopub.status.idle": "2022-06-30T20:52:55.575903Z",
     "shell.execute_reply": "2022-06-30T20:52:55.574990Z"
    },
    "papermill": {
     "duration": 0.017355,
     "end_time": "2022-06-30T20:52:55.577908",
     "exception": false,
     "start_time": "2022-06-30T20:52:55.560553",
     "status": "completed"
    },
    "tags": []
   },
   "outputs": [],
   "source": [
    "main_folder = '../input/archie-comics-multi-class/Multi-class'"
   ]
  },
  {
   "cell_type": "code",
   "execution_count": 4,
   "id": "d5efdd02",
   "metadata": {
    "execution": {
     "iopub.execute_input": "2022-06-30T20:52:55.597453Z",
     "iopub.status.busy": "2022-06-30T20:52:55.597205Z",
     "iopub.status.idle": "2022-06-30T20:52:55.601349Z",
     "shell.execute_reply": "2022-06-30T20:52:55.600474Z"
    },
    "papermill": {
     "duration": 0.016341,
     "end_time": "2022-06-30T20:52:55.603495",
     "exception": false,
     "start_time": "2022-06-30T20:52:55.587154",
     "status": "completed"
    },
    "tags": []
   },
   "outputs": [],
   "source": [
    "samples_per_class = []\n",
    "classes = []\n",
    "file_names = []"
   ]
  },
  {
   "cell_type": "code",
   "execution_count": 5,
   "id": "650e807a",
   "metadata": {
    "_kg_hide-output": true,
    "execution": {
     "iopub.execute_input": "2022-06-30T20:52:55.623925Z",
     "iopub.status.busy": "2022-06-30T20:52:55.623674Z",
     "iopub.status.idle": "2022-06-30T20:52:58.886750Z",
     "shell.execute_reply": "2022-06-30T20:52:58.885668Z"
    },
    "papermill": {
     "duration": 3.276386,
     "end_time": "2022-06-30T20:52:58.889573",
     "exception": false,
     "start_time": "2022-06-30T20:52:55.613187",
     "status": "completed"
    },
    "tags": []
   },
   "outputs": [],
   "source": [
    "directory=os.listdir('../input/archie-comics-multi-class/Multi-class/')\n",
    "for each in directory:\n",
    "    currentFolder = '../input/archie-comics-multi-class/Multi-class/' + each\n",
    "    count = sum(len(files) for _, _, files in os.walk(currentFolder))\n",
    "    samples_per_class.append(count)\n",
    "    classes.append(each)\n",
    "    \n",
    "    for i, file in enumerate(os.listdir(currentFolder)):\n",
    "        fullpath = currentFolder+ \"/\" + file\n",
    "        file_names.append(fullpath)"
   ]
  },
  {
   "cell_type": "code",
   "execution_count": 6,
   "id": "0c08a478",
   "metadata": {
    "execution": {
     "iopub.execute_input": "2022-06-30T20:52:58.912936Z",
     "iopub.status.busy": "2022-06-30T20:52:58.912005Z",
     "iopub.status.idle": "2022-06-30T20:52:58.921178Z",
     "shell.execute_reply": "2022-06-30T20:52:58.920098Z"
    },
    "papermill": {
     "duration": 0.022613,
     "end_time": "2022-06-30T20:52:58.923258",
     "exception": false,
     "start_time": "2022-06-30T20:52:58.900645",
     "status": "completed"
    },
    "tags": []
   },
   "outputs": [
    {
     "data": {
      "text/plain": [
       "33"
      ]
     },
     "execution_count": 6,
     "metadata": {},
     "output_type": "execute_result"
    }
   ],
   "source": [
    "min(samples_per_class)"
   ]
  },
  {
   "cell_type": "code",
   "execution_count": 7,
   "id": "7e96b807",
   "metadata": {
    "execution": {
     "iopub.execute_input": "2022-06-30T20:52:58.945873Z",
     "iopub.status.busy": "2022-06-30T20:52:58.945144Z",
     "iopub.status.idle": "2022-06-30T20:52:58.949950Z",
     "shell.execute_reply": "2022-06-30T20:52:58.949110Z"
    },
    "papermill": {
     "duration": 0.018202,
     "end_time": "2022-06-30T20:52:58.952272",
     "exception": false,
     "start_time": "2022-06-30T20:52:58.934070",
     "status": "completed"
    },
    "tags": []
   },
   "outputs": [],
   "source": [
    "small_ds = []"
   ]
  },
  {
   "cell_type": "code",
   "execution_count": 8,
   "id": "631983b1",
   "metadata": {
    "execution": {
     "iopub.execute_input": "2022-06-30T20:52:58.974367Z",
     "iopub.status.busy": "2022-06-30T20:52:58.973828Z",
     "iopub.status.idle": "2022-06-30T20:52:59.119786Z",
     "shell.execute_reply": "2022-06-30T20:52:59.118831Z"
    },
    "papermill": {
     "duration": 0.159074,
     "end_time": "2022-06-30T20:52:59.121691",
     "exception": false,
     "start_time": "2022-06-30T20:52:58.962617",
     "status": "completed"
    },
    "tags": []
   },
   "outputs": [],
   "source": [
    "for each_class in classes:\n",
    "    trial_list = []\n",
    "    for name in file_names:\n",
    "        if re.search(f'{each_class}', name):\n",
    "            trial_list.append(name)\n",
    "    small_ds.append(random.sample(trial_list, min(samples_per_class)))"
   ]
  },
  {
   "cell_type": "code",
   "execution_count": 9,
   "id": "a065e725",
   "metadata": {
    "execution": {
     "iopub.execute_input": "2022-06-30T20:52:59.146426Z",
     "iopub.status.busy": "2022-06-30T20:52:59.145547Z",
     "iopub.status.idle": "2022-06-30T20:52:59.152114Z",
     "shell.execute_reply": "2022-06-30T20:52:59.150813Z"
    },
    "papermill": {
     "duration": 0.019311,
     "end_time": "2022-06-30T20:52:59.153998",
     "exception": false,
     "start_time": "2022-06-30T20:52:59.134687",
     "status": "completed"
    },
    "tags": []
   },
   "outputs": [
    {
     "name": "stdout",
     "output_type": "stream",
     "text": [
      "23\n",
      "33\n",
      "759\n"
     ]
    }
   ],
   "source": [
    "print(len(small_ds))\n",
    "print(len(small_ds[0]))\n",
    "print(len(small_ds)*len(small_ds[0]))"
   ]
  },
  {
   "cell_type": "code",
   "execution_count": 10,
   "id": "be49d16c",
   "metadata": {
    "execution": {
     "iopub.execute_input": "2022-06-30T20:52:59.173933Z",
     "iopub.status.busy": "2022-06-30T20:52:59.173675Z",
     "iopub.status.idle": "2022-06-30T20:52:59.179229Z",
     "shell.execute_reply": "2022-06-30T20:52:59.178418Z"
    },
    "papermill": {
     "duration": 0.017584,
     "end_time": "2022-06-30T20:52:59.181053",
     "exception": false,
     "start_time": "2022-06-30T20:52:59.163469",
     "status": "completed"
    },
    "tags": []
   },
   "outputs": [],
   "source": [
    "small_ds=list(np.concatenate(small_ds).flat)\n",
    "# For flattening small_ds into a 1-D list"
   ]
  },
  {
   "cell_type": "code",
   "execution_count": 11,
   "id": "0e7b30dd",
   "metadata": {
    "execution": {
     "iopub.execute_input": "2022-06-30T20:52:59.201086Z",
     "iopub.status.busy": "2022-06-30T20:52:59.200363Z",
     "iopub.status.idle": "2022-06-30T20:52:59.205233Z",
     "shell.execute_reply": "2022-06-30T20:52:59.204269Z"
    },
    "papermill": {
     "duration": 0.018099,
     "end_time": "2022-06-30T20:52:59.208455",
     "exception": false,
     "start_time": "2022-06-30T20:52:59.190356",
     "status": "completed"
    },
    "tags": []
   },
   "outputs": [
    {
     "name": "stdout",
     "output_type": "stream",
     "text": [
      "759\n"
     ]
    }
   ],
   "source": [
    "print(len(small_ds))"
   ]
  },
  {
   "cell_type": "code",
   "execution_count": 12,
   "id": "e9daeefb",
   "metadata": {
    "execution": {
     "iopub.execute_input": "2022-06-30T20:52:59.229501Z",
     "iopub.status.busy": "2022-06-30T20:52:59.229260Z",
     "iopub.status.idle": "2022-06-30T20:52:59.234776Z",
     "shell.execute_reply": "2022-06-30T20:52:59.233937Z"
    },
    "papermill": {
     "duration": 0.017666,
     "end_time": "2022-06-30T20:52:59.236753",
     "exception": false,
     "start_time": "2022-06-30T20:52:59.219087",
     "status": "completed"
    },
    "tags": []
   },
   "outputs": [
    {
     "data": {
      "text/plain": [
       "['Kleats',\n",
       " 'Midge',\n",
       " 'Dilton',\n",
       " 'Pop Tate',\n",
       " 'Reggie',\n",
       " 'Jughead',\n",
       " 'Grundy',\n",
       " 'Ethel',\n",
       " 'Weatherbee',\n",
       " 'Harry Clayton',\n",
       " 'Smithers',\n",
       " 'Svenson',\n",
       " 'Moose',\n",
       " 'Chuck',\n",
       " 'Nancy',\n",
       " 'Veronica',\n",
       " 'Flutesnoot',\n",
       " 'Fred Andrews',\n",
       " 'Archie',\n",
       " 'Betty',\n",
       " 'Beazley',\n",
       " 'Hiram Lodge',\n",
       " 'Others']"
      ]
     },
     "execution_count": 12,
     "metadata": {},
     "output_type": "execute_result"
    }
   ],
   "source": [
    "classes"
   ]
  },
  {
   "cell_type": "code",
   "execution_count": 13,
   "id": "9554df6a",
   "metadata": {
    "execution": {
     "iopub.execute_input": "2022-06-30T20:52:59.257479Z",
     "iopub.status.busy": "2022-06-30T20:52:59.257242Z",
     "iopub.status.idle": "2022-06-30T20:52:59.263726Z",
     "shell.execute_reply": "2022-06-30T20:52:59.262817Z"
    },
    "papermill": {
     "duration": 0.019067,
     "end_time": "2022-06-30T20:52:59.265646",
     "exception": false,
     "start_time": "2022-06-30T20:52:59.246579",
     "status": "completed"
    },
    "tags": []
   },
   "outputs": [
    {
     "data": {
      "text/plain": [
       "['../input/archie-comics-multi-class/Multi-class/Hiram Lodge/Hiram Lodge_101.png',\n",
       " '../input/archie-comics-multi-class/Multi-class/Hiram Lodge/Hiram Lodge_062.png',\n",
       " '../input/archie-comics-multi-class/Multi-class/Hiram Lodge/Hiram Lodge_151.png',\n",
       " '../input/archie-comics-multi-class/Multi-class/Hiram Lodge/Hiram Lodge_048.png',\n",
       " '../input/archie-comics-multi-class/Multi-class/Hiram Lodge/Hiram Lodge_183.png',\n",
       " '../input/archie-comics-multi-class/Multi-class/Hiram Lodge/Hiram Lodge_025.png',\n",
       " '../input/archie-comics-multi-class/Multi-class/Others/Others_428.png',\n",
       " '../input/archie-comics-multi-class/Multi-class/Others/Others_154.png',\n",
       " '../input/archie-comics-multi-class/Multi-class/Others/Others_488.png',\n",
       " '../input/archie-comics-multi-class/Multi-class/Others/Others_029.png']"
      ]
     },
     "execution_count": 13,
     "metadata": {},
     "output_type": "execute_result"
    }
   ],
   "source": [
    "small_ds[720:730]"
   ]
  },
  {
   "cell_type": "code",
   "execution_count": 14,
   "id": "56ebc3a2",
   "metadata": {
    "execution": {
     "iopub.execute_input": "2022-06-30T20:52:59.286120Z",
     "iopub.status.busy": "2022-06-30T20:52:59.285620Z",
     "iopub.status.idle": "2022-06-30T20:52:59.296489Z",
     "shell.execute_reply": "2022-06-30T20:52:59.295667Z"
    },
    "papermill": {
     "duration": 0.023243,
     "end_time": "2022-06-30T20:52:59.298598",
     "exception": false,
     "start_time": "2022-06-30T20:52:59.275355",
     "status": "completed"
    },
    "tags": []
   },
   "outputs": [],
   "source": [
    "files_df = pd.DataFrame(index=range(0, len(small_ds)),columns = ['Class'])"
   ]
  },
  {
   "cell_type": "code",
   "execution_count": 15,
   "id": "3b8a3401",
   "metadata": {
    "execution": {
     "iopub.execute_input": "2022-06-30T20:52:59.319097Z",
     "iopub.status.busy": "2022-06-30T20:52:59.318859Z",
     "iopub.status.idle": "2022-06-30T20:52:59.324730Z",
     "shell.execute_reply": "2022-06-30T20:52:59.323857Z"
    },
    "papermill": {
     "duration": 0.018044,
     "end_time": "2022-06-30T20:52:59.326580",
     "exception": false,
     "start_time": "2022-06-30T20:52:59.308536",
     "status": "completed"
    },
    "tags": []
   },
   "outputs": [],
   "source": [
    "start = 0\n",
    "end = min(samples_per_class)\n",
    "for each_class in classes:\n",
    "    files_df.iloc[start:end] = each_class\n",
    "    start = end\n",
    "    end = end + min(samples_per_class)"
   ]
  },
  {
   "cell_type": "code",
   "execution_count": 16,
   "id": "270832a5",
   "metadata": {
    "execution": {
     "iopub.execute_input": "2022-06-30T20:52:59.347389Z",
     "iopub.status.busy": "2022-06-30T20:52:59.346570Z",
     "iopub.status.idle": "2022-06-30T20:52:59.359398Z",
     "shell.execute_reply": "2022-06-30T20:52:59.358474Z"
    },
    "papermill": {
     "duration": 0.025247,
     "end_time": "2022-06-30T20:52:59.361500",
     "exception": false,
     "start_time": "2022-06-30T20:52:59.336253",
     "status": "completed"
    },
    "tags": []
   },
   "outputs": [
    {
     "data": {
      "text/html": [
       "<div>\n",
       "<style scoped>\n",
       "    .dataframe tbody tr th:only-of-type {\n",
       "        vertical-align: middle;\n",
       "    }\n",
       "\n",
       "    .dataframe tbody tr th {\n",
       "        vertical-align: top;\n",
       "    }\n",
       "\n",
       "    .dataframe thead th {\n",
       "        text-align: right;\n",
       "    }\n",
       "</style>\n",
       "<table border=\"1\" class=\"dataframe\">\n",
       "  <thead>\n",
       "    <tr style=\"text-align: right;\">\n",
       "      <th></th>\n",
       "      <th>Class</th>\n",
       "    </tr>\n",
       "  </thead>\n",
       "  <tbody>\n",
       "    <tr>\n",
       "      <th>30</th>\n",
       "      <td>Kleats</td>\n",
       "    </tr>\n",
       "    <tr>\n",
       "      <th>31</th>\n",
       "      <td>Kleats</td>\n",
       "    </tr>\n",
       "    <tr>\n",
       "      <th>32</th>\n",
       "      <td>Kleats</td>\n",
       "    </tr>\n",
       "    <tr>\n",
       "      <th>33</th>\n",
       "      <td>Midge</td>\n",
       "    </tr>\n",
       "    <tr>\n",
       "      <th>34</th>\n",
       "      <td>Midge</td>\n",
       "    </tr>\n",
       "    <tr>\n",
       "      <th>35</th>\n",
       "      <td>Midge</td>\n",
       "    </tr>\n",
       "  </tbody>\n",
       "</table>\n",
       "</div>"
      ],
      "text/plain": [
       "     Class\n",
       "30  Kleats\n",
       "31  Kleats\n",
       "32  Kleats\n",
       "33   Midge\n",
       "34   Midge\n",
       "35   Midge"
      ]
     },
     "execution_count": 16,
     "metadata": {},
     "output_type": "execute_result"
    }
   ],
   "source": [
    "files_df.loc[30:35]"
   ]
  },
  {
   "cell_type": "code",
   "execution_count": 17,
   "id": "5d787cd8",
   "metadata": {
    "execution": {
     "iopub.execute_input": "2022-06-30T20:52:59.383010Z",
     "iopub.status.busy": "2022-06-30T20:52:59.382729Z",
     "iopub.status.idle": "2022-06-30T20:52:59.390763Z",
     "shell.execute_reply": "2022-06-30T20:52:59.389752Z"
    },
    "papermill": {
     "duration": 0.021572,
     "end_time": "2022-06-30T20:52:59.393646",
     "exception": false,
     "start_time": "2022-06-30T20:52:59.372074",
     "status": "completed"
    },
    "tags": []
   },
   "outputs": [
    {
     "data": {
      "text/html": [
       "<div>\n",
       "<style scoped>\n",
       "    .dataframe tbody tr th:only-of-type {\n",
       "        vertical-align: middle;\n",
       "    }\n",
       "\n",
       "    .dataframe tbody tr th {\n",
       "        vertical-align: top;\n",
       "    }\n",
       "\n",
       "    .dataframe thead th {\n",
       "        text-align: right;\n",
       "    }\n",
       "</style>\n",
       "<table border=\"1\" class=\"dataframe\">\n",
       "  <thead>\n",
       "    <tr style=\"text-align: right;\">\n",
       "      <th></th>\n",
       "      <th>Class</th>\n",
       "    </tr>\n",
       "  </thead>\n",
       "  <tbody>\n",
       "    <tr>\n",
       "      <th>65</th>\n",
       "      <td>Midge</td>\n",
       "    </tr>\n",
       "    <tr>\n",
       "      <th>66</th>\n",
       "      <td>Dilton</td>\n",
       "    </tr>\n",
       "    <tr>\n",
       "      <th>67</th>\n",
       "      <td>Dilton</td>\n",
       "    </tr>\n",
       "    <tr>\n",
       "      <th>68</th>\n",
       "      <td>Dilton</td>\n",
       "    </tr>\n",
       "    <tr>\n",
       "      <th>69</th>\n",
       "      <td>Dilton</td>\n",
       "    </tr>\n",
       "    <tr>\n",
       "      <th>70</th>\n",
       "      <td>Dilton</td>\n",
       "    </tr>\n",
       "  </tbody>\n",
       "</table>\n",
       "</div>"
      ],
      "text/plain": [
       "     Class\n",
       "65   Midge\n",
       "66  Dilton\n",
       "67  Dilton\n",
       "68  Dilton\n",
       "69  Dilton\n",
       "70  Dilton"
      ]
     },
     "execution_count": 17,
     "metadata": {},
     "output_type": "execute_result"
    }
   ],
   "source": [
    "files_df.loc[65:70]"
   ]
  },
  {
   "cell_type": "code",
   "execution_count": 18,
   "id": "d620a906",
   "metadata": {
    "execution": {
     "iopub.execute_input": "2022-06-30T20:52:59.415004Z",
     "iopub.status.busy": "2022-06-30T20:52:59.414215Z",
     "iopub.status.idle": "2022-06-30T20:52:59.421906Z",
     "shell.execute_reply": "2022-06-30T20:52:59.421106Z"
    },
    "papermill": {
     "duration": 0.020241,
     "end_time": "2022-06-30T20:52:59.423780",
     "exception": false,
     "start_time": "2022-06-30T20:52:59.403539",
     "status": "completed"
    },
    "tags": []
   },
   "outputs": [],
   "source": [
    "files_df['Class']=files_df['Class'].astype('str')"
   ]
  },
  {
   "cell_type": "code",
   "execution_count": 19,
   "id": "c9cca2ba",
   "metadata": {
    "execution": {
     "iopub.execute_input": "2022-06-30T20:52:59.445658Z",
     "iopub.status.busy": "2022-06-30T20:52:59.445092Z",
     "iopub.status.idle": "2022-06-30T20:52:59.449583Z",
     "shell.execute_reply": "2022-06-30T20:52:59.448744Z"
    },
    "papermill": {
     "duration": 0.017049,
     "end_time": "2022-06-30T20:52:59.451442",
     "exception": false,
     "start_time": "2022-06-30T20:52:59.434393",
     "status": "completed"
    },
    "tags": []
   },
   "outputs": [],
   "source": [
    "files_df['Files'] = small_ds"
   ]
  },
  {
   "cell_type": "code",
   "execution_count": 20,
   "id": "afacb2f6",
   "metadata": {
    "execution": {
     "iopub.execute_input": "2022-06-30T20:52:59.472806Z",
     "iopub.status.busy": "2022-06-30T20:52:59.472007Z",
     "iopub.status.idle": "2022-06-30T20:52:59.480474Z",
     "shell.execute_reply": "2022-06-30T20:52:59.479520Z"
    },
    "papermill": {
     "duration": 0.021009,
     "end_time": "2022-06-30T20:52:59.482467",
     "exception": false,
     "start_time": "2022-06-30T20:52:59.461458",
     "status": "completed"
    },
    "tags": []
   },
   "outputs": [
    {
     "data": {
      "text/html": [
       "<div>\n",
       "<style scoped>\n",
       "    .dataframe tbody tr th:only-of-type {\n",
       "        vertical-align: middle;\n",
       "    }\n",
       "\n",
       "    .dataframe tbody tr th {\n",
       "        vertical-align: top;\n",
       "    }\n",
       "\n",
       "    .dataframe thead th {\n",
       "        text-align: right;\n",
       "    }\n",
       "</style>\n",
       "<table border=\"1\" class=\"dataframe\">\n",
       "  <thead>\n",
       "    <tr style=\"text-align: right;\">\n",
       "      <th></th>\n",
       "      <th>Class</th>\n",
       "      <th>Files</th>\n",
       "    </tr>\n",
       "  </thead>\n",
       "  <tbody>\n",
       "    <tr>\n",
       "      <th>754</th>\n",
       "      <td>Others</td>\n",
       "      <td>../input/archie-comics-multi-class/Multi-class...</td>\n",
       "    </tr>\n",
       "    <tr>\n",
       "      <th>755</th>\n",
       "      <td>Others</td>\n",
       "      <td>../input/archie-comics-multi-class/Multi-class...</td>\n",
       "    </tr>\n",
       "    <tr>\n",
       "      <th>756</th>\n",
       "      <td>Others</td>\n",
       "      <td>../input/archie-comics-multi-class/Multi-class...</td>\n",
       "    </tr>\n",
       "    <tr>\n",
       "      <th>757</th>\n",
       "      <td>Others</td>\n",
       "      <td>../input/archie-comics-multi-class/Multi-class...</td>\n",
       "    </tr>\n",
       "    <tr>\n",
       "      <th>758</th>\n",
       "      <td>Others</td>\n",
       "      <td>../input/archie-comics-multi-class/Multi-class...</td>\n",
       "    </tr>\n",
       "  </tbody>\n",
       "</table>\n",
       "</div>"
      ],
      "text/plain": [
       "      Class                                              Files\n",
       "754  Others  ../input/archie-comics-multi-class/Multi-class...\n",
       "755  Others  ../input/archie-comics-multi-class/Multi-class...\n",
       "756  Others  ../input/archie-comics-multi-class/Multi-class...\n",
       "757  Others  ../input/archie-comics-multi-class/Multi-class...\n",
       "758  Others  ../input/archie-comics-multi-class/Multi-class..."
      ]
     },
     "execution_count": 20,
     "metadata": {},
     "output_type": "execute_result"
    }
   ],
   "source": [
    "files_df.tail()"
   ]
  },
  {
   "cell_type": "code",
   "execution_count": 21,
   "id": "2fedb044",
   "metadata": {
    "execution": {
     "iopub.execute_input": "2022-06-30T20:52:59.504844Z",
     "iopub.status.busy": "2022-06-30T20:52:59.504127Z",
     "iopub.status.idle": "2022-06-30T20:52:59.512855Z",
     "shell.execute_reply": "2022-06-30T20:52:59.512056Z"
    },
    "papermill": {
     "duration": 0.021858,
     "end_time": "2022-06-30T20:52:59.514722",
     "exception": false,
     "start_time": "2022-06-30T20:52:59.492864",
     "status": "completed"
    },
    "tags": []
   },
   "outputs": [],
   "source": [
    "files_df = files_df.sample(frac=1, random_state=1).reset_index()\n",
    "# For randomly shuffling the rows of the dataframe,\n",
    "# else the training set gets the the top classes, the validation the bottom classes of the df\n",
    "# random_state is for reproducability, i.e., same distribution each time the code is run"
   ]
  },
  {
   "cell_type": "code",
   "execution_count": 22,
   "id": "11348c6e",
   "metadata": {
    "execution": {
     "iopub.execute_input": "2022-06-30T20:52:59.535901Z",
     "iopub.status.busy": "2022-06-30T20:52:59.535400Z",
     "iopub.status.idle": "2022-06-30T20:52:59.544353Z",
     "shell.execute_reply": "2022-06-30T20:52:59.543534Z"
    },
    "papermill": {
     "duration": 0.021479,
     "end_time": "2022-06-30T20:52:59.546192",
     "exception": false,
     "start_time": "2022-06-30T20:52:59.524713",
     "status": "completed"
    },
    "tags": []
   },
   "outputs": [
    {
     "data": {
      "text/html": [
       "<div>\n",
       "<style scoped>\n",
       "    .dataframe tbody tr th:only-of-type {\n",
       "        vertical-align: middle;\n",
       "    }\n",
       "\n",
       "    .dataframe tbody tr th {\n",
       "        vertical-align: top;\n",
       "    }\n",
       "\n",
       "    .dataframe thead th {\n",
       "        text-align: right;\n",
       "    }\n",
       "</style>\n",
       "<table border=\"1\" class=\"dataframe\">\n",
       "  <thead>\n",
       "    <tr style=\"text-align: right;\">\n",
       "      <th></th>\n",
       "      <th>index</th>\n",
       "      <th>Class</th>\n",
       "      <th>Files</th>\n",
       "    </tr>\n",
       "  </thead>\n",
       "  <tbody>\n",
       "    <tr>\n",
       "      <th>749</th>\n",
       "      <td>508</td>\n",
       "      <td>Veronica</td>\n",
       "      <td>../input/archie-comics-multi-class/Multi-class...</td>\n",
       "    </tr>\n",
       "    <tr>\n",
       "      <th>750</th>\n",
       "      <td>749</td>\n",
       "      <td>Others</td>\n",
       "      <td>../input/archie-comics-multi-class/Multi-class...</td>\n",
       "    </tr>\n",
       "    <tr>\n",
       "      <th>751</th>\n",
       "      <td>583</td>\n",
       "      <td>Fred Andrews</td>\n",
       "      <td>../input/archie-comics-multi-class/Multi-class...</td>\n",
       "    </tr>\n",
       "    <tr>\n",
       "      <th>752</th>\n",
       "      <td>129</td>\n",
       "      <td>Pop Tate</td>\n",
       "      <td>../input/archie-comics-multi-class/Multi-class...</td>\n",
       "    </tr>\n",
       "    <tr>\n",
       "      <th>753</th>\n",
       "      <td>144</td>\n",
       "      <td>Reggie</td>\n",
       "      <td>../input/archie-comics-multi-class/Multi-class...</td>\n",
       "    </tr>\n",
       "    <tr>\n",
       "      <th>754</th>\n",
       "      <td>645</td>\n",
       "      <td>Betty</td>\n",
       "      <td>../input/archie-comics-multi-class/Multi-class...</td>\n",
       "    </tr>\n",
       "    <tr>\n",
       "      <th>755</th>\n",
       "      <td>715</td>\n",
       "      <td>Hiram Lodge</td>\n",
       "      <td>../input/archie-comics-multi-class/Multi-class...</td>\n",
       "    </tr>\n",
       "    <tr>\n",
       "      <th>756</th>\n",
       "      <td>72</td>\n",
       "      <td>Dilton</td>\n",
       "      <td>../input/archie-comics-multi-class/Multi-class...</td>\n",
       "    </tr>\n",
       "    <tr>\n",
       "      <th>757</th>\n",
       "      <td>235</td>\n",
       "      <td>Ethel</td>\n",
       "      <td>../input/archie-comics-multi-class/Multi-class...</td>\n",
       "    </tr>\n",
       "    <tr>\n",
       "      <th>758</th>\n",
       "      <td>37</td>\n",
       "      <td>Midge</td>\n",
       "      <td>../input/archie-comics-multi-class/Multi-class...</td>\n",
       "    </tr>\n",
       "  </tbody>\n",
       "</table>\n",
       "</div>"
      ],
      "text/plain": [
       "     index         Class                                              Files\n",
       "749    508      Veronica  ../input/archie-comics-multi-class/Multi-class...\n",
       "750    749        Others  ../input/archie-comics-multi-class/Multi-class...\n",
       "751    583  Fred Andrews  ../input/archie-comics-multi-class/Multi-class...\n",
       "752    129      Pop Tate  ../input/archie-comics-multi-class/Multi-class...\n",
       "753    144        Reggie  ../input/archie-comics-multi-class/Multi-class...\n",
       "754    645         Betty  ../input/archie-comics-multi-class/Multi-class...\n",
       "755    715   Hiram Lodge  ../input/archie-comics-multi-class/Multi-class...\n",
       "756     72        Dilton  ../input/archie-comics-multi-class/Multi-class...\n",
       "757    235         Ethel  ../input/archie-comics-multi-class/Multi-class...\n",
       "758     37         Midge  ../input/archie-comics-multi-class/Multi-class..."
      ]
     },
     "execution_count": 22,
     "metadata": {},
     "output_type": "execute_result"
    }
   ],
   "source": [
    "files_df.tail(10)"
   ]
  },
  {
   "cell_type": "code",
   "execution_count": 23,
   "id": "b93eec6e",
   "metadata": {
    "execution": {
     "iopub.execute_input": "2022-06-30T20:52:59.567704Z",
     "iopub.status.busy": "2022-06-30T20:52:59.567456Z",
     "iopub.status.idle": "2022-06-30T20:52:59.571255Z",
     "shell.execute_reply": "2022-06-30T20:52:59.570359Z"
    },
    "papermill": {
     "duration": 0.016499,
     "end_time": "2022-06-30T20:52:59.573068",
     "exception": false,
     "start_time": "2022-06-30T20:52:59.556569",
     "status": "completed"
    },
    "tags": []
   },
   "outputs": [],
   "source": [
    "datagen=ImageDataGenerator(validation_split=0.2)"
   ]
  },
  {
   "cell_type": "code",
   "execution_count": 24,
   "id": "11091d06",
   "metadata": {
    "execution": {
     "iopub.execute_input": "2022-06-30T20:52:59.594737Z",
     "iopub.status.busy": "2022-06-30T20:52:59.594482Z",
     "iopub.status.idle": "2022-06-30T20:52:59.597931Z",
     "shell.execute_reply": "2022-06-30T20:52:59.597057Z"
    },
    "papermill": {
     "duration": 0.016453,
     "end_time": "2022-06-30T20:52:59.599763",
     "exception": false,
     "start_time": "2022-06-30T20:52:59.583310",
     "status": "completed"
    },
    "tags": []
   },
   "outputs": [],
   "source": [
    "batch_size = 8"
   ]
  },
  {
   "cell_type": "code",
   "execution_count": 25,
   "id": "0044fc4d",
   "metadata": {
    "execution": {
     "iopub.execute_input": "2022-06-30T20:52:59.621736Z",
     "iopub.status.busy": "2022-06-30T20:52:59.620959Z",
     "iopub.status.idle": "2022-06-30T20:52:59.865251Z",
     "shell.execute_reply": "2022-06-30T20:52:59.863921Z"
    },
    "papermill": {
     "duration": 0.25737,
     "end_time": "2022-06-30T20:52:59.867343",
     "exception": false,
     "start_time": "2022-06-30T20:52:59.609973",
     "status": "completed"
    },
    "tags": []
   },
   "outputs": [
    {
     "name": "stdout",
     "output_type": "stream",
     "text": [
      "Found 608 validated image filenames belonging to 23 classes.\n",
      "Found 151 validated image filenames belonging to 23 classes.\n"
     ]
    }
   ],
   "source": [
    "train_generator=datagen.flow_from_dataframe(\n",
    "dataframe=files_df,\n",
    "directory=None,\n",
    "x_col='Files',\n",
    "y_col='Class',\n",
    "subset=\"training\",\n",
    "batch_size=batch_size,\n",
    "seed=42,\n",
    "shuffle=True,\n",
    "class_mode=\"categorical\",\n",
    "# rotation_range=30,\n",
    "# width_shift_range=0.2,\n",
    "# height_shift_range=0.2,\n",
    "# brightness_range=(0.5,1.5),\n",
    "# shear_range=0.2,\n",
    "# zoom_range=0.2,\n",
    "# channel_shift_range=30.0,\n",
    "# fill_mode='nearest',\n",
    "# horizontal_flip=True,\n",
    "# vertical_flip=False,\n",
    "target_size=(256,256))\n",
    "\n",
    "valid_generator=datagen.flow_from_dataframe(\n",
    "dataframe=files_df,\n",
    "directory=None,\n",
    "x_col='Files',\n",
    "y_col='Class',\n",
    "subset=\"validation\",\n",
    "batch_size=batch_size,\n",
    "seed=42,\n",
    "shuffle=True,\n",
    "class_mode=\"categorical\",\n",
    "target_size=(256,256))"
   ]
  },
  {
   "cell_type": "code",
   "execution_count": 26,
   "id": "9514a4e3",
   "metadata": {
    "execution": {
     "iopub.execute_input": "2022-06-30T20:52:59.889432Z",
     "iopub.status.busy": "2022-06-30T20:52:59.889176Z",
     "iopub.status.idle": "2022-06-30T20:52:59.894504Z",
     "shell.execute_reply": "2022-06-30T20:52:59.893539Z"
    },
    "papermill": {
     "duration": 0.018349,
     "end_time": "2022-06-30T20:52:59.896267",
     "exception": false,
     "start_time": "2022-06-30T20:52:59.877918",
     "status": "completed"
    },
    "tags": []
   },
   "outputs": [],
   "source": [
    "stopping = tf.keras.callbacks.EarlyStopping(\n",
    "        monitor=\"val_accuracy\",\n",
    "        min_delta=0,\n",
    "        patience=15,\n",
    "        verbose=0,\n",
    "        mode=\"auto\",\n",
    "        baseline=None,\n",
    "        restore_best_weights=False,\n",
    "    )\n",
    "\n",
    "checkpoint = tf.keras.callbacks.ModelCheckpoint(\n",
    "        \"best_model\",\n",
    "        monitor=\"val_accuracy\",\n",
    "        mode=\"max\",\n",
    "        save_best_only=True,\n",
    "        save_weights_only=True,\n",
    "    )"
   ]
  },
  {
   "cell_type": "code",
   "execution_count": 27,
   "id": "bea45568",
   "metadata": {
    "execution": {
     "iopub.execute_input": "2022-06-30T20:52:59.918683Z",
     "iopub.status.busy": "2022-06-30T20:52:59.918430Z",
     "iopub.status.idle": "2022-06-30T20:56:48.540108Z",
     "shell.execute_reply": "2022-06-30T20:56:48.538852Z"
    },
    "papermill": {
     "duration": 228.634942,
     "end_time": "2022-06-30T20:56:48.542213",
     "exception": false,
     "start_time": "2022-06-30T20:52:59.907271",
     "status": "completed"
    },
    "tags": []
   },
   "outputs": [
    {
     "name": "stderr",
     "output_type": "stream",
     "text": [
      "2022-06-30 20:53:00.026868: I tensorflow/stream_executor/cuda/cuda_gpu_executor.cc:937] successful NUMA node read from SysFS had negative value (-1), but there must be at least one NUMA node, so returning NUMA node zero\n",
      "2022-06-30 20:53:00.156221: I tensorflow/stream_executor/cuda/cuda_gpu_executor.cc:937] successful NUMA node read from SysFS had negative value (-1), but there must be at least one NUMA node, so returning NUMA node zero\n",
      "2022-06-30 20:53:00.156956: I tensorflow/stream_executor/cuda/cuda_gpu_executor.cc:937] successful NUMA node read from SysFS had negative value (-1), but there must be at least one NUMA node, so returning NUMA node zero\n",
      "2022-06-30 20:53:00.158664: I tensorflow/core/platform/cpu_feature_guard.cc:142] This TensorFlow binary is optimized with oneAPI Deep Neural Network Library (oneDNN) to use the following CPU instructions in performance-critical operations:  AVX2 AVX512F FMA\n",
      "To enable them in other operations, rebuild TensorFlow with the appropriate compiler flags.\n",
      "2022-06-30 20:53:00.158984: I tensorflow/stream_executor/cuda/cuda_gpu_executor.cc:937] successful NUMA node read from SysFS had negative value (-1), but there must be at least one NUMA node, so returning NUMA node zero\n",
      "2022-06-30 20:53:00.159679: I tensorflow/stream_executor/cuda/cuda_gpu_executor.cc:937] successful NUMA node read from SysFS had negative value (-1), but there must be at least one NUMA node, so returning NUMA node zero\n",
      "2022-06-30 20:53:00.160381: I tensorflow/stream_executor/cuda/cuda_gpu_executor.cc:937] successful NUMA node read from SysFS had negative value (-1), but there must be at least one NUMA node, so returning NUMA node zero\n",
      "2022-06-30 20:53:02.349055: I tensorflow/stream_executor/cuda/cuda_gpu_executor.cc:937] successful NUMA node read from SysFS had negative value (-1), but there must be at least one NUMA node, so returning NUMA node zero\n",
      "2022-06-30 20:53:02.349913: I tensorflow/stream_executor/cuda/cuda_gpu_executor.cc:937] successful NUMA node read from SysFS had negative value (-1), but there must be at least one NUMA node, so returning NUMA node zero\n",
      "2022-06-30 20:53:02.350571: I tensorflow/stream_executor/cuda/cuda_gpu_executor.cc:937] successful NUMA node read from SysFS had negative value (-1), but there must be at least one NUMA node, so returning NUMA node zero\n",
      "2022-06-30 20:53:02.351176: I tensorflow/core/common_runtime/gpu/gpu_device.cc:1510] Created device /job:localhost/replica:0/task:0/device:GPU:0 with 15403 MB memory:  -> device: 0, name: Tesla P100-PCIE-16GB, pci bus id: 0000:00:04.0, compute capability: 6.0\n"
     ]
    },
    {
     "name": "stdout",
     "output_type": "stream",
     "text": [
      "Downloading data from https://storage.googleapis.com/tensorflow/keras-applications/resnet/resnet50_weights_tf_dim_ordering_tf_kernels_notop.h5\n",
      "94773248/94765736 [==============================] - 1s 0us/step\n",
      "94781440/94765736 [==============================] - 1s 0us/step\n"
     ]
    },
    {
     "name": "stderr",
     "output_type": "stream",
     "text": [
      "2022-06-30 20:53:05.894242: I tensorflow/compiler/mlir/mlir_graph_optimization_pass.cc:185] None of the MLIR Optimization Passes are enabled (registered 2)\n",
      "2022-06-30 20:53:08.093355: I tensorflow/stream_executor/cuda/cuda_dnn.cc:369] Loaded cuDNN version 8005\n"
     ]
    },
    {
     "name": "stdout",
     "output_type": "stream",
     "text": [
      "19/19 [==============================] - 10s 137ms/step - loss: 3.7982 - accuracy: 0.0530\n",
      "loss 3.798152208328247, acc 0.05298013240098953\n",
      "Epoch 1/50\n",
      "76/76 [==============================] - 11s 110ms/step - loss: 3.7596 - accuracy: 0.0543 - val_loss: 3.2573 - val_accuracy: 0.0728\n",
      "Epoch 2/50\n",
      "76/76 [==============================] - 4s 48ms/step - loss: 3.1781 - accuracy: 0.0789 - val_loss: 3.1412 - val_accuracy: 0.0861\n",
      "Epoch 3/50\n",
      "76/76 [==============================] - 5s 61ms/step - loss: 2.9196 - accuracy: 0.1250 - val_loss: 3.0786 - val_accuracy: 0.1060\n",
      "Epoch 4/50\n",
      "76/76 [==============================] - 4s 49ms/step - loss: 2.7495 - accuracy: 0.1859 - val_loss: 3.0146 - val_accuracy: 0.1192\n",
      "Epoch 5/50\n",
      "76/76 [==============================] - 4s 49ms/step - loss: 2.6294 - accuracy: 0.2303 - val_loss: 2.9499 - val_accuracy: 0.1589\n",
      "Epoch 6/50\n",
      "76/76 [==============================] - 4s 52ms/step - loss: 2.4788 - accuracy: 0.2928 - val_loss: 2.9073 - val_accuracy: 0.2252\n",
      "Epoch 7/50\n",
      "76/76 [==============================] - 4s 48ms/step - loss: 2.3497 - accuracy: 0.3355 - val_loss: 2.8594 - val_accuracy: 0.2185\n",
      "Epoch 8/50\n",
      "76/76 [==============================] - 4s 52ms/step - loss: 2.1729 - accuracy: 0.3766 - val_loss: 2.8338 - val_accuracy: 0.2649\n",
      "Epoch 9/50\n",
      "76/76 [==============================] - 4s 49ms/step - loss: 2.0269 - accuracy: 0.4474 - val_loss: 2.7890 - val_accuracy: 0.2318\n",
      "Epoch 10/50\n",
      "76/76 [==============================] - 4s 47ms/step - loss: 1.9254 - accuracy: 0.4786 - val_loss: 2.7628 - val_accuracy: 0.2450\n",
      "Epoch 11/50\n",
      "76/76 [==============================] - 5s 60ms/step - loss: 1.8019 - accuracy: 0.4984 - val_loss: 2.7185 - val_accuracy: 0.2450\n",
      "Epoch 12/50\n",
      "76/76 [==============================] - 4s 48ms/step - loss: 1.6627 - accuracy: 0.5806 - val_loss: 2.6942 - val_accuracy: 0.2517\n",
      "Epoch 13/50\n",
      "76/76 [==============================] - 4s 48ms/step - loss: 1.5839 - accuracy: 0.5707 - val_loss: 2.6798 - val_accuracy: 0.2318\n",
      "Epoch 14/50\n",
      "76/76 [==============================] - 4s 51ms/step - loss: 1.3826 - accuracy: 0.6447 - val_loss: 2.6895 - val_accuracy: 0.2384\n",
      "Epoch 15/50\n",
      "76/76 [==============================] - 4s 49ms/step - loss: 1.3413 - accuracy: 0.6628 - val_loss: 2.6537 - val_accuracy: 0.2450\n",
      "Epoch 16/50\n",
      "76/76 [==============================] - 4s 48ms/step - loss: 1.2469 - accuracy: 0.7023 - val_loss: 2.6543 - val_accuracy: 0.2914\n",
      "Epoch 17/50\n",
      "76/76 [==============================] - 4s 51ms/step - loss: 1.1168 - accuracy: 0.7434 - val_loss: 2.6204 - val_accuracy: 0.2781\n",
      "Epoch 18/50\n",
      "76/76 [==============================] - 4s 48ms/step - loss: 1.0782 - accuracy: 0.7303 - val_loss: 2.6036 - val_accuracy: 0.2583\n",
      "Epoch 19/50\n",
      "76/76 [==============================] - 4s 55ms/step - loss: 1.0126 - accuracy: 0.7895 - val_loss: 2.6073 - val_accuracy: 0.2848\n",
      "Epoch 20/50\n",
      "76/76 [==============================] - 4s 52ms/step - loss: 0.9374 - accuracy: 0.7944 - val_loss: 2.6070 - val_accuracy: 0.2649\n",
      "Epoch 21/50\n",
      "76/76 [==============================] - 4s 48ms/step - loss: 0.9059 - accuracy: 0.7993 - val_loss: 2.6190 - val_accuracy: 0.2583\n",
      "Epoch 22/50\n",
      "76/76 [==============================] - 4s 50ms/step - loss: 0.8568 - accuracy: 0.7993 - val_loss: 2.5802 - val_accuracy: 0.2715\n",
      "Epoch 23/50\n",
      "76/76 [==============================] - 4s 48ms/step - loss: 0.7835 - accuracy: 0.8240 - val_loss: 2.5443 - val_accuracy: 0.2781\n",
      "Epoch 24/50\n",
      "76/76 [==============================] - 4s 49ms/step - loss: 0.6981 - accuracy: 0.8651 - val_loss: 2.5937 - val_accuracy: 0.3046\n",
      "Epoch 25/50\n",
      "76/76 [==============================] - 4s 52ms/step - loss: 0.6715 - accuracy: 0.8816 - val_loss: 2.6042 - val_accuracy: 0.3113\n",
      "Epoch 26/50\n",
      "76/76 [==============================] - 4s 49ms/step - loss: 0.6316 - accuracy: 0.8799 - val_loss: 2.5289 - val_accuracy: 0.2781\n",
      "Epoch 27/50\n",
      "76/76 [==============================] - 4s 58ms/step - loss: 0.6312 - accuracy: 0.8586 - val_loss: 2.5496 - val_accuracy: 0.3046\n",
      "Epoch 28/50\n",
      "76/76 [==============================] - 4s 48ms/step - loss: 0.5474 - accuracy: 0.9128 - val_loss: 2.5612 - val_accuracy: 0.2848\n",
      "Epoch 29/50\n",
      "76/76 [==============================] - 4s 49ms/step - loss: 0.5174 - accuracy: 0.9243 - val_loss: 2.5311 - val_accuracy: 0.2980\n",
      "Epoch 30/50\n",
      "76/76 [==============================] - 4s 52ms/step - loss: 0.4990 - accuracy: 0.9194 - val_loss: 2.5567 - val_accuracy: 0.2980\n",
      "Epoch 31/50\n",
      "76/76 [==============================] - 4s 49ms/step - loss: 0.4620 - accuracy: 0.9342 - val_loss: 2.5697 - val_accuracy: 0.3046\n",
      "Epoch 32/50\n",
      "76/76 [==============================] - 4s 48ms/step - loss: 0.4452 - accuracy: 0.9211 - val_loss: 2.5472 - val_accuracy: 0.2715\n",
      "Epoch 33/50\n",
      "76/76 [==============================] - 4s 52ms/step - loss: 0.3970 - accuracy: 0.9326 - val_loss: 2.5908 - val_accuracy: 0.2914\n",
      "Epoch 34/50\n",
      "76/76 [==============================] - 4s 48ms/step - loss: 0.3724 - accuracy: 0.9539 - val_loss: 2.5986 - val_accuracy: 0.2914\n",
      "Epoch 35/50\n",
      "76/76 [==============================] - 4s 48ms/step - loss: 0.3730 - accuracy: 0.9490 - val_loss: 2.5300 - val_accuracy: 0.2980\n",
      "Epoch 36/50\n",
      "76/76 [==============================] - 4s 57ms/step - loss: 0.3636 - accuracy: 0.9359 - val_loss: 2.5751 - val_accuracy: 0.2980\n",
      "Epoch 37/50\n",
      "76/76 [==============================] - 4s 49ms/step - loss: 0.3192 - accuracy: 0.9704 - val_loss: 2.5663 - val_accuracy: 0.2914\n",
      "Epoch 38/50\n",
      "76/76 [==============================] - 4s 48ms/step - loss: 0.2928 - accuracy: 0.9638 - val_loss: 2.5738 - val_accuracy: 0.2848\n",
      "Epoch 39/50\n",
      "76/76 [==============================] - 4s 52ms/step - loss: 0.3048 - accuracy: 0.9671 - val_loss: 2.6112 - val_accuracy: 0.2980\n",
      "Epoch 40/50\n",
      "76/76 [==============================] - 4s 49ms/step - loss: 0.2547 - accuracy: 0.9770 - val_loss: 2.5603 - val_accuracy: 0.3179\n",
      "Epoch 41/50\n",
      "76/76 [==============================] - 4s 49ms/step - loss: 0.2569 - accuracy: 0.9868 - val_loss: 2.6106 - val_accuracy: 0.3046\n",
      "Epoch 42/50\n",
      "76/76 [==============================] - 4s 48ms/step - loss: 0.2314 - accuracy: 0.9803 - val_loss: 2.5950 - val_accuracy: 0.2980\n",
      "Epoch 43/50\n",
      "76/76 [==============================] - 4s 48ms/step - loss: 0.2529 - accuracy: 0.9720 - val_loss: 2.6181 - val_accuracy: 0.3113\n",
      "Epoch 44/50\n",
      "76/76 [==============================] - 4s 59ms/step - loss: 0.2074 - accuracy: 0.9868 - val_loss: 2.5891 - val_accuracy: 0.3179\n",
      "Epoch 45/50\n",
      "76/76 [==============================] - 4s 48ms/step - loss: 0.2044 - accuracy: 0.9803 - val_loss: 2.6398 - val_accuracy: 0.3046\n",
      "Epoch 46/50\n",
      "76/76 [==============================] - 4s 49ms/step - loss: 0.1906 - accuracy: 0.9836 - val_loss: 2.6260 - val_accuracy: 0.3311\n",
      "Epoch 47/50\n",
      "76/76 [==============================] - 4s 53ms/step - loss: 0.2060 - accuracy: 0.9704 - val_loss: 2.5952 - val_accuracy: 0.3046\n",
      "Epoch 48/50\n",
      "76/76 [==============================] - 4s 48ms/step - loss: 0.2019 - accuracy: 0.9819 - val_loss: 2.6173 - val_accuracy: 0.3113\n",
      "Epoch 49/50\n",
      "76/76 [==============================] - 4s 48ms/step - loss: 0.1735 - accuracy: 0.9885 - val_loss: 2.6487 - val_accuracy: 0.3179\n",
      "Epoch 50/50\n",
      "76/76 [==============================] - 4s 51ms/step - loss: 0.1701 - accuracy: 0.9934 - val_loss: 2.6535 - val_accuracy: 0.3046\n",
      "19/19 [==============================] - 1s 40ms/step - loss: 2.6260 - accuracy: 0.3311\n",
      "final loss 2.626025438308716, final acc 0.33112582564353943\n"
     ]
    }
   ],
   "source": [
    "base_model = tf.keras.applications.ResNet50(weights='imagenet', input_shape=(256, 256, 3), classes=len(classes), include_top = False)\n",
    "\n",
    "\n",
    "# Based on https://pyimagesearch.com/2020/04/27/fine-tuning-resnet-with-keras-tensorflow-and-deep-learning/\n",
    "\n",
    "# construct the head of the model that will be placed on top of the\n",
    "# the base model\n",
    "headModel = base_model.output\n",
    "headModel = AveragePooling2D(pool_size=(7, 7))(headModel)\n",
    "headModel = Flatten(name=\"flatten\")(headModel)\n",
    "headModel = Dense(256, activation=\"relu\")(headModel)\n",
    "headModel = Dropout(0.5)(headModel)\n",
    "headModel = Dense(len(classes), activation=\"softmax\")(headModel)\n",
    "# place the head FC model on top of the base model (this will become\n",
    "# the actual model we will train)\n",
    "model = Model(inputs=base_model.input, outputs=headModel)\n",
    "# loop over all layers in the base model and freeze them so they will\n",
    "# *not* be updated during the training process\n",
    "for layer in base_model.layers:\n",
    "    layer.trainable = False\n",
    "    \n",
    "model.compile(\n",
    "        optimizer=tf.keras.optimizers.Adam(learning_rate=0.0001),\n",
    "        loss=tf.keras.losses.CategoricalCrossentropy(),#from_logits=True),\n",
    "        metrics=[\"accuracy\"]\n",
    "    )\n",
    " \n",
    "loss_0, acc_0 = model.evaluate(valid_generator)\n",
    "print(f\"loss {loss_0}, acc {acc_0}\")\n",
    "    \n",
    "\n",
    "history = model.fit(\n",
    "        train_generator,\n",
    "        validation_data=valid_generator,\n",
    "        epochs=50,\n",
    "        callbacks=[stopping, checkpoint]\n",
    ")\n",
    "\n",
    "model.load_weights(\"best_model\")\n",
    "\n",
    "loss, acc = model.evaluate(valid_generator)\n",
    "print(f\"final loss {loss}, final acc {acc}\")"
   ]
  },
  {
   "cell_type": "code",
   "execution_count": 28,
   "id": "221f482e",
   "metadata": {
    "execution": {
     "iopub.execute_input": "2022-06-30T20:56:48.820533Z",
     "iopub.status.busy": "2022-06-30T20:56:48.820214Z",
     "iopub.status.idle": "2022-06-30T20:56:49.185662Z",
     "shell.execute_reply": "2022-06-30T20:56:49.184717Z"
    },
    "papermill": {
     "duration": 0.50668,
     "end_time": "2022-06-30T20:56:49.187897",
     "exception": false,
     "start_time": "2022-06-30T20:56:48.681217",
     "status": "completed"
    },
    "tags": []
   },
   "outputs": [
    {
     "data": {
      "image/png": "[encoded data removed]",
      "text/plain": [
       "<Figure size 432x288 with 1 Axes>"
      ]
     },
     "metadata": {
      "needs_background": "light"
     },
     "output_type": "display_data"
    },
    {
     "data": {
      "image/png": "[encoded data removed]",
      "text/plain": [
       "<Figure size 432x288 with 1 Axes>"
      ]
     },
     "metadata": {
      "needs_background": "light"
     },
     "output_type": "display_data"
    }
   ],
   "source": [
    "# summarize history for accuracy\n",
    "plt.plot(history.history['accuracy'])\n",
    "plt.plot(history.history['val_accuracy'])\n",
    "plt.title('model accuracy')\n",
    "plt.ylabel('accuracy')\n",
    "plt.xlabel('epoch')\n",
    "plt.legend(['train', 'val'], loc='upper left')\n",
    "plt.show()\n",
    "# summarize history for loss\n",
    "plt.plot(history.history['loss'])\n",
    "plt.plot(history.history['val_loss'])\n",
    "plt.title('model loss')\n",
    "plt.ylabel('loss')\n",
    "plt.xlabel('epoch')\n",
    "plt.legend(['train', 'val'], loc='upper left')\n",
    "plt.show()"
   ]
  },
  {
   "cell_type": "code",
   "execution_count": 29,
   "id": "0f144c3a",
   "metadata": {
    "execution": {
     "iopub.execute_input": "2022-06-30T20:56:49.466741Z",
     "iopub.status.busy": "2022-06-30T20:56:49.466424Z",
     "iopub.status.idle": "2022-06-30T20:56:49.470960Z",
     "shell.execute_reply": "2022-06-30T20:56:49.470016Z"
    },
    "papermill": {
     "duration": 0.144062,
     "end_time": "2022-06-30T20:56:49.473039",
     "exception": false,
     "start_time": "2022-06-30T20:56:49.328977",
     "status": "completed"
    },
    "tags": []
   },
   "outputs": [],
   "source": [
    "index_classes_dict = {k: v for v, k in enumerate(classes)}"
   ]
  },
  {
   "cell_type": "code",
   "execution_count": 30,
   "id": "395a95f5",
   "metadata": {
    "execution": {
     "iopub.execute_input": "2022-06-30T20:56:49.800720Z",
     "iopub.status.busy": "2022-06-30T20:56:49.800374Z",
     "iopub.status.idle": "2022-06-30T20:56:49.804900Z",
     "shell.execute_reply": "2022-06-30T20:56:49.803971Z"
    },
    "papermill": {
     "duration": 0.195664,
     "end_time": "2022-06-30T20:56:49.806776",
     "exception": false,
     "start_time": "2022-06-30T20:56:49.611112",
     "status": "completed"
    },
    "tags": []
   },
   "outputs": [],
   "source": [
    "index_classes_list = list(index_classes_dict.values())"
   ]
  },
  {
   "cell_type": "code",
   "execution_count": 31,
   "id": "d659e246",
   "metadata": {
    "execution": {
     "iopub.execute_input": "2022-06-30T20:56:50.079483Z",
     "iopub.status.busy": "2022-06-30T20:56:50.079179Z",
     "iopub.status.idle": "2022-06-30T20:56:50.083843Z",
     "shell.execute_reply": "2022-06-30T20:56:50.082856Z"
    },
    "papermill": {
     "duration": 0.143304,
     "end_time": "2022-06-30T20:56:50.086120",
     "exception": false,
     "start_time": "2022-06-30T20:56:49.942816",
     "status": "completed"
    },
    "tags": []
   },
   "outputs": [],
   "source": [
    "inv_index_classes_dict = {v: k for k, v in index_classes_dict.items()}"
   ]
  },
  {
   "cell_type": "code",
   "execution_count": 32,
   "id": "2d345b8b",
   "metadata": {
    "execution": {
     "iopub.execute_input": "2022-06-30T20:56:50.366670Z",
     "iopub.status.busy": "2022-06-30T20:56:50.366369Z",
     "iopub.status.idle": "2022-06-30T20:56:50.372117Z",
     "shell.execute_reply": "2022-06-30T20:56:50.371283Z"
    },
    "papermill": {
     "duration": 0.14451,
     "end_time": "2022-06-30T20:56:50.373968",
     "exception": false,
     "start_time": "2022-06-30T20:56:50.229458",
     "status": "completed"
    },
    "tags": []
   },
   "outputs": [],
   "source": [
    "inv_index_classes_list = list(inv_index_classes_dict.values())"
   ]
  },
  {
   "cell_type": "code",
   "execution_count": 33,
   "id": "c3570331",
   "metadata": {
    "execution": {
     "iopub.execute_input": "2022-06-30T20:56:50.646550Z",
     "iopub.status.busy": "2022-06-30T20:56:50.646252Z",
     "iopub.status.idle": "2022-06-30T20:56:53.832621Z",
     "shell.execute_reply": "2022-06-30T20:56:53.831665Z"
    },
    "papermill": {
     "duration": 3.32619,
     "end_time": "2022-06-30T20:56:53.834877",
     "exception": false,
     "start_time": "2022-06-30T20:56:50.508687",
     "status": "completed"
    },
    "tags": []
   },
   "outputs": [],
   "source": [
    "y_pred = []  # store predicted labels\n",
    "y_true = []  # store true labels\n",
    "i = 0\n",
    "# iterate over the dataset\n",
    "for image_batch, label_batch in valid_generator:\n",
    "    # use dataset.unbatch() with repeat\n",
    "    # append true labels\n",
    "    y_true.append(label_batch)\n",
    "    # compute predictions\n",
    "    preds = model.predict(image_batch)\n",
    "    # append predicted labels\n",
    "    y_pred.append(np.argmax(preds, axis = - 1))\n",
    "    i+=1\n",
    "    if i == len(valid_generator): # A generator runs infinitely, \n",
    "        # so here I am running the valid gen once so all samples are seen\n",
    "        # The gen length is valid split * total samples / batch size\n",
    "        # 0.2*759/8 = 19\n",
    "        break\n",
    "\n",
    "\n",
    "# convert the true and predicted labels into tensors\n",
    "correct_labels = tf.concat([item for item in y_true], axis = 0)\n",
    "correct_labels = np.argmax(correct_labels,axis=1)\n",
    "predicted_labels = tf.concat([item for item in y_pred], axis = 0)"
   ]
  },
  {
   "cell_type": "code",
   "execution_count": 34,
   "id": "1e9ef805",
   "metadata": {
    "execution": {
     "iopub.execute_input": "2022-06-30T20:56:54.122693Z",
     "iopub.status.busy": "2022-06-30T20:56:54.121362Z",
     "iopub.status.idle": "2022-06-30T20:56:54.133720Z",
     "shell.execute_reply": "2022-06-30T20:56:54.132675Z"
    },
    "papermill": {
     "duration": 0.165165,
     "end_time": "2022-06-30T20:56:54.137933",
     "exception": false,
     "start_time": "2022-06-30T20:56:53.972768",
     "status": "completed"
    },
    "tags": []
   },
   "outputs": [],
   "source": [
    "names_correct_labels = np.vectorize(inv_index_classes_dict.get)(correct_labels)\n",
    "names_predicted_labels = np.vectorize(inv_index_classes_dict.get)(predicted_labels)"
   ]
  },
  {
   "cell_type": "code",
   "execution_count": 35,
   "id": "6d9f36c7",
   "metadata": {
    "execution": {
     "iopub.execute_input": "2022-06-30T20:56:54.607369Z",
     "iopub.status.busy": "2022-06-30T20:56:54.606670Z",
     "iopub.status.idle": "2022-06-30T20:56:56.484939Z",
     "shell.execute_reply": "2022-06-30T20:56:56.483997Z"
    },
    "papermill": {
     "duration": 2.107582,
     "end_time": "2022-06-30T20:56:56.488213",
     "exception": false,
     "start_time": "2022-06-30T20:56:54.380631",
     "status": "completed"
    },
    "tags": []
   },
   "outputs": [
    {
     "data": {
      "image/png": "[encoded data removed]",
      "text/plain": [
       "<Figure size 1296x1296 with 1 Axes>"
      ]
     },
     "metadata": {
      "needs_background": "light"
     },
     "output_type": "display_data"
    }
   ],
   "source": [
    "cm = confusion_matrix(correct_labels, predicted_labels, labels=index_classes_list, normalize='true')\n",
    "fig = plt.figure(figsize = (18,18))\n",
    "ax1 = fig.add_subplot(1,1,1)\n",
    "sns.set(font_scale=1.2) #for label size\n",
    "sns.heatmap(cm, annot=True, annot_kws={\"size\": 12},\n",
    "     cbar = False, cmap='Purples', fmt='.2f', \n",
    "            xticklabels=inv_index_classes_list, yticklabels=inv_index_classes_list);\n",
    "ax1.set_ylabel('True Values',fontsize=12)\n",
    "ax1.set_xlabel('Predicted Values',fontsize=12)\n",
    "plt.show()"
   ]
  },
  {
   "cell_type": "code",
   "execution_count": 36,
   "id": "e1ba864a",
   "metadata": {
    "execution": {
     "iopub.execute_input": "2022-06-30T20:56:56.769068Z",
     "iopub.status.busy": "2022-06-30T20:56:56.768686Z",
     "iopub.status.idle": "2022-06-30T20:56:58.671594Z",
     "shell.execute_reply": "2022-06-30T20:56:58.670744Z"
    },
    "papermill": {
     "duration": 2.045859,
     "end_time": "2022-06-30T20:56:58.673842",
     "exception": false,
     "start_time": "2022-06-30T20:56:56.627983",
     "status": "completed"
    },
    "tags": []
   },
   "outputs": [
    {
     "data": {
      "image/png": "[encoded data removed]",
      "text/plain": [
       "<Figure size 1296x1296 with 1 Axes>"
      ]
     },
     "metadata": {},
     "output_type": "display_data"
    }
   ],
   "source": [
    "cm = confusion_matrix(correct_labels, predicted_labels, labels=index_classes_list)\n",
    "fig = plt.figure(figsize = (18,18))\n",
    "ax1 = fig.add_subplot(1,1,1)\n",
    "sns.set(font_scale=1.2) #for label size\n",
    "sns.heatmap(cm, annot=True, annot_kws={\"size\": 12},\n",
    "     cbar = False, cmap='Purples', fmt='d',\n",
    "           xticklabels=inv_index_classes_list, yticklabels=inv_index_classes_list);\n",
    "ax1.set_ylabel('True Values',fontsize=12)\n",
    "ax1.set_xlabel('Predicted Values',fontsize=12)\n",
    "plt.show()"
   ]
  },
  {
   "cell_type": "code",
   "execution_count": 37,
   "id": "a0b438d0",
   "metadata": {
    "execution": {
     "iopub.execute_input": "2022-06-30T20:56:58.956879Z",
     "iopub.status.busy": "2022-06-30T20:56:58.956530Z",
     "iopub.status.idle": "2022-06-30T20:56:58.964734Z",
     "shell.execute_reply": "2022-06-30T20:56:58.963874Z"
    },
    "papermill": {
     "duration": 0.152068,
     "end_time": "2022-06-30T20:56:58.966704",
     "exception": false,
     "start_time": "2022-06-30T20:56:58.814636",
     "status": "completed"
    },
    "tags": []
   },
   "outputs": [
    {
     "data": {
      "text/plain": [
       "0.0"
      ]
     },
     "execution_count": 37,
     "metadata": {},
     "output_type": "execute_result"
    }
   ],
   "source": [
    "FN = cm.sum(axis=1) - np.diag(cm)\n",
    "TP = np.diag(cm)\n",
    "FP = cm.sum(axis=0) - np.diag(cm)\n",
    "TN = cm.sum() - (FP + FN + TP)\n",
    "\n",
    "# from https://stackoverflow.com/questions/31324218/scikit-learn-how-to-obtain-true-positive-true-negative-false-positive-and-fal\n",
    "# Sensitivity, hit rate, recall, or true positive rate\n",
    "TPR = TP/(TP+FN)\n",
    "TPR[18]"
   ]
  },
  {
   "cell_type": "code",
   "execution_count": 38,
   "id": "5cd6841a",
   "metadata": {
    "execution": {
     "iopub.execute_input": "2022-06-30T20:56:59.293759Z",
     "iopub.status.busy": "2022-06-30T20:56:59.293407Z",
     "iopub.status.idle": "2022-06-30T20:56:59.298216Z",
     "shell.execute_reply": "2022-06-30T20:56:59.297286Z"
    },
    "papermill": {
     "duration": 0.193232,
     "end_time": "2022-06-30T20:56:59.300199",
     "exception": false,
     "start_time": "2022-06-30T20:56:59.106967",
     "status": "completed"
    },
    "tags": []
   },
   "outputs": [],
   "source": [
    "F1 = TP/(TP+(FP+FN)/2)"
   ]
  },
  {
   "cell_type": "code",
   "execution_count": 39,
   "id": "af089db8",
   "metadata": {
    "execution": {
     "iopub.execute_input": "2022-06-30T20:56:59.590317Z",
     "iopub.status.busy": "2022-06-30T20:56:59.589310Z",
     "iopub.status.idle": "2022-06-30T20:56:59.616039Z",
     "shell.execute_reply": "2022-06-30T20:56:59.613593Z"
    },
    "papermill": {
     "duration": 0.175191,
     "end_time": "2022-06-30T20:56:59.618724",
     "exception": false,
     "start_time": "2022-06-30T20:56:59.443533",
     "status": "completed"
    },
    "tags": []
   },
   "outputs": [
    {
     "name": "stdout",
     "output_type": "stream",
     "text": [
      "               True positives  False positives  True negatives  \\\n",
      "Kleats                    1.0              4.0           138.0   \n",
      "Midge                     6.0              4.0           140.0   \n",
      "Dilton                    2.0              8.0           138.0   \n",
      "Pop Tate                  2.0              3.0           142.0   \n",
      "Reggie                    1.0              3.0           141.0   \n",
      "Jughead                   2.0              6.0           141.0   \n",
      "Grundy                    2.0              1.0           144.0   \n",
      "Ethel                     3.0              8.0           137.0   \n",
      "Weatherbee                1.0              7.0           139.0   \n",
      "Harry Clayton             2.0              0.0           146.0   \n",
      "Smithers                  2.0              3.0           138.0   \n",
      "Svenson                   2.0              8.0           137.0   \n",
      "Moose                     4.0              5.0           139.0   \n",
      "Chuck                     1.0              3.0           138.0   \n",
      "Nancy                     1.0              0.0           145.0   \n",
      "Veronica                  4.0              5.0           141.0   \n",
      "Flutesnoot                0.0              1.0           144.0   \n",
      "Fred Andrews              1.0              9.0           136.0   \n",
      "Archie                    0.0              9.0           136.0   \n",
      "Betty                     1.0              1.0           146.0   \n",
      "Beazley                   7.0              6.0           135.0   \n",
      "Hiram Lodge               2.0              3.0           140.0   \n",
      "Others                    3.0              4.0           140.0   \n",
      "Total                    50.0            101.0          3221.0   \n",
      "\n",
      "               False negatives  F1 score  \n",
      "Kleats                     8.0      0.14  \n",
      "Midge                      1.0      0.71  \n",
      "Dilton                     3.0      0.27  \n",
      "Pop Tate                   4.0      0.36  \n",
      "Reggie                     6.0      0.18  \n",
      "Jughead                    2.0      0.33  \n",
      "Grundy                     4.0      0.44  \n",
      "Ethel                      3.0      0.35  \n",
      "Weatherbee                 4.0      0.15  \n",
      "Harry Clayton              3.0      0.57  \n",
      "Smithers                   8.0      0.27  \n",
      "Svenson                    4.0      0.25  \n",
      "Moose                      3.0      0.50  \n",
      "Chuck                      9.0      0.14  \n",
      "Nancy                      5.0      0.29  \n",
      "Veronica                   1.0      0.57  \n",
      "Flutesnoot                 6.0      0.00  \n",
      "Fred Andrews               5.0      0.12  \n",
      "Archie                     6.0      0.00  \n",
      "Betty                      3.0      0.33  \n",
      "Beazley                    3.0      0.61  \n",
      "Hiram Lodge                6.0      0.31  \n",
      "Others                     4.0      0.43  \n",
      "Total                    101.0       NaN  \n"
     ]
    }
   ],
   "source": [
    "df_from_arr_2 = pd.DataFrame(data=[TP, FP, TN, FN, F1]).T\n",
    "df_from_arr_2.rename(columns={0: \"True positives\", 1: \"False positives\",\n",
    "                           2: \"True negatives\", 3: \"False negatives\", 4: \"F1 score\"}, inplace = True)\n",
    "df_from_arr_2.index = classes\n",
    "df_from_arr_2[\"F1 score\"] = df_from_arr_2[\"F1 score\"].round(2)\n",
    "\n",
    "#Total sum per column: \n",
    "df_from_arr_2.loc['Total']= df_from_arr_2.sum(axis=0)\n",
    "df_from_arr_2.iloc[-1,-1]= np.nan\n",
    "\n",
    "print(df_from_arr_2)"
   ]
  },
  {
   "cell_type": "code",
   "execution_count": 40,
   "id": "05a14674",
   "metadata": {
    "execution": {
     "iopub.execute_input": "2022-06-30T20:56:59.913669Z",
     "iopub.status.busy": "2022-06-30T20:56:59.913337Z",
     "iopub.status.idle": "2022-06-30T20:56:59.920541Z",
     "shell.execute_reply": "2022-06-30T20:56:59.919676Z"
    },
    "papermill": {
     "duration": 0.151887,
     "end_time": "2022-06-30T20:56:59.922591",
     "exception": false,
     "start_time": "2022-06-30T20:56:59.770704",
     "status": "completed"
    },
    "tags": []
   },
   "outputs": [
    {
     "data": {
      "text/plain": [
       "0.32"
      ]
     },
     "execution_count": 40,
     "metadata": {},
     "output_type": "execute_result"
    }
   ],
   "source": [
    "macro_F1 = round(df_from_arr_2[\"F1 score\"].mean(),2)\n",
    "macro_F1"
   ]
  },
  {
   "cell_type": "code",
   "execution_count": 41,
   "id": "3d668915",
   "metadata": {
    "execution": {
     "iopub.execute_input": "2022-06-30T20:57:00.215117Z",
     "iopub.status.busy": "2022-06-30T20:57:00.214786Z",
     "iopub.status.idle": "2022-06-30T20:57:00.223483Z",
     "shell.execute_reply": "2022-06-30T20:57:00.222495Z"
    },
    "papermill": {
     "duration": 0.160696,
     "end_time": "2022-06-30T20:57:00.225431",
     "exception": false,
     "start_time": "2022-06-30T20:57:00.064735",
     "status": "completed"
    },
    "tags": []
   },
   "outputs": [
    {
     "data": {
      "text/plain": [
       "0.33"
      ]
     },
     "execution_count": 41,
     "metadata": {},
     "output_type": "execute_result"
    }
   ],
   "source": [
    "micro_F1 = df_from_arr_2.iloc[-1,0]/(df_from_arr_2.iloc[-1,0]+0.5*(df_from_arr_2.iloc[-1,1]+df_from_arr_2.iloc[-1,3]))\n",
    "micro_F1 = round(micro_F1,2)\n",
    "micro_F1"
   ]
  },
  {
   "cell_type": "code",
   "execution_count": 42,
   "id": "12454ad4",
   "metadata": {
    "execution": {
     "iopub.execute_input": "2022-06-30T20:57:00.507507Z",
     "iopub.status.busy": "2022-06-30T20:57:00.507222Z",
     "iopub.status.idle": "2022-06-30T20:57:00.519853Z",
     "shell.execute_reply": "2022-06-30T20:57:00.518745Z"
    },
    "papermill": {
     "duration": 0.157036,
     "end_time": "2022-06-30T20:57:00.522951",
     "exception": false,
     "start_time": "2022-06-30T20:57:00.365915",
     "status": "completed"
    },
    "tags": []
   },
   "outputs": [
    {
     "name": "stdout",
     "output_type": "stream",
     "text": [
      "|               |   True positives |   False positives |   True negatives |   False negatives |   F1 score |\n",
      "|:--------------|-----------------:|------------------:|-----------------:|------------------:|-----------:|\n",
      "| Kleats        |                1 |                 4 |              138 |                 8 |       0.14 |\n",
      "| Midge         |                6 |                 4 |              140 |                 1 |       0.71 |\n",
      "| Dilton        |                2 |                 8 |              138 |                 3 |       0.27 |\n",
      "| Pop Tate      |                2 |                 3 |              142 |                 4 |       0.36 |\n",
      "| Reggie        |                1 |                 3 |              141 |                 6 |       0.18 |\n",
      "| Jughead       |                2 |                 6 |              141 |                 2 |       0.33 |\n",
      "| Grundy        |                2 |                 1 |              144 |                 4 |       0.44 |\n",
      "| Ethel         |                3 |                 8 |              137 |                 3 |       0.35 |\n",
      "| Weatherbee    |                1 |                 7 |              139 |                 4 |       0.15 |\n",
      "| Harry Clayton |                2 |                 0 |              146 |                 3 |       0.57 |\n",
      "| Smithers      |                2 |                 3 |              138 |                 8 |       0.27 |\n",
      "| Svenson       |                2 |                 8 |              137 |                 4 |       0.25 |\n",
      "| Moose         |                4 |                 5 |              139 |                 3 |       0.5  |\n",
      "| Chuck         |                1 |                 3 |              138 |                 9 |       0.14 |\n",
      "| Nancy         |                1 |                 0 |              145 |                 5 |       0.29 |\n",
      "| Veronica      |                4 |                 5 |              141 |                 1 |       0.57 |\n",
      "| Flutesnoot    |                0 |                 1 |              144 |                 6 |       0    |\n",
      "| Fred Andrews  |                1 |                 9 |              136 |                 5 |       0.12 |\n",
      "| Archie        |                0 |                 9 |              136 |                 6 |       0    |\n",
      "| Betty         |                1 |                 1 |              146 |                 3 |       0.33 |\n",
      "| Beazley       |                7 |                 6 |              135 |                 3 |       0.61 |\n",
      "| Hiram Lodge   |                2 |                 3 |              140 |                 6 |       0.31 |\n",
      "| Others        |                3 |                 4 |              140 |                 4 |       0.43 |\n",
      "| Total         |               50 |               101 |             3221 |               101 |     nan    |\n"
     ]
    }
   ],
   "source": [
    "print(df_from_arr_2.to_markdown()) "
   ]
  },
  {
   "cell_type": "code",
   "execution_count": null,
   "id": "b1e267a7",
   "metadata": {
    "papermill": {
     "duration": 0.14223,
     "end_time": "2022-06-30T20:57:00.805824",
     "exception": false,
     "start_time": "2022-06-30T20:57:00.663594",
     "status": "completed"
    },
    "tags": []
   },
   "outputs": [],
   "source": []
  }
 ],
 "metadata": {
  "kernelspec": {
   "display_name": "Python 3",
   "language": "python",
   "name": "python3"
  },
  "language_info": {
   "codemirror_mode": {
    "name": "ipython",
    "version": 3
   },
   "file_extension": ".py",
   "mimetype": "text/x-python",
   "name": "python",
   "nbconvert_exporter": "python",
   "pygments_lexer": "ipython3",
   "version": "3.7.12"
  },
  "papermill": {
   "default_parameters": {},
   "duration": 262.617143,
   "end_time": "2022-06-30T20:57:03.753429",
   "environment_variables": {},
   "exception": null,
   "input_path": "__notebook__.ipynb",
   "output_path": "__notebook__.ipynb",
   "parameters": {},
   "start_time": "2022-06-30T20:52:41.136286",
   "version": "2.3.4"
  }
 },
 "nbformat": 4,
 "nbformat_minor": 5
}
