{
 "cells": [
  {
   "cell_type": "code",
   "execution_count": 1,
   "id": "a580624d",
   "metadata": {
    "execution": {
     "iopub.execute_input": "2022-06-26T23:29:56.394276Z",
     "iopub.status.busy": "2022-06-26T23:29:56.393760Z",
     "iopub.status.idle": "2022-06-26T23:30:01.251423Z",
     "shell.execute_reply": "2022-06-26T23:30:01.250458Z"
    },
    "papermill": {
     "duration": 4.872403,
     "end_time": "2022-06-26T23:30:01.254094",
     "exception": false,
     "start_time": "2022-06-26T23:29:56.381691",
     "status": "completed"
    },
    "tags": []
   },
   "outputs": [],
   "source": [
    "import tensorflow as tf\n",
    "from tensorflow import keras\n",
    "import numpy as np\n",
    "import matplotlib.pyplot as plt\n",
    "import matplotlib.image as mpimg\n",
    "import os\n",
    "import pandas as pd\n",
    "import seaborn as sns\n",
    "import random\n",
    "from PIL import Image\n",
    "import cv2\n",
    "from matplotlib import rcParams\n",
    "import re"
   ]
  },
  {
   "cell_type": "code",
   "execution_count": 2,
   "id": "e6a4d798",
   "metadata": {
    "execution": {
     "iopub.execute_input": "2022-06-26T23:30:01.272557Z",
     "iopub.status.busy": "2022-06-26T23:30:01.271628Z",
     "iopub.status.idle": "2022-06-26T23:30:02.383219Z",
     "shell.execute_reply": "2022-06-26T23:30:02.381922Z"
    },
    "papermill": {
     "duration": 1.123635,
     "end_time": "2022-06-26T23:30:02.386145",
     "exception": false,
     "start_time": "2022-06-26T23:30:01.262510",
     "status": "completed"
    },
    "tags": []
   },
   "outputs": [],
   "source": [
    "from keras_preprocessing.image import ImageDataGenerator\n",
    "from sklearn.metrics import confusion_matrix,ConfusionMatrixDisplay\n",
    "from tensorflow.keras.layers import Input\n",
    "from tensorflow.keras.layers import AveragePooling2D\n",
    "from tensorflow.keras.layers import Dropout\n",
    "from tensorflow.keras.layers import Flatten\n",
    "from tensorflow.keras.layers import Dense\n",
    "from tensorflow.keras.layers import Input\n",
    "from tensorflow.keras.models import Model"
   ]
  },
  {
   "cell_type": "code",
   "execution_count": 3,
   "id": "20e76b11",
   "metadata": {
    "execution": {
     "iopub.execute_input": "2022-06-26T23:30:02.403574Z",
     "iopub.status.busy": "2022-06-26T23:30:02.403268Z",
     "iopub.status.idle": "2022-06-26T23:30:02.407539Z",
     "shell.execute_reply": "2022-06-26T23:30:02.406574Z"
    },
    "papermill": {
     "duration": 0.015037,
     "end_time": "2022-06-26T23:30:02.409528",
     "exception": false,
     "start_time": "2022-06-26T23:30:02.394491",
     "status": "completed"
    },
    "tags": []
   },
   "outputs": [],
   "source": [
    "main_folder = '../input/archie-comics-multi-class/Multi-class'"
   ]
  },
  {
   "cell_type": "code",
   "execution_count": 4,
   "id": "b88513fd",
   "metadata": {
    "execution": {
     "iopub.execute_input": "2022-06-26T23:30:02.426398Z",
     "iopub.status.busy": "2022-06-26T23:30:02.426125Z",
     "iopub.status.idle": "2022-06-26T23:30:02.430172Z",
     "shell.execute_reply": "2022-06-26T23:30:02.429258Z"
    },
    "papermill": {
     "duration": 0.01483,
     "end_time": "2022-06-26T23:30:02.432186",
     "exception": false,
     "start_time": "2022-06-26T23:30:02.417356",
     "status": "completed"
    },
    "tags": []
   },
   "outputs": [],
   "source": [
    "samples_per_class = []\n",
    "classes = []\n",
    "file_names = []"
   ]
  },
  {
   "cell_type": "code",
   "execution_count": 5,
   "id": "25e8712e",
   "metadata": {
    "_kg_hide-output": true,
    "execution": {
     "iopub.execute_input": "2022-06-26T23:30:02.448892Z",
     "iopub.status.busy": "2022-06-26T23:30:02.448652Z",
     "iopub.status.idle": "2022-06-26T23:30:04.693487Z",
     "shell.execute_reply": "2022-06-26T23:30:04.692490Z"
    },
    "papermill": {
     "duration": 2.255778,
     "end_time": "2022-06-26T23:30:04.695940",
     "exception": false,
     "start_time": "2022-06-26T23:30:02.440162",
     "status": "completed"
    },
    "tags": []
   },
   "outputs": [],
   "source": [
    "directory=os.listdir('../input/archie-comics-multi-class/Multi-class/')\n",
    "for each in directory:\n",
    "    currentFolder = '../input/archie-comics-multi-class/Multi-class/' + each\n",
    "    count = sum(len(files) for _, _, files in os.walk(currentFolder))\n",
    "    samples_per_class.append(count)\n",
    "    classes.append(each)\n",
    "    \n",
    "    for i, file in enumerate(os.listdir(currentFolder)):\n",
    "        fullpath = currentFolder+ \"/\" + file\n",
    "        file_names.append(fullpath)"
   ]
  },
  {
   "cell_type": "code",
   "execution_count": 6,
   "id": "a94d4ba3",
   "metadata": {
    "execution": {
     "iopub.execute_input": "2022-06-26T23:30:04.714554Z",
     "iopub.status.busy": "2022-06-26T23:30:04.713766Z",
     "iopub.status.idle": "2022-06-26T23:30:04.721956Z",
     "shell.execute_reply": "2022-06-26T23:30:04.721076Z"
    },
    "papermill": {
     "duration": 0.019765,
     "end_time": "2022-06-26T23:30:04.723836",
     "exception": false,
     "start_time": "2022-06-26T23:30:04.704071",
     "status": "completed"
    },
    "tags": []
   },
   "outputs": [
    {
     "data": {
      "text/plain": [
       "33"
      ]
     },
     "execution_count": 6,
     "metadata": {},
     "output_type": "execute_result"
    }
   ],
   "source": [
    "min(samples_per_class)"
   ]
  },
  {
   "cell_type": "code",
   "execution_count": 7,
   "id": "dcdbd1bd",
   "metadata": {
    "execution": {
     "iopub.execute_input": "2022-06-26T23:30:04.741496Z",
     "iopub.status.busy": "2022-06-26T23:30:04.740762Z",
     "iopub.status.idle": "2022-06-26T23:30:04.744864Z",
     "shell.execute_reply": "2022-06-26T23:30:04.744008Z"
    },
    "papermill": {
     "duration": 0.014723,
     "end_time": "2022-06-26T23:30:04.746762",
     "exception": false,
     "start_time": "2022-06-26T23:30:04.732039",
     "status": "completed"
    },
    "tags": []
   },
   "outputs": [],
   "source": [
    "small_ds = []"
   ]
  },
  {
   "cell_type": "code",
   "execution_count": 8,
   "id": "50ba69f8",
   "metadata": {
    "execution": {
     "iopub.execute_input": "2022-06-26T23:30:04.764414Z",
     "iopub.status.busy": "2022-06-26T23:30:04.763690Z",
     "iopub.status.idle": "2022-06-26T23:30:04.913297Z",
     "shell.execute_reply": "2022-06-26T23:30:04.911753Z"
    },
    "papermill": {
     "duration": 0.160674,
     "end_time": "2022-06-26T23:30:04.915587",
     "exception": false,
     "start_time": "2022-06-26T23:30:04.754913",
     "status": "completed"
    },
    "tags": []
   },
   "outputs": [],
   "source": [
    "for each_class in classes:\n",
    "    trial_list = []\n",
    "    for name in file_names:\n",
    "        if re.search(f'{each_class}', name):\n",
    "            trial_list.append(name)\n",
    "    small_ds.append(random.sample(trial_list, min(samples_per_class)))"
   ]
  },
  {
   "cell_type": "code",
   "execution_count": 9,
   "id": "0b74b6bb",
   "metadata": {
    "execution": {
     "iopub.execute_input": "2022-06-26T23:30:04.933930Z",
     "iopub.status.busy": "2022-06-26T23:30:04.933346Z",
     "iopub.status.idle": "2022-06-26T23:30:04.939093Z",
     "shell.execute_reply": "2022-06-26T23:30:04.938188Z"
    },
    "papermill": {
     "duration": 0.017678,
     "end_time": "2022-06-26T23:30:04.941604",
     "exception": false,
     "start_time": "2022-06-26T23:30:04.923926",
     "status": "completed"
    },
    "tags": []
   },
   "outputs": [
    {
     "name": "stdout",
     "output_type": "stream",
     "text": [
      "23\n",
      "33\n",
      "759\n"
     ]
    }
   ],
   "source": [
    "print(len(small_ds))\n",
    "print(len(small_ds[0]))\n",
    "print(len(small_ds)*len(small_ds[0]))"
   ]
  },
  {
   "cell_type": "code",
   "execution_count": 10,
   "id": "a1ec51eb",
   "metadata": {
    "execution": {
     "iopub.execute_input": "2022-06-26T23:30:04.960206Z",
     "iopub.status.busy": "2022-06-26T23:30:04.959930Z",
     "iopub.status.idle": "2022-06-26T23:30:04.965462Z",
     "shell.execute_reply": "2022-06-26T23:30:04.964446Z"
    },
    "papermill": {
     "duration": 0.017097,
     "end_time": "2022-06-26T23:30:04.967440",
     "exception": false,
     "start_time": "2022-06-26T23:30:04.950343",
     "status": "completed"
    },
    "tags": []
   },
   "outputs": [],
   "source": [
    "small_ds=list(np.concatenate(small_ds).flat)\n",
    "# For flattening small_ds into a 1-D list"
   ]
  },
  {
   "cell_type": "code",
   "execution_count": 11,
   "id": "796662f2",
   "metadata": {
    "execution": {
     "iopub.execute_input": "2022-06-26T23:30:04.985206Z",
     "iopub.status.busy": "2022-06-26T23:30:04.984935Z",
     "iopub.status.idle": "2022-06-26T23:30:04.989773Z",
     "shell.execute_reply": "2022-06-26T23:30:04.988736Z"
    },
    "papermill": {
     "duration": 0.015706,
     "end_time": "2022-06-26T23:30:04.992011",
     "exception": false,
     "start_time": "2022-06-26T23:30:04.976305",
     "status": "completed"
    },
    "tags": []
   },
   "outputs": [
    {
     "name": "stdout",
     "output_type": "stream",
     "text": [
      "759\n"
     ]
    }
   ],
   "source": [
    "print(len(small_ds))"
   ]
  },
  {
   "cell_type": "code",
   "execution_count": 12,
   "id": "c271e4ee",
   "metadata": {
    "execution": {
     "iopub.execute_input": "2022-06-26T23:30:05.008842Z",
     "iopub.status.busy": "2022-06-26T23:30:05.008593Z",
     "iopub.status.idle": "2022-06-26T23:30:05.014717Z",
     "shell.execute_reply": "2022-06-26T23:30:05.013790Z"
    },
    "papermill": {
     "duration": 0.016731,
     "end_time": "2022-06-26T23:30:05.016584",
     "exception": false,
     "start_time": "2022-06-26T23:30:04.999853",
     "status": "completed"
    },
    "tags": []
   },
   "outputs": [
    {
     "data": {
      "text/plain": [
       "['Kleats',\n",
       " 'Midge',\n",
       " 'Dilton',\n",
       " 'Pop Tate',\n",
       " 'Reggie',\n",
       " 'Jughead',\n",
       " 'Grundy',\n",
       " 'Ethel',\n",
       " 'Weatherbee',\n",
       " 'Harry Clayton',\n",
       " 'Smithers',\n",
       " 'Svenson',\n",
       " 'Moose',\n",
       " 'Chuck',\n",
       " 'Nancy',\n",
       " 'Veronica',\n",
       " 'Flutesnoot',\n",
       " 'Fred Andrews',\n",
       " 'Archie',\n",
       " 'Betty',\n",
       " 'Beazley',\n",
       " 'Hiram Lodge',\n",
       " 'Others']"
      ]
     },
     "execution_count": 12,
     "metadata": {},
     "output_type": "execute_result"
    }
   ],
   "source": [
    "classes"
   ]
  },
  {
   "cell_type": "code",
   "execution_count": 13,
   "id": "562817b9",
   "metadata": {
    "execution": {
     "iopub.execute_input": "2022-06-26T23:30:05.034331Z",
     "iopub.status.busy": "2022-06-26T23:30:05.033614Z",
     "iopub.status.idle": "2022-06-26T23:30:05.039900Z",
     "shell.execute_reply": "2022-06-26T23:30:05.039028Z"
    },
    "papermill": {
     "duration": 0.01721,
     "end_time": "2022-06-26T23:30:05.041757",
     "exception": false,
     "start_time": "2022-06-26T23:30:05.024547",
     "status": "completed"
    },
    "tags": []
   },
   "outputs": [
    {
     "data": {
      "text/plain": [
       "['../input/archie-comics-multi-class/Multi-class/Hiram Lodge/Hiram Lodge_075.png',\n",
       " '../input/archie-comics-multi-class/Multi-class/Hiram Lodge/Hiram Lodge_068.png',\n",
       " '../input/archie-comics-multi-class/Multi-class/Hiram Lodge/Hiram Lodge_059.png',\n",
       " '../input/archie-comics-multi-class/Multi-class/Hiram Lodge/Hiram Lodge_085.png',\n",
       " '../input/archie-comics-multi-class/Multi-class/Hiram Lodge/Hiram Lodge_105.png',\n",
       " '../input/archie-comics-multi-class/Multi-class/Hiram Lodge/Hiram Lodge_140.png',\n",
       " '../input/archie-comics-multi-class/Multi-class/Others/Others_089.png',\n",
       " '../input/archie-comics-multi-class/Multi-class/Others/Others_179.png',\n",
       " '../input/archie-comics-multi-class/Multi-class/Others/Others_588.png',\n",
       " '../input/archie-comics-multi-class/Multi-class/Others/Others_369.png']"
      ]
     },
     "execution_count": 13,
     "metadata": {},
     "output_type": "execute_result"
    }
   ],
   "source": [
    "small_ds[720:730]"
   ]
  },
  {
   "cell_type": "code",
   "execution_count": 14,
   "id": "df6f228c",
   "metadata": {
    "execution": {
     "iopub.execute_input": "2022-06-26T23:30:05.060153Z",
     "iopub.status.busy": "2022-06-26T23:30:05.059437Z",
     "iopub.status.idle": "2022-06-26T23:30:05.069864Z",
     "shell.execute_reply": "2022-06-26T23:30:05.068902Z"
    },
    "papermill": {
     "duration": 0.021268,
     "end_time": "2022-06-26T23:30:05.071822",
     "exception": false,
     "start_time": "2022-06-26T23:30:05.050554",
     "status": "completed"
    },
    "tags": []
   },
   "outputs": [],
   "source": [
    "files_df = pd.DataFrame(index=range(0, len(small_ds)),columns = ['Class'])"
   ]
  },
  {
   "cell_type": "code",
   "execution_count": 15,
   "id": "44a50a76",
   "metadata": {
    "execution": {
     "iopub.execute_input": "2022-06-26T23:30:05.090436Z",
     "iopub.status.busy": "2022-06-26T23:30:05.088862Z",
     "iopub.status.idle": "2022-06-26T23:30:05.095473Z",
     "shell.execute_reply": "2022-06-26T23:30:05.094635Z"
    },
    "papermill": {
     "duration": 0.017713,
     "end_time": "2022-06-26T23:30:05.097602",
     "exception": false,
     "start_time": "2022-06-26T23:30:05.079889",
     "status": "completed"
    },
    "tags": []
   },
   "outputs": [],
   "source": [
    "start = 0\n",
    "end = min(samples_per_class)\n",
    "for each_class in classes:\n",
    "    files_df.iloc[start:end] = each_class\n",
    "    start = end\n",
    "    end = end + min(samples_per_class)"
   ]
  },
  {
   "cell_type": "code",
   "execution_count": 16,
   "id": "bd8d4d3f",
   "metadata": {
    "execution": {
     "iopub.execute_input": "2022-06-26T23:30:05.116107Z",
     "iopub.status.busy": "2022-06-26T23:30:05.115391Z",
     "iopub.status.idle": "2022-06-26T23:30:05.127777Z",
     "shell.execute_reply": "2022-06-26T23:30:05.126860Z"
    },
    "papermill": {
     "duration": 0.023859,
     "end_time": "2022-06-26T23:30:05.129921",
     "exception": false,
     "start_time": "2022-06-26T23:30:05.106062",
     "status": "completed"
    },
    "tags": []
   },
   "outputs": [
    {
     "data": {
      "text/html": [
       "<div>\n",
       "<style scoped>\n",
       "    .dataframe tbody tr th:only-of-type {\n",
       "        vertical-align: middle;\n",
       "    }\n",
       "\n",
       "    .dataframe tbody tr th {\n",
       "        vertical-align: top;\n",
       "    }\n",
       "\n",
       "    .dataframe thead th {\n",
       "        text-align: right;\n",
       "    }\n",
       "</style>\n",
       "<table border=\"1\" class=\"dataframe\">\n",
       "  <thead>\n",
       "    <tr style=\"text-align: right;\">\n",
       "      <th></th>\n",
       "      <th>Class</th>\n",
       "    </tr>\n",
       "  </thead>\n",
       "  <tbody>\n",
       "    <tr>\n",
       "      <th>30</th>\n",
       "      <td>Kleats</td>\n",
       "    </tr>\n",
       "    <tr>\n",
       "      <th>31</th>\n",
       "      <td>Kleats</td>\n",
       "    </tr>\n",
       "    <tr>\n",
       "      <th>32</th>\n",
       "      <td>Kleats</td>\n",
       "    </tr>\n",
       "    <tr>\n",
       "      <th>33</th>\n",
       "      <td>Midge</td>\n",
       "    </tr>\n",
       "    <tr>\n",
       "      <th>34</th>\n",
       "      <td>Midge</td>\n",
       "    </tr>\n",
       "    <tr>\n",
       "      <th>35</th>\n",
       "      <td>Midge</td>\n",
       "    </tr>\n",
       "  </tbody>\n",
       "</table>\n",
       "</div>"
      ],
      "text/plain": [
       "     Class\n",
       "30  Kleats\n",
       "31  Kleats\n",
       "32  Kleats\n",
       "33   Midge\n",
       "34   Midge\n",
       "35   Midge"
      ]
     },
     "execution_count": 16,
     "metadata": {},
     "output_type": "execute_result"
    }
   ],
   "source": [
    "files_df.loc[30:35]"
   ]
  },
  {
   "cell_type": "code",
   "execution_count": 17,
   "id": "89154b21",
   "metadata": {
    "execution": {
     "iopub.execute_input": "2022-06-26T23:30:05.148555Z",
     "iopub.status.busy": "2022-06-26T23:30:05.148033Z",
     "iopub.status.idle": "2022-06-26T23:30:05.156878Z",
     "shell.execute_reply": "2022-06-26T23:30:05.155947Z"
    },
    "papermill": {
     "duration": 0.019767,
     "end_time": "2022-06-26T23:30:05.158786",
     "exception": false,
     "start_time": "2022-06-26T23:30:05.139019",
     "status": "completed"
    },
    "tags": []
   },
   "outputs": [
    {
     "data": {
      "text/html": [
       "<div>\n",
       "<style scoped>\n",
       "    .dataframe tbody tr th:only-of-type {\n",
       "        vertical-align: middle;\n",
       "    }\n",
       "\n",
       "    .dataframe tbody tr th {\n",
       "        vertical-align: top;\n",
       "    }\n",
       "\n",
       "    .dataframe thead th {\n",
       "        text-align: right;\n",
       "    }\n",
       "</style>\n",
       "<table border=\"1\" class=\"dataframe\">\n",
       "  <thead>\n",
       "    <tr style=\"text-align: right;\">\n",
       "      <th></th>\n",
       "      <th>Class</th>\n",
       "    </tr>\n",
       "  </thead>\n",
       "  <tbody>\n",
       "    <tr>\n",
       "      <th>65</th>\n",
       "      <td>Midge</td>\n",
       "    </tr>\n",
       "    <tr>\n",
       "      <th>66</th>\n",
       "      <td>Dilton</td>\n",
       "    </tr>\n",
       "    <tr>\n",
       "      <th>67</th>\n",
       "      <td>Dilton</td>\n",
       "    </tr>\n",
       "    <tr>\n",
       "      <th>68</th>\n",
       "      <td>Dilton</td>\n",
       "    </tr>\n",
       "    <tr>\n",
       "      <th>69</th>\n",
       "      <td>Dilton</td>\n",
       "    </tr>\n",
       "    <tr>\n",
       "      <th>70</th>\n",
       "      <td>Dilton</td>\n",
       "    </tr>\n",
       "  </tbody>\n",
       "</table>\n",
       "</div>"
      ],
      "text/plain": [
       "     Class\n",
       "65   Midge\n",
       "66  Dilton\n",
       "67  Dilton\n",
       "68  Dilton\n",
       "69  Dilton\n",
       "70  Dilton"
      ]
     },
     "execution_count": 17,
     "metadata": {},
     "output_type": "execute_result"
    }
   ],
   "source": [
    "files_df.loc[65:70]"
   ]
  },
  {
   "cell_type": "code",
   "execution_count": 18,
   "id": "4c00df3a",
   "metadata": {
    "execution": {
     "iopub.execute_input": "2022-06-26T23:30:05.178042Z",
     "iopub.status.busy": "2022-06-26T23:30:05.177248Z",
     "iopub.status.idle": "2022-06-26T23:30:05.184037Z",
     "shell.execute_reply": "2022-06-26T23:30:05.183228Z"
    },
    "papermill": {
     "duration": 0.018404,
     "end_time": "2022-06-26T23:30:05.185940",
     "exception": false,
     "start_time": "2022-06-26T23:30:05.167536",
     "status": "completed"
    },
    "tags": []
   },
   "outputs": [],
   "source": [
    "files_df['Class']=files_df['Class'].astype('str')"
   ]
  },
  {
   "cell_type": "code",
   "execution_count": 19,
   "id": "bf8680a0",
   "metadata": {
    "execution": {
     "iopub.execute_input": "2022-06-26T23:30:05.204463Z",
     "iopub.status.busy": "2022-06-26T23:30:05.204219Z",
     "iopub.status.idle": "2022-06-26T23:30:05.208993Z",
     "shell.execute_reply": "2022-06-26T23:30:05.208006Z"
    },
    "papermill": {
     "duration": 0.016222,
     "end_time": "2022-06-26T23:30:05.211080",
     "exception": false,
     "start_time": "2022-06-26T23:30:05.194858",
     "status": "completed"
    },
    "tags": []
   },
   "outputs": [],
   "source": [
    "files_df['Files'] = small_ds"
   ]
  },
  {
   "cell_type": "code",
   "execution_count": 20,
   "id": "702aca57",
   "metadata": {
    "execution": {
     "iopub.execute_input": "2022-06-26T23:30:05.229379Z",
     "iopub.status.busy": "2022-06-26T23:30:05.228610Z",
     "iopub.status.idle": "2022-06-26T23:30:05.237211Z",
     "shell.execute_reply": "2022-06-26T23:30:05.236255Z"
    },
    "papermill": {
     "duration": 0.019593,
     "end_time": "2022-06-26T23:30:05.239094",
     "exception": false,
     "start_time": "2022-06-26T23:30:05.219501",
     "status": "completed"
    },
    "tags": []
   },
   "outputs": [
    {
     "data": {
      "text/html": [
       "<div>\n",
       "<style scoped>\n",
       "    .dataframe tbody tr th:only-of-type {\n",
       "        vertical-align: middle;\n",
       "    }\n",
       "\n",
       "    .dataframe tbody tr th {\n",
       "        vertical-align: top;\n",
       "    }\n",
       "\n",
       "    .dataframe thead th {\n",
       "        text-align: right;\n",
       "    }\n",
       "</style>\n",
       "<table border=\"1\" class=\"dataframe\">\n",
       "  <thead>\n",
       "    <tr style=\"text-align: right;\">\n",
       "      <th></th>\n",
       "      <th>Class</th>\n",
       "      <th>Files</th>\n",
       "    </tr>\n",
       "  </thead>\n",
       "  <tbody>\n",
       "    <tr>\n",
       "      <th>754</th>\n",
       "      <td>Others</td>\n",
       "      <td>../input/archie-comics-multi-class/Multi-class...</td>\n",
       "    </tr>\n",
       "    <tr>\n",
       "      <th>755</th>\n",
       "      <td>Others</td>\n",
       "      <td>../input/archie-comics-multi-class/Multi-class...</td>\n",
       "    </tr>\n",
       "    <tr>\n",
       "      <th>756</th>\n",
       "      <td>Others</td>\n",
       "      <td>../input/archie-comics-multi-class/Multi-class...</td>\n",
       "    </tr>\n",
       "    <tr>\n",
       "      <th>757</th>\n",
       "      <td>Others</td>\n",
       "      <td>../input/archie-comics-multi-class/Multi-class...</td>\n",
       "    </tr>\n",
       "    <tr>\n",
       "      <th>758</th>\n",
       "      <td>Others</td>\n",
       "      <td>../input/archie-comics-multi-class/Multi-class...</td>\n",
       "    </tr>\n",
       "  </tbody>\n",
       "</table>\n",
       "</div>"
      ],
      "text/plain": [
       "      Class                                              Files\n",
       "754  Others  ../input/archie-comics-multi-class/Multi-class...\n",
       "755  Others  ../input/archie-comics-multi-class/Multi-class...\n",
       "756  Others  ../input/archie-comics-multi-class/Multi-class...\n",
       "757  Others  ../input/archie-comics-multi-class/Multi-class...\n",
       "758  Others  ../input/archie-comics-multi-class/Multi-class..."
      ]
     },
     "execution_count": 20,
     "metadata": {},
     "output_type": "execute_result"
    }
   ],
   "source": [
    "files_df.tail()"
   ]
  },
  {
   "cell_type": "code",
   "execution_count": 21,
   "id": "66ca11cd",
   "metadata": {
    "execution": {
     "iopub.execute_input": "2022-06-26T23:30:05.258441Z",
     "iopub.status.busy": "2022-06-26T23:30:05.257751Z",
     "iopub.status.idle": "2022-06-26T23:30:05.265675Z",
     "shell.execute_reply": "2022-06-26T23:30:05.264894Z"
    },
    "papermill": {
     "duration": 0.019351,
     "end_time": "2022-06-26T23:30:05.267598",
     "exception": false,
     "start_time": "2022-06-26T23:30:05.248247",
     "status": "completed"
    },
    "tags": []
   },
   "outputs": [],
   "source": [
    "files_df = files_df.sample(frac=1, random_state=1).reset_index()\n",
    "# For randomly shuffling the rows of the dataframe,\n",
    "# else the training set gets the the top classes, the validation the bottom classes of the df\n",
    "# random_state is for reproducability, i.e., same distribution each time the code is run"
   ]
  },
  {
   "cell_type": "code",
   "execution_count": 22,
   "id": "b366ea6a",
   "metadata": {
    "execution": {
     "iopub.execute_input": "2022-06-26T23:30:05.287256Z",
     "iopub.status.busy": "2022-06-26T23:30:05.286556Z",
     "iopub.status.idle": "2022-06-26T23:30:05.295974Z",
     "shell.execute_reply": "2022-06-26T23:30:05.295058Z"
    },
    "papermill": {
     "duration": 0.021098,
     "end_time": "2022-06-26T23:30:05.297852",
     "exception": false,
     "start_time": "2022-06-26T23:30:05.276754",
     "status": "completed"
    },
    "tags": []
   },
   "outputs": [
    {
     "data": {
      "text/html": [
       "<div>\n",
       "<style scoped>\n",
       "    .dataframe tbody tr th:only-of-type {\n",
       "        vertical-align: middle;\n",
       "    }\n",
       "\n",
       "    .dataframe tbody tr th {\n",
       "        vertical-align: top;\n",
       "    }\n",
       "\n",
       "    .dataframe thead th {\n",
       "        text-align: right;\n",
       "    }\n",
       "</style>\n",
       "<table border=\"1\" class=\"dataframe\">\n",
       "  <thead>\n",
       "    <tr style=\"text-align: right;\">\n",
       "      <th></th>\n",
       "      <th>index</th>\n",
       "      <th>Class</th>\n",
       "      <th>Files</th>\n",
       "    </tr>\n",
       "  </thead>\n",
       "  <tbody>\n",
       "    <tr>\n",
       "      <th>749</th>\n",
       "      <td>508</td>\n",
       "      <td>Veronica</td>\n",
       "      <td>../input/archie-comics-multi-class/Multi-class...</td>\n",
       "    </tr>\n",
       "    <tr>\n",
       "      <th>750</th>\n",
       "      <td>749</td>\n",
       "      <td>Others</td>\n",
       "      <td>../input/archie-comics-multi-class/Multi-class...</td>\n",
       "    </tr>\n",
       "    <tr>\n",
       "      <th>751</th>\n",
       "      <td>583</td>\n",
       "      <td>Fred Andrews</td>\n",
       "      <td>../input/archie-comics-multi-class/Multi-class...</td>\n",
       "    </tr>\n",
       "    <tr>\n",
       "      <th>752</th>\n",
       "      <td>129</td>\n",
       "      <td>Pop Tate</td>\n",
       "      <td>../input/archie-comics-multi-class/Multi-class...</td>\n",
       "    </tr>\n",
       "    <tr>\n",
       "      <th>753</th>\n",
       "      <td>144</td>\n",
       "      <td>Reggie</td>\n",
       "      <td>../input/archie-comics-multi-class/Multi-class...</td>\n",
       "    </tr>\n",
       "    <tr>\n",
       "      <th>754</th>\n",
       "      <td>645</td>\n",
       "      <td>Betty</td>\n",
       "      <td>../input/archie-comics-multi-class/Multi-class...</td>\n",
       "    </tr>\n",
       "    <tr>\n",
       "      <th>755</th>\n",
       "      <td>715</td>\n",
       "      <td>Hiram Lodge</td>\n",
       "      <td>../input/archie-comics-multi-class/Multi-class...</td>\n",
       "    </tr>\n",
       "    <tr>\n",
       "      <th>756</th>\n",
       "      <td>72</td>\n",
       "      <td>Dilton</td>\n",
       "      <td>../input/archie-comics-multi-class/Multi-class...</td>\n",
       "    </tr>\n",
       "    <tr>\n",
       "      <th>757</th>\n",
       "      <td>235</td>\n",
       "      <td>Ethel</td>\n",
       "      <td>../input/archie-comics-multi-class/Multi-class...</td>\n",
       "    </tr>\n",
       "    <tr>\n",
       "      <th>758</th>\n",
       "      <td>37</td>\n",
       "      <td>Midge</td>\n",
       "      <td>../input/archie-comics-multi-class/Multi-class...</td>\n",
       "    </tr>\n",
       "  </tbody>\n",
       "</table>\n",
       "</div>"
      ],
      "text/plain": [
       "     index         Class                                              Files\n",
       "749    508      Veronica  ../input/archie-comics-multi-class/Multi-class...\n",
       "750    749        Others  ../input/archie-comics-multi-class/Multi-class...\n",
       "751    583  Fred Andrews  ../input/archie-comics-multi-class/Multi-class...\n",
       "752    129      Pop Tate  ../input/archie-comics-multi-class/Multi-class...\n",
       "753    144        Reggie  ../input/archie-comics-multi-class/Multi-class...\n",
       "754    645         Betty  ../input/archie-comics-multi-class/Multi-class...\n",
       "755    715   Hiram Lodge  ../input/archie-comics-multi-class/Multi-class...\n",
       "756     72        Dilton  ../input/archie-comics-multi-class/Multi-class...\n",
       "757    235         Ethel  ../input/archie-comics-multi-class/Multi-class...\n",
       "758     37         Midge  ../input/archie-comics-multi-class/Multi-class..."
      ]
     },
     "execution_count": 22,
     "metadata": {},
     "output_type": "execute_result"
    }
   ],
   "source": [
    "files_df.tail(10)"
   ]
  },
  {
   "cell_type": "code",
   "execution_count": 23,
   "id": "ab9a4d0a",
   "metadata": {
    "execution": {
     "iopub.execute_input": "2022-06-26T23:30:05.317400Z",
     "iopub.status.busy": "2022-06-26T23:30:05.316697Z",
     "iopub.status.idle": "2022-06-26T23:30:05.321401Z",
     "shell.execute_reply": "2022-06-26T23:30:05.320486Z"
    },
    "papermill": {
     "duration": 0.016581,
     "end_time": "2022-06-26T23:30:05.323293",
     "exception": false,
     "start_time": "2022-06-26T23:30:05.306712",
     "status": "completed"
    },
    "tags": []
   },
   "outputs": [],
   "source": [
    "datagen=ImageDataGenerator(validation_split=0.2)"
   ]
  },
  {
   "cell_type": "code",
   "execution_count": 24,
   "id": "07561c80",
   "metadata": {
    "execution": {
     "iopub.execute_input": "2022-06-26T23:30:05.342714Z",
     "iopub.status.busy": "2022-06-26T23:30:05.342016Z",
     "iopub.status.idle": "2022-06-26T23:30:05.346270Z",
     "shell.execute_reply": "2022-06-26T23:30:05.345460Z"
    },
    "papermill": {
     "duration": 0.015749,
     "end_time": "2022-06-26T23:30:05.348237",
     "exception": false,
     "start_time": "2022-06-26T23:30:05.332488",
     "status": "completed"
    },
    "tags": []
   },
   "outputs": [],
   "source": [
    "batch_size = 8"
   ]
  },
  {
   "cell_type": "code",
   "execution_count": 25,
   "id": "626d2ecc",
   "metadata": {
    "execution": {
     "iopub.execute_input": "2022-06-26T23:30:05.367516Z",
     "iopub.status.busy": "2022-06-26T23:30:05.367232Z",
     "iopub.status.idle": "2022-06-26T23:30:05.399124Z",
     "shell.execute_reply": "2022-06-26T23:30:05.397853Z"
    },
    "papermill": {
     "duration": 0.044263,
     "end_time": "2022-06-26T23:30:05.401748",
     "exception": false,
     "start_time": "2022-06-26T23:30:05.357485",
     "status": "completed"
    },
    "tags": []
   },
   "outputs": [
    {
     "name": "stdout",
     "output_type": "stream",
     "text": [
      "Found 608 validated image filenames belonging to 23 classes.\n",
      "Found 151 validated image filenames belonging to 23 classes.\n"
     ]
    }
   ],
   "source": [
    "train_generator=datagen.flow_from_dataframe(\n",
    "dataframe=files_df,\n",
    "directory=None,\n",
    "x_col='Files',\n",
    "y_col='Class',\n",
    "subset=\"training\",\n",
    "batch_size=batch_size,\n",
    "seed=42,\n",
    "shuffle=True,\n",
    "class_mode=\"categorical\",\n",
    "# rotation_range=30,\n",
    "# width_shift_range=0.2,\n",
    "# height_shift_range=0.2,\n",
    "# brightness_range=(0.5,1.5),\n",
    "# shear_range=0.2,\n",
    "# zoom_range=0.2,\n",
    "# channel_shift_range=30.0,\n",
    "# fill_mode='nearest',\n",
    "# horizontal_flip=True,\n",
    "# vertical_flip=False,\n",
    "target_size=(256,256))\n",
    "\n",
    "valid_generator=datagen.flow_from_dataframe(\n",
    "dataframe=files_df,\n",
    "directory=None,\n",
    "x_col='Files',\n",
    "y_col='Class',\n",
    "subset=\"validation\",\n",
    "batch_size=batch_size,\n",
    "seed=42,\n",
    "shuffle=True,\n",
    "class_mode=\"categorical\",\n",
    "target_size=(256,256))"
   ]
  },
  {
   "cell_type": "code",
   "execution_count": 26,
   "id": "dfb2cbab",
   "metadata": {
    "execution": {
     "iopub.execute_input": "2022-06-26T23:30:05.422655Z",
     "iopub.status.busy": "2022-06-26T23:30:05.421897Z",
     "iopub.status.idle": "2022-06-26T23:30:05.428073Z",
     "shell.execute_reply": "2022-06-26T23:30:05.427230Z"
    },
    "papermill": {
     "duration": 0.018243,
     "end_time": "2022-06-26T23:30:05.430302",
     "exception": false,
     "start_time": "2022-06-26T23:30:05.412059",
     "status": "completed"
    },
    "tags": []
   },
   "outputs": [],
   "source": [
    "stopping = tf.keras.callbacks.EarlyStopping(\n",
    "        monitor=\"val_accuracy\",\n",
    "        min_delta=0,\n",
    "        patience=15,\n",
    "        verbose=0,\n",
    "        mode=\"auto\",\n",
    "        baseline=None,\n",
    "        restore_best_weights=False,\n",
    "    )\n",
    "\n",
    "checkpoint = tf.keras.callbacks.ModelCheckpoint(\n",
    "        \"best_model\",\n",
    "        monitor=\"val_accuracy\",\n",
    "        mode=\"max\",\n",
    "        save_best_only=True,\n",
    "        save_weights_only=True,\n",
    "    )"
   ]
  },
  {
   "cell_type": "code",
   "execution_count": 27,
   "id": "170c13a4",
   "metadata": {
    "execution": {
     "iopub.execute_input": "2022-06-26T23:30:05.450452Z",
     "iopub.status.busy": "2022-06-26T23:30:05.449634Z",
     "iopub.status.idle": "2022-06-26T23:33:45.527465Z",
     "shell.execute_reply": "2022-06-26T23:33:45.526058Z"
    },
    "papermill": {
     "duration": 220.090181,
     "end_time": "2022-06-26T23:33:45.529618",
     "exception": false,
     "start_time": "2022-06-26T23:30:05.439437",
     "status": "completed"
    },
    "tags": []
   },
   "outputs": [
    {
     "name": "stderr",
     "output_type": "stream",
     "text": [
      "2022-06-26 23:30:05.557255: I tensorflow/stream_executor/cuda/cuda_gpu_executor.cc:937] successful NUMA node read from SysFS had negative value (-1), but there must be at least one NUMA node, so returning NUMA node zero\n",
      "2022-06-26 23:30:05.642141: I tensorflow/stream_executor/cuda/cuda_gpu_executor.cc:937] successful NUMA node read from SysFS had negative value (-1), but there must be at least one NUMA node, so returning NUMA node zero\n",
      "2022-06-26 23:30:05.643013: I tensorflow/stream_executor/cuda/cuda_gpu_executor.cc:937] successful NUMA node read from SysFS had negative value (-1), but there must be at least one NUMA node, so returning NUMA node zero\n",
      "2022-06-26 23:30:05.644401: I tensorflow/core/platform/cpu_feature_guard.cc:142] This TensorFlow binary is optimized with oneAPI Deep Neural Network Library (oneDNN) to use the following CPU instructions in performance-critical operations:  AVX2 AVX512F FMA\n",
      "To enable them in other operations, rebuild TensorFlow with the appropriate compiler flags.\n",
      "2022-06-26 23:30:05.644751: I tensorflow/stream_executor/cuda/cuda_gpu_executor.cc:937] successful NUMA node read from SysFS had negative value (-1), but there must be at least one NUMA node, so returning NUMA node zero\n",
      "2022-06-26 23:30:05.645701: I tensorflow/stream_executor/cuda/cuda_gpu_executor.cc:937] successful NUMA node read from SysFS had negative value (-1), but there must be at least one NUMA node, so returning NUMA node zero\n",
      "2022-06-26 23:30:05.646930: I tensorflow/stream_executor/cuda/cuda_gpu_executor.cc:937] successful NUMA node read from SysFS had negative value (-1), but there must be at least one NUMA node, so returning NUMA node zero\n",
      "2022-06-26 23:30:07.665148: I tensorflow/stream_executor/cuda/cuda_gpu_executor.cc:937] successful NUMA node read from SysFS had negative value (-1), but there must be at least one NUMA node, so returning NUMA node zero\n",
      "2022-06-26 23:30:07.666348: I tensorflow/stream_executor/cuda/cuda_gpu_executor.cc:937] successful NUMA node read from SysFS had negative value (-1), but there must be at least one NUMA node, so returning NUMA node zero\n",
      "2022-06-26 23:30:07.667305: I tensorflow/stream_executor/cuda/cuda_gpu_executor.cc:937] successful NUMA node read from SysFS had negative value (-1), but there must be at least one NUMA node, so returning NUMA node zero\n",
      "2022-06-26 23:30:07.668149: I tensorflow/core/common_runtime/gpu/gpu_device.cc:1510] Created device /job:localhost/replica:0/task:0/device:GPU:0 with 15403 MB memory:  -> device: 0, name: Tesla P100-PCIE-16GB, pci bus id: 0000:00:04.0, compute capability: 6.0\n"
     ]
    },
    {
     "name": "stdout",
     "output_type": "stream",
     "text": [
      "Downloading data from https://storage.googleapis.com/tensorflow/keras-applications/resnet/resnet50_weights_tf_dim_ordering_tf_kernels_notop.h5\n",
      "94773248/94765736 [==============================] - 1s 0us/step\n",
      "94781440/94765736 [==============================] - 1s 0us/step\n"
     ]
    },
    {
     "name": "stderr",
     "output_type": "stream",
     "text": [
      "2022-06-26 23:30:11.937386: I tensorflow/compiler/mlir/mlir_graph_optimization_pass.cc:185] None of the MLIR Optimization Passes are enabled (registered 2)\n",
      "2022-06-26 23:30:14.115029: I tensorflow/stream_executor/cuda/cuda_dnn.cc:369] Loaded cuDNN version 8005\n"
     ]
    },
    {
     "name": "stdout",
     "output_type": "stream",
     "text": [
      "19/19 [==============================] - 9s 90ms/step - loss: 3.7214 - accuracy: 0.0397\n",
      "loss 3.7213850021362305, acc 0.0397351011633873\n",
      "Epoch 1/50\n",
      "76/76 [==============================] - 10s 93ms/step - loss: 3.7962 - accuracy: 0.0592 - val_loss: 3.1489 - val_accuracy: 0.0596\n",
      "Epoch 2/50\n",
      "76/76 [==============================] - 4s 47ms/step - loss: 3.1509 - accuracy: 0.1201 - val_loss: 3.0670 - val_accuracy: 0.0861\n",
      "Epoch 3/50\n",
      "76/76 [==============================] - 4s 52ms/step - loss: 2.8469 - accuracy: 0.1530 - val_loss: 3.0025 - val_accuracy: 0.1192\n",
      "Epoch 4/50\n",
      "76/76 [==============================] - 4s 50ms/step - loss: 2.6838 - accuracy: 0.2105 - val_loss: 2.9871 - val_accuracy: 0.1589\n",
      "Epoch 5/50\n",
      "76/76 [==============================] - 4s 47ms/step - loss: 2.5089 - accuracy: 0.2961 - val_loss: 2.9163 - val_accuracy: 0.1788\n",
      "Epoch 6/50\n",
      "76/76 [==============================] - 4s 46ms/step - loss: 2.3281 - accuracy: 0.3322 - val_loss: 2.8254 - val_accuracy: 0.1722\n",
      "Epoch 7/50\n",
      "76/76 [==============================] - 4s 50ms/step - loss: 2.1966 - accuracy: 0.3783 - val_loss: 2.7730 - val_accuracy: 0.1921\n",
      "Epoch 8/50\n",
      "76/76 [==============================] - 4s 46ms/step - loss: 2.0138 - accuracy: 0.4260 - val_loss: 2.7358 - val_accuracy: 0.2053\n",
      "Epoch 9/50\n",
      "76/76 [==============================] - 4s 49ms/step - loss: 1.9005 - accuracy: 0.4293 - val_loss: 2.6893 - val_accuracy: 0.2185\n",
      "Epoch 10/50\n",
      "76/76 [==============================] - 4s 47ms/step - loss: 1.7475 - accuracy: 0.5164 - val_loss: 2.6354 - val_accuracy: 0.2318\n",
      "Epoch 11/50\n",
      "76/76 [==============================] - 4s 51ms/step - loss: 1.5448 - accuracy: 0.6003 - val_loss: 2.6616 - val_accuracy: 0.2185\n",
      "Epoch 12/50\n",
      "76/76 [==============================] - 4s 51ms/step - loss: 1.5579 - accuracy: 0.5707 - val_loss: 2.6385 - val_accuracy: 0.2252\n",
      "Epoch 13/50\n",
      "76/76 [==============================] - 4s 46ms/step - loss: 1.4198 - accuracy: 0.6217 - val_loss: 2.5824 - val_accuracy: 0.2450\n",
      "Epoch 14/50\n",
      "76/76 [==============================] - 4s 47ms/step - loss: 1.2656 - accuracy: 0.6875 - val_loss: 2.5686 - val_accuracy: 0.2119\n",
      "Epoch 15/50\n",
      "76/76 [==============================] - 4s 51ms/step - loss: 1.2548 - accuracy: 0.6595 - val_loss: 2.5292 - val_accuracy: 0.2517\n",
      "Epoch 16/50\n",
      "76/76 [==============================] - 4s 46ms/step - loss: 1.1083 - accuracy: 0.7286 - val_loss: 2.5235 - val_accuracy: 0.2517\n",
      "Epoch 17/50\n",
      "76/76 [==============================] - 4s 47ms/step - loss: 1.0450 - accuracy: 0.7549 - val_loss: 2.5074 - val_accuracy: 0.2848\n",
      "Epoch 18/50\n",
      "76/76 [==============================] - 4s 49ms/step - loss: 0.9742 - accuracy: 0.7829 - val_loss: 2.4897 - val_accuracy: 0.2517\n",
      "Epoch 19/50\n",
      "76/76 [==============================] - 4s 47ms/step - loss: 0.9090 - accuracy: 0.8010 - val_loss: 2.4887 - val_accuracy: 0.2384\n",
      "Epoch 20/50\n",
      "76/76 [==============================] - 4s 53ms/step - loss: 0.8558 - accuracy: 0.8076 - val_loss: 2.4849 - val_accuracy: 0.2980\n",
      "Epoch 21/50\n",
      "76/76 [==============================] - 4s 46ms/step - loss: 0.7618 - accuracy: 0.8421 - val_loss: 2.4637 - val_accuracy: 0.2583\n",
      "Epoch 22/50\n",
      "76/76 [==============================] - 4s 50ms/step - loss: 0.7297 - accuracy: 0.8487 - val_loss: 2.4372 - val_accuracy: 0.2450\n",
      "Epoch 23/50\n",
      "76/76 [==============================] - 4s 49ms/step - loss: 0.6835 - accuracy: 0.8701 - val_loss: 2.4481 - val_accuracy: 0.2649\n",
      "Epoch 24/50\n",
      "76/76 [==============================] - 4s 47ms/step - loss: 0.6461 - accuracy: 0.8799 - val_loss: 2.4558 - val_accuracy: 0.2649\n",
      "Epoch 25/50\n",
      "76/76 [==============================] - 4s 46ms/step - loss: 0.6206 - accuracy: 0.8750 - val_loss: 2.4464 - val_accuracy: 0.2583\n",
      "Epoch 26/50\n",
      "76/76 [==============================] - 4s 49ms/step - loss: 0.5747 - accuracy: 0.8914 - val_loss: 2.4588 - val_accuracy: 0.2781\n",
      "Epoch 27/50\n",
      "76/76 [==============================] - 4s 46ms/step - loss: 0.5667 - accuracy: 0.9046 - val_loss: 2.4452 - val_accuracy: 0.2715\n",
      "Epoch 28/50\n",
      "76/76 [==============================] - 4s 47ms/step - loss: 0.5066 - accuracy: 0.9128 - val_loss: 2.4069 - val_accuracy: 0.2848\n",
      "Epoch 29/50\n",
      "76/76 [==============================] - 4s 54ms/step - loss: 0.4540 - accuracy: 0.9276 - val_loss: 2.4506 - val_accuracy: 0.3179\n",
      "Epoch 30/50\n",
      "76/76 [==============================] - 4s 47ms/step - loss: 0.4247 - accuracy: 0.9375 - val_loss: 2.4468 - val_accuracy: 0.2848\n",
      "Epoch 31/50\n",
      "76/76 [==============================] - 4s 46ms/step - loss: 0.4291 - accuracy: 0.9326 - val_loss: 2.4096 - val_accuracy: 0.3046\n",
      "Epoch 32/50\n",
      "76/76 [==============================] - 4s 50ms/step - loss: 0.3960 - accuracy: 0.9359 - val_loss: 2.4333 - val_accuracy: 0.2980\n",
      "Epoch 33/50\n",
      "76/76 [==============================] - 4s 47ms/step - loss: 0.3933 - accuracy: 0.9326 - val_loss: 2.4259 - val_accuracy: 0.2914\n",
      "Epoch 34/50\n",
      "76/76 [==============================] - 4s 47ms/step - loss: 0.3581 - accuracy: 0.9457 - val_loss: 2.4281 - val_accuracy: 0.2583\n",
      "Epoch 35/50\n",
      "76/76 [==============================] - 4s 50ms/step - loss: 0.3364 - accuracy: 0.9539 - val_loss: 2.4498 - val_accuracy: 0.3179\n",
      "Epoch 36/50\n",
      "76/76 [==============================] - 4s 47ms/step - loss: 0.3108 - accuracy: 0.9605 - val_loss: 2.4135 - val_accuracy: 0.3179\n",
      "Epoch 37/50\n",
      "76/76 [==============================] - 4s 53ms/step - loss: 0.3069 - accuracy: 0.9671 - val_loss: 2.3983 - val_accuracy: 0.2980\n",
      "Epoch 38/50\n",
      "76/76 [==============================] - 4s 49ms/step - loss: 0.2666 - accuracy: 0.9638 - val_loss: 2.4274 - val_accuracy: 0.3377\n",
      "Epoch 39/50\n",
      "76/76 [==============================] - 4s 47ms/step - loss: 0.2801 - accuracy: 0.9622 - val_loss: 2.4341 - val_accuracy: 0.2980\n",
      "Epoch 40/50\n",
      "76/76 [==============================] - 4s 46ms/step - loss: 0.2601 - accuracy: 0.9622 - val_loss: 2.4170 - val_accuracy: 0.3245\n",
      "Epoch 41/50\n",
      "76/76 [==============================] - 4s 50ms/step - loss: 0.2257 - accuracy: 0.9753 - val_loss: 2.4170 - val_accuracy: 0.2914\n",
      "Epoch 42/50\n",
      "76/76 [==============================] - 4s 46ms/step - loss: 0.2467 - accuracy: 0.9786 - val_loss: 2.4795 - val_accuracy: 0.3179\n",
      "Epoch 43/50\n",
      "76/76 [==============================] - 4s 47ms/step - loss: 0.2144 - accuracy: 0.9753 - val_loss: 2.4399 - val_accuracy: 0.3113\n",
      "Epoch 44/50\n",
      "76/76 [==============================] - 4s 48ms/step - loss: 0.1838 - accuracy: 0.9885 - val_loss: 2.4297 - val_accuracy: 0.3046\n",
      "Epoch 45/50\n",
      "76/76 [==============================] - 4s 46ms/step - loss: 0.1882 - accuracy: 0.9868 - val_loss: 2.4364 - val_accuracy: 0.3113\n",
      "Epoch 46/50\n",
      "76/76 [==============================] - 4s 57ms/step - loss: 0.1751 - accuracy: 0.9836 - val_loss: 2.4430 - val_accuracy: 0.2980\n",
      "Epoch 47/50\n",
      "76/76 [==============================] - 3s 46ms/step - loss: 0.1832 - accuracy: 0.9786 - val_loss: 2.4568 - val_accuracy: 0.3046\n",
      "Epoch 48/50\n",
      "76/76 [==============================] - 4s 46ms/step - loss: 0.1915 - accuracy: 0.9720 - val_loss: 2.4353 - val_accuracy: 0.3046\n",
      "Epoch 49/50\n",
      "76/76 [==============================] - 4s 50ms/step - loss: 0.1541 - accuracy: 0.9901 - val_loss: 2.4620 - val_accuracy: 0.3245\n",
      "Epoch 50/50\n",
      "76/76 [==============================] - 4s 47ms/step - loss: 0.1358 - accuracy: 0.9934 - val_loss: 2.5052 - val_accuracy: 0.3179\n",
      "19/19 [==============================] - 1s 35ms/step - loss: 2.4274 - accuracy: 0.3377\n",
      "final loss 2.4273555278778076, final acc 0.33774834871292114\n"
     ]
    }
   ],
   "source": [
    "base_model = tf.keras.applications.ResNet50(weights='imagenet', input_shape=(256, 256, 3), classes=len(classes), include_top = False)\n",
    "\n",
    "\n",
    "# Based on https://pyimagesearch.com/2020/04/27/fine-tuning-resnet-with-keras-tensorflow-and-deep-learning/\n",
    "\n",
    "# construct the head of the model that will be placed on top of the\n",
    "# the base model\n",
    "headModel = base_model.output\n",
    "headModel = AveragePooling2D(pool_size=(7, 7))(headModel)\n",
    "headModel = Flatten(name=\"flatten\")(headModel)\n",
    "headModel = Dense(256, activation=\"relu\")(headModel)\n",
    "headModel = Dropout(0.5)(headModel)\n",
    "headModel = Dense(len(classes), activation=\"softmax\")(headModel)\n",
    "# place the head FC model on top of the base model (this will become\n",
    "# the actual model we will train)\n",
    "model = Model(inputs=base_model.input, outputs=headModel)\n",
    "# loop over all layers in the base model and freeze them so they will\n",
    "# *not* be updated during the training process\n",
    "for layer in base_model.layers:\n",
    "    layer.trainable = False\n",
    "    \n",
    "model.compile(\n",
    "        optimizer=tf.keras.optimizers.Adam(learning_rate=0.0001),\n",
    "        loss=tf.keras.losses.CategoricalCrossentropy(),#from_logits=True),\n",
    "        metrics=[\"accuracy\"]\n",
    "    )\n",
    " \n",
    "loss_0, acc_0 = model.evaluate(valid_generator)\n",
    "print(f\"loss {loss_0}, acc {acc_0}\")\n",
    "    \n",
    "\n",
    "history = model.fit(\n",
    "        train_generator,\n",
    "        validation_data=valid_generator,\n",
    "        epochs=50,\n",
    "        callbacks=[stopping, checkpoint]\n",
    ")\n",
    "\n",
    "model.load_weights(\"best_model\")\n",
    "\n",
    "loss, acc = model.evaluate(valid_generator)\n",
    "print(f\"final loss {loss}, final acc {acc}\")"
   ]
  },
  {
   "cell_type": "code",
   "execution_count": 28,
   "id": "b4eee30b",
   "metadata": {
    "execution": {
     "iopub.execute_input": "2022-06-26T23:33:45.797444Z",
     "iopub.status.busy": "2022-06-26T23:33:45.796901Z",
     "iopub.status.idle": "2022-06-26T23:33:46.170303Z",
     "shell.execute_reply": "2022-06-26T23:33:46.169206Z"
    },
    "papermill": {
     "duration": 0.51008,
     "end_time": "2022-06-26T23:33:46.172871",
     "exception": false,
     "start_time": "2022-06-26T23:33:45.662791",
     "status": "completed"
    },
    "tags": []
   },
   "outputs": [
    {
     "data": {
      "image/png": "[encoded data removed]",
      "text/plain": [
       "<Figure size 432x288 with 1 Axes>"
      ]
     },
     "metadata": {
      "needs_background": "light"
     },
     "output_type": "display_data"
    },
    {
     "data": {
      "image/png": "[encoded data removed]",
      "text/plain": [
       "<Figure size 432x288 with 1 Axes>"
      ]
     },
     "metadata": {
      "needs_background": "light"
     },
     "output_type": "display_data"
    }
   ],
   "source": [
    "# summarize history for accuracy\n",
    "plt.plot(history.history['accuracy'])\n",
    "plt.plot(history.history['val_accuracy'])\n",
    "plt.title('model accuracy')\n",
    "plt.ylabel('accuracy')\n",
    "plt.xlabel('epoch')\n",
    "plt.legend(['train', 'val'], loc='upper left')\n",
    "plt.show()\n",
    "# summarize history for loss\n",
    "plt.plot(history.history['loss'])\n",
    "plt.plot(history.history['val_loss'])\n",
    "plt.title('model loss')\n",
    "plt.ylabel('loss')\n",
    "plt.xlabel('epoch')\n",
    "plt.legend(['train', 'val'], loc='upper left')\n",
    "plt.show()"
   ]
  },
  {
   "cell_type": "code",
   "execution_count": 29,
   "id": "4f9c93db",
   "metadata": {
    "execution": {
     "iopub.execute_input": "2022-06-26T23:33:46.463527Z",
     "iopub.status.busy": "2022-06-26T23:33:46.463159Z",
     "iopub.status.idle": "2022-06-26T23:33:46.467990Z",
     "shell.execute_reply": "2022-06-26T23:33:46.466944Z"
    },
    "papermill": {
     "duration": 0.142467,
     "end_time": "2022-06-26T23:33:46.470116",
     "exception": false,
     "start_time": "2022-06-26T23:33:46.327649",
     "status": "completed"
    },
    "tags": []
   },
   "outputs": [],
   "source": [
    "index_classes_dict = {k: v for v, k in enumerate(classes)}"
   ]
  },
  {
   "cell_type": "code",
   "execution_count": 30,
   "id": "530c9a41",
   "metadata": {
    "execution": {
     "iopub.execute_input": "2022-06-26T23:33:46.739876Z",
     "iopub.status.busy": "2022-06-26T23:33:46.739135Z",
     "iopub.status.idle": "2022-06-26T23:33:46.743644Z",
     "shell.execute_reply": "2022-06-26T23:33:46.742710Z"
    },
    "papermill": {
     "duration": 0.141156,
     "end_time": "2022-06-26T23:33:46.745586",
     "exception": false,
     "start_time": "2022-06-26T23:33:46.604430",
     "status": "completed"
    },
    "tags": []
   },
   "outputs": [],
   "source": [
    "index_classes_list = list(index_classes_dict.values())"
   ]
  },
  {
   "cell_type": "code",
   "execution_count": 31,
   "id": "b83ef02d",
   "metadata": {
    "execution": {
     "iopub.execute_input": "2022-06-26T23:33:47.064505Z",
     "iopub.status.busy": "2022-06-26T23:33:47.063541Z",
     "iopub.status.idle": "2022-06-26T23:33:47.069038Z",
     "shell.execute_reply": "2022-06-26T23:33:47.068100Z"
    },
    "papermill": {
     "duration": 0.141956,
     "end_time": "2022-06-26T23:33:47.071070",
     "exception": false,
     "start_time": "2022-06-26T23:33:46.929114",
     "status": "completed"
    },
    "tags": []
   },
   "outputs": [],
   "source": [
    "inv_index_classes_dict = {v: k for k, v in index_classes_dict.items()}"
   ]
  },
  {
   "cell_type": "code",
   "execution_count": 32,
   "id": "e3d5818b",
   "metadata": {
    "execution": {
     "iopub.execute_input": "2022-06-26T23:33:47.339663Z",
     "iopub.status.busy": "2022-06-26T23:33:47.339074Z",
     "iopub.status.idle": "2022-06-26T23:33:47.343633Z",
     "shell.execute_reply": "2022-06-26T23:33:47.342652Z"
    },
    "papermill": {
     "duration": 0.14697,
     "end_time": "2022-06-26T23:33:47.351599",
     "exception": false,
     "start_time": "2022-06-26T23:33:47.204629",
     "status": "completed"
    },
    "tags": []
   },
   "outputs": [],
   "source": [
    "inv_index_classes_list = list(inv_index_classes_dict.values())"
   ]
  },
  {
   "cell_type": "code",
   "execution_count": 33,
   "id": "7406fdd5",
   "metadata": {
    "execution": {
     "iopub.execute_input": "2022-06-26T23:33:47.654403Z",
     "iopub.status.busy": "2022-06-26T23:33:47.654025Z",
     "iopub.status.idle": "2022-06-26T23:33:50.181107Z",
     "shell.execute_reply": "2022-06-26T23:33:50.180171Z"
    },
    "papermill": {
     "duration": 2.670801,
     "end_time": "2022-06-26T23:33:50.183712",
     "exception": false,
     "start_time": "2022-06-26T23:33:47.512911",
     "status": "completed"
    },
    "tags": []
   },
   "outputs": [],
   "source": [
    "y_pred = []  # store predicted labels\n",
    "y_true = []  # store true labels\n",
    "i = 0\n",
    "# iterate over the dataset\n",
    "for image_batch, label_batch in valid_generator:\n",
    "    # use dataset.unbatch() with repeat\n",
    "    # append true labels\n",
    "    y_true.append(label_batch)\n",
    "    # compute predictions\n",
    "    preds = model.predict(image_batch)\n",
    "    # append predicted labels\n",
    "    y_pred.append(np.argmax(preds, axis = - 1))\n",
    "    i+=1\n",
    "    if i == len(valid_generator): # A generator runs infinitely, \n",
    "        # so here I am running the valid gen once so all samples are seen\n",
    "        # The gen length is valid split * total samples / batch size\n",
    "        # 0.2*759/8 = 19\n",
    "        break\n",
    "\n",
    "\n",
    "# convert the true and predicted labels into tensors\n",
    "correct_labels = tf.concat([item for item in y_true], axis = 0)\n",
    "correct_labels = np.argmax(correct_labels,axis=1)\n",
    "predicted_labels = tf.concat([item for item in y_pred], axis = 0)"
   ]
  },
  {
   "cell_type": "code",
   "execution_count": 34,
   "id": "00f6d2e6",
   "metadata": {
    "execution": {
     "iopub.execute_input": "2022-06-26T23:33:50.541384Z",
     "iopub.status.busy": "2022-06-26T23:33:50.540829Z",
     "iopub.status.idle": "2022-06-26T23:33:50.547370Z",
     "shell.execute_reply": "2022-06-26T23:33:50.546252Z"
    },
    "papermill": {
     "duration": 0.232443,
     "end_time": "2022-06-26T23:33:50.550876",
     "exception": false,
     "start_time": "2022-06-26T23:33:50.318433",
     "status": "completed"
    },
    "tags": []
   },
   "outputs": [],
   "source": [
    "names_correct_labels = np.vectorize(inv_index_classes_dict.get)(correct_labels)\n",
    "names_predicted_labels = np.vectorize(inv_index_classes_dict.get)(predicted_labels)"
   ]
  },
  {
   "cell_type": "code",
   "execution_count": 35,
   "id": "a23c2383",
   "metadata": {
    "execution": {
     "iopub.execute_input": "2022-06-26T23:33:50.973757Z",
     "iopub.status.busy": "2022-06-26T23:33:50.973074Z",
     "iopub.status.idle": "2022-06-26T23:33:53.006762Z",
     "shell.execute_reply": "2022-06-26T23:33:53.005768Z"
    },
    "papermill": {
     "duration": 2.231439,
     "end_time": "2022-06-26T23:33:53.009728",
     "exception": false,
     "start_time": "2022-06-26T23:33:50.778289",
     "status": "completed"
    },
    "tags": []
   },
   "outputs": [
    {
     "data": {
      "image/png": "[encoded data removed]",
      "text/plain": [
       "<Figure size 1296x1296 with 1 Axes>"
      ]
     },
     "metadata": {
      "needs_background": "light"
     },
     "output_type": "display_data"
    }
   ],
   "source": [
    "cm = confusion_matrix(correct_labels, predicted_labels, labels=index_classes_list, normalize='true')\n",
    "fig = plt.figure(figsize = (18,18))\n",
    "ax1 = fig.add_subplot(1,1,1)\n",
    "sns.set(font_scale=1.2) #for label size\n",
    "sns.heatmap(cm, annot=True, annot_kws={\"size\": 12},\n",
    "     cbar = False, cmap='Purples', fmt='.2f', \n",
    "            xticklabels=inv_index_classes_list, yticklabels=inv_index_classes_list);\n",
    "ax1.set_ylabel('True Values',fontsize=12)\n",
    "ax1.set_xlabel('Predicted Values',fontsize=12)\n",
    "plt.show()"
   ]
  },
  {
   "cell_type": "code",
   "execution_count": 36,
   "id": "3c39947c",
   "metadata": {
    "execution": {
     "iopub.execute_input": "2022-06-26T23:33:53.282675Z",
     "iopub.status.busy": "2022-06-26T23:33:53.282335Z",
     "iopub.status.idle": "2022-06-26T23:33:54.953795Z",
     "shell.execute_reply": "2022-06-26T23:33:54.952840Z"
    },
    "papermill": {
     "duration": 1.809767,
     "end_time": "2022-06-26T23:33:54.956519",
     "exception": false,
     "start_time": "2022-06-26T23:33:53.146752",
     "status": "completed"
    },
    "tags": []
   },
   "outputs": [
    {
     "data": {
      "image/png": "[encoded data removed]",
      "text/plain": [
       "<Figure size 1296x1296 with 1 Axes>"
      ]
     },
     "metadata": {},
     "output_type": "display_data"
    }
   ],
   "source": [
    "cm = confusion_matrix(correct_labels, predicted_labels, labels=index_classes_list)\n",
    "fig = plt.figure(figsize = (18,18))\n",
    "ax1 = fig.add_subplot(1,1,1)\n",
    "sns.set(font_scale=1.2) #for label size\n",
    "sns.heatmap(cm, annot=True, annot_kws={\"size\": 12},\n",
    "     cbar = False, cmap='Purples', fmt='d',\n",
    "           xticklabels=inv_index_classes_list, yticklabels=inv_index_classes_list);\n",
    "ax1.set_ylabel('True Values',fontsize=12)\n",
    "ax1.set_xlabel('Predicted Values',fontsize=12)\n",
    "plt.show()"
   ]
  }
 ],
 "metadata": {
  "kernelspec": {
   "display_name": "Python 3",
   "language": "python",
   "name": "python3"
  },
  "language_info": {
   "codemirror_mode": {
    "name": "ipython",
    "version": 3
   },
   "file_extension": ".py",
   "mimetype": "text/x-python",
   "name": "python",
   "nbconvert_exporter": "python",
   "pygments_lexer": "ipython3",
   "version": "3.7.12"
  },
  "papermill": {
   "default_parameters": {},
   "duration": 249.471675,
   "end_time": "2022-06-26T23:33:58.109739",
   "environment_variables": {},
   "exception": null,
   "input_path": "__notebook__.ipynb",
   "output_path": "__notebook__.ipynb",
   "parameters": {},
   "start_time": "2022-06-26T23:29:48.638064",
   "version": "2.3.4"
  }
 },
 "nbformat": 4,
 "nbformat_minor": 5
}
